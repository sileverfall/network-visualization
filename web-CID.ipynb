{
 "cells": [
  {
   "cell_type": "code",
   "execution_count": 1,
   "metadata": {
    "collapsed": true
   },
   "outputs": [],
   "source": [
    "import dash\n",
    "import dash_core_components as dcc\n",
    "import dash_html_components as html\n",
    "import networkx as nx\n",
    "import plotly.graph_objs as go\n",
    "\n",
    "import pandas as pd\n",
    "from colour import Color\n",
    "from datetime import datetime\n",
    "from textwrap import dedent as d\n",
    "import json"
   ]
  },
  {
   "cell_type": "code",
   "execution_count": 2,
   "metadata": {
    "collapsed": true
   },
   "outputs": [],
   "source": [
    "from sklearn.metrics.pairwise import cosine_similarity"
   ]
  },
  {
   "cell_type": "code",
   "execution_count": 3,
   "metadata": {
    "collapsed": true
   },
   "outputs": [],
   "source": [
    "# import the css template, and pass the css template into dash\n",
    "external_stylesheets = ['https://codepen.io/chriddyp/pen/bWLwgP.css']\n",
    "app = dash.Dash(__name__, external_stylesheets=external_stylesheets)\n",
    "app.title = \"CID Network\""
   ]
  },
  {
   "cell_type": "code",
   "execution_count": 4,
   "metadata": {
    "scrolled": true
   },
   "outputs": [],
   "source": [
    "finance = pd.read_csv('finance.csv',index_col='Unnamed: 0').dropna()"
   ]
  },
  {
   "cell_type": "code",
   "execution_count": 34,
   "metadata": {
    "collapsed": true
   },
   "outputs": [],
   "source": [
    "df_test =finance[:30]"
   ]
  },
  {
   "cell_type": "code",
   "execution_count": 56,
   "metadata": {},
   "outputs": [
    {
     "data": {
      "text/html": [
       "<div>\n",
       "<style>\n",
       "    .dataframe thead tr:only-child th {\n",
       "        text-align: right;\n",
       "    }\n",
       "\n",
       "    .dataframe thead th {\n",
       "        text-align: left;\n",
       "    }\n",
       "\n",
       "    .dataframe tbody tr th {\n",
       "        vertical-align: top;\n",
       "    }\n",
       "</style>\n",
       "<table border=\"1\" class=\"dataframe\">\n",
       "  <thead>\n",
       "    <tr style=\"text-align: right;\">\n",
       "      <th></th>\n",
       "      <th>f616a21f-b421-4bef-b9f9-79da3f748d4b</th>\n",
       "      <th>9a7dd598-48f4-471a-8814-b404579783ad</th>\n",
       "      <th>ea6bd065-cafc-4894-b34b-ac8fc21a92e4</th>\n",
       "      <th>261864f6-8798-441c-b2eb-ece0df5276ea</th>\n",
       "      <th>f927a5d4-5129-42bc-8d8b-4130dd24faad</th>\n",
       "      <th>c2214dec-c6de-4372-999c-4442f52c1757</th>\n",
       "      <th>75967414-5af3-47e5-b4cf-90392be8976c</th>\n",
       "      <th>c25f2795-8172-4a25-885f-3481322560b2</th>\n",
       "      <th>55c441d5-9fdc-40bc-8c67-2c045a24fc43</th>\n",
       "      <th>15e0d7ba-7338-419e-b795-34ee8973eec1</th>\n",
       "      <th>...</th>\n",
       "      <th>9819231f-f04b-4d99-a856-8894d327a45a</th>\n",
       "      <th>e7e4520c-4c20-4217-98c0-c72a28b06983</th>\n",
       "      <th>f6804afc-228c-4152-a4b1-b4a675337dd0</th>\n",
       "      <th>e3ed382a-51ce-42a4-95db-2bd3720fb120</th>\n",
       "      <th>65355b2b-e804-46ff-a9d7-618d1ba7ea30</th>\n",
       "      <th>5ee62b89-93b4-4c0e-991d-3324faa8bb0c</th>\n",
       "      <th>5ab7b3d2-7901-4679-be42-7cb7bd150f6f</th>\n",
       "      <th>e9eb0d5c-f760-4d09-a703-d3a234052398</th>\n",
       "      <th>ea12080c-cade-4ef2-a563-1fd50ae33a5d</th>\n",
       "      <th>id</th>\n",
       "    </tr>\n",
       "  </thead>\n",
       "  <tbody>\n",
       "    <tr>\n",
       "      <th>f616a21f-b421-4bef-b9f9-79da3f748d4b</th>\n",
       "      <td>0.0</td>\n",
       "      <td>0.0</td>\n",
       "      <td>0.000000</td>\n",
       "      <td>0.000000</td>\n",
       "      <td>0.000000</td>\n",
       "      <td>0.0</td>\n",
       "      <td>0.0</td>\n",
       "      <td>0.0</td>\n",
       "      <td>0.000000</td>\n",
       "      <td>0.000000</td>\n",
       "      <td>...</td>\n",
       "      <td>0.000000</td>\n",
       "      <td>0.000000</td>\n",
       "      <td>0.0</td>\n",
       "      <td>0.0</td>\n",
       "      <td>0.0</td>\n",
       "      <td>0.0</td>\n",
       "      <td>0.0</td>\n",
       "      <td>0.0</td>\n",
       "      <td>0.000000</td>\n",
       "      <td>f616a21f-b421-4bef-b9f9-79da3f748d4b</td>\n",
       "    </tr>\n",
       "    <tr>\n",
       "      <th>9a7dd598-48f4-471a-8814-b404579783ad</th>\n",
       "      <td>0.0</td>\n",
       "      <td>0.0</td>\n",
       "      <td>0.000000</td>\n",
       "      <td>0.000000</td>\n",
       "      <td>0.000000</td>\n",
       "      <td>0.0</td>\n",
       "      <td>0.0</td>\n",
       "      <td>0.0</td>\n",
       "      <td>0.000000</td>\n",
       "      <td>0.000000</td>\n",
       "      <td>...</td>\n",
       "      <td>0.000000</td>\n",
       "      <td>0.000000</td>\n",
       "      <td>0.0</td>\n",
       "      <td>0.0</td>\n",
       "      <td>0.0</td>\n",
       "      <td>0.0</td>\n",
       "      <td>0.0</td>\n",
       "      <td>0.0</td>\n",
       "      <td>0.000000</td>\n",
       "      <td>9a7dd598-48f4-471a-8814-b404579783ad</td>\n",
       "    </tr>\n",
       "    <tr>\n",
       "      <th>ea6bd065-cafc-4894-b34b-ac8fc21a92e4</th>\n",
       "      <td>0.0</td>\n",
       "      <td>0.0</td>\n",
       "      <td>1.000000</td>\n",
       "      <td>0.894427</td>\n",
       "      <td>0.894427</td>\n",
       "      <td>0.0</td>\n",
       "      <td>0.0</td>\n",
       "      <td>0.0</td>\n",
       "      <td>0.000000</td>\n",
       "      <td>0.801784</td>\n",
       "      <td>...</td>\n",
       "      <td>0.872872</td>\n",
       "      <td>0.948683</td>\n",
       "      <td>0.0</td>\n",
       "      <td>0.0</td>\n",
       "      <td>0.0</td>\n",
       "      <td>0.0</td>\n",
       "      <td>0.0</td>\n",
       "      <td>0.0</td>\n",
       "      <td>0.632456</td>\n",
       "      <td>ea6bd065-cafc-4894-b34b-ac8fc21a92e4</td>\n",
       "    </tr>\n",
       "    <tr>\n",
       "      <th>261864f6-8798-441c-b2eb-ece0df5276ea</th>\n",
       "      <td>0.0</td>\n",
       "      <td>0.0</td>\n",
       "      <td>0.894427</td>\n",
       "      <td>1.000000</td>\n",
       "      <td>1.000000</td>\n",
       "      <td>0.0</td>\n",
       "      <td>0.0</td>\n",
       "      <td>0.0</td>\n",
       "      <td>0.447214</td>\n",
       "      <td>0.956183</td>\n",
       "      <td>...</td>\n",
       "      <td>0.780720</td>\n",
       "      <td>0.989949</td>\n",
       "      <td>0.0</td>\n",
       "      <td>0.0</td>\n",
       "      <td>0.0</td>\n",
       "      <td>0.0</td>\n",
       "      <td>0.0</td>\n",
       "      <td>0.0</td>\n",
       "      <td>0.707107</td>\n",
       "      <td>261864f6-8798-441c-b2eb-ece0df5276ea</td>\n",
       "    </tr>\n",
       "    <tr>\n",
       "      <th>f927a5d4-5129-42bc-8d8b-4130dd24faad</th>\n",
       "      <td>0.0</td>\n",
       "      <td>0.0</td>\n",
       "      <td>0.894427</td>\n",
       "      <td>1.000000</td>\n",
       "      <td>1.000000</td>\n",
       "      <td>0.0</td>\n",
       "      <td>0.0</td>\n",
       "      <td>0.0</td>\n",
       "      <td>0.447214</td>\n",
       "      <td>0.956183</td>\n",
       "      <td>...</td>\n",
       "      <td>0.780720</td>\n",
       "      <td>0.989949</td>\n",
       "      <td>0.0</td>\n",
       "      <td>0.0</td>\n",
       "      <td>0.0</td>\n",
       "      <td>0.0</td>\n",
       "      <td>0.0</td>\n",
       "      <td>0.0</td>\n",
       "      <td>0.707107</td>\n",
       "      <td>f927a5d4-5129-42bc-8d8b-4130dd24faad</td>\n",
       "    </tr>\n",
       "  </tbody>\n",
       "</table>\n",
       "<p>5 rows × 31 columns</p>\n",
       "</div>"
      ],
      "text/plain": [
       "                                      f616a21f-b421-4bef-b9f9-79da3f748d4b  \\\n",
       "f616a21f-b421-4bef-b9f9-79da3f748d4b                                   0.0   \n",
       "9a7dd598-48f4-471a-8814-b404579783ad                                   0.0   \n",
       "ea6bd065-cafc-4894-b34b-ac8fc21a92e4                                   0.0   \n",
       "261864f6-8798-441c-b2eb-ece0df5276ea                                   0.0   \n",
       "f927a5d4-5129-42bc-8d8b-4130dd24faad                                   0.0   \n",
       "\n",
       "                                      9a7dd598-48f4-471a-8814-b404579783ad  \\\n",
       "f616a21f-b421-4bef-b9f9-79da3f748d4b                                   0.0   \n",
       "9a7dd598-48f4-471a-8814-b404579783ad                                   0.0   \n",
       "ea6bd065-cafc-4894-b34b-ac8fc21a92e4                                   0.0   \n",
       "261864f6-8798-441c-b2eb-ece0df5276ea                                   0.0   \n",
       "f927a5d4-5129-42bc-8d8b-4130dd24faad                                   0.0   \n",
       "\n",
       "                                      ea6bd065-cafc-4894-b34b-ac8fc21a92e4  \\\n",
       "f616a21f-b421-4bef-b9f9-79da3f748d4b                              0.000000   \n",
       "9a7dd598-48f4-471a-8814-b404579783ad                              0.000000   \n",
       "ea6bd065-cafc-4894-b34b-ac8fc21a92e4                              1.000000   \n",
       "261864f6-8798-441c-b2eb-ece0df5276ea                              0.894427   \n",
       "f927a5d4-5129-42bc-8d8b-4130dd24faad                              0.894427   \n",
       "\n",
       "                                      261864f6-8798-441c-b2eb-ece0df5276ea  \\\n",
       "f616a21f-b421-4bef-b9f9-79da3f748d4b                              0.000000   \n",
       "9a7dd598-48f4-471a-8814-b404579783ad                              0.000000   \n",
       "ea6bd065-cafc-4894-b34b-ac8fc21a92e4                              0.894427   \n",
       "261864f6-8798-441c-b2eb-ece0df5276ea                              1.000000   \n",
       "f927a5d4-5129-42bc-8d8b-4130dd24faad                              1.000000   \n",
       "\n",
       "                                      f927a5d4-5129-42bc-8d8b-4130dd24faad  \\\n",
       "f616a21f-b421-4bef-b9f9-79da3f748d4b                              0.000000   \n",
       "9a7dd598-48f4-471a-8814-b404579783ad                              0.000000   \n",
       "ea6bd065-cafc-4894-b34b-ac8fc21a92e4                              0.894427   \n",
       "261864f6-8798-441c-b2eb-ece0df5276ea                              1.000000   \n",
       "f927a5d4-5129-42bc-8d8b-4130dd24faad                              1.000000   \n",
       "\n",
       "                                      c2214dec-c6de-4372-999c-4442f52c1757  \\\n",
       "f616a21f-b421-4bef-b9f9-79da3f748d4b                                   0.0   \n",
       "9a7dd598-48f4-471a-8814-b404579783ad                                   0.0   \n",
       "ea6bd065-cafc-4894-b34b-ac8fc21a92e4                                   0.0   \n",
       "261864f6-8798-441c-b2eb-ece0df5276ea                                   0.0   \n",
       "f927a5d4-5129-42bc-8d8b-4130dd24faad                                   0.0   \n",
       "\n",
       "                                      75967414-5af3-47e5-b4cf-90392be8976c  \\\n",
       "f616a21f-b421-4bef-b9f9-79da3f748d4b                                   0.0   \n",
       "9a7dd598-48f4-471a-8814-b404579783ad                                   0.0   \n",
       "ea6bd065-cafc-4894-b34b-ac8fc21a92e4                                   0.0   \n",
       "261864f6-8798-441c-b2eb-ece0df5276ea                                   0.0   \n",
       "f927a5d4-5129-42bc-8d8b-4130dd24faad                                   0.0   \n",
       "\n",
       "                                      c25f2795-8172-4a25-885f-3481322560b2  \\\n",
       "f616a21f-b421-4bef-b9f9-79da3f748d4b                                   0.0   \n",
       "9a7dd598-48f4-471a-8814-b404579783ad                                   0.0   \n",
       "ea6bd065-cafc-4894-b34b-ac8fc21a92e4                                   0.0   \n",
       "261864f6-8798-441c-b2eb-ece0df5276ea                                   0.0   \n",
       "f927a5d4-5129-42bc-8d8b-4130dd24faad                                   0.0   \n",
       "\n",
       "                                      55c441d5-9fdc-40bc-8c67-2c045a24fc43  \\\n",
       "f616a21f-b421-4bef-b9f9-79da3f748d4b                              0.000000   \n",
       "9a7dd598-48f4-471a-8814-b404579783ad                              0.000000   \n",
       "ea6bd065-cafc-4894-b34b-ac8fc21a92e4                              0.000000   \n",
       "261864f6-8798-441c-b2eb-ece0df5276ea                              0.447214   \n",
       "f927a5d4-5129-42bc-8d8b-4130dd24faad                              0.447214   \n",
       "\n",
       "                                      15e0d7ba-7338-419e-b795-34ee8973eec1  \\\n",
       "f616a21f-b421-4bef-b9f9-79da3f748d4b                              0.000000   \n",
       "9a7dd598-48f4-471a-8814-b404579783ad                              0.000000   \n",
       "ea6bd065-cafc-4894-b34b-ac8fc21a92e4                              0.801784   \n",
       "261864f6-8798-441c-b2eb-ece0df5276ea                              0.956183   \n",
       "f927a5d4-5129-42bc-8d8b-4130dd24faad                              0.956183   \n",
       "\n",
       "                                                      ...                   \\\n",
       "f616a21f-b421-4bef-b9f9-79da3f748d4b                  ...                    \n",
       "9a7dd598-48f4-471a-8814-b404579783ad                  ...                    \n",
       "ea6bd065-cafc-4894-b34b-ac8fc21a92e4                  ...                    \n",
       "261864f6-8798-441c-b2eb-ece0df5276ea                  ...                    \n",
       "f927a5d4-5129-42bc-8d8b-4130dd24faad                  ...                    \n",
       "\n",
       "                                      9819231f-f04b-4d99-a856-8894d327a45a  \\\n",
       "f616a21f-b421-4bef-b9f9-79da3f748d4b                              0.000000   \n",
       "9a7dd598-48f4-471a-8814-b404579783ad                              0.000000   \n",
       "ea6bd065-cafc-4894-b34b-ac8fc21a92e4                              0.872872   \n",
       "261864f6-8798-441c-b2eb-ece0df5276ea                              0.780720   \n",
       "f927a5d4-5129-42bc-8d8b-4130dd24faad                              0.780720   \n",
       "\n",
       "                                      e7e4520c-4c20-4217-98c0-c72a28b06983  \\\n",
       "f616a21f-b421-4bef-b9f9-79da3f748d4b                              0.000000   \n",
       "9a7dd598-48f4-471a-8814-b404579783ad                              0.000000   \n",
       "ea6bd065-cafc-4894-b34b-ac8fc21a92e4                              0.948683   \n",
       "261864f6-8798-441c-b2eb-ece0df5276ea                              0.989949   \n",
       "f927a5d4-5129-42bc-8d8b-4130dd24faad                              0.989949   \n",
       "\n",
       "                                      f6804afc-228c-4152-a4b1-b4a675337dd0  \\\n",
       "f616a21f-b421-4bef-b9f9-79da3f748d4b                                   0.0   \n",
       "9a7dd598-48f4-471a-8814-b404579783ad                                   0.0   \n",
       "ea6bd065-cafc-4894-b34b-ac8fc21a92e4                                   0.0   \n",
       "261864f6-8798-441c-b2eb-ece0df5276ea                                   0.0   \n",
       "f927a5d4-5129-42bc-8d8b-4130dd24faad                                   0.0   \n",
       "\n",
       "                                      e3ed382a-51ce-42a4-95db-2bd3720fb120  \\\n",
       "f616a21f-b421-4bef-b9f9-79da3f748d4b                                   0.0   \n",
       "9a7dd598-48f4-471a-8814-b404579783ad                                   0.0   \n",
       "ea6bd065-cafc-4894-b34b-ac8fc21a92e4                                   0.0   \n",
       "261864f6-8798-441c-b2eb-ece0df5276ea                                   0.0   \n",
       "f927a5d4-5129-42bc-8d8b-4130dd24faad                                   0.0   \n",
       "\n",
       "                                      65355b2b-e804-46ff-a9d7-618d1ba7ea30  \\\n",
       "f616a21f-b421-4bef-b9f9-79da3f748d4b                                   0.0   \n",
       "9a7dd598-48f4-471a-8814-b404579783ad                                   0.0   \n",
       "ea6bd065-cafc-4894-b34b-ac8fc21a92e4                                   0.0   \n",
       "261864f6-8798-441c-b2eb-ece0df5276ea                                   0.0   \n",
       "f927a5d4-5129-42bc-8d8b-4130dd24faad                                   0.0   \n",
       "\n",
       "                                      5ee62b89-93b4-4c0e-991d-3324faa8bb0c  \\\n",
       "f616a21f-b421-4bef-b9f9-79da3f748d4b                                   0.0   \n",
       "9a7dd598-48f4-471a-8814-b404579783ad                                   0.0   \n",
       "ea6bd065-cafc-4894-b34b-ac8fc21a92e4                                   0.0   \n",
       "261864f6-8798-441c-b2eb-ece0df5276ea                                   0.0   \n",
       "f927a5d4-5129-42bc-8d8b-4130dd24faad                                   0.0   \n",
       "\n",
       "                                      5ab7b3d2-7901-4679-be42-7cb7bd150f6f  \\\n",
       "f616a21f-b421-4bef-b9f9-79da3f748d4b                                   0.0   \n",
       "9a7dd598-48f4-471a-8814-b404579783ad                                   0.0   \n",
       "ea6bd065-cafc-4894-b34b-ac8fc21a92e4                                   0.0   \n",
       "261864f6-8798-441c-b2eb-ece0df5276ea                                   0.0   \n",
       "f927a5d4-5129-42bc-8d8b-4130dd24faad                                   0.0   \n",
       "\n",
       "                                      e9eb0d5c-f760-4d09-a703-d3a234052398  \\\n",
       "f616a21f-b421-4bef-b9f9-79da3f748d4b                                   0.0   \n",
       "9a7dd598-48f4-471a-8814-b404579783ad                                   0.0   \n",
       "ea6bd065-cafc-4894-b34b-ac8fc21a92e4                                   0.0   \n",
       "261864f6-8798-441c-b2eb-ece0df5276ea                                   0.0   \n",
       "f927a5d4-5129-42bc-8d8b-4130dd24faad                                   0.0   \n",
       "\n",
       "                                      ea12080c-cade-4ef2-a563-1fd50ae33a5d  \\\n",
       "f616a21f-b421-4bef-b9f9-79da3f748d4b                              0.000000   \n",
       "9a7dd598-48f4-471a-8814-b404579783ad                              0.000000   \n",
       "ea6bd065-cafc-4894-b34b-ac8fc21a92e4                              0.632456   \n",
       "261864f6-8798-441c-b2eb-ece0df5276ea                              0.707107   \n",
       "f927a5d4-5129-42bc-8d8b-4130dd24faad                              0.707107   \n",
       "\n",
       "                                                                        id  \n",
       "f616a21f-b421-4bef-b9f9-79da3f748d4b  f616a21f-b421-4bef-b9f9-79da3f748d4b  \n",
       "9a7dd598-48f4-471a-8814-b404579783ad  9a7dd598-48f4-471a-8814-b404579783ad  \n",
       "ea6bd065-cafc-4894-b34b-ac8fc21a92e4  ea6bd065-cafc-4894-b34b-ac8fc21a92e4  \n",
       "261864f6-8798-441c-b2eb-ece0df5276ea  261864f6-8798-441c-b2eb-ece0df5276ea  \n",
       "f927a5d4-5129-42bc-8d8b-4130dd24faad  f927a5d4-5129-42bc-8d8b-4130dd24faad  \n",
       "\n",
       "[5 rows x 31 columns]"
      ]
     },
     "execution_count": 56,
     "metadata": {},
     "output_type": "execute_result"
    }
   ],
   "source": [
    "df_test.head()"
   ]
  },
  {
   "cell_type": "code",
   "execution_count": 35,
   "metadata": {},
   "outputs": [],
   "source": [
    "df_test = pd.DataFrame(cosine_similarity(df_test),columns=df_test.index.tolist(),index=df_test.index.tolist())"
   ]
  },
  {
   "cell_type": "code",
   "execution_count": 36,
   "metadata": {
    "scrolled": true
   },
   "outputs": [
    {
     "name": "stderr",
     "output_type": "stream",
     "text": [
      "/usr/local/Cellar/python3/3.6.1/Frameworks/Python.framework/Versions/3.6/lib/python3.6/site-packages/ipykernel_launcher.py:2: DeprecationWarning:\n",
      "\n",
      "\n",
      ".ix is deprecated. Please use\n",
      ".loc for label based indexing or\n",
      ".iloc for positional indexing\n",
      "\n",
      "See the documentation here:\n",
      "http://pandas.pydata.org/pandas-docs/stable/indexing.html#ix-indexer-is-deprecated\n",
      "\n"
     ]
    },
    {
     "data": {
      "text/plain": [
       "[None,\n",
       " None,\n",
       " None,\n",
       " None,\n",
       " None,\n",
       " None,\n",
       " None,\n",
       " None,\n",
       " None,\n",
       " None,\n",
       " None,\n",
       " None,\n",
       " None,\n",
       " None,\n",
       " None,\n",
       " None,\n",
       " None,\n",
       " None,\n",
       " None,\n",
       " None,\n",
       " None,\n",
       " None,\n",
       " None,\n",
       " None,\n",
       " None,\n",
       " None,\n",
       " None,\n",
       " None,\n",
       " None,\n",
       " None]"
      ]
     },
     "execution_count": 36,
     "metadata": {},
     "output_type": "execute_result"
    }
   ],
   "source": [
    "li = []\n",
    "[li.extend([(i,j) for j in df_test.ix[i].items()]) for i in df_test.index]"
   ]
  },
  {
   "cell_type": "code",
   "execution_count": 37,
   "metadata": {},
   "outputs": [],
   "source": [
    "dict_head={\n",
    "    'id':[i[0] for i in li],\n",
    "    'id2':[i[1][0] for i in li],\n",
    "    'distance':[(\"%.2f\" % i[1][1])for i in li]\n",
    "}\n",
    "df_distance = pd.DataFrame(dict_head)"
   ]
  },
  {
   "cell_type": "code",
   "execution_count": 38,
   "metadata": {},
   "outputs": [],
   "source": [
    "#每個人都與自己聯繫在一起\n",
    "df_distance = df_distance[~(df_distance['id']==df_distance['id2'])].dropna()[['id', 'id2', 'distance']]"
   ]
  },
  {
   "cell_type": "code",
   "execution_count": 39,
   "metadata": {
    "scrolled": true
   },
   "outputs": [
    {
     "data": {
      "text/plain": [
       "(870, 3)"
      ]
     },
     "execution_count": 39,
     "metadata": {},
     "output_type": "execute_result"
    }
   ],
   "source": [
    "df_distance.shape"
   ]
  },
  {
   "cell_type": "code",
   "execution_count": 40,
   "metadata": {
    "collapsed": true
   },
   "outputs": [],
   "source": [
    "#當X和Y相連時，Y也和X相連，同一個連接有兩行\n",
    "df_distance.drop(df_distance.loc[df_distance['id2'] < df_distance['id']].index.tolist(), inplace=True)"
   ]
  },
  {
   "cell_type": "code",
   "execution_count": 41,
   "metadata": {},
   "outputs": [
    {
     "data": {
      "text/plain": [
       "(435, 3)"
      ]
     },
     "execution_count": 41,
     "metadata": {},
     "output_type": "execute_result"
    }
   ],
   "source": [
    "df_distance.shape"
   ]
  },
  {
   "cell_type": "code",
   "execution_count": 42,
   "metadata": {
    "scrolled": true
   },
   "outputs": [
    {
     "data": {
      "text/html": [
       "<div>\n",
       "<style>\n",
       "    .dataframe thead tr:only-child th {\n",
       "        text-align: right;\n",
       "    }\n",
       "\n",
       "    .dataframe thead th {\n",
       "        text-align: left;\n",
       "    }\n",
       "\n",
       "    .dataframe tbody tr th {\n",
       "        vertical-align: top;\n",
       "    }\n",
       "</style>\n",
       "<table border=\"1\" class=\"dataframe\">\n",
       "  <thead>\n",
       "    <tr style=\"text-align: right;\">\n",
       "      <th></th>\n",
       "      <th>id</th>\n",
       "      <th>id2</th>\n",
       "      <th>distance</th>\n",
       "    </tr>\n",
       "  </thead>\n",
       "  <tbody>\n",
       "    <tr>\n",
       "      <th>4</th>\n",
       "      <td>f616a21f-b421-4bef-b9f9-79da3f748d4b</td>\n",
       "      <td>f927a5d4-5129-42bc-8d8b-4130dd24faad</td>\n",
       "      <td>0.00</td>\n",
       "    </tr>\n",
       "    <tr>\n",
       "      <th>16</th>\n",
       "      <td>f616a21f-b421-4bef-b9f9-79da3f748d4b</td>\n",
       "      <td>f72f110f-7122-455e-9d91-dae1244c2e81</td>\n",
       "      <td>0.00</td>\n",
       "    </tr>\n",
       "    <tr>\n",
       "      <th>18</th>\n",
       "      <td>f616a21f-b421-4bef-b9f9-79da3f748d4b</td>\n",
       "      <td>f77a8e10-8150-48d8-84f1-bc30019b56d9</td>\n",
       "      <td>0.00</td>\n",
       "    </tr>\n",
       "    <tr>\n",
       "      <th>23</th>\n",
       "      <td>f616a21f-b421-4bef-b9f9-79da3f748d4b</td>\n",
       "      <td>f6804afc-228c-4152-a4b1-b4a675337dd0</td>\n",
       "      <td>0.00</td>\n",
       "    </tr>\n",
       "    <tr>\n",
       "      <th>30</th>\n",
       "      <td>9a7dd598-48f4-471a-8814-b404579783ad</td>\n",
       "      <td>f616a21f-b421-4bef-b9f9-79da3f748d4b</td>\n",
       "      <td>0.00</td>\n",
       "    </tr>\n",
       "  </tbody>\n",
       "</table>\n",
       "</div>"
      ],
      "text/plain": [
       "                                      id  \\\n",
       "4   f616a21f-b421-4bef-b9f9-79da3f748d4b   \n",
       "16  f616a21f-b421-4bef-b9f9-79da3f748d4b   \n",
       "18  f616a21f-b421-4bef-b9f9-79da3f748d4b   \n",
       "23  f616a21f-b421-4bef-b9f9-79da3f748d4b   \n",
       "30  9a7dd598-48f4-471a-8814-b404579783ad   \n",
       "\n",
       "                                     id2 distance  \n",
       "4   f927a5d4-5129-42bc-8d8b-4130dd24faad     0.00  \n",
       "16  f72f110f-7122-455e-9d91-dae1244c2e81     0.00  \n",
       "18  f77a8e10-8150-48d8-84f1-bc30019b56d9     0.00  \n",
       "23  f6804afc-228c-4152-a4b1-b4a675337dd0     0.00  \n",
       "30  f616a21f-b421-4bef-b9f9-79da3f748d4b     0.00  "
      ]
     },
     "execution_count": 42,
     "metadata": {},
     "output_type": "execute_result"
    }
   ],
   "source": [
    "df_distance.head()"
   ]
  },
  {
   "cell_type": "code",
   "execution_count": 43,
   "metadata": {
    "collapsed": true
   },
   "outputs": [],
   "source": [
    "df_test['id']=[i for i in df_test.index.tolist() ]"
   ]
  },
  {
   "cell_type": "code",
   "execution_count": 44,
   "metadata": {},
   "outputs": [],
   "source": [
    "#將節點連線\n",
    "G = nx.from_pandas_edgelist(df_distance, source='id', target='id2', edge_attr='distance')"
   ]
  },
  {
   "cell_type": "code",
   "execution_count": 45,
   "metadata": {
    "scrolled": false
   },
   "outputs": [],
   "source": [
    "nx.set_node_attributes(G, {row['id']:{'Name': row['id']} for i,row in df_test.iterrows()})"
   ]
  },
  {
   "cell_type": "code",
   "execution_count": 46,
   "metadata": {
    "collapsed": true
   },
   "outputs": [],
   "source": [
    "pos = nx.layout.spring_layout(G)\n",
    "for node in G.nodes:\n",
    "    G.nodes[node]['pos'] = list(pos[node])"
   ]
  },
  {
   "cell_type": "code",
   "execution_count": 47,
   "metadata": {
    "collapsed": true
   },
   "outputs": [],
   "source": [
    "#開始設計各個節點\n",
    "traceRecode = []  # contains edge_trace, node_trace, middle_node_trace\n",
    "    \n",
    "colors = list(Color('lightcoral').range_to(Color('darkred'), len(G.edges())))\n",
    "colors = ['rgb' + str(x.rgb) for x in colors]"
   ]
  },
  {
   "cell_type": "code",
   "execution_count": 48,
   "metadata": {},
   "outputs": [],
   "source": [
    "#邊\n",
    "index = 0\n",
    "for edge in G.edges:\n",
    "    x0, y0 = G.nodes[edge[0]]['pos']\n",
    "    x1, y1 = G.nodes[edge[1]]['pos']\n",
    "    weight = float(G.edges[edge]['distance']) / float(max(df_distance['distance'])) * 10\n",
    "    trace = go.Scatter(x=tuple([x0, x1, None]), y=tuple([y0, y1, None]),\n",
    "                       mode='lines',\n",
    "                       line={'width': weight},\n",
    "                       marker=dict(color=colors[index]),\n",
    "                       line_shape='spline',\n",
    "                       opacity=1)\n",
    "    traceRecode.append(trace)\n",
    "    index = index + 1"
   ]
  },
  {
   "cell_type": "code",
   "execution_count": 49,
   "metadata": {
    "scrolled": true
   },
   "outputs": [
    {
     "data": {
      "text/plain": [
       "Scatter({\n",
       "    'line': {'shape': 'spline', 'width': 0.0},\n",
       "    'marker': {'color': 'rgb(0.9411764705882353, 0.5019607843137255, 0.5019607843137255)'},\n",
       "    'mode': 'lines',\n",
       "    'opacity': 1,\n",
       "    'x': [-0.4237089899470136, 0.5205884261503951, None],\n",
       "    'y': [0.4043391939631468, 0.8796596795847385, None]\n",
       "})"
      ]
     },
     "execution_count": 49,
     "metadata": {},
     "output_type": "execute_result"
    }
   ],
   "source": [
    "traceRecode[0]"
   ]
  },
  {
   "cell_type": "code",
   "execution_count": 50,
   "metadata": {},
   "outputs": [
    {
     "data": {
      "text/plain": [
       "435"
      ]
     },
     "execution_count": 50,
     "metadata": {},
     "output_type": "execute_result"
    }
   ],
   "source": [
    "len(traceRecode)"
   ]
  },
  {
   "cell_type": "code",
   "execution_count": 51,
   "metadata": {},
   "outputs": [],
   "source": [
    "#加上節點名字\n",
    "node_trace = go.Scatter(x=[], y=[], hovertext=[], mode='markers+text', textposition=\"bottom center\",\n",
    "                        hoverinfo=\"text\", marker={'size': 50, 'color': 'LightSkyBlue'})\n",
    "index = 0\n",
    "for node in G.nodes():\n",
    "    x, y = G.nodes[node]['pos']\n",
    "    hovertext = 'Name:' + str(G.nodes[node]['Name']) \n",
    "#     text = df_distance['id']\n",
    "    node_trace['x'] += tuple([x])\n",
    "    node_trace['y'] += tuple([y])\n",
    "    node_trace['hovertext'] += tuple([hovertext])\n",
    "#     node_trace['text'] += tuple([text])\n",
    "    index = index + 1\n",
    "\n",
    "traceRecode.append(node_trace)"
   ]
  },
  {
   "cell_type": "code",
   "execution_count": 52,
   "metadata": {},
   "outputs": [
    {
     "data": {
      "text/plain": [
       "436"
      ]
     },
     "execution_count": 52,
     "metadata": {},
     "output_type": "execute_result"
    }
   ],
   "source": [
    "len(traceRecode)"
   ]
  },
  {
   "cell_type": "code",
   "execution_count": 53,
   "metadata": {
    "collapsed": true
   },
   "outputs": [],
   "source": [
    "# #加上座標名字\n",
    "# middle_hover_trace = go.Scatter(x=[], y=[], mode='markers', hoverinfo=\"text\",\n",
    "#                                     marker={'size': 20, 'color': 'LightSkyBlue'},\n",
    "#                                     opacity=0)\n",
    "\n",
    "# index = 0\n",
    "# for edge in G.edges:\n",
    "#     x0, y0 = G.nodes[edge[0]]['pos']\n",
    "#     x1, y1 = G.nodes[edge[1]]['pos']\n",
    "# #     hovertext = \"From: \" + edge[0] + \"<br>\" + \"To: \" + edge[0]+ \"<br>\" + \"Distance: \" + str(G.edges[edge]['distance'])\n",
    "#     middle_hover_trace['x'] += tuple([(x0 + x1) / 2])\n",
    "#     middle_hover_trace['y'] += tuple([(y0 + y1) / 2])\n",
    "# #     middle_hover_trace['hovertext'] += tuple([hovertext])\n",
    "#     index = index + 1\n",
    "\n",
    "# traceRecode.append(middle_hover_trace)"
   ]
  },
  {
   "cell_type": "code",
   "execution_count": 54,
   "metadata": {},
   "outputs": [],
   "source": [
    "fig = go.Figure(data=traceRecode,\n",
    "                layout=go.Layout(\n",
    "                    title='Interactive Transaction Visualization', \n",
    "                    showlegend=False, \n",
    "                    hovermode='closest',\n",
    "                    margin={'b': 40, 'l': 40, 'r': 40, 't': 40},\n",
    "                    xaxis={'showgrid': False, 'zeroline': False, 'showticklabels': False},\n",
    "                    yaxis={'showgrid': False, 'zeroline': False, 'showticklabels': False},\n",
    "                    height=600,\n",
    "                    clickmode='event+select',\n",
    "                    annotations=[dict(\n",
    "                                    ax=(G.nodes[edge[0]]['pos'][0] + G.nodes[edge[1]]['pos'][0]) / 2,\n",
    "                                    ay=(G.nodes[edge[0]]['pos'][1] + G.nodes[edge[1]]['pos'][1]) / 2, axref='x', ayref='y',\n",
    "                                    x=(G.nodes[edge[1]]['pos'][0] * 3 + G.nodes[edge[0]]['pos'][0]) / 4,\n",
    "                                    y=(G.nodes[edge[1]]['pos'][1] * 3 + G.nodes[edge[0]]['pos'][1]) / 4, xref='x', yref='y',\n",
    "                                    showarrow=True,\n",
    "#                                     arrowhead=3,\n",
    "#                                     arrowsize=4,\n",
    "#                                     arrowwidth=1,\n",
    "                                    opacity=1) for edge in G.edges]))"
   ]
  },
  {
   "cell_type": "code",
   "execution_count": 55,
   "metadata": {
    "scrolled": false
   },
   "outputs": [
    {
     "data": {
      "application/vnd.plotly.v1+json": {
       "config": {
        "plotlyServerURL": "https://plot.ly"
       },
       "data": [
        {
         "line": {
          "shape": "spline",
          "width": 0
         },
         "marker": {
          "color": "rgb(0.9411764705882353, 0.5019607843137255, 0.5019607843137255)"
         },
         "mode": "lines",
         "opacity": 1,
         "type": "scatter",
         "x": [
          -0.4237089899470136,
          0.5205884261503951,
          null
         ],
         "y": [
          0.4043391939631468,
          0.8796596795847385,
          null
         ]
        },
        {
         "line": {
          "shape": "spline",
          "width": 0
         },
         "marker": {
          "color": "rgb(0.9410939332864068, 0.4999741068328667, 0.4999741068328667)"
         },
         "mode": "lines",
         "opacity": 1,
         "type": "scatter",
         "x": [
          -0.4237089899470136,
          0.41695839289869735,
          null
         ],
         "y": [
          0.4043391939631468,
          0.2653693644066391,
          null
         ]
        },
        {
         "line": {
          "shape": "spline",
          "width": 0
         },
         "marker": {
          "color": "rgb(0.9410124032611975, 0.4979864220753887, 0.4979864220753887)"
         },
         "mode": "lines",
         "opacity": 1,
         "type": "scatter",
         "x": [
          -0.4237089899470136,
          0.7651866278042626,
          null
         ],
         "y": [
          0.4043391939631468,
          -0.6158024413261334,
          null
         ]
        },
        {
         "line": {
          "shape": "spline",
          "width": 0
         },
         "marker": {
          "color": "rgb(0.9409318805126071, 0.4959977300412918, 0.4959977300412918)"
         },
         "mode": "lines",
         "opacity": 1,
         "type": "scatter",
         "x": [
          -0.4237089899470136,
          0.6840117985457818,
          null
         ],
         "y": [
          0.4043391939631468,
          0.5702026763651347,
          null
         ]
        },
        {
         "line": {
          "shape": "spline",
          "width": 0
         },
         "marker": {
          "color": "rgb(0.9408523650406359, 0.49400803073057575, 0.49400803073057575)"
         },
         "mode": "lines",
         "opacity": 1,
         "type": "scatter",
         "x": [
          -0.4237089899470136,
          -0.3262598396382662,
          null
         ],
         "y": [
          0.4043391939631468,
          -0.7506236726899015,
          null
         ]
        },
        {
         "line": {
          "shape": "spline",
          "width": 0
         },
         "marker": {
          "color": "rgb(0.9407738568452837, 0.4920173241432406, 0.4920173241432406)"
         },
         "mode": "lines",
         "opacity": 1,
         "type": "scatter",
         "x": [
          -0.4237089899470136,
          0.8906284306660813,
          null
         ],
         "y": [
          0.4043391939631468,
          0.30901222800562705,
          null
         ]
        },
        {
         "line": {
          "shape": "spline",
          "width": 0
         },
         "marker": {
          "color": "rgb(0.9406963559265509, 0.49002561027928637, 0.49002561027928637)"
         },
         "mode": "lines",
         "opacity": 1,
         "type": "scatter",
         "x": [
          -0.4237089899470136,
          0.042555730321677636,
          null
         ],
         "y": [
          0.4043391939631468,
          -0.6610675416957015,
          null
         ]
        },
        {
         "line": {
          "shape": "spline",
          "width": 0
         },
         "marker": {
          "color": "rgb(0.9406198622844368, 0.4880328891387131, 0.4880328891387131)"
         },
         "mode": "lines",
         "opacity": 1,
         "type": "scatter",
         "x": [
          -0.4237089899470136,
          -0.35675277189078475,
          null
         ],
         "y": [
          0.4043391939631468,
          0.9090181900642286,
          null
         ]
        },
        {
         "line": {
          "shape": "spline",
          "width": 0
         },
         "marker": {
          "color": "rgb(0.9405443759189419, 0.48603916072152076, 0.48603916072152076)"
         },
         "mode": "lines",
         "opacity": 1,
         "type": "scatter",
         "x": [
          -0.4237089899470136,
          -0.69912365053649,
          null
         ],
         "y": [
          0.4043391939631468,
          0.1776516355523447,
          null
         ]
        },
        {
         "line": {
          "shape": "spline",
          "width": 0
         },
         "marker": {
          "color": "rgb(0.9404698968300663, 0.48404442502770906, 0.48404442502770906)"
         },
         "mode": "lines",
         "opacity": 1,
         "type": "scatter",
         "x": [
          -0.4237089899470136,
          -0.2006089591922666,
          null
         ],
         "y": [
          0.4043391939631468,
          -0.3410249045790984,
          null
         ]
        },
        {
         "line": {
          "shape": "spline",
          "width": 0
         },
         "marker": {
          "color": "rgb(0.9403964250178095, 0.4820486820572786, 0.4820486820572786)"
         },
         "mode": "lines",
         "opacity": 1,
         "type": "scatter",
         "x": [
          -0.4237089899470136,
          0.7840491809787309,
          null
         ],
         "y": [
          0.4043391939631468,
          -0.3124284556444398,
          null
         ]
        },
        {
         "line": {
          "shape": "spline",
          "width": 0
         },
         "marker": {
          "color": "rgb(0.9403239604821719, 0.48005193181022887, 0.48005193181022887)"
         },
         "mode": "lines",
         "opacity": 1,
         "type": "scatter",
         "x": [
          -0.4237089899470136,
          -0.9590383342568007,
          null
         ],
         "y": [
          0.4043391939631468,
          -0.34685763200079156,
          null
         ]
        },
        {
         "line": {
          "shape": "spline",
          "width": 0
         },
         "marker": {
          "color": "rgb(0.9402525032231533, 0.47805417428656016, 0.47805417428656016)"
         },
         "mode": "lines",
         "opacity": 1,
         "type": "scatter",
         "x": [
          -0.4237089899470136,
          0.4775890294771492,
          null
         ],
         "y": [
          0.4043391939631468,
          -0.7065996477304826,
          null
         ]
        },
        {
         "line": {
          "shape": "spline",
          "width": 0
         },
         "marker": {
          "color": "rgb(0.9401820532407538, 0.47605540948627245, 0.47605540948627245)"
         },
         "mode": "lines",
         "opacity": 1,
         "type": "scatter",
         "x": [
          -0.4237089899470136,
          0.29053802337351115,
          null
         ],
         "y": [
          0.4043391939631468,
          -0.9500247040932227,
          null
         ]
        },
        {
         "line": {
          "shape": "spline",
          "width": 0
         },
         "marker": {
          "color": "rgb(0.9401126105349733, 0.4740556374093656, 0.4740556374093656)"
         },
         "mode": "lines",
         "opacity": 1,
         "type": "scatter",
         "x": [
          -0.4237089899470136,
          -0.4347894318337367,
          null
         ],
         "y": [
          0.4043391939631468,
          -0.08023740699404934,
          null
         ]
        },
        {
         "line": {
          "shape": "spline",
          "width": 0
         },
         "marker": {
          "color": "rgb(0.940044175105812, 0.4720548580558397, 0.4720548580558397)"
         },
         "mode": "lines",
         "opacity": 1,
         "type": "scatter",
         "x": [
          -0.4237089899470136,
          -0.9238079484026622,
          null
         ],
         "y": [
          0.4043391939631468,
          -0.006394501764154287,
          null
         ]
        },
        {
         "line": {
          "shape": "spline",
          "width": 0
         },
         "marker": {
          "color": "rgb(0.9399767469532696, 0.47005307142569497, 0.47005307142569497)"
         },
         "mode": "lines",
         "opacity": 1,
         "type": "scatter",
         "x": [
          -0.4237089899470136,
          0.9999999999999999,
          null
         ],
         "y": [
          0.4043391939631468,
          -0.038985615419455194,
          null
         ]
        },
        {
         "line": {
          "shape": "spline",
          "width": 0
         },
         "marker": {
          "color": "rgb(0.9399103260773465, 0.4680502775189308, 0.4680502775189308)"
         },
         "mode": "lines",
         "opacity": 1,
         "type": "scatter",
         "x": [
          -0.4237089899470136,
          -0.88826039091796,
          null
         ],
         "y": [
          0.4043391939631468,
          0.44876525848477733,
          null
         ]
        },
        {
         "line": {
          "shape": "spline",
          "width": 0
         },
         "marker": {
          "color": "rgb(0.9398449124780424, 0.46604647633554763, 0.46604647633554763)"
         },
         "mode": "lines",
         "opacity": 1,
         "type": "scatter",
         "x": [
          -0.4237089899470136,
          0.10816920140973707,
          null
         ],
         "y": [
          0.4043391939631468,
          0.9968668463250838,
          null
         ]
        },
        {
         "line": {
          "shape": "spline",
          "width": 0
         },
         "marker": {
          "color": "rgb(0.9397805061553574, 0.46404166787554535, 0.46404166787554535)"
         },
         "mode": "lines",
         "opacity": 1,
         "type": "scatter",
         "x": [
          -0.4237089899470136,
          -0.05712631865800212,
          null
         ],
         "y": [
          0.4043391939631468,
          0.3303870467944924,
          null
         ]
        },
        {
         "line": {
          "shape": "spline",
          "width": 0
         },
         "marker": {
          "color": "rgb(0.9397171071092915, 0.46203585213892395, 0.46203585213892395)"
         },
         "mode": "lines",
         "opacity": 1,
         "type": "scatter",
         "x": [
          -0.4237089899470136,
          -0.6192599418973583,
          null
         ],
         "y": [
          0.4043391939631468,
          0.7077813868065571,
          null
         ]
        },
        {
         "line": {
          "shape": "spline",
          "width": 0
         },
         "marker": {
          "color": "rgb(0.9396547153398447, 0.46002902912568344, 0.46002902912568344)"
         },
         "mode": "lines",
         "opacity": 1,
         "type": "scatter",
         "x": [
          -0.4237089899470136,
          -0.6920023759347991,
          null
         ],
         "y": [
          0.4043391939631468,
          -0.42282052296431377,
          null
         ]
        },
        {
         "line": {
          "shape": "spline",
          "width": 0
         },
         "marker": {
          "color": "rgb(0.9395933308470169, 0.45802119883582393, 0.45802119883582393)"
         },
         "mode": "lines",
         "opacity": 1,
         "type": "scatter",
         "x": [
          -0.4237089899470136,
          0.1192988455823766,
          null
         ],
         "y": [
          0.4043391939631468,
          -0.053018382521206005,
          null
         ]
        },
        {
         "line": {
          "shape": "spline",
          "width": 0
         },
         "marker": {
          "color": "rgb(0.9395329536308081, 0.4560123612693454, 0.4560123612693454)"
         },
         "mode": "lines",
         "opacity": 1,
         "type": "scatter",
         "x": [
          -0.4237089899470136,
          0.6561880425959237,
          null
         ],
         "y": [
          0.4043391939631468,
          0.014406556349072674,
          null
         ]
        },
        {
         "line": {
          "shape": "spline",
          "width": 0
         },
         "marker": {
          "color": "rgb(0.9394735836912186, 0.45400251642624767, 0.45400251642624767)"
         },
         "mode": "lines",
         "opacity": 1,
         "type": "scatter",
         "x": [
          -0.4237089899470136,
          0.33875119688294697,
          null
         ],
         "y": [
          0.4043391939631468,
          -0.34323648494223935,
          null
         ]
        },
        {
         "line": {
          "shape": "spline",
          "width": 0
         },
         "marker": {
          "color": "rgb(0.9394152210282481, 0.4519916643065308, 0.4519916643065308)"
         },
         "mode": "lines",
         "opacity": 1,
         "type": "scatter",
         "x": [
          -0.4237089899470136,
          -0.09977344620872326,
          null
         ],
         "y": [
          0.4043391939631468,
          -0.9942196228473164,
          null
         ]
        },
        {
         "line": {
          "shape": "spline",
          "width": 0
         },
         "marker": {
          "color": "rgb(0.9393578656418966, 0.4499798049101953, 0.4499798049101953)"
         },
         "mode": "lines",
         "opacity": 1,
         "type": "scatter",
         "x": [
          -0.4237089899470136,
          0.28231830546686393,
          null
         ],
         "y": [
          0.4043391939631468,
          0.6123748779823588,
          null
         ]
        },
        {
         "line": {
          "shape": "spline",
          "width": 0
         },
         "marker": {
          "color": "rgb(0.9393015175321642, 0.44796693823724043, 0.44796693823724043)"
         },
         "mode": "lines",
         "opacity": 1,
         "type": "scatter",
         "x": [
          -0.4237089899470136,
          -0.08015989063624109,
          null
         ],
         "y": [
          0.4043391939631468,
          0.7311264910311921,
          null
         ]
        },
        {
         "line": {
          "shape": "spline",
          "width": 0
         },
         "marker": {
          "color": "rgb(0.9392461766990509, 0.44595306428766646, 0.44595306428766646)"
         },
         "mode": "lines",
         "opacity": 1,
         "type": "scatter",
         "x": [
          -0.4237089899470136,
          -0.6161589422030441,
          null
         ],
         "y": [
          0.4043391939631468,
          -0.7336198945028887,
          null
         ]
        },
        {
         "line": {
          "shape": "spline",
          "width": 0
         },
         "marker": {
          "color": "rgb(0.9391918431425567, 0.44393818306147337, 0.44393818306147337)"
         },
         "mode": "lines",
         "opacity": 1,
         "type": "scatter",
         "x": [
          0.5205884261503951,
          -0.3262598396382662,
          null
         ],
         "y": [
          0.8796596795847385,
          -0.7506236726899015,
          null
         ]
        },
        {
         "line": {
          "shape": "spline",
          "width": 8.9
         },
         "marker": {
          "color": "rgb(0.9391385168626815, 0.4419222945586613, 0.4419222945586613)"
         },
         "mode": "lines",
         "opacity": 1,
         "type": "scatter",
         "x": [
          0.5205884261503951,
          0.8906284306660813,
          null
         ],
         "y": [
          0.8796596795847385,
          0.30901222800562705,
          null
         ]
        },
        {
         "line": {
          "shape": "spline",
          "width": 10
         },
         "marker": {
          "color": "rgb(0.9390861978594254, 0.4399053987792301, 0.4399053987792301)"
         },
         "mode": "lines",
         "opacity": 1,
         "type": "scatter",
         "x": [
          0.5205884261503951,
          0.042555730321677636,
          null
         ],
         "y": [
          0.8796596795847385,
          -0.6610675416957015,
          null
         ]
        },
        {
         "line": {
          "shape": "spline",
          "width": 0
         },
         "marker": {
          "color": "rgb(0.9390348861327884, 0.43788749572317975, 0.43788749572317975)"
         },
         "mode": "lines",
         "opacity": 1,
         "type": "scatter",
         "x": [
          0.5205884261503951,
          -0.35675277189078475,
          null
         ],
         "y": [
          0.8796596795847385,
          0.9090181900642286,
          null
         ]
        },
        {
         "line": {
          "shape": "spline",
          "width": 0
         },
         "marker": {
          "color": "rgb(0.9389845816827704, 0.43586858539051043, 0.43586858539051043)"
         },
         "mode": "lines",
         "opacity": 1,
         "type": "scatter",
         "x": [
          0.5205884261503951,
          -0.69912365053649,
          null
         ],
         "y": [
          0.8796596795847385,
          0.1776516355523447,
          null
         ]
        },
        {
         "line": {
          "shape": "spline",
          "width": 0
         },
         "marker": {
          "color": "rgb(0.9389352845093716, 0.433848667781222, 0.433848667781222)"
         },
         "mode": "lines",
         "opacity": 1,
         "type": "scatter",
         "x": [
          0.5205884261503951,
          -0.2006089591922666,
          null
         ],
         "y": [
          0.8796596795847385,
          -0.3410249045790984,
          null
         ]
        },
        {
         "line": {
          "shape": "spline",
          "width": 4.5
         },
         "marker": {
          "color": "rgb(0.9388869946125918, 0.43182774289531445, 0.43182774289531445)"
         },
         "mode": "lines",
         "opacity": 1,
         "type": "scatter",
         "x": [
          0.5205884261503951,
          0.7840491809787309,
          null
         ],
         "y": [
          0.8796596795847385,
          -0.3124284556444398,
          null
         ]
        },
        {
         "line": {
          "shape": "spline",
          "width": 9.6
         },
         "marker": {
          "color": "rgb(0.9388397119924313, 0.4298058107327877, 0.4298058107327877)"
         },
         "mode": "lines",
         "opacity": 1,
         "type": "scatter",
         "x": [
          0.5205884261503951,
          -0.9590383342568007,
          null
         ],
         "y": [
          0.8796596795847385,
          -0.34685763200079156,
          null
         ]
        },
        {
         "line": {
          "shape": "spline",
          "width": 8
         },
         "marker": {
          "color": "rgb(0.9387934366488898, 0.4277828712936421, 0.4277828712936421)"
         },
         "mode": "lines",
         "opacity": 1,
         "type": "scatter",
         "x": [
          0.5205884261503951,
          0.4775890294771492,
          null
         ],
         "y": [
          0.8796596795847385,
          -0.7065996477304826,
          null
         ]
        },
        {
         "line": {
          "shape": "spline",
          "width": 9.5
         },
         "marker": {
          "color": "rgb(0.9387481685819673, 0.42575892457787734, 0.42575892457787734)"
         },
         "mode": "lines",
         "opacity": 1,
         "type": "scatter",
         "x": [
          0.5205884261503951,
          0.29053802337351115,
          null
         ],
         "y": [
          0.8796596795847385,
          -0.9500247040932227,
          null
         ]
        },
        {
         "line": {
          "shape": "spline",
          "width": 0
         },
         "marker": {
          "color": "rgb(0.9387039077916639, 0.42373397058549345, 0.42373397058549345)"
         },
         "mode": "lines",
         "opacity": 1,
         "type": "scatter",
         "x": [
          0.5205884261503951,
          -0.4347894318337367,
          null
         ],
         "y": [
          0.8796596795847385,
          -0.08023740699404934,
          null
         ]
        },
        {
         "line": {
          "shape": "spline",
          "width": 8.9
         },
         "marker": {
          "color": "rgb(0.9386606542779795, 0.42170800931649055, 0.42170800931649055)"
         },
         "mode": "lines",
         "opacity": 1,
         "type": "scatter",
         "x": [
          0.5205884261503951,
          -0.9238079484026622,
          null
         ],
         "y": [
          0.8796596795847385,
          -0.006394501764154287,
          null
         ]
        },
        {
         "line": {
          "shape": "spline",
          "width": 8.9
         },
         "marker": {
          "color": "rgb(0.9386184080409142, 0.41968104077086854, 0.41968104077086854)"
         },
         "mode": "lines",
         "opacity": 1,
         "type": "scatter",
         "x": [
          0.5205884261503951,
          0.9999999999999999,
          null
         ],
         "y": [
          0.8796596795847385,
          -0.038985615419455194,
          null
         ]
        },
        {
         "line": {
          "shape": "spline",
          "width": 4.5
         },
         "marker": {
          "color": "rgb(0.938577169080468, 0.41765306494862753, 0.41765306494862753)"
         },
         "mode": "lines",
         "opacity": 1,
         "type": "scatter",
         "x": [
          0.5205884261503951,
          -0.88826039091796,
          null
         ],
         "y": [
          0.8796596795847385,
          0.44876525848477733,
          null
         ]
        },
        {
         "line": {
          "shape": "spline",
          "width": 0
         },
         "marker": {
          "color": "rgb(0.9385369373966409, 0.4156240818497673, 0.4156240818497673)"
         },
         "mode": "lines",
         "opacity": 1,
         "type": "scatter",
         "x": [
          0.5205884261503951,
          0.41695839289869735,
          null
         ],
         "y": [
          0.8796596795847385,
          0.2653693644066391,
          null
         ]
        },
        {
         "line": {
          "shape": "spline",
          "width": 8.9
         },
         "marker": {
          "color": "rgb(0.9384977129894329, 0.41359409147428805, 0.41359409147428805)"
         },
         "mode": "lines",
         "opacity": 1,
         "type": "scatter",
         "x": [
          0.5205884261503951,
          0.10816920140973707,
          null
         ],
         "y": [
          0.8796596795847385,
          0.9968668463250838,
          null
         ]
        },
        {
         "line": {
          "shape": "spline",
          "width": 0
         },
         "marker": {
          "color": "rgb(0.9384594958588439, 0.4115630938221897, 0.4115630938221897)"
         },
         "mode": "lines",
         "opacity": 1,
         "type": "scatter",
         "x": [
          0.5205884261503951,
          0.7651866278042626,
          null
         ],
         "y": [
          0.8796596795847385,
          -0.6158024413261334,
          null
         ]
        },
        {
         "line": {
          "shape": "spline",
          "width": 0
         },
         "marker": {
          "color": "rgb(0.938422286004874, 0.40953108889347234, 0.40953108889347234)"
         },
         "mode": "lines",
         "opacity": 1,
         "type": "scatter",
         "x": [
          0.5205884261503951,
          -0.05712631865800212,
          null
         ],
         "y": [
          0.8796596795847385,
          0.3303870467944924,
          null
         ]
        },
        {
         "line": {
          "shape": "spline",
          "width": 0
         },
         "marker": {
          "color": "rgb(0.9383860834275233, 0.407498076688136, 0.407498076688136)"
         },
         "mode": "lines",
         "opacity": 1,
         "type": "scatter",
         "x": [
          0.5205884261503951,
          -0.6192599418973583,
          null
         ],
         "y": [
          0.8796596795847385,
          0.7077813868065571,
          null
         ]
        },
        {
         "line": {
          "shape": "spline",
          "width": 7.800000000000001
         },
         "marker": {
          "color": "rgb(0.9383508881267915, 0.4054640572061805, 0.4054640572061805)"
         },
         "mode": "lines",
         "opacity": 1,
         "type": "scatter",
         "x": [
          0.5205884261503951,
          -0.6920023759347991,
          null
         ],
         "y": [
          0.8796596795847385,
          -0.42282052296431377,
          null
         ]
        },
        {
         "line": {
          "shape": "spline",
          "width": 9.9
         },
         "marker": {
          "color": "rgb(0.9383167001026789, 0.4034290304476058, 0.4034290304476058)"
         },
         "mode": "lines",
         "opacity": 1,
         "type": "scatter",
         "x": [
          0.5205884261503951,
          0.1192988455823766,
          null
         ],
         "y": [
          0.8796596795847385,
          -0.053018382521206005,
          null
         ]
        },
        {
         "line": {
          "shape": "spline",
          "width": 0
         },
         "marker": {
          "color": "rgb(0.9382835193551853, 0.4013929964124121, 0.4013929964124121)"
         },
         "mode": "lines",
         "opacity": 1,
         "type": "scatter",
         "x": [
          0.5205884261503951,
          0.6840117985457818,
          null
         ],
         "y": [
          0.8796596795847385,
          0.5702026763651347,
          null
         ]
        },
        {
         "line": {
          "shape": "spline",
          "width": 0
         },
         "marker": {
          "color": "rgb(0.9382513458843108, 0.3993559551005993, 0.3993559551005993)"
         },
         "mode": "lines",
         "opacity": 1,
         "type": "scatter",
         "x": [
          0.5205884261503951,
          0.6561880425959237,
          null
         ],
         "y": [
          0.8796596795847385,
          0.014406556349072674,
          null
         ]
        },
        {
         "line": {
          "shape": "spline",
          "width": 0
         },
         "marker": {
          "color": "rgb(0.9382201796900554, 0.39731790651216736, 0.39731790651216736)"
         },
         "mode": "lines",
         "opacity": 1,
         "type": "scatter",
         "x": [
          0.5205884261503951,
          0.33875119688294697,
          null
         ],
         "y": [
          0.8796596795847385,
          -0.34323648494223935,
          null
         ]
        },
        {
         "line": {
          "shape": "spline",
          "width": 0
         },
         "marker": {
          "color": "rgb(0.9381900207724192, 0.3952788506471163, 0.3952788506471163)"
         },
         "mode": "lines",
         "opacity": 1,
         "type": "scatter",
         "x": [
          0.5205884261503951,
          -0.09977344620872326,
          null
         ],
         "y": [
          0.8796596795847385,
          -0.9942196228473164,
          null
         ]
        },
        {
         "line": {
          "shape": "spline",
          "width": 0
         },
         "marker": {
          "color": "rgb(0.938160869131402, 0.3932387875054463, 0.3932387875054463)"
         },
         "mode": "lines",
         "opacity": 1,
         "type": "scatter",
         "x": [
          0.5205884261503951,
          0.28231830546686393,
          null
         ],
         "y": [
          0.8796596795847385,
          0.6123748779823588,
          null
         ]
        },
        {
         "line": {
          "shape": "spline",
          "width": 0
         },
         "marker": {
          "color": "rgb(0.9381327247670038, 0.3911977170871571, 0.3911977170871571)"
         },
         "mode": "lines",
         "opacity": 1,
         "type": "scatter",
         "x": [
          0.5205884261503951,
          -0.08015989063624109,
          null
         ],
         "y": [
          0.8796596795847385,
          0.7311264910311921,
          null
         ]
        },
        {
         "line": {
          "shape": "spline",
          "width": 7.1
         },
         "marker": {
          "color": "rgb(0.9381055876792247, 0.38915563939224895, 0.38915563939224895)"
         },
         "mode": "lines",
         "opacity": 1,
         "type": "scatter",
         "x": [
          0.5205884261503951,
          -0.6161589422030441,
          null
         ],
         "y": [
          0.8796596795847385,
          -0.7336198945028887,
          null
         ]
        },
        {
         "line": {
          "shape": "spline",
          "width": 0
         },
         "marker": {
          "color": "rgb(0.9380794578680647, 0.3871125544207217, 0.3871125544207217)"
         },
         "mode": "lines",
         "opacity": 1,
         "type": "scatter",
         "x": [
          0.41695839289869735,
          -0.3262598396382662,
          null
         ],
         "y": [
          0.2653693644066391,
          -0.7506236726899015,
          null
         ]
        },
        {
         "line": {
          "shape": "spline",
          "width": 0
         },
         "marker": {
          "color": "rgb(0.9380543353335236, 0.38506846217257573, 0.38506846217257573)"
         },
         "mode": "lines",
         "opacity": 1,
         "type": "scatter",
         "x": [
          0.41695839289869735,
          0.8906284306660813,
          null
         ],
         "y": [
          0.2653693644066391,
          0.30901222800562705,
          null
         ]
        },
        {
         "line": {
          "shape": "spline",
          "width": 0
         },
         "marker": {
          "color": "rgb(0.9380302200756018, 0.38302336264781023, 0.38302336264781023)"
         },
         "mode": "lines",
         "opacity": 1,
         "type": "scatter",
         "x": [
          0.41695839289869735,
          0.042555730321677636,
          null
         ],
         "y": [
          0.2653693644066391,
          -0.6610675416957015,
          null
         ]
        },
        {
         "line": {
          "shape": "spline",
          "width": 0
         },
         "marker": {
          "color": "rgb(0.938007112094299, 0.3809772558464257, 0.3809772558464257)"
         },
         "mode": "lines",
         "opacity": 1,
         "type": "scatter",
         "x": [
          0.41695839289869735,
          -0.35675277189078475,
          null
         ],
         "y": [
          0.2653693644066391,
          0.9090181900642286,
          null
         ]
        },
        {
         "line": {
          "shape": "spline",
          "width": 0
         },
         "marker": {
          "color": "rgb(0.9379850113896153, 0.3789301417684221, 0.3789301417684221)"
         },
         "mode": "lines",
         "opacity": 1,
         "type": "scatter",
         "x": [
          0.41695839289869735,
          -0.69912365053649,
          null
         ],
         "y": [
          0.2653693644066391,
          0.1776516355523447,
          null
         ]
        },
        {
         "line": {
          "shape": "spline",
          "width": 0
         },
         "marker": {
          "color": "rgb(0.9379639179615507, 0.3768820204137995, 0.3768820204137995)"
         },
         "mode": "lines",
         "opacity": 1,
         "type": "scatter",
         "x": [
          0.41695839289869735,
          -0.2006089591922666,
          null
         ],
         "y": [
          0.2653693644066391,
          -0.3410249045790984,
          null
         ]
        },
        {
         "line": {
          "shape": "spline",
          "width": 0
         },
         "marker": {
          "color": "rgb(0.9379438318101051, 0.37483289178255774, 0.37483289178255774)"
         },
         "mode": "lines",
         "opacity": 1,
         "type": "scatter",
         "x": [
          0.41695839289869735,
          0.7840491809787309,
          null
         ],
         "y": [
          0.2653693644066391,
          -0.3124284556444398,
          null
         ]
        },
        {
         "line": {
          "shape": "spline",
          "width": 0
         },
         "marker": {
          "color": "rgb(0.9379247529352789, 0.37278275587469667, 0.37278275587469667)"
         },
         "mode": "lines",
         "opacity": 1,
         "type": "scatter",
         "x": [
          0.41695839289869735,
          -0.9590383342568007,
          null
         ],
         "y": [
          0.2653693644066391,
          -0.34685763200079156,
          null
         ]
        },
        {
         "line": {
          "shape": "spline",
          "width": 0
         },
         "marker": {
          "color": "rgb(0.9379066813370714, 0.3707316126902168, 0.3707316126902168)"
         },
         "mode": "lines",
         "opacity": 1,
         "type": "scatter",
         "x": [
          0.41695839289869735,
          0.4775890294771492,
          null
         ],
         "y": [
          0.2653693644066391,
          -0.7065996477304826,
          null
         ]
        },
        {
         "line": {
          "shape": "spline",
          "width": 0
         },
         "marker": {
          "color": "rgb(0.9378896170154831, 0.36867946222911785, 0.36867946222911785)"
         },
         "mode": "lines",
         "opacity": 1,
         "type": "scatter",
         "x": [
          0.41695839289869735,
          0.29053802337351115,
          null
         ],
         "y": [
          0.2653693644066391,
          -0.9500247040932227,
          null
         ]
        },
        {
         "line": {
          "shape": "spline",
          "width": 0
         },
         "marker": {
          "color": "rgb(0.9378735599705139, 0.36662630449139977, 0.36662630449139977)"
         },
         "mode": "lines",
         "opacity": 1,
         "type": "scatter",
         "x": [
          0.41695839289869735,
          -0.4347894318337367,
          null
         ],
         "y": [
          0.2653693644066391,
          -0.08023740699404934,
          null
         ]
        },
        {
         "line": {
          "shape": "spline",
          "width": 0
         },
         "marker": {
          "color": "rgb(0.9378585102021639, 0.3645721394770627, 0.3645721394770627)"
         },
         "mode": "lines",
         "opacity": 1,
         "type": "scatter",
         "x": [
          0.41695839289869735,
          -0.9238079484026622,
          null
         ],
         "y": [
          0.2653693644066391,
          -0.006394501764154287,
          null
         ]
        },
        {
         "line": {
          "shape": "spline",
          "width": 0
         },
         "marker": {
          "color": "rgb(0.9378444677104328, 0.3625169671861065, 0.3625169671861065)"
         },
         "mode": "lines",
         "opacity": 1,
         "type": "scatter",
         "x": [
          0.41695839289869735,
          0.9999999999999999,
          null
         ],
         "y": [
          0.2653693644066391,
          -0.038985615419455194,
          null
         ]
        },
        {
         "line": {
          "shape": "spline",
          "width": 0
         },
         "marker": {
          "color": "rgb(0.9378314324953209, 0.3604607876185312, 0.3604607876185312)"
         },
         "mode": "lines",
         "opacity": 1,
         "type": "scatter",
         "x": [
          0.41695839289869735,
          -0.88826039091796,
          null
         ],
         "y": [
          0.2653693644066391,
          0.44876525848477733,
          null
         ]
        },
        {
         "line": {
          "shape": "spline",
          "width": 0
         },
         "marker": {
          "color": "rgb(0.9378194045568279, 0.35840360077433686, 0.35840360077433686)"
         },
         "mode": "lines",
         "opacity": 1,
         "type": "scatter",
         "x": [
          0.41695839289869735,
          0.7651866278042626,
          null
         ],
         "y": [
          0.2653693644066391,
          -0.6158024413261334,
          null
         ]
        },
        {
         "line": {
          "shape": "spline",
          "width": 0
         },
         "marker": {
          "color": "rgb(0.9378083838949541, 0.3563454066535233, 0.3563454066535233)"
         },
         "mode": "lines",
         "opacity": 1,
         "type": "scatter",
         "x": [
          0.41695839289869735,
          0.10816920140973707,
          null
         ],
         "y": [
          0.2653693644066391,
          0.9968668463250838,
          null
         ]
        },
        {
         "line": {
          "shape": "spline",
          "width": 0
         },
         "marker": {
          "color": "rgb(0.9377983705096994, 0.3542862052560908, 0.3542862052560908)"
         },
         "mode": "lines",
         "opacity": 1,
         "type": "scatter",
         "x": [
          0.41695839289869735,
          -0.05712631865800212,
          null
         ],
         "y": [
          0.2653693644066391,
          0.3303870467944924,
          null
         ]
        },
        {
         "line": {
          "shape": "spline",
          "width": 0
         },
         "marker": {
          "color": "rgb(0.9377893644010636, 0.35222599658203924, 0.35222599658203924)"
         },
         "mode": "lines",
         "opacity": 1,
         "type": "scatter",
         "x": [
          0.41695839289869735,
          -0.6192599418973583,
          null
         ],
         "y": [
          0.2653693644066391,
          0.7077813868065571,
          null
         ]
        },
        {
         "line": {
          "shape": "spline",
          "width": 0
         },
         "marker": {
          "color": "rgb(0.937781365569047, 0.3501647806313686, 0.3501647806313686)"
         },
         "mode": "lines",
         "opacity": 1,
         "type": "scatter",
         "x": [
          0.41695839289869735,
          -0.6920023759347991,
          null
         ],
         "y": [
          0.2653693644066391,
          -0.42282052296431377,
          null
         ]
        },
        {
         "line": {
          "shape": "spline",
          "width": 0
         },
         "marker": {
          "color": "rgb(0.9377743740136495, 0.3481025574040788, 0.3481025574040788)"
         },
         "mode": "lines",
         "opacity": 1,
         "type": "scatter",
         "x": [
          0.41695839289869735,
          0.1192988455823766,
          null
         ],
         "y": [
          0.2653693644066391,
          -0.053018382521206005,
          null
         ]
        },
        {
         "line": {
          "shape": "spline",
          "width": 0
         },
         "marker": {
          "color": "rgb(0.9377683897348711, 0.3460393269001699, 0.3460393269001699)"
         },
         "mode": "lines",
         "opacity": 1,
         "type": "scatter",
         "x": [
          0.41695839289869735,
          0.6840117985457818,
          null
         ],
         "y": [
          0.2653693644066391,
          0.5702026763651347,
          null
         ]
        },
        {
         "line": {
          "shape": "spline",
          "width": 0
         },
         "marker": {
          "color": "rgb(0.9377634127327118, 0.3439750891196419, 0.3439750891196419)"
         },
         "mode": "lines",
         "opacity": 1,
         "type": "scatter",
         "x": [
          0.41695839289869735,
          0.6561880425959237,
          null
         ],
         "y": [
          0.2653693644066391,
          0.014406556349072674,
          null
         ]
        },
        {
         "line": {
          "shape": "spline",
          "width": 0
         },
         "marker": {
          "color": "rgb(0.9377594430071715, 0.3419098440624949, 0.3419098440624949)"
         },
         "mode": "lines",
         "opacity": 1,
         "type": "scatter",
         "x": [
          0.41695839289869735,
          0.33875119688294697,
          null
         ],
         "y": [
          0.2653693644066391,
          -0.34323648494223935,
          null
         ]
        },
        {
         "line": {
          "shape": "spline",
          "width": 0
         },
         "marker": {
          "color": "rgb(0.9377564805582506, 0.3398435917287288, 0.3398435917287288)"
         },
         "mode": "lines",
         "opacity": 1,
         "type": "scatter",
         "x": [
          0.41695839289869735,
          -0.09977344620872326,
          null
         ],
         "y": [
          0.2653693644066391,
          -0.9942196228473164,
          null
         ]
        },
        {
         "line": {
          "shape": "spline",
          "width": 0
         },
         "marker": {
          "color": "rgb(0.9377545253859485, 0.33777633211834357, 0.33777633211834357)"
         },
         "mode": "lines",
         "opacity": 1,
         "type": "scatter",
         "x": [
          0.41695839289869735,
          0.28231830546686393,
          null
         ],
         "y": [
          0.2653693644066391,
          0.6123748779823588,
          null
         ]
        },
        {
         "line": {
          "shape": "spline",
          "width": 0
         },
         "marker": {
          "color": "rgb(0.9377535774902654, 0.33570806523133934, 0.33570806523133934)"
         },
         "mode": "lines",
         "opacity": 1,
         "type": "scatter",
         "x": [
          0.41695839289869735,
          -0.08015989063624109,
          null
         ],
         "y": [
          0.2653693644066391,
          0.7311264910311921,
          null
         ]
        },
        {
         "line": {
          "shape": "spline",
          "width": 0
         },
         "marker": {
          "color": "rgb(0.9377536368712015, 0.333638791067716, 0.333638791067716)"
         },
         "mode": "lines",
         "opacity": 1,
         "type": "scatter",
         "x": [
          0.41695839289869735,
          -0.6161589422030441,
          null
         ],
         "y": [
          0.2653693644066391,
          -0.7336198945028887,
          null
         ]
        },
        {
         "line": {
          "shape": "spline",
          "width": 0
         },
         "marker": {
          "color": "rgb(0.9377547035287567, 0.33156850962747353, 0.33156850962747353)"
         },
         "mode": "lines",
         "opacity": 1,
         "type": "scatter",
         "x": [
          0.7651866278042626,
          -0.3262598396382662,
          null
         ],
         "y": [
          -0.6158024413261334,
          -0.7506236726899015,
          null
         ]
        },
        {
         "line": {
          "shape": "spline",
          "width": 0
         },
         "marker": {
          "color": "rgb(0.9377567774629308, 0.32949722091061207, 0.32949722091061207)"
         },
         "mode": "lines",
         "opacity": 1,
         "type": "scatter",
         "x": [
          0.7651866278042626,
          0.8906284306660813,
          null
         ],
         "y": [
          -0.6158024413261334,
          0.30901222800562705,
          null
         ]
        },
        {
         "line": {
          "shape": "spline",
          "width": 0
         },
         "marker": {
          "color": "rgb(0.937759858673724, 0.3274249249171316, 0.3274249249171316)"
         },
         "mode": "lines",
         "opacity": 1,
         "type": "scatter",
         "x": [
          0.7651866278042626,
          0.042555730321677636,
          null
         ],
         "y": [
          -0.6158024413261334,
          -0.6610675416957015,
          null
         ]
        },
        {
         "line": {
          "shape": "spline",
          "width": 0
         },
         "marker": {
          "color": "rgb(0.9377639471611364, 0.3253516216470319, 0.3253516216470319)"
         },
         "mode": "lines",
         "opacity": 1,
         "type": "scatter",
         "x": [
          0.7651866278042626,
          -0.35675277189078475,
          null
         ],
         "y": [
          -0.6158024413261334,
          0.9090181900642286,
          null
         ]
        },
        {
         "line": {
          "shape": "spline",
          "width": 0
         },
         "marker": {
          "color": "rgb(0.9377690429251678, 0.3232773111003132, 0.3232773111003132)"
         },
         "mode": "lines",
         "opacity": 1,
         "type": "scatter",
         "x": [
          0.7651866278042626,
          -0.69912365053649,
          null
         ],
         "y": [
          -0.6158024413261334,
          0.1776516355523447,
          null
         ]
        },
        {
         "line": {
          "shape": "spline",
          "width": 0
         },
         "marker": {
          "color": "rgb(0.9377751459658183, 0.32120199327697563, 0.32120199327697563)"
         },
         "mode": "lines",
         "opacity": 1,
         "type": "scatter",
         "x": [
          0.7651866278042626,
          -0.2006089591922666,
          null
         ],
         "y": [
          -0.6158024413261334,
          -0.3410249045790984,
          null
         ]
        },
        {
         "line": {
          "shape": "spline",
          "width": 0
         },
         "marker": {
          "color": "rgb(0.9377822562830879, 0.3191256681770188, 0.3191256681770188)"
         },
         "mode": "lines",
         "opacity": 1,
         "type": "scatter",
         "x": [
          0.7651866278042626,
          0.7840491809787309,
          null
         ],
         "y": [
          -0.6158024413261334,
          -0.3124284556444398,
          null
         ]
        },
        {
         "line": {
          "shape": "spline",
          "width": 0
         },
         "marker": {
          "color": "rgb(0.9377903738769767, 0.31704833580044267, 0.31704833580044267)"
         },
         "mode": "lines",
         "opacity": 1,
         "type": "scatter",
         "x": [
          0.7651866278042626,
          -0.9590383342568007,
          null
         ],
         "y": [
          -0.6158024413261334,
          -0.34685763200079156,
          null
         ]
        },
        {
         "line": {
          "shape": "spline",
          "width": 0
         },
         "marker": {
          "color": "rgb(0.9377994987474845, 0.31496999614724763, 0.31496999614724763)"
         },
         "mode": "lines",
         "opacity": 1,
         "type": "scatter",
         "x": [
          0.7651866278042626,
          0.4775890294771492,
          null
         ],
         "y": [
          -0.6158024413261334,
          -0.7065996477304826,
          null
         ]
        },
        {
         "line": {
          "shape": "spline",
          "width": 0
         },
         "marker": {
          "color": "rgb(0.9378096308946113, 0.3128906492174335, 0.3128906492174335)"
         },
         "mode": "lines",
         "opacity": 1,
         "type": "scatter",
         "x": [
          0.7651866278042626,
          0.29053802337351115,
          null
         ],
         "y": [
          -0.6158024413261334,
          -0.9500247040932227,
          null
         ]
        },
        {
         "line": {
          "shape": "spline",
          "width": 0
         },
         "marker": {
          "color": "rgb(0.9378207703183573, 0.3108102950110002, 0.3108102950110002)"
         },
         "mode": "lines",
         "opacity": 1,
         "type": "scatter",
         "x": [
          0.7651866278042626,
          -0.4347894318337367,
          null
         ],
         "y": [
          -0.6158024413261334,
          -0.08023740699404934,
          null
         ]
        },
        {
         "line": {
          "shape": "spline",
          "width": 0
         },
         "marker": {
          "color": "rgb(0.9378329170187223, 0.30872893352794795, 0.30872893352794795)"
         },
         "mode": "lines",
         "opacity": 1,
         "type": "scatter",
         "x": [
          0.7651866278042626,
          -0.9238079484026622,
          null
         ],
         "y": [
          -0.6158024413261334,
          -0.006394501764154287,
          null
         ]
        },
        {
         "line": {
          "shape": "spline",
          "width": 0
         },
         "marker": {
          "color": "rgb(0.9378460709957064, 0.30664656476827656, 0.30664656476827656)"
         },
         "mode": "lines",
         "opacity": 1,
         "type": "scatter",
         "x": [
          0.7651866278042626,
          0.9999999999999999,
          null
         ],
         "y": [
          -0.6158024413261334,
          -0.038985615419455194,
          null
         ]
        },
        {
         "line": {
          "shape": "spline",
          "width": 0
         },
         "marker": {
          "color": "rgb(0.9378602322493097, 0.30456318873198596, 0.30456318873198596)"
         },
         "mode": "lines",
         "opacity": 1,
         "type": "scatter",
         "x": [
          0.7651866278042626,
          -0.88826039091796,
          null
         ],
         "y": [
          -0.6158024413261334,
          0.44876525848477733,
          null
         ]
        },
        {
         "line": {
          "shape": "spline",
          "width": 0
         },
         "marker": {
          "color": "rgb(0.9378754007795319, 0.30247880541907646, 0.30247880541907646)"
         },
         "mode": "lines",
         "opacity": 1,
         "type": "scatter",
         "x": [
          0.7651866278042626,
          0.10816920140973707,
          null
         ],
         "y": [
          -0.6158024413261334,
          0.9968668463250838,
          null
         ]
        },
        {
         "line": {
          "shape": "spline",
          "width": 0
         },
         "marker": {
          "color": "rgb(0.9378915765863732, 0.30039341482954784, 0.30039341482954784)"
         },
         "mode": "lines",
         "opacity": 1,
         "type": "scatter",
         "x": [
          0.7651866278042626,
          -0.05712631865800212,
          null
         ],
         "y": [
          -0.6158024413261334,
          0.3303870467944924,
          null
         ]
        },
        {
         "line": {
          "shape": "spline",
          "width": 0
         },
         "marker": {
          "color": "rgb(0.9379087596698336, 0.29830701696340045, 0.29830701696340045)"
         },
         "mode": "lines",
         "opacity": 1,
         "type": "scatter",
         "x": [
          0.7651866278042626,
          -0.6192599418973583,
          null
         ],
         "y": [
          -0.6158024413261334,
          0.7077813868065571,
          null
         ]
        },
        {
         "line": {
          "shape": "spline",
          "width": 0
         },
         "marker": {
          "color": "rgb(0.937926950029913, 0.2962196118206337, 0.2962196118206337)"
         },
         "mode": "lines",
         "opacity": 1,
         "type": "scatter",
         "x": [
          0.7651866278042626,
          -0.6920023759347991,
          null
         ],
         "y": [
          -0.6158024413261334,
          -0.42282052296431377,
          null
         ]
        },
        {
         "line": {
          "shape": "spline",
          "width": 0
         },
         "marker": {
          "color": "rgb(0.9379461476666116, 0.2941311994012479, 0.2941311994012479)"
         },
         "mode": "lines",
         "opacity": 1,
         "type": "scatter",
         "x": [
          0.7651866278042626,
          0.1192988455823766,
          null
         ],
         "y": [
          -0.6158024413261334,
          -0.053018382521206005,
          null
         ]
        },
        {
         "line": {
          "shape": "spline",
          "width": 0
         },
         "marker": {
          "color": "rgb(0.9379663525799291, 0.29204177970524303, 0.29204177970524303)"
         },
         "mode": "lines",
         "opacity": 1,
         "type": "scatter",
         "x": [
          0.7651866278042626,
          0.6840117985457818,
          null
         ],
         "y": [
          -0.6158024413261334,
          0.5702026763651347,
          null
         ]
        },
        {
         "line": {
          "shape": "spline",
          "width": 0
         },
         "marker": {
          "color": "rgb(0.9379875647698659, 0.28995135273261896, 0.28995135273261896)"
         },
         "mode": "lines",
         "opacity": 1,
         "type": "scatter",
         "x": [
          0.7651866278042626,
          0.6561880425959237,
          null
         ],
         "y": [
          -0.6158024413261334,
          0.014406556349072674,
          null
         ]
        },
        {
         "line": {
          "shape": "spline",
          "width": 0
         },
         "marker": {
          "color": "rgb(0.9380097842364217, 0.2878599184833759, 0.2878599184833759)"
         },
         "mode": "lines",
         "opacity": 1,
         "type": "scatter",
         "x": [
          0.7651866278042626,
          0.33875119688294697,
          null
         ],
         "y": [
          -0.6158024413261334,
          -0.34323648494223935,
          null
         ]
        },
        {
         "line": {
          "shape": "spline",
          "width": 0
         },
         "marker": {
          "color": "rgb(0.9380330109795965, 0.2857674769575138, 0.2857674769575138)"
         },
         "mode": "lines",
         "opacity": 1,
         "type": "scatter",
         "x": [
          0.7651866278042626,
          -0.09977344620872326,
          null
         ],
         "y": [
          -0.6158024413261334,
          -0.9942196228473164,
          null
         ]
        },
        {
         "line": {
          "shape": "spline",
          "width": 0
         },
         "marker": {
          "color": "rgb(0.9380572449993905, 0.2836740281550325, 0.2836740281550325)"
         },
         "mode": "lines",
         "opacity": 1,
         "type": "scatter",
         "x": [
          0.7651866278042626,
          0.28231830546686393,
          null
         ],
         "y": [
          -0.6158024413261334,
          0.6123748779823588,
          null
         ]
        },
        {
         "line": {
          "shape": "spline",
          "width": 0
         },
         "marker": {
          "color": "rgb(0.9380824862958037, 0.281579572075932, 0.281579572075932)"
         },
         "mode": "lines",
         "opacity": 1,
         "type": "scatter",
         "x": [
          0.7651866278042626,
          -0.08015989063624109,
          null
         ],
         "y": [
          -0.6158024413261334,
          0.7311264910311921,
          null
         ]
        },
        {
         "line": {
          "shape": "spline",
          "width": 0
         },
         "marker": {
          "color": "rgb(0.9381087348688357, 0.2794841087202127, 0.2794841087202127)"
         },
         "mode": "lines",
         "opacity": 1,
         "type": "scatter",
         "x": [
          0.7651866278042626,
          -0.6161589422030441,
          null
         ],
         "y": [
          -0.6158024413261334,
          -0.7336198945028887,
          null
         ]
        },
        {
         "line": {
          "shape": "spline",
          "width": 0
         },
         "marker": {
          "color": "rgb(0.9381359907184871, 0.27738763808787426, 0.27738763808787426)"
         },
         "mode": "lines",
         "opacity": 1,
         "type": "scatter",
         "x": [
          0.6840117985457818,
          -0.3262598396382662,
          null
         ],
         "y": [
          0.5702026763651347,
          -0.7506236726899015,
          null
         ]
        },
        {
         "line": {
          "shape": "spline",
          "width": 0
         },
         "marker": {
          "color": "rgb(0.9381642538447573, 0.2752901601789167, 0.2752901601789167)"
         },
         "mode": "lines",
         "opacity": 1,
         "type": "scatter",
         "x": [
          0.6840117985457818,
          0.8906284306660813,
          null
         ],
         "y": [
          0.5702026763651347,
          0.30901222800562705,
          null
         ]
        },
        {
         "line": {
          "shape": "spline",
          "width": 0
         },
         "marker": {
          "color": "rgb(0.9381935242476467, 0.2731916749933401, 0.2731916749933401)"
         },
         "mode": "lines",
         "opacity": 1,
         "type": "scatter",
         "x": [
          0.6840117985457818,
          0.042555730321677636,
          null
         ],
         "y": [
          0.5702026763651347,
          -0.6610675416957015,
          null
         ]
        },
        {
         "line": {
          "shape": "spline",
          "width": 0
         },
         "marker": {
          "color": "rgb(0.938223801927155, 0.2710921825311444, 0.2710921825311444)"
         },
         "mode": "lines",
         "opacity": 1,
         "type": "scatter",
         "x": [
          0.6840117985457818,
          -0.35675277189078475,
          null
         ],
         "y": [
          0.5702026763651347,
          0.9090181900642286,
          null
         ]
        },
        {
         "line": {
          "shape": "spline",
          "width": 0
         },
         "marker": {
          "color": "rgb(0.9382550868832825, 0.26899168279232966, 0.26899168279232966)"
         },
         "mode": "lines",
         "opacity": 1,
         "type": "scatter",
         "x": [
          0.6840117985457818,
          -0.69912365053649,
          null
         ],
         "y": [
          0.5702026763651347,
          0.1776516355523447,
          null
         ]
        },
        {
         "line": {
          "shape": "spline",
          "width": 0
         },
         "marker": {
          "color": "rgb(0.9382873791160291, 0.2668901757768958, 0.2668901757768958)"
         },
         "mode": "lines",
         "opacity": 1,
         "type": "scatter",
         "x": [
          0.6840117985457818,
          -0.2006089591922666,
          null
         ],
         "y": [
          0.5702026763651347,
          -0.3410249045790984,
          null
         ]
        },
        {
         "line": {
          "shape": "spline",
          "width": 0
         },
         "marker": {
          "color": "rgb(0.9383206786253948, 0.2647876614848428, 0.2647876614848428)"
         },
         "mode": "lines",
         "opacity": 1,
         "type": "scatter",
         "x": [
          0.6840117985457818,
          0.7840491809787309,
          null
         ],
         "y": [
          0.5702026763651347,
          -0.3124284556444398,
          null
         ]
        },
        {
         "line": {
          "shape": "spline",
          "width": 0
         },
         "marker": {
          "color": "rgb(0.9383549854113795, 0.2626841399161708, 0.2626841399161708)"
         },
         "mode": "lines",
         "opacity": 1,
         "type": "scatter",
         "x": [
          0.6840117985457818,
          -0.9590383342568007,
          null
         ],
         "y": [
          0.5702026763651347,
          -0.34685763200079156,
          null
         ]
        },
        {
         "line": {
          "shape": "spline",
          "width": 0
         },
         "marker": {
          "color": "rgb(0.9383902994739834, 0.26057961107087957, 0.26057961107087957)"
         },
         "mode": "lines",
         "opacity": 1,
         "type": "scatter",
         "x": [
          0.6840117985457818,
          0.4775890294771492,
          null
         ],
         "y": [
          0.5702026763651347,
          -0.7065996477304826,
          null
         ]
        },
        {
         "line": {
          "shape": "spline",
          "width": 0
         },
         "marker": {
          "color": "rgb(0.9384266208132063, 0.25847407494896946, 0.25847407494896946)"
         },
         "mode": "lines",
         "opacity": 1,
         "type": "scatter",
         "x": [
          0.6840117985457818,
          0.29053802337351115,
          null
         ],
         "y": [
          0.5702026763651347,
          -0.9500247040932227,
          null
         ]
        },
        {
         "line": {
          "shape": "spline",
          "width": 0
         },
         "marker": {
          "color": "rgb(0.9384639494290482, 0.25636753155044023, 0.25636753155044023)"
         },
         "mode": "lines",
         "opacity": 1,
         "type": "scatter",
         "x": [
          0.6840117985457818,
          -0.4347894318337367,
          null
         ],
         "y": [
          0.5702026763651347,
          -0.08023740699404934,
          null
         ]
        },
        {
         "line": {
          "shape": "spline",
          "width": 0
         },
         "marker": {
          "color": "rgb(0.9385022853215093, 0.2542599808752919, 0.2542599808752919)"
         },
         "mode": "lines",
         "opacity": 1,
         "type": "scatter",
         "x": [
          0.6840117985457818,
          -0.9238079484026622,
          null
         ],
         "y": [
          0.5702026763651347,
          -0.006394501764154287,
          null
         ]
        },
        {
         "line": {
          "shape": "spline",
          "width": 0
         },
         "marker": {
          "color": "rgb(0.9385416284905895, 0.25215142292352455, 0.25215142292352455)"
         },
         "mode": "lines",
         "opacity": 1,
         "type": "scatter",
         "x": [
          0.6840117985457818,
          0.9999999999999999,
          null
         ],
         "y": [
          0.5702026763651347,
          -0.038985615419455194,
          null
         ]
        },
        {
         "line": {
          "shape": "spline",
          "width": 0
         },
         "marker": {
          "color": "rgb(0.9385819789362888, 0.250041857695138, 0.250041857695138)"
         },
         "mode": "lines",
         "opacity": 1,
         "type": "scatter",
         "x": [
          0.6840117985457818,
          -0.88826039091796,
          null
         ],
         "y": [
          0.5702026763651347,
          0.44876525848477733,
          null
         ]
        },
        {
         "line": {
          "shape": "spline",
          "width": 0
         },
         "marker": {
          "color": "rgb(0.9386233366586072, 0.2479312851901323, 0.2479312851901323)"
         },
         "mode": "lines",
         "opacity": 1,
         "type": "scatter",
         "x": [
          0.6840117985457818,
          0.10816920140973707,
          null
         ],
         "y": [
          0.5702026763651347,
          0.9968668463250838,
          null
         ]
        },
        {
         "line": {
          "shape": "spline",
          "width": 0
         },
         "marker": {
          "color": "rgb(0.9386657016575446, 0.24581970540850762, 0.24581970540850762)"
         },
         "mode": "lines",
         "opacity": 1,
         "type": "scatter",
         "x": [
          0.6840117985457818,
          -0.05712631865800212,
          null
         ],
         "y": [
          0.5702026763651347,
          0.3303870467944924,
          null
         ]
        },
        {
         "line": {
          "shape": "spline",
          "width": 0
         },
         "marker": {
          "color": "rgb(0.9387090739331011, 0.24370711835026382, 0.24370711835026382)"
         },
         "mode": "lines",
         "opacity": 1,
         "type": "scatter",
         "x": [
          0.6840117985457818,
          -0.6192599418973583,
          null
         ],
         "y": [
          0.5702026763651347,
          0.7077813868065571,
          null
         ]
        },
        {
         "line": {
          "shape": "spline",
          "width": 0
         },
         "marker": {
          "color": "rgb(0.9387534534852766, 0.24159352401540102, 0.24159352401540102)"
         },
         "mode": "lines",
         "opacity": 1,
         "type": "scatter",
         "x": [
          0.6840117985457818,
          -0.6920023759347991,
          null
         ],
         "y": [
          0.5702026763651347,
          -0.42282052296431377,
          null
         ]
        },
        {
         "line": {
          "shape": "spline",
          "width": 0
         },
         "marker": {
          "color": "rgb(0.9387988403140712, 0.2394789224039191, 0.2394789224039191)"
         },
         "mode": "lines",
         "opacity": 1,
         "type": "scatter",
         "x": [
          0.6840117985457818,
          0.1192988455823766,
          null
         ],
         "y": [
          0.5702026763651347,
          -0.053018382521206005,
          null
         ]
        },
        {
         "line": {
          "shape": "spline",
          "width": 0
         },
         "marker": {
          "color": "rgb(0.9388452344194849, 0.2373633135158182, 0.2373633135158182)"
         },
         "mode": "lines",
         "opacity": 1,
         "type": "scatter",
         "x": [
          0.6840117985457818,
          0.6561880425959237,
          null
         ],
         "y": [
          0.5702026763651347,
          0.014406556349072674,
          null
         ]
        },
        {
         "line": {
          "shape": "spline",
          "width": 0
         },
         "marker": {
          "color": "rgb(0.9388926358015175, 0.2352466973510985, 0.2352466973510985)"
         },
         "mode": "lines",
         "opacity": 1,
         "type": "scatter",
         "x": [
          0.6840117985457818,
          0.33875119688294697,
          null
         ],
         "y": [
          0.5702026763651347,
          -0.34323648494223935,
          null
         ]
        },
        {
         "line": {
          "shape": "spline",
          "width": 0
         },
         "marker": {
          "color": "rgb(0.9389410444601693, 0.23312907390975934, 0.23312907390975934)"
         },
         "mode": "lines",
         "opacity": 1,
         "type": "scatter",
         "x": [
          0.6840117985457818,
          -0.09977344620872326,
          null
         ],
         "y": [
          0.5702026763651347,
          -0.9942196228473164,
          null
         ]
        },
        {
         "line": {
          "shape": "spline",
          "width": 0
         },
         "marker": {
          "color": "rgb(0.9389904603954403, 0.23101044319180108, 0.23101044319180108)"
         },
         "mode": "lines",
         "opacity": 1,
         "type": "scatter",
         "x": [
          0.6840117985457818,
          0.28231830546686393,
          null
         ],
         "y": [
          0.5702026763651347,
          0.6123748779823588,
          null
         ]
        },
        {
         "line": {
          "shape": "spline",
          "width": 0
         },
         "marker": {
          "color": "rgb(0.9390408836073303, 0.22889080519722382, 0.22889080519722382)"
         },
         "mode": "lines",
         "opacity": 1,
         "type": "scatter",
         "x": [
          0.6840117985457818,
          -0.08015989063624109,
          null
         ],
         "y": [
          0.5702026763651347,
          0.7311264910311921,
          null
         ]
        },
        {
         "line": {
          "shape": "spline",
          "width": 0
         },
         "marker": {
          "color": "rgb(0.9390923140958394, 0.22677015992602745, 0.22677015992602745)"
         },
         "mode": "lines",
         "opacity": 1,
         "type": "scatter",
         "x": [
          0.6840117985457818,
          -0.6161589422030441,
          null
         ],
         "y": [
          0.5702026763651347,
          -0.7336198945028887,
          null
         ]
        },
        {
         "line": {
          "shape": "spline",
          "width": 0
         },
         "marker": {
          "color": "rgb(0.9391447518609677, 0.22464850737821185, 0.22464850737821185)"
         },
         "mode": "lines",
         "opacity": 1,
         "type": "scatter",
         "x": [
          -0.3262598396382662,
          0.8906284306660813,
          null
         ],
         "y": [
          -0.7506236726899015,
          0.30901222800562705,
          null
         ]
        },
        {
         "line": {
          "shape": "spline",
          "width": 0
         },
         "marker": {
          "color": "rgb(0.939198196902715, 0.22252584755377725, 0.22252584755377725)"
         },
         "mode": "lines",
         "opacity": 1,
         "type": "scatter",
         "x": [
          -0.3262598396382662,
          -0.35675277189078475,
          null
         ],
         "y": [
          -0.7506236726899015,
          0.9090181900642286,
          null
         ]
        },
        {
         "line": {
          "shape": "spline",
          "width": 0
         },
         "marker": {
          "color": "rgb(0.9392526492210813, 0.22040218045272364, 0.22040218045272364)"
         },
         "mode": "lines",
         "opacity": 1,
         "type": "scatter",
         "x": [
          -0.3262598396382662,
          -0.2006089591922666,
          null
         ],
         "y": [
          -0.7506236726899015,
          -0.3410249045790984,
          null
         ]
        },
        {
         "line": {
          "shape": "spline",
          "width": 0
         },
         "marker": {
          "color": "rgb(0.9393081088160667, 0.21827750607505092, 0.21827750607505092)"
         },
         "mode": "lines",
         "opacity": 1,
         "type": "scatter",
         "x": [
          -0.3262598396382662,
          0.4775890294771492,
          null
         ],
         "y": [
          -0.7506236726899015,
          -0.7065996477304826,
          null
         ]
        },
        {
         "line": {
          "shape": "spline",
          "width": 0
         },
         "marker": {
          "color": "rgb(0.9393645756876712, 0.2161518244207592, 0.2161518244207592)"
         },
         "mode": "lines",
         "opacity": 1,
         "type": "scatter",
         "x": [
          -0.3262598396382662,
          -0.9238079484026622,
          null
         ],
         "y": [
          -0.7506236726899015,
          -0.006394501764154287,
          null
         ]
        },
        {
         "line": {
          "shape": "spline",
          "width": 0
         },
         "marker": {
          "color": "rgb(0.9394220498358947, 0.21402513548984836, 0.21402513548984836)"
         },
         "mode": "lines",
         "opacity": 1,
         "type": "scatter",
         "x": [
          -0.3262598396382662,
          -0.6192599418973583,
          null
         ],
         "y": [
          -0.7506236726899015,
          0.7077813868065571,
          null
         ]
        },
        {
         "line": {
          "shape": "spline",
          "width": 0
         },
         "marker": {
          "color": "rgb(0.9394805312607376, 0.2118974392823182, 0.2118974392823182)"
         },
         "mode": "lines",
         "opacity": 1,
         "type": "scatter",
         "x": [
          -0.3262598396382662,
          0.1192988455823766,
          null
         ],
         "y": [
          -0.7506236726899015,
          -0.053018382521206005,
          null
         ]
        },
        {
         "line": {
          "shape": "spline",
          "width": 0
         },
         "marker": {
          "color": "rgb(0.9395400199621993, 0.20976873579816924, 0.20976873579816924)"
         },
         "mode": "lines",
         "opacity": 1,
         "type": "scatter",
         "x": [
          -0.3262598396382662,
          0.6561880425959237,
          null
         ],
         "y": [
          -0.7506236726899015,
          0.014406556349072674,
          null
         ]
        },
        {
         "line": {
          "shape": "spline",
          "width": 0
         },
         "marker": {
          "color": "rgb(0.93960051594028, 0.2076390250374014, 0.2076390250374014)"
         },
         "mode": "lines",
         "opacity": 1,
         "type": "scatter",
         "x": [
          -0.3262598396382662,
          -0.08015989063624109,
          null
         ],
         "y": [
          -0.7506236726899015,
          0.7311264910311921,
          null
         ]
        },
        {
         "line": {
          "shape": "spline",
          "width": 0
         },
         "marker": {
          "color": "rgb(0.9396620191949799, 0.2055083070000142, 0.2055083070000142)"
         },
         "mode": "lines",
         "opacity": 1,
         "type": "scatter",
         "x": [
          -0.3262598396382662,
          -0.6161589422030441,
          null
         ],
         "y": [
          -0.7506236726899015,
          -0.7336198945028887,
          null
         ]
        },
        {
         "line": {
          "shape": "spline",
          "width": 0
         },
         "marker": {
          "color": "rgb(0.9397245297262988, 0.20337658168600803, 0.20337658168600803)"
         },
         "mode": "lines",
         "opacity": 1,
         "type": "scatter",
         "x": [
          -0.3262598396382662,
          0.042555730321677636,
          null
         ],
         "y": [
          -0.7506236726899015,
          -0.6610675416957015,
          null
         ]
        },
        {
         "line": {
          "shape": "spline",
          "width": 0
         },
         "marker": {
          "color": "rgb(0.9397880475342368, 0.20124384909538273, 0.20124384909538273)"
         },
         "mode": "lines",
         "opacity": 1,
         "type": "scatter",
         "x": [
          -0.3262598396382662,
          -0.69912365053649,
          null
         ],
         "y": [
          -0.7506236726899015,
          0.1776516355523447,
          null
         ]
        },
        {
         "line": {
          "shape": "spline",
          "width": 0
         },
         "marker": {
          "color": "rgb(0.9398525726187941, 0.1991101092281382, 0.1991101092281382)"
         },
         "mode": "lines",
         "opacity": 1,
         "type": "scatter",
         "x": [
          -0.3262598396382662,
          0.7840491809787309,
          null
         ],
         "y": [
          -0.7506236726899015,
          -0.3124284556444398,
          null
         ]
        },
        {
         "line": {
          "shape": "spline",
          "width": 0
         },
         "marker": {
          "color": "rgb(0.9399181049799702, 0.1969753620842748, 0.1969753620842748)"
         },
         "mode": "lines",
         "opacity": 1,
         "type": "scatter",
         "x": [
          -0.3262598396382662,
          -0.9590383342568007,
          null
         ],
         "y": [
          -0.7506236726899015,
          -0.34685763200079156,
          null
         ]
        },
        {
         "line": {
          "shape": "spline",
          "width": 0
         },
         "marker": {
          "color": "rgb(0.9399846446177655, 0.19483960766379216, 0.19483960766379216)"
         },
         "mode": "lines",
         "opacity": 1,
         "type": "scatter",
         "x": [
          -0.3262598396382662,
          0.29053802337351115,
          null
         ],
         "y": [
          -0.7506236726899015,
          -0.9500247040932227,
          null
         ]
        },
        {
         "line": {
          "shape": "spline",
          "width": 0
         },
         "marker": {
          "color": "rgb(0.9400521915321798, 0.19270284596669063, 0.19270284596669063)"
         },
         "mode": "lines",
         "opacity": 1,
         "type": "scatter",
         "x": [
          -0.3262598396382662,
          -0.4347894318337367,
          null
         ],
         "y": [
          -0.7506236726899015,
          -0.08023740699404934,
          null
         ]
        },
        {
         "line": {
          "shape": "spline",
          "width": 0
         },
         "marker": {
          "color": "rgb(0.9401207457232135, 0.19056507699296987, 0.19056507699296987)"
         },
         "mode": "lines",
         "opacity": 1,
         "type": "scatter",
         "x": [
          -0.3262598396382662,
          0.9999999999999999,
          null
         ],
         "y": [
          -0.7506236726899015,
          -0.038985615419455194,
          null
         ]
        },
        {
         "line": {
          "shape": "spline",
          "width": 0
         },
         "marker": {
          "color": "rgb(0.9401903071908662, 0.1884263007426299, 0.1884263007426299)"
         },
         "mode": "lines",
         "opacity": 1,
         "type": "scatter",
         "x": [
          -0.3262598396382662,
          -0.88826039091796,
          null
         ],
         "y": [
          -0.7506236726899015,
          0.44876525848477733,
          null
         ]
        },
        {
         "line": {
          "shape": "spline",
          "width": 0
         },
         "marker": {
          "color": "rgb(0.9402608759351376, 0.18628651721567113, 0.18628651721567113)"
         },
         "mode": "lines",
         "opacity": 1,
         "type": "scatter",
         "x": [
          -0.3262598396382662,
          0.10816920140973707,
          null
         ],
         "y": [
          -0.7506236726899015,
          0.9968668463250838,
          null
         ]
        },
        {
         "line": {
          "shape": "spline",
          "width": 0
         },
         "marker": {
          "color": "rgb(0.9403324519560283, 0.18414572641209315, 0.18414572641209315)"
         },
         "mode": "lines",
         "opacity": 1,
         "type": "scatter",
         "x": [
          -0.3262598396382662,
          -0.05712631865800212,
          null
         ],
         "y": [
          -0.7506236726899015,
          0.3303870467944924,
          null
         ]
        },
        {
         "line": {
          "shape": "spline",
          "width": 0
         },
         "marker": {
          "color": "rgb(0.9404050352535381, 0.18200392833189605, 0.18200392833189605)"
         },
         "mode": "lines",
         "opacity": 1,
         "type": "scatter",
         "x": [
          -0.3262598396382662,
          -0.6920023759347991,
          null
         ],
         "y": [
          -0.7506236726899015,
          -0.42282052296431377,
          null
         ]
        },
        {
         "line": {
          "shape": "spline",
          "width": 0
         },
         "marker": {
          "color": "rgb(0.940478625827667, 0.17986112297507995, 0.17986112297507995)"
         },
         "mode": "lines",
         "opacity": 1,
         "type": "scatter",
         "x": [
          -0.3262598396382662,
          0.33875119688294697,
          null
         ],
         "y": [
          -0.7506236726899015,
          -0.34323648494223935,
          null
         ]
        },
        {
         "line": {
          "shape": "spline",
          "width": 0
         },
         "marker": {
          "color": "rgb(0.9405532236784149, 0.17771731034164473, 0.17771731034164473)"
         },
         "mode": "lines",
         "opacity": 1,
         "type": "scatter",
         "x": [
          -0.3262598396382662,
          -0.09977344620872326,
          null
         ],
         "y": [
          -0.7506236726899015,
          -0.9942196228473164,
          null
         ]
        },
        {
         "line": {
          "shape": "spline",
          "width": 0
         },
         "marker": {
          "color": "rgb(0.9406288288057818, 0.1755724904315905, 0.1755724904315905)"
         },
         "mode": "lines",
         "opacity": 1,
         "type": "scatter",
         "x": [
          -0.3262598396382662,
          0.28231830546686393,
          null
         ],
         "y": [
          -0.7506236726899015,
          0.6123748779823588,
          null
         ]
        },
        {
         "line": {
          "shape": "spline",
          "width": 8.9
         },
         "marker": {
          "color": "rgb(0.940705441209768, 0.17342666324491707, 0.17342666324491707)"
         },
         "mode": "lines",
         "opacity": 1,
         "type": "scatter",
         "x": [
          0.8906284306660813,
          0.042555730321677636,
          null
         ],
         "y": [
          0.30901222800562705,
          -0.6610675416957015,
          null
         ]
        },
        {
         "line": {
          "shape": "spline",
          "width": 0
         },
         "marker": {
          "color": "rgb(0.9407830608903731, 0.17127982878162462, 0.17127982878162462)"
         },
         "mode": "lines",
         "opacity": 1,
         "type": "scatter",
         "x": [
          0.8906284306660813,
          -0.35675277189078475,
          null
         ],
         "y": [
          0.30901222800562705,
          0.9090181900642286,
          null
         ]
        },
        {
         "line": {
          "shape": "spline",
          "width": 0
         },
         "marker": {
          "color": "rgb(0.9408616878475973, 0.16913198704171317, 0.16913198704171317)"
         },
         "mode": "lines",
         "opacity": 1,
         "type": "scatter",
         "x": [
          0.8906284306660813,
          -0.69912365053649,
          null
         ],
         "y": [
          0.30901222800562705,
          0.1776516355523447,
          null
         ]
        },
        {
         "line": {
          "shape": "spline",
          "width": 0
         },
         "marker": {
          "color": "rgb(0.9409413220814407, 0.1669831380251825, 0.1669831380251825)"
         },
         "mode": "lines",
         "opacity": 1,
         "type": "scatter",
         "x": [
          0.8906284306660813,
          -0.2006089591922666,
          null
         ],
         "y": [
          0.30901222800562705,
          -0.3410249045790984,
          null
         ]
        },
        {
         "line": {
          "shape": "spline",
          "width": 0
         },
         "marker": {
          "color": "rgb(0.9410219635919029, 0.16483328173203293, 0.16483328173203293)"
         },
         "mode": "lines",
         "opacity": 1,
         "type": "scatter",
         "x": [
          0.8906284306660813,
          0.7840491809787309,
          null
         ],
         "y": [
          0.30901222800562705,
          -0.3124284556444398,
          null
         ]
        },
        {
         "line": {
          "shape": "spline",
          "width": 8
         },
         "marker": {
          "color": "rgb(0.9411036123789844, 0.16268241816226436, 0.16268241816226436)"
         },
         "mode": "lines",
         "opacity": 1,
         "type": "scatter",
         "x": [
          0.8906284306660813,
          -0.9590383342568007,
          null
         ],
         "y": [
          0.30901222800562705,
          -0.34685763200079156,
          null
         ]
        },
        {
         "line": {
          "shape": "spline",
          "width": 4.5
         },
         "marker": {
          "color": "rgb(0.941186268442685, 0.16053054731587646, 0.16053054731587646)"
         },
         "mode": "lines",
         "opacity": 1,
         "type": "scatter",
         "x": [
          0.8906284306660813,
          0.4775890294771492,
          null
         ],
         "y": [
          0.30901222800562705,
          -0.7065996477304826,
          null
         ]
        },
        {
         "line": {
          "shape": "spline",
          "width": 7.1
         },
         "marker": {
          "color": "rgb(0.9412699317830047, 0.15837766919286955, 0.15837766919286955)"
         },
         "mode": "lines",
         "opacity": 1,
         "type": "scatter",
         "x": [
          0.8906284306660813,
          0.29053802337351115,
          null
         ],
         "y": [
          0.30901222800562705,
          -0.9500247040932227,
          null
         ]
        },
        {
         "line": {
          "shape": "spline",
          "width": 0
         },
         "marker": {
          "color": "rgb(0.9413546023999434, 0.15622378379324353, 0.15622378379324353)"
         },
         "mode": "lines",
         "opacity": 1,
         "type": "scatter",
         "x": [
          0.8906284306660813,
          -0.4347894318337367,
          null
         ],
         "y": [
          0.30901222800562705,
          -0.08023740699404934,
          null
         ]
        },
        {
         "line": {
          "shape": "spline",
          "width": 10
         },
         "marker": {
          "color": "rgb(0.9414402802935014, 0.15406889111699829, 0.15406889111699829)"
         },
         "mode": "lines",
         "opacity": 1,
         "type": "scatter",
         "x": [
          0.8906284306660813,
          -0.9238079484026622,
          null
         ],
         "y": [
          0.30901222800562705,
          -0.006394501764154287,
          null
         ]
        },
        {
         "line": {
          "shape": "spline",
          "width": 9.9
         },
         "marker": {
          "color": "rgb(0.9415269654636782, 0.15191299116413415, 0.15191299116413415)"
         },
         "mode": "lines",
         "opacity": 1,
         "type": "scatter",
         "x": [
          0.8906284306660813,
          0.9999999999999999,
          null
         ],
         "y": [
          0.30901222800562705,
          -0.038985615419455194,
          null
         ]
        },
        {
         "line": {
          "shape": "spline",
          "width": 0
         },
         "marker": {
          "color": "rgb(0.9416146579104742, 0.1497560839346509, 0.1497560839346509)"
         },
         "mode": "lines",
         "opacity": 1,
         "type": "scatter",
         "x": [
          0.8906284306660813,
          -0.88826039091796,
          null
         ],
         "y": [
          0.30901222800562705,
          0.44876525848477733,
          null
         ]
        },
        {
         "line": {
          "shape": "spline",
          "width": 10
         },
         "marker": {
          "color": "rgb(0.9417033576338891, 0.14759816942854864, 0.14759816942854864)"
         },
         "mode": "lines",
         "opacity": 1,
         "type": "scatter",
         "x": [
          0.8906284306660813,
          0.10816920140973707,
          null
         ],
         "y": [
          0.30901222800562705,
          0.9968668463250838,
          null
         ]
        },
        {
         "line": {
          "shape": "spline",
          "width": 0
         },
         "marker": {
          "color": "rgb(0.9417930646339232, 0.1454392476458275, 0.1454392476458275)"
         },
         "mode": "lines",
         "opacity": 1,
         "type": "scatter",
         "x": [
          0.8906284306660813,
          -0.05712631865800212,
          null
         ],
         "y": [
          0.30901222800562705,
          0.3303870467944924,
          null
         ]
        },
        {
         "line": {
          "shape": "spline",
          "width": 0
         },
         "marker": {
          "color": "rgb(0.9418837789105764, 0.14327931858648701, 0.14327931858648701)"
         },
         "mode": "lines",
         "opacity": 1,
         "type": "scatter",
         "x": [
          0.8906284306660813,
          -0.6192599418973583,
          null
         ],
         "y": [
          0.30901222800562705,
          0.7077813868065571,
          null
         ]
        },
        {
         "line": {
          "shape": "spline",
          "width": 8.7
         },
         "marker": {
          "color": "rgb(0.9419755004638486, 0.14111838225052753, 0.14111838225052753)"
         },
         "mode": "lines",
         "opacity": 1,
         "type": "scatter",
         "x": [
          0.8906284306660813,
          -0.6920023759347991,
          null
         ],
         "y": [
          0.30901222800562705,
          -0.42282052296431377,
          null
         ]
        },
        {
         "line": {
          "shape": "spline",
          "width": 9.5
         },
         "marker": {
          "color": "rgb(0.9420682292937399, 0.13895643863794893, 0.13895643863794893)"
         },
         "mode": "lines",
         "opacity": 1,
         "type": "scatter",
         "x": [
          0.8906284306660813,
          0.1192988455823766,
          null
         ],
         "y": [
          0.30901222800562705,
          -0.053018382521206005,
          null
         ]
        },
        {
         "line": {
          "shape": "spline",
          "width": 0
         },
         "marker": {
          "color": "rgb(0.9421619654002503, 0.13679348774875122, 0.13679348774875122)"
         },
         "mode": "lines",
         "opacity": 1,
         "type": "scatter",
         "x": [
          0.8906284306660813,
          0.6561880425959237,
          null
         ],
         "y": [
          0.30901222800562705,
          0.014406556349072674,
          null
         ]
        },
        {
         "line": {
          "shape": "spline",
          "width": 0
         },
         "marker": {
          "color": "rgb(0.9422567087833799, 0.1346295295829344, 0.1346295295829344)"
         },
         "mode": "lines",
         "opacity": 1,
         "type": "scatter",
         "x": [
          0.8906284306660813,
          0.33875119688294697,
          null
         ],
         "y": [
          0.30901222800562705,
          -0.34323648494223935,
          null
         ]
        },
        {
         "line": {
          "shape": "spline",
          "width": 0
         },
         "marker": {
          "color": "rgb(0.9423524594431284, 0.13246456414049856, 0.13246456414049856)"
         },
         "mode": "lines",
         "opacity": 1,
         "type": "scatter",
         "x": [
          0.8906284306660813,
          -0.09977344620872326,
          null
         ],
         "y": [
          0.30901222800562705,
          -0.9942196228473164,
          null
         ]
        },
        {
         "line": {
          "shape": "spline",
          "width": 0
         },
         "marker": {
          "color": "rgb(0.9424492173794963, 0.1302985914214434, 0.1302985914214434)"
         },
         "mode": "lines",
         "opacity": 1,
         "type": "scatter",
         "x": [
          0.8906284306660813,
          0.28231830546686393,
          null
         ],
         "y": [
          0.30901222800562705,
          0.6123748779823588,
          null
         ]
        },
        {
         "line": {
          "shape": "spline",
          "width": 0
         },
         "marker": {
          "color": "rgb(0.942546982592483, 0.12813161142576934, 0.12813161142576934)"
         },
         "mode": "lines",
         "opacity": 1,
         "type": "scatter",
         "x": [
          0.8906284306660813,
          -0.08015989063624109,
          null
         ],
         "y": [
          0.30901222800562705,
          0.7311264910311921,
          null
         ]
        },
        {
         "line": {
          "shape": "spline",
          "width": 6.3
         },
         "marker": {
          "color": "rgb(0.9426457550820888, 0.12596362415347628, 0.12596362415347628)"
         },
         "mode": "lines",
         "opacity": 1,
         "type": "scatter",
         "x": [
          0.8906284306660813,
          -0.6161589422030441,
          null
         ],
         "y": [
          0.30901222800562705,
          -0.7336198945028887,
          null
         ]
        },
        {
         "line": {
          "shape": "spline",
          "width": 0
         },
         "marker": {
          "color": "rgb(0.9427455348483137, 0.12379462960456411, 0.12379462960456411)"
         },
         "mode": "lines",
         "opacity": 1,
         "type": "scatter",
         "x": [
          -0.35675277189078475,
          0.042555730321677636,
          null
         ],
         "y": [
          0.9090181900642286,
          -0.6610675416957015,
          null
         ]
        },
        {
         "line": {
          "shape": "spline",
          "width": 0
         },
         "marker": {
          "color": "rgb(0.9428463218911577, 0.12162462777903282, 0.12162462777903282)"
         },
         "mode": "lines",
         "opacity": 1,
         "type": "scatter",
         "x": [
          -0.35675277189078475,
          -0.2006089591922666,
          null
         ],
         "y": [
          0.9090181900642286,
          -0.3410249045790984,
          null
         ]
        },
        {
         "line": {
          "shape": "spline",
          "width": 0
         },
         "marker": {
          "color": "rgb(0.9429481162106208, 0.11945361867688242, 0.11945361867688242)"
         },
         "mode": "lines",
         "opacity": 1,
         "type": "scatter",
         "x": [
          -0.35675277189078475,
          -0.9238079484026622,
          null
         ],
         "y": [
          0.9090181900642286,
          -0.006394501764154287,
          null
         ]
        },
        {
         "line": {
          "shape": "spline",
          "width": 0
         },
         "marker": {
          "color": "rgb(0.9430509178067029, 0.11728160229811324, 0.11728160229811324)"
         },
         "mode": "lines",
         "opacity": 1,
         "type": "scatter",
         "x": [
          -0.35675277189078475,
          0.1192988455823766,
          null
         ],
         "y": [
          0.9090181900642286,
          -0.053018382521206005,
          null
         ]
        },
        {
         "line": {
          "shape": "spline",
          "width": 0
         },
         "marker": {
          "color": "rgb(0.9431547266794041, 0.11510857864272472, 0.11510857864272472)"
         },
         "mode": "lines",
         "opacity": 1,
         "type": "scatter",
         "x": [
          -0.35675277189078475,
          0.6561880425959237,
          null
         ],
         "y": [
          0.9090181900642286,
          0.014406556349072674,
          null
         ]
        },
        {
         "line": {
          "shape": "spline",
          "width": 0
         },
         "marker": {
          "color": "rgb(0.9432595428287245, 0.11293454771071709, 0.11293454771071709)"
         },
         "mode": "lines",
         "opacity": 1,
         "type": "scatter",
         "x": [
          -0.35675277189078475,
          -0.08015989063624109,
          null
         ],
         "y": [
          0.9090181900642286,
          0.7311264910311921,
          null
         ]
        },
        {
         "line": {
          "shape": "spline",
          "width": 0
         },
         "marker": {
          "color": "rgb(0.9433653662546638, 0.11075950950209046, 0.11075950950209046)"
         },
         "mode": "lines",
         "opacity": 1,
         "type": "scatter",
         "x": [
          -0.35675277189078475,
          -0.6161589422030441,
          null
         ],
         "y": [
          0.9090181900642286,
          -0.7336198945028887,
          null
         ]
        },
        {
         "line": {
          "shape": "spline",
          "width": 0
         },
         "marker": {
          "color": "rgb(0.9434721969572223, 0.10858346401684471, 0.10858346401684471)"
         },
         "mode": "lines",
         "opacity": 1,
         "type": "scatter",
         "x": [
          -0.35675277189078475,
          -0.69912365053649,
          null
         ],
         "y": [
          0.9090181900642286,
          0.1776516355523447,
          null
         ]
        },
        {
         "line": {
          "shape": "spline",
          "width": 0
         },
         "marker": {
          "color": "rgb(0.9435800349363997, 0.10640641125497996, 0.10640641125497996)"
         },
         "mode": "lines",
         "opacity": 1,
         "type": "scatter",
         "x": [
          -0.35675277189078475,
          0.7840491809787309,
          null
         ],
         "y": [
          0.9090181900642286,
          -0.3124284556444398,
          null
         ]
        },
        {
         "line": {
          "shape": "spline",
          "width": 0
         },
         "marker": {
          "color": "rgb(0.9436888801921963, 0.1042283512164961, 0.1042283512164961)"
         },
         "mode": "lines",
         "opacity": 1,
         "type": "scatter",
         "x": [
          -0.35675277189078475,
          -0.9590383342568007,
          null
         ],
         "y": [
          0.9090181900642286,
          -0.34685763200079156,
          null
         ]
        },
        {
         "line": {
          "shape": "spline",
          "width": 0
         },
         "marker": {
          "color": "rgb(0.9437987327246122, 0.10204928390139312, 0.10204928390139312)"
         },
         "mode": "lines",
         "opacity": 1,
         "type": "scatter",
         "x": [
          -0.35675277189078475,
          0.4775890294771492,
          null
         ],
         "y": [
          0.9090181900642286,
          -0.7065996477304826,
          null
         ]
        },
        {
         "line": {
          "shape": "spline",
          "width": 0
         },
         "marker": {
          "color": "rgb(0.9439095925336469, 0.09986920930967114, 0.09986920930967114)"
         },
         "mode": "lines",
         "opacity": 1,
         "type": "scatter",
         "x": [
          -0.35675277189078475,
          0.29053802337351115,
          null
         ],
         "y": [
          0.9090181900642286,
          -0.9500247040932227,
          null
         ]
        },
        {
         "line": {
          "shape": "spline",
          "width": 0
         },
         "marker": {
          "color": "rgb(0.9440214596193008, 0.09768812744132993, 0.09768812744132993)"
         },
         "mode": "lines",
         "opacity": 1,
         "type": "scatter",
         "x": [
          -0.35675277189078475,
          -0.4347894318337367,
          null
         ],
         "y": [
          0.9090181900642286,
          -0.08023740699404934,
          null
         ]
        },
        {
         "line": {
          "shape": "spline",
          "width": 0
         },
         "marker": {
          "color": "rgb(0.9441343339815738, 0.09550603829636972, 0.09550603829636972)"
         },
         "mode": "lines",
         "opacity": 1,
         "type": "scatter",
         "x": [
          -0.35675277189078475,
          0.9999999999999999,
          null
         ],
         "y": [
          0.9090181900642286,
          -0.038985615419455194,
          null
         ]
        },
        {
         "line": {
          "shape": "spline",
          "width": 0
         },
         "marker": {
          "color": "rgb(0.9442482156204659, 0.09332294187479029, 0.09332294187479029)"
         },
         "mode": "lines",
         "opacity": 1,
         "type": "scatter",
         "x": [
          -0.35675277189078475,
          -0.88826039091796,
          null
         ],
         "y": [
          0.9090181900642286,
          0.44876525848477733,
          null
         ]
        },
        {
         "line": {
          "shape": "spline",
          "width": 0
         },
         "marker": {
          "color": "rgb(0.944363104535977, 0.09113883817659185, 0.09113883817659185)"
         },
         "mode": "lines",
         "opacity": 1,
         "type": "scatter",
         "x": [
          -0.35675277189078475,
          0.10816920140973707,
          null
         ],
         "y": [
          0.9090181900642286,
          0.9968668463250838,
          null
         ]
        },
        {
         "line": {
          "shape": "spline",
          "width": 0
         },
         "marker": {
          "color": "rgb(0.9444790007281072, 0.08895372720177441, 0.08895372720177441)"
         },
         "mode": "lines",
         "opacity": 1,
         "type": "scatter",
         "x": [
          -0.35675277189078475,
          -0.05712631865800212,
          null
         ],
         "y": [
          0.9090181900642286,
          0.3303870467944924,
          null
         ]
        },
        {
         "line": {
          "shape": "spline",
          "width": 0
         },
         "marker": {
          "color": "rgb(0.9445959041968564, 0.08676760895033797, 0.08676760895033797)"
         },
         "mode": "lines",
         "opacity": 1,
         "type": "scatter",
         "x": [
          -0.35675277189078475,
          -0.6192599418973583,
          null
         ],
         "y": [
          0.9090181900642286,
          0.7077813868065571,
          null
         ]
        },
        {
         "line": {
          "shape": "spline",
          "width": 0
         },
         "marker": {
          "color": "rgb(0.9447138149422247, 0.0845804834222823, 0.0845804834222823)"
         },
         "mode": "lines",
         "opacity": 1,
         "type": "scatter",
         "x": [
          -0.35675277189078475,
          -0.6920023759347991,
          null
         ],
         "y": [
          0.9090181900642286,
          -0.42282052296431377,
          null
         ]
        },
        {
         "line": {
          "shape": "spline",
          "width": 0
         },
         "marker": {
          "color": "rgb(0.9448327329642121, 0.08239235061760763, 0.08239235061760763)"
         },
         "mode": "lines",
         "opacity": 1,
         "type": "scatter",
         "x": [
          -0.35675277189078475,
          0.33875119688294697,
          null
         ],
         "y": [
          0.9090181900642286,
          -0.34323648494223935,
          null
         ]
        },
        {
         "line": {
          "shape": "spline",
          "width": 0
         },
         "marker": {
          "color": "rgb(0.9449526582628185, 0.08020321053631396, 0.08020321053631396)"
         },
         "mode": "lines",
         "opacity": 1,
         "type": "scatter",
         "x": [
          -0.35675277189078475,
          -0.09977344620872326,
          null
         ],
         "y": [
          0.9090181900642286,
          -0.9942196228473164,
          null
         ]
        },
        {
         "line": {
          "shape": "spline",
          "width": 0
         },
         "marker": {
          "color": "rgb(0.9450735908380441, 0.07801306317840107, 0.07801306317840107)"
         },
         "mode": "lines",
         "opacity": 1,
         "type": "scatter",
         "x": [
          -0.35675277189078475,
          0.28231830546686393,
          null
         ],
         "y": [
          0.9090181900642286,
          0.6123748779823588,
          null
         ]
        },
        {
         "line": {
          "shape": "spline",
          "width": 0
         },
         "marker": {
          "color": "rgb(0.9451955306898887, 0.07582190854386917, 0.07582190854386917)"
         },
         "mode": "lines",
         "opacity": 1,
         "type": "scatter",
         "x": [
          -0.2006089591922666,
          0.042555730321677636,
          null
         ],
         "y": [
          -0.3410249045790984,
          -0.6610675416957015,
          null
         ]
        },
        {
         "line": {
          "shape": "spline",
          "width": 0
         },
         "marker": {
          "color": "rgb(0.9453184778183525, 0.07362974663271804, 0.07362974663271804)"
         },
         "mode": "lines",
         "opacity": 1,
         "type": "scatter",
         "x": [
          -0.2006089591922666,
          -0.69912365053649,
          null
         ],
         "y": [
          -0.3410249045790984,
          0.1776516355523447,
          null
         ]
        },
        {
         "line": {
          "shape": "spline",
          "width": 0
         },
         "marker": {
          "color": "rgb(0.9454424322234352, 0.07143657744494836, 0.07143657744494836)"
         },
         "mode": "lines",
         "opacity": 1,
         "type": "scatter",
         "x": [
          -0.2006089591922666,
          -0.9238079484026622,
          null
         ],
         "y": [
          -0.3410249045790984,
          -0.006394501764154287,
          null
         ]
        },
        {
         "line": {
          "shape": "spline",
          "width": 0
         },
         "marker": {
          "color": "rgb(0.9455673939051372, 0.069242400980559, 0.069242400980559)"
         },
         "mode": "lines",
         "opacity": 1,
         "type": "scatter",
         "x": [
          -0.2006089591922666,
          0.1192988455823766,
          null
         ],
         "y": [
          -0.3410249045790984,
          -0.053018382521206005,
          null
         ]
        },
        {
         "line": {
          "shape": "spline",
          "width": 0
         },
         "marker": {
          "color": "rgb(0.9456933628634582, 0.06704721723955076, 0.06704721723955076)"
         },
         "mode": "lines",
         "opacity": 1,
         "type": "scatter",
         "x": [
          -0.2006089591922666,
          0.6561880425959237,
          null
         ],
         "y": [
          -0.3410249045790984,
          0.014406556349072674,
          null
         ]
        },
        {
         "line": {
          "shape": "spline",
          "width": 0
         },
         "marker": {
          "color": "rgb(0.9458203390983981, 0.06485102622192351, 0.06485102622192351)"
         },
         "mode": "lines",
         "opacity": 1,
         "type": "scatter",
         "x": [
          -0.2006089591922666,
          -0.08015989063624109,
          null
         ],
         "y": [
          -0.3410249045790984,
          0.7311264910311921,
          null
         ]
        },
        {
         "line": {
          "shape": "spline",
          "width": 0
         },
         "marker": {
          "color": "rgb(0.9459483226099573, 0.06265382792767704, 0.06265382792767704)"
         },
         "mode": "lines",
         "opacity": 1,
         "type": "scatter",
         "x": [
          -0.2006089591922666,
          -0.6161589422030441,
          null
         ],
         "y": [
          -0.3410249045790984,
          -0.7336198945028887,
          null
         ]
        },
        {
         "line": {
          "shape": "spline",
          "width": 0
         },
         "marker": {
          "color": "rgb(0.9460773133981355, 0.06045562235681157, 0.06045562235681157)"
         },
         "mode": "lines",
         "opacity": 1,
         "type": "scatter",
         "x": [
          -0.2006089591922666,
          0.7840491809787309,
          null
         ],
         "y": [
          -0.3410249045790984,
          -0.3124284556444398,
          null
         ]
        },
        {
         "line": {
          "shape": "spline",
          "width": 0
         },
         "marker": {
          "color": "rgb(0.946207311462933, 0.058256409509326756, 0.058256409509326756)"
         },
         "mode": "lines",
         "opacity": 1,
         "type": "scatter",
         "x": [
          -0.2006089591922666,
          -0.9590383342568007,
          null
         ],
         "y": [
          -0.3410249045790984,
          -0.34685763200079156,
          null
         ]
        },
        {
         "line": {
          "shape": "spline",
          "width": 0
         },
         "marker": {
          "color": "rgb(0.9463383168043492, 0.0560561893852235, 0.0560561893852235)"
         },
         "mode": "lines",
         "opacity": 1,
         "type": "scatter",
         "x": [
          -0.2006089591922666,
          0.4775890294771492,
          null
         ],
         "y": [
          -0.3410249045790984,
          -0.7065996477304826,
          null
         ]
        },
        {
         "line": {
          "shape": "spline",
          "width": 0
         },
         "marker": {
          "color": "rgb(0.9464703294223846, 0.05385496198450079, 0.05385496198450079)"
         },
         "mode": "lines",
         "opacity": 1,
         "type": "scatter",
         "x": [
          -0.2006089591922666,
          0.29053802337351115,
          null
         ],
         "y": [
          -0.3410249045790984,
          -0.9500247040932227,
          null
         ]
        },
        {
         "line": {
          "shape": "spline",
          "width": 0
         },
         "marker": {
          "color": "rgb(0.9450453410541569, 0.05321073557004108, 0.05321073557004108)"
         },
         "mode": "lines",
         "opacity": 1,
         "type": "scatter",
         "x": [
          -0.2006089591922666,
          -0.4347894318337367,
          null
         ],
         "y": [
          -0.3410249045790984,
          -0.08023740699404934,
          null
         ]
        },
        {
         "line": {
          "shape": "spline",
          "width": 0
         },
         "marker": {
          "color": "rgb(0.9433288908182463, 0.052857971023264505, 0.052857971023264505)"
         },
         "mode": "lines",
         "opacity": 1,
         "type": "scatter",
         "x": [
          -0.2006089591922666,
          0.9999999999999999,
          null
         ],
         "y": [
          -0.3410249045790984,
          -0.038985615419455194,
          null
         ]
        },
        {
         "line": {
          "shape": "spline",
          "width": 0
         },
         "marker": {
          "color": "rgb(0.9416114333057166, 0.052506213753106934, 0.052506213753106934)"
         },
         "mode": "lines",
         "opacity": 1,
         "type": "scatter",
         "x": [
          -0.2006089591922666,
          -0.88826039091796,
          null
         ],
         "y": [
          -0.3410249045790984,
          0.44876525848477733,
          null
         ]
        },
        {
         "line": {
          "shape": "spline",
          "width": 0
         },
         "marker": {
          "color": "rgb(0.9398929685165678, 0.05215546375956848, 0.05215546375956848)"
         },
         "mode": "lines",
         "opacity": 1,
         "type": "scatter",
         "x": [
          -0.2006089591922666,
          0.10816920140973707,
          null
         ],
         "y": [
          -0.3410249045790984,
          0.9968668463250838,
          null
         ]
        },
        {
         "line": {
          "shape": "spline",
          "width": 0
         },
         "marker": {
          "color": "rgb(0.9381734964508, 0.05180572104264902, 0.05180572104264902)"
         },
         "mode": "lines",
         "opacity": 1,
         "type": "scatter",
         "x": [
          -0.2006089591922666,
          -0.05712631865800212,
          null
         ],
         "y": [
          -0.3410249045790984,
          0.3303870467944924,
          null
         ]
        },
        {
         "line": {
          "shape": "spline",
          "width": 0
         },
         "marker": {
          "color": "rgb(0.9364530171084129, 0.05145698560234879, 0.05145698560234879)"
         },
         "mode": "lines",
         "opacity": 1,
         "type": "scatter",
         "x": [
          -0.2006089591922666,
          -0.6192599418973583,
          null
         ],
         "y": [
          -0.3410249045790984,
          0.7077813868065571,
          null
         ]
        },
        {
         "line": {
          "shape": "spline",
          "width": 0
         },
         "marker": {
          "color": "rgb(0.9347315304894068, 0.051109257438667566, 0.051109257438667566)"
         },
         "mode": "lines",
         "opacity": 1,
         "type": "scatter",
         "x": [
          -0.2006089591922666,
          -0.6920023759347991,
          null
         ],
         "y": [
          -0.3410249045790984,
          -0.42282052296431377,
          null
         ]
        },
        {
         "line": {
          "shape": "spline",
          "width": 0
         },
         "marker": {
          "color": "rgb(0.9330090365937818, 0.05076253655160534, 0.05076253655160534)"
         },
         "mode": "lines",
         "opacity": 1,
         "type": "scatter",
         "x": [
          -0.2006089591922666,
          0.33875119688294697,
          null
         ],
         "y": [
          -0.3410249045790984,
          -0.34323648494223935,
          null
         ]
        },
        {
         "line": {
          "shape": "spline",
          "width": 0
         },
         "marker": {
          "color": "rgb(0.9312855354215376, 0.05041682294116223, 0.05041682294116223)"
         },
         "mode": "lines",
         "opacity": 1,
         "type": "scatter",
         "x": [
          -0.2006089591922666,
          -0.09977344620872326,
          null
         ],
         "y": [
          -0.3410249045790984,
          -0.9942196228473164,
          null
         ]
        },
        {
         "line": {
          "shape": "spline",
          "width": 0
         },
         "marker": {
          "color": "rgb(0.9295610269726744, 0.050072116607338235, 0.050072116607338235)"
         },
         "mode": "lines",
         "opacity": 1,
         "type": "scatter",
         "x": [
          -0.2006089591922666,
          0.28231830546686393,
          null
         ],
         "y": [
          -0.3410249045790984,
          0.6123748779823588,
          null
         ]
        },
        {
         "line": {
          "shape": "spline",
          "width": 8
         },
         "marker": {
          "color": "rgb(0.927835511247192, 0.04972841755013335, 0.04972841755013335)"
         },
         "mode": "lines",
         "opacity": 1,
         "type": "scatter",
         "x": [
          0.4775890294771492,
          0.042555730321677636,
          null
         ],
         "y": [
          -0.7065996477304826,
          -0.6610675416957015,
          null
         ]
        },
        {
         "line": {
          "shape": "spline",
          "width": 0
         },
         "marker": {
          "color": "rgb(0.9261089882450907, 0.04938572576954747, 0.04938572576954747)"
         },
         "mode": "lines",
         "opacity": 1,
         "type": "scatter",
         "x": [
          0.4775890294771492,
          -0.69912365053649,
          null
         ],
         "y": [
          -0.7065996477304826,
          0.1776516355523447,
          null
         ]
        },
        {
         "line": {
          "shape": "spline",
          "width": 8.9
         },
         "marker": {
          "color": "rgb(0.9243814579663702, 0.04904404126558071, 0.04904404126558071)"
         },
         "mode": "lines",
         "opacity": 1,
         "type": "scatter",
         "x": [
          0.4775890294771492,
          0.7840491809787309,
          null
         ],
         "y": [
          -0.7065996477304826,
          -0.3124284556444398,
          null
         ]
        },
        {
         "line": {
          "shape": "spline",
          "width": 8.4
         },
         "marker": {
          "color": "rgb(0.9226529204110305, 0.048703364038233055, 0.048703364038233055)"
         },
         "mode": "lines",
         "opacity": 1,
         "type": "scatter",
         "x": [
          0.4775890294771492,
          -0.9590383342568007,
          null
         ],
         "y": [
          -0.7065996477304826,
          -0.34685763200079156,
          null
         ]
        },
        {
         "line": {
          "shape": "spline",
          "width": 4.5
         },
         "marker": {
          "color": "rgb(0.9209233755790719, 0.048363694087504405, 0.048363694087504405)"
         },
         "mode": "lines",
         "opacity": 1,
         "type": "scatter",
         "x": [
          0.4775890294771492,
          -0.9238079484026622,
          null
         ],
         "y": [
          -0.7065996477304826,
          -0.006394501764154287,
          null
         ]
        },
        {
         "line": {
          "shape": "spline",
          "width": 0
         },
         "marker": {
          "color": "rgb(0.9191928234704941, 0.04802503141339487, 0.04802503141339487)"
         },
         "mode": "lines",
         "opacity": 1,
         "type": "scatter",
         "x": [
          0.4775890294771492,
          -0.6192599418973583,
          null
         ],
         "y": [
          -0.7065996477304826,
          0.7077813868065571,
          null
         ]
        },
        {
         "line": {
          "shape": "spline",
          "width": 7.1
         },
         "marker": {
          "color": "rgb(0.9174612640852973, 0.04768737601590445, 0.04768737601590445)"
         },
         "mode": "lines",
         "opacity": 1,
         "type": "scatter",
         "x": [
          0.4775890294771492,
          0.1192988455823766,
          null
         ],
         "y": [
          -0.7065996477304826,
          -0.053018382521206005,
          null
         ]
        },
        {
         "line": {
          "shape": "spline",
          "width": 0
         },
         "marker": {
          "color": "rgb(0.9157286974234814, 0.04735072789503303, 0.04735072789503303)"
         },
         "mode": "lines",
         "opacity": 1,
         "type": "scatter",
         "x": [
          0.4775890294771492,
          0.6561880425959237,
          null
         ],
         "y": [
          -0.7065996477304826,
          0.014406556349072674,
          null
         ]
        },
        {
         "line": {
          "shape": "spline",
          "width": 0
         },
         "marker": {
          "color": "rgb(0.9139951234850464, 0.047015087050780724, 0.047015087050780724)"
         },
         "mode": "lines",
         "opacity": 1,
         "type": "scatter",
         "x": [
          0.4775890294771492,
          -0.08015989063624109,
          null
         ],
         "y": [
          -0.7065996477304826,
          0.7311264910311921,
          null
         ]
        },
        {
         "line": {
          "shape": "spline",
          "width": 5.699999999999999
         },
         "marker": {
          "color": "rgb(0.9122605422699924, 0.04668045348314753, 0.04668045348314753)"
         },
         "mode": "lines",
         "opacity": 1,
         "type": "scatter",
         "x": [
          0.4775890294771492,
          -0.6161589422030441,
          null
         ],
         "y": [
          -0.7065996477304826,
          -0.7336198945028887,
          null
         ]
        },
        {
         "line": {
          "shape": "spline",
          "width": 9.5
         },
         "marker": {
          "color": "rgb(0.9105249537783192, 0.046346827192133455, 0.046346827192133455)"
         },
         "mode": "lines",
         "opacity": 1,
         "type": "scatter",
         "x": [
          0.4775890294771492,
          0.29053802337351115,
          null
         ],
         "y": [
          -0.7065996477304826,
          -0.9500247040932227,
          null
         ]
        },
        {
         "line": {
          "shape": "spline",
          "width": 0
         },
         "marker": {
          "color": "rgb(0.908788358010027, 0.04601420817773838, 0.04601420817773838)"
         },
         "mode": "lines",
         "opacity": 1,
         "type": "scatter",
         "x": [
          0.4775890294771492,
          -0.4347894318337367,
          null
         ],
         "y": [
          -0.7065996477304826,
          -0.08023740699404934,
          null
         ]
        },
        {
         "line": {
          "shape": "spline",
          "width": 4.4
         },
         "marker": {
          "color": "rgb(0.9070507549651158, 0.04568259643996242, 0.04568259643996242)"
         },
         "mode": "lines",
         "opacity": 1,
         "type": "scatter",
         "x": [
          0.4775890294771492,
          0.9999999999999999,
          null
         ],
         "y": [
          -0.7065996477304826,
          -0.038985615419455194,
          null
         ]
        },
        {
         "line": {
          "shape": "spline",
          "width": 8.9
         },
         "marker": {
          "color": "rgb(0.9053121446435853, 0.04535199197880557, 0.04535199197880557)"
         },
         "mode": "lines",
         "opacity": 1,
         "type": "scatter",
         "x": [
          0.4775890294771492,
          -0.88826039091796,
          null
         ],
         "y": [
          -0.7065996477304826,
          0.44876525848477733,
          null
         ]
        },
        {
         "line": {
          "shape": "spline",
          "width": 4.5
         },
         "marker": {
          "color": "rgb(0.9035725270454358, 0.04502239479426784, 0.04502239479426784)"
         },
         "mode": "lines",
         "opacity": 1,
         "type": "scatter",
         "x": [
          0.4775890294771492,
          0.10816920140973707,
          null
         ],
         "y": [
          -0.7065996477304826,
          0.9968668463250838,
          null
         ]
        },
        {
         "line": {
          "shape": "spline",
          "width": 0
         },
         "marker": {
          "color": "rgb(0.9018319021706672, 0.04469380488634911, 0.04469380488634911)"
         },
         "mode": "lines",
         "opacity": 1,
         "type": "scatter",
         "x": [
          0.4775890294771492,
          -0.05712631865800212,
          null
         ],
         "y": [
          -0.7065996477304826,
          0.3303870467944924,
          null
         ]
        },
        {
         "line": {
          "shape": "spline",
          "width": 3.9000000000000004
         },
         "marker": {
          "color": "rgb(0.9000902700192797, 0.04436622225504938, 0.04436622225504938)"
         },
         "mode": "lines",
         "opacity": 1,
         "type": "scatter",
         "x": [
          0.4775890294771492,
          -0.6920023759347991,
          null
         ],
         "y": [
          -0.7065996477304826,
          -0.42282052296431377,
          null
         ]
        },
        {
         "line": {
          "shape": "spline",
          "width": 0
         },
         "marker": {
          "color": "rgb(0.8983476305912729, 0.04403964690036888, 0.04403964690036888)"
         },
         "mode": "lines",
         "opacity": 1,
         "type": "scatter",
         "x": [
          0.4775890294771492,
          0.33875119688294697,
          null
         ],
         "y": [
          -0.7065996477304826,
          -0.34323648494223935,
          null
         ]
        },
        {
         "line": {
          "shape": "spline",
          "width": 0
         },
         "marker": {
          "color": "rgb(0.8966039838866472, 0.04371407882230738, 0.04371407882230738)"
         },
         "mode": "lines",
         "opacity": 1,
         "type": "scatter",
         "x": [
          0.4775890294771492,
          -0.09977344620872326,
          null
         ],
         "y": [
          -0.7065996477304826,
          -0.9942196228473164,
          null
         ]
        },
        {
         "line": {
          "shape": "spline",
          "width": 0
         },
         "marker": {
          "color": "rgb(0.8948593299054024, 0.04338951802086488, 0.04338951802086488)"
         },
         "mode": "lines",
         "opacity": 1,
         "type": "scatter",
         "x": [
          0.4775890294771492,
          0.28231830546686393,
          null
         ],
         "y": [
          -0.7065996477304826,
          0.6123748779823588,
          null
         ]
        },
        {
         "line": {
          "shape": "spline",
          "width": 8.9
         },
         "marker": {
          "color": "rgb(0.8931136686475385, 0.0430659644960415, 0.0430659644960415)"
         },
         "mode": "lines",
         "opacity": 1,
         "type": "scatter",
         "x": [
          -0.9238079484026622,
          0.042555730321677636,
          null
         ],
         "y": [
          -0.006394501764154287,
          -0.6610675416957015,
          null
         ]
        },
        {
         "line": {
          "shape": "spline",
          "width": 0
         },
         "marker": {
          "color": "rgb(0.8913670001130554, 0.04274341824783734, 0.04274341824783734)"
         },
         "mode": "lines",
         "opacity": 1,
         "type": "scatter",
         "x": [
          -0.9238079484026622,
          -0.69912365053649,
          null
         ],
         "y": [
          -0.006394501764154287,
          0.1776516355523447,
          null
         ]
        },
        {
         "line": {
          "shape": "spline",
          "width": 0
         },
         "marker": {
          "color": "rgb(0.8896193243019532, 0.04242187927625218, 0.04242187927625218)"
         },
         "mode": "lines",
         "opacity": 1,
         "type": "scatter",
         "x": [
          -0.9238079484026622,
          0.7840491809787309,
          null
         ],
         "y": [
          -0.006394501764154287,
          -0.3124284556444398,
          null
         ]
        },
        {
         "line": {
          "shape": "spline",
          "width": 8
         },
         "marker": {
          "color": "rgb(0.8878706412142321, 0.04210134758128603, 0.04210134758128603)"
         },
         "mode": "lines",
         "opacity": 1,
         "type": "scatter",
         "x": [
          -0.9238079484026622,
          -0.9590383342568007,
          null
         ],
         "y": [
          -0.006394501764154287,
          -0.34685763200079156,
          null
         ]
        },
        {
         "line": {
          "shape": "spline",
          "width": 7.1
         },
         "marker": {
          "color": "rgb(0.886120950849892, 0.04178182316293899, 0.04178182316293899)"
         },
         "mode": "lines",
         "opacity": 1,
         "type": "scatter",
         "x": [
          -0.9238079484026622,
          0.29053802337351115,
          null
         ],
         "y": [
          -0.006394501764154287,
          -0.9500247040932227,
          null
         ]
        },
        {
         "line": {
          "shape": "spline",
          "width": 0
         },
         "marker": {
          "color": "rgb(0.8843702532089326, 0.041463306021211066, 0.041463306021211066)"
         },
         "mode": "lines",
         "opacity": 1,
         "type": "scatter",
         "x": [
          -0.9238079484026622,
          -0.4347894318337367,
          null
         ],
         "y": [
          -0.006394501764154287,
          -0.08023740699404934,
          null
         ]
        },
        {
         "line": {
          "shape": "spline",
          "width": 9.5
         },
         "marker": {
          "color": "rgb(0.8826185482913542, 0.041145796156102143, 0.041145796156102143)"
         },
         "mode": "lines",
         "opacity": 1,
         "type": "scatter",
         "x": [
          -0.9238079484026622,
          0.1192988455823766,
          null
         ],
         "y": [
          -0.006394501764154287,
          -0.053018382521206005,
          null
         ]
        },
        {
         "line": {
          "shape": "spline",
          "width": 0
         },
         "marker": {
          "color": "rgb(0.8808658360971566, 0.040829293567612446, 0.040829293567612446)"
         },
         "mode": "lines",
         "opacity": 1,
         "type": "scatter",
         "x": [
          -0.9238079484026622,
          0.6561880425959237,
          null
         ],
         "y": [
          -0.006394501764154287,
          0.014406556349072674,
          null
         ]
        },
        {
         "line": {
          "shape": "spline",
          "width": 0
         },
         "marker": {
          "color": "rgb(0.87911211662634, 0.04051379825574175, 0.04051379825574175)"
         },
         "mode": "lines",
         "opacity": 1,
         "type": "scatter",
         "x": [
          -0.9238079484026622,
          -0.08015989063624109,
          null
         ],
         "y": [
          -0.006394501764154287,
          0.7311264910311921,
          null
         ]
        },
        {
         "line": {
          "shape": "spline",
          "width": 6.3
         },
         "marker": {
          "color": "rgb(0.8773573898789045, 0.04019931022049006, 0.04019931022049006)"
         },
         "mode": "lines",
         "opacity": 1,
         "type": "scatter",
         "x": [
          -0.9238079484026622,
          -0.6161589422030441,
          null
         ],
         "y": [
          -0.006394501764154287,
          -0.7336198945028887,
          null
         ]
        },
        {
         "line": {
          "shape": "spline",
          "width": 9.9
         },
         "marker": {
          "color": "rgb(0.8756016558548497, 0.03988582946185759, 0.03988582946185759)"
         },
         "mode": "lines",
         "opacity": 1,
         "type": "scatter",
         "x": [
          -0.9238079484026622,
          0.9999999999999999,
          null
         ],
         "y": [
          -0.006394501764154287,
          -0.038985615419455194,
          null
         ]
        },
        {
         "line": {
          "shape": "spline",
          "width": 0
         },
         "marker": {
          "color": "rgb(0.8738449145541759, 0.03957335597984413, 0.03957335597984413)"
         },
         "mode": "lines",
         "opacity": 1,
         "type": "scatter",
         "x": [
          -0.9238079484026622,
          -0.88826039091796,
          null
         ],
         "y": [
          -0.006394501764154287,
          0.44876525848477733,
          null
         ]
        },
        {
         "line": {
          "shape": "spline",
          "width": 10
         },
         "marker": {
          "color": "rgb(0.872087165976883, 0.039261889774449776, 0.039261889774449776)"
         },
         "mode": "lines",
         "opacity": 1,
         "type": "scatter",
         "x": [
          -0.9238079484026622,
          0.10816920140973707,
          null
         ],
         "y": [
          -0.006394501764154287,
          0.9968668463250838,
          null
         ]
        },
        {
         "line": {
          "shape": "spline",
          "width": 0
         },
         "marker": {
          "color": "rgb(0.870328410122971, 0.03895143084567443, 0.03895143084567443)"
         },
         "mode": "lines",
         "opacity": 1,
         "type": "scatter",
         "x": [
          -0.9238079484026622,
          -0.05712631865800212,
          null
         ],
         "y": [
          -0.006394501764154287,
          0.3303870467944924,
          null
         ]
        },
        {
         "line": {
          "shape": "spline",
          "width": 0
         },
         "marker": {
          "color": "rgb(0.8685686469924401, 0.038641979193518194, 0.038641979193518194)"
         },
         "mode": "lines",
         "opacity": 1,
         "type": "scatter",
         "x": [
          -0.9238079484026622,
          -0.6192599418973583,
          null
         ],
         "y": [
          -0.006394501764154287,
          0.7077813868065571,
          null
         ]
        },
        {
         "line": {
          "shape": "spline",
          "width": 8.7
         },
         "marker": {
          "color": "rgb(0.8668078765852899, 0.038333534817981074, 0.038333534817981074)"
         },
         "mode": "lines",
         "opacity": 1,
         "type": "scatter",
         "x": [
          -0.9238079484026622,
          -0.6920023759347991,
          null
         ],
         "y": [
          -0.006394501764154287,
          -0.42282052296431377,
          null
         ]
        },
        {
         "line": {
          "shape": "spline",
          "width": 0
         },
         "marker": {
          "color": "rgb(0.8650460989015206, 0.03802609771906307, 0.03802609771906307)"
         },
         "mode": "lines",
         "opacity": 1,
         "type": "scatter",
         "x": [
          -0.9238079484026622,
          0.33875119688294697,
          null
         ],
         "y": [
          -0.006394501764154287,
          -0.34323648494223935,
          null
         ]
        },
        {
         "line": {
          "shape": "spline",
          "width": 0
         },
         "marker": {
          "color": "rgb(0.8632833139411323, 0.037719667896764064, 0.037719667896764064)"
         },
         "mode": "lines",
         "opacity": 1,
         "type": "scatter",
         "x": [
          -0.9238079484026622,
          -0.09977344620872326,
          null
         ],
         "y": [
          -0.006394501764154287,
          -0.9942196228473164,
          null
         ]
        },
        {
         "line": {
          "shape": "spline",
          "width": 0
         },
         "marker": {
          "color": "rgb(0.8615195217041249, 0.037414245351084174, 0.037414245351084174)"
         },
         "mode": "lines",
         "opacity": 1,
         "type": "scatter",
         "x": [
          -0.9238079484026622,
          0.28231830546686393,
          null
         ],
         "y": [
          -0.006394501764154287,
          0.6123748779823588,
          null
         ]
        },
        {
         "line": {
          "shape": "spline",
          "width": 0
         },
         "marker": {
          "color": "rgb(0.8597547221904985, 0.0371098300820234, 0.0371098300820234)"
         },
         "mode": "lines",
         "opacity": 1,
         "type": "scatter",
         "x": [
          -0.6192599418973583,
          0.042555730321677636,
          null
         ],
         "y": [
          0.7077813868065571,
          -0.6610675416957015,
          null
         ]
        },
        {
         "line": {
          "shape": "spline",
          "width": 0
         },
         "marker": {
          "color": "rgb(0.857988915400253, 0.036806422089581625, 0.036806422089581625)"
         },
         "mode": "lines",
         "opacity": 1,
         "type": "scatter",
         "x": [
          -0.6192599418973583,
          -0.69912365053649,
          null
         ],
         "y": [
          0.7077813868065571,
          0.1776516355523447,
          null
         ]
        },
        {
         "line": {
          "shape": "spline",
          "width": 0
         },
         "marker": {
          "color": "rgb(0.8562221013333885, 0.036504021373758855, 0.036504021373758855)"
         },
         "mode": "lines",
         "opacity": 1,
         "type": "scatter",
         "x": [
          -0.6192599418973583,
          0.7840491809787309,
          null
         ],
         "y": [
          0.7077813868065571,
          -0.3124284556444398,
          null
         ]
        },
        {
         "line": {
          "shape": "spline",
          "width": 0
         },
         "marker": {
          "color": "rgb(0.8544542799899048, 0.03620262793455531, 0.03620262793455531)"
         },
         "mode": "lines",
         "opacity": 1,
         "type": "scatter",
         "x": [
          -0.6192599418973583,
          -0.9590383342568007,
          null
         ],
         "y": [
          0.7077813868065571,
          -0.34685763200079156,
          null
         ]
        },
        {
         "line": {
          "shape": "spline",
          "width": 0
         },
         "marker": {
          "color": "rgb(0.852685451369802, 0.035902241771970766, 0.035902241771970766)"
         },
         "mode": "lines",
         "opacity": 1,
         "type": "scatter",
         "x": [
          -0.6192599418973583,
          0.29053802337351115,
          null
         ],
         "y": [
          0.7077813868065571,
          -0.9500247040932227,
          null
         ]
        },
        {
         "line": {
          "shape": "spline",
          "width": 0
         },
         "marker": {
          "color": "rgb(0.8509156154730801, 0.03560286288600534, 0.03560286288600534)"
         },
         "mode": "lines",
         "opacity": 1,
         "type": "scatter",
         "x": [
          -0.6192599418973583,
          -0.4347894318337367,
          null
         ],
         "y": [
          0.7077813868065571,
          -0.08023740699404934,
          null
         ]
        },
        {
         "line": {
          "shape": "spline",
          "width": 0
         },
         "marker": {
          "color": "rgb(0.8491447722997393, 0.03530449127665902, 0.03530449127665902)"
         },
         "mode": "lines",
         "opacity": 1,
         "type": "scatter",
         "x": [
          -0.6192599418973583,
          0.9999999999999999,
          null
         ],
         "y": [
          0.7077813868065571,
          -0.038985615419455194,
          null
         ]
        },
        {
         "line": {
          "shape": "spline",
          "width": 0
         },
         "marker": {
          "color": "rgb(0.8473729218497793, 0.03500712694393171, 0.03500712694393171)"
         },
         "mode": "lines",
         "opacity": 1,
         "type": "scatter",
         "x": [
          -0.6192599418973583,
          -0.88826039091796,
          null
         ],
         "y": [
          0.7077813868065571,
          0.44876525848477733,
          null
         ]
        },
        {
         "line": {
          "shape": "spline",
          "width": 0
         },
         "marker": {
          "color": "rgb(0.8456000641232002, 0.03471076988782351, 0.03471076988782351)"
         },
         "mode": "lines",
         "opacity": 1,
         "type": "scatter",
         "x": [
          -0.6192599418973583,
          0.10816920140973707,
          null
         ],
         "y": [
          0.7077813868065571,
          0.9968668463250838,
          null
         ]
        },
        {
         "line": {
          "shape": "spline",
          "width": 0
         },
         "marker": {
          "color": "rgb(0.8438261991200021, 0.034415420108334316, 0.034415420108334316)"
         },
         "mode": "lines",
         "opacity": 1,
         "type": "scatter",
         "x": [
          -0.6192599418973583,
          -0.05712631865800212,
          null
         ],
         "y": [
          0.7077813868065571,
          0.3303870467944924,
          null
         ]
        },
        {
         "line": {
          "shape": "spline",
          "width": 0
         },
         "marker": {
          "color": "rgb(0.8420513268401848, 0.034121077605464345, 0.034121077605464345)"
         },
         "mode": "lines",
         "opacity": 1,
         "type": "scatter",
         "x": [
          -0.6192599418973583,
          0.1192988455823766,
          null
         ],
         "y": [
          0.7077813868065571,
          -0.053018382521206005,
          null
         ]
        },
        {
         "line": {
          "shape": "spline",
          "width": 0
         },
         "marker": {
          "color": "rgb(0.8402754472837486, 0.03382774237921338, 0.03382774237921338)"
         },
         "mode": "lines",
         "opacity": 1,
         "type": "scatter",
         "x": [
          -0.6192599418973583,
          0.6561880425959237,
          null
         ],
         "y": [
          0.7077813868065571,
          0.014406556349072674,
          null
         ]
        },
        {
         "line": {
          "shape": "spline",
          "width": 0
         },
         "marker": {
          "color": "rgb(0.8384985604506932, 0.03353541442958152, 0.03353541442958152)"
         },
         "mode": "lines",
         "opacity": 1,
         "type": "scatter",
         "x": [
          -0.6192599418973583,
          -0.08015989063624109,
          null
         ],
         "y": [
          0.7077813868065571,
          0.7311264910311921,
          null
         ]
        },
        {
         "line": {
          "shape": "spline",
          "width": 0
         },
         "marker": {
          "color": "rgb(0.8367206663410187, 0.03324409375656867, 0.03324409375656867)"
         },
         "mode": "lines",
         "opacity": 1,
         "type": "scatter",
         "x": [
          -0.6192599418973583,
          -0.6161589422030441,
          null
         ],
         "y": [
          0.7077813868065571,
          -0.7336198945028887,
          null
         ]
        },
        {
         "line": {
          "shape": "spline",
          "width": 0
         },
         "marker": {
          "color": "rgb(0.834941764954725, 0.032953780360175045, 0.032953780360175045)"
         },
         "mode": "lines",
         "opacity": 1,
         "type": "scatter",
         "x": [
          -0.6192599418973583,
          -0.6920023759347991,
          null
         ],
         "y": [
          0.7077813868065571,
          -0.42282052296431377,
          null
         ]
        },
        {
         "line": {
          "shape": "spline",
          "width": 0
         },
         "marker": {
          "color": "rgb(0.8331618562918124, 0.03266447424040042, 0.03266447424040042)"
         },
         "mode": "lines",
         "opacity": 1,
         "type": "scatter",
         "x": [
          -0.6192599418973583,
          0.33875119688294697,
          null
         ],
         "y": [
          0.7077813868065571,
          -0.34323648494223935,
          null
         ]
        },
        {
         "line": {
          "shape": "spline",
          "width": 0
         },
         "marker": {
          "color": "rgb(0.8313809403522808, 0.0323761753972448, 0.0323761753972448)"
         },
         "mode": "lines",
         "opacity": 1,
         "type": "scatter",
         "x": [
          -0.6192599418973583,
          -0.09977344620872326,
          null
         ],
         "y": [
          0.7077813868065571,
          -0.9942196228473164,
          null
         ]
        },
        {
         "line": {
          "shape": "spline",
          "width": 0
         },
         "marker": {
          "color": "rgb(0.8295990171361299, 0.0320888838307084, 0.0320888838307084)"
         },
         "mode": "lines",
         "opacity": 1,
         "type": "scatter",
         "x": [
          -0.6192599418973583,
          0.28231830546686393,
          null
         ],
         "y": [
          0.7077813868065571,
          0.6123748779823588,
          null
         ]
        },
        {
         "line": {
          "shape": "spline",
          "width": 9.9
         },
         "marker": {
          "color": "rgb(0.82781608664336, 0.03180259954079101, 0.03180259954079101)"
         },
         "mode": "lines",
         "opacity": 1,
         "type": "scatter",
         "x": [
          0.1192988455823766,
          0.042555730321677636,
          null
         ],
         "y": [
          -0.053018382521206005,
          -0.6610675416957015,
          null
         ]
        },
        {
         "line": {
          "shape": "spline",
          "width": 0
         },
         "marker": {
          "color": "rgb(0.8260321488739711, 0.03151732252749262, 0.03151732252749262)"
         },
         "mode": "lines",
         "opacity": 1,
         "type": "scatter",
         "x": [
          0.1192988455823766,
          -0.69912365053649,
          null
         ],
         "y": [
          -0.053018382521206005,
          0.1776516355523447,
          null
         ]
        },
        {
         "line": {
          "shape": "spline",
          "width": 3.2
         },
         "marker": {
          "color": "rgb(0.824247203827963, 0.031233052790813454, 0.031233052790813454)"
         },
         "mode": "lines",
         "opacity": 1,
         "type": "scatter",
         "x": [
          0.1192988455823766,
          0.7840491809787309,
          null
         ],
         "y": [
          -0.053018382521206005,
          -0.3124284556444398,
          null
         ]
        },
        {
         "line": {
          "shape": "spline",
          "width": 9.3
         },
         "marker": {
          "color": "rgb(0.822461251505336, 0.03094979033075329, 0.03094979033075329)"
         },
         "mode": "lines",
         "opacity": 1,
         "type": "scatter",
         "x": [
          0.1192988455823766,
          -0.9590383342568007,
          null
         ],
         "y": [
          -0.053018382521206005,
          -0.34685763200079156,
          null
         ]
        },
        {
         "line": {
          "shape": "spline",
          "width": 8.9
         },
         "marker": {
          "color": "rgb(0.8206742919060898, 0.03066753514731224, 0.03066753514731224)"
         },
         "mode": "lines",
         "opacity": 1,
         "type": "scatter",
         "x": [
          0.1192988455823766,
          0.29053802337351115,
          null
         ],
         "y": [
          -0.053018382521206005,
          -0.9500247040932227,
          null
         ]
        },
        {
         "line": {
          "shape": "spline",
          "width": 0
         },
         "marker": {
          "color": "rgb(0.8188863250302245, 0.030386287240490195, 0.030386287240490195)"
         },
         "mode": "lines",
         "opacity": 1,
         "type": "scatter",
         "x": [
          0.1192988455823766,
          -0.4347894318337367,
          null
         ],
         "y": [
          -0.053018382521206005,
          -0.08023740699404934,
          null
         ]
        },
        {
         "line": {
          "shape": "spline",
          "width": 9.399999999999999
         },
         "marker": {
          "color": "rgb(0.8170973508777403, 0.03010604661028715, 0.03010604661028715)"
         },
         "mode": "lines",
         "opacity": 1,
         "type": "scatter",
         "x": [
          0.1192988455823766,
          0.9999999999999999,
          null
         ],
         "y": [
          -0.053018382521206005,
          -0.038985615419455194,
          null
         ]
        },
        {
         "line": {
          "shape": "spline",
          "width": 3.2
         },
         "marker": {
          "color": "rgb(0.8153073694486368, 0.029826813256703333, 0.029826813256703333)"
         },
         "mode": "lines",
         "opacity": 1,
         "type": "scatter",
         "x": [
          0.1192988455823766,
          -0.88826039091796,
          null
         ],
         "y": [
          -0.053018382521206005,
          0.44876525848477733,
          null
         ]
        },
        {
         "line": {
          "shape": "spline",
          "width": 9.5
         },
         "marker": {
          "color": "rgb(0.8135163807429143, 0.029548587179738628, 0.029548587179738628)"
         },
         "mode": "lines",
         "opacity": 1,
         "type": "scatter",
         "x": [
          0.1192988455823766,
          0.10816920140973707,
          null
         ],
         "y": [
          -0.053018382521206005,
          0.9968668463250838,
          null
         ]
        },
        {
         "line": {
          "shape": "spline",
          "width": 0
         },
         "marker": {
          "color": "rgb(0.8117243847605727, 0.029271368379392926, 0.029271368379392926)"
         },
         "mode": "lines",
         "opacity": 1,
         "type": "scatter",
         "x": [
          0.1192988455823766,
          -0.05712631865800212,
          null
         ],
         "y": [
          -0.053018382521206005,
          0.3303870467944924,
          null
         ]
        },
        {
         "line": {
          "shape": "spline",
          "width": 8.299999999999999
         },
         "marker": {
          "color": "rgb(0.809931381501612, 0.028995156855666337, 0.028995156855666337)"
         },
         "mode": "lines",
         "opacity": 1,
         "type": "scatter",
         "x": [
          0.1192988455823766,
          -0.6920023759347991,
          null
         ],
         "y": [
          -0.053018382521206005,
          -0.42282052296431377,
          null
         ]
        },
        {
         "line": {
          "shape": "spline",
          "width": 0
         },
         "marker": {
          "color": "rgb(0.8081373709660323, 0.028719952608558752, 0.028719952608558752)"
         },
         "mode": "lines",
         "opacity": 1,
         "type": "scatter",
         "x": [
          0.1192988455823766,
          -0.08015989063624109,
          null
         ],
         "y": [
          -0.053018382521206005,
          0.7311264910311921,
          null
         ]
        },
        {
         "line": {
          "shape": "spline",
          "width": 7
         },
         "marker": {
          "color": "rgb(0.8063423531538334, 0.02844575563807039, 0.02844575563807039)"
         },
         "mode": "lines",
         "opacity": 1,
         "type": "scatter",
         "x": [
          0.1192988455823766,
          -0.6161589422030441,
          null
         ],
         "y": [
          -0.053018382521206005,
          -0.7336198945028887,
          null
         ]
        },
        {
         "line": {
          "shape": "spline",
          "width": 0
         },
         "marker": {
          "color": "rgb(0.8045463280650156, 0.028172565944200922, 0.028172565944200922)"
         },
         "mode": "lines",
         "opacity": 1,
         "type": "scatter",
         "x": [
          0.1192988455823766,
          0.6561880425959237,
          null
         ],
         "y": [
          -0.053018382521206005,
          0.014406556349072674,
          null
         ]
        },
        {
         "line": {
          "shape": "spline",
          "width": 0
         },
         "marker": {
          "color": "rgb(0.8027492956995788, 0.027900383526950567, 0.027900383526950567)"
         },
         "mode": "lines",
         "opacity": 1,
         "type": "scatter",
         "x": [
          0.1192988455823766,
          0.33875119688294697,
          null
         ],
         "y": [
          -0.053018382521206005,
          -0.34323648494223935,
          null
         ]
        },
        {
         "line": {
          "shape": "spline",
          "width": 0
         },
         "marker": {
          "color": "rgb(0.8009512560575226, 0.027629208386319437, 0.027629208386319437)"
         },
         "mode": "lines",
         "opacity": 1,
         "type": "scatter",
         "x": [
          0.1192988455823766,
          -0.09977344620872326,
          null
         ],
         "y": [
          -0.053018382521206005,
          -0.9942196228473164,
          null
         ]
        },
        {
         "line": {
          "shape": "spline",
          "width": 0
         },
         "marker": {
          "color": "rgb(0.7991522091388474, 0.02735904052230731, 0.02735904052230731)"
         },
         "mode": "lines",
         "opacity": 1,
         "type": "scatter",
         "x": [
          0.1192988455823766,
          0.28231830546686393,
          null
         ],
         "y": [
          -0.053018382521206005,
          0.6123748779823588,
          null
         ]
        },
        {
         "line": {
          "shape": "spline",
          "width": 0
         },
         "marker": {
          "color": "rgb(0.7973521549435532, 0.027089879934914296, 0.027089879934914296)"
         },
         "mode": "lines",
         "opacity": 1,
         "type": "scatter",
         "x": [
          0.6561880425959237,
          0.042555730321677636,
          null
         ],
         "y": [
          0.014406556349072674,
          -0.6610675416957015,
          null
         ]
        },
        {
         "line": {
          "shape": "spline",
          "width": 0
         },
         "marker": {
          "color": "rgb(0.7955510934716399, 0.026821726624140285, 0.026821726624140285)"
         },
         "mode": "lines",
         "opacity": 1,
         "type": "scatter",
         "x": [
          0.6561880425959237,
          -0.69912365053649,
          null
         ],
         "y": [
          0.014406556349072674,
          0.1776516355523447,
          null
         ]
        },
        {
         "line": {
          "shape": "spline",
          "width": 0
         },
         "marker": {
          "color": "rgb(0.7937490247231076, 0.026554580589985388, 0.026554580589985388)"
         },
         "mode": "lines",
         "opacity": 1,
         "type": "scatter",
         "x": [
          0.6561880425959237,
          0.7840491809787309,
          null
         ],
         "y": [
          0.014406556349072674,
          -0.3124284556444398,
          null
         ]
        },
        {
         "line": {
          "shape": "spline",
          "width": 0
         },
         "marker": {
          "color": "rgb(0.7919459486979561, 0.026288441832449605, 0.026288441832449605)"
         },
         "mode": "lines",
         "opacity": 1,
         "type": "scatter",
         "x": [
          0.6561880425959237,
          -0.9590383342568007,
          null
         ],
         "y": [
          0.014406556349072674,
          -0.34685763200079156,
          null
         ]
        },
        {
         "line": {
          "shape": "spline",
          "width": 0
         },
         "marker": {
          "color": "rgb(0.7901418653961856, 0.026023310351532825, 0.026023310351532825)"
         },
         "mode": "lines",
         "opacity": 1,
         "type": "scatter",
         "x": [
          0.6561880425959237,
          0.29053802337351115,
          null
         ],
         "y": [
          0.014406556349072674,
          -0.9500247040932227,
          null
         ]
        },
        {
         "line": {
          "shape": "spline",
          "width": 0
         },
         "marker": {
          "color": "rgb(0.7883367748177958, 0.02575918614723527, 0.02575918614723527)"
         },
         "mode": "lines",
         "opacity": 1,
         "type": "scatter",
         "x": [
          0.6561880425959237,
          -0.4347894318337367,
          null
         ],
         "y": [
          0.014406556349072674,
          -0.08023740699404934,
          null
         ]
        },
        {
         "line": {
          "shape": "spline",
          "width": 0
         },
         "marker": {
          "color": "rgb(0.7865306769627872, 0.025496069219556605, 0.025496069219556605)"
         },
         "mode": "lines",
         "opacity": 1,
         "type": "scatter",
         "x": [
          0.6561880425959237,
          0.9999999999999999,
          null
         ],
         "y": [
          0.014406556349072674,
          -0.038985615419455194,
          null
         ]
        },
        {
         "line": {
          "shape": "spline",
          "width": 0
         },
         "marker": {
          "color": "rgb(0.7847235718311595, 0.025233959568497166, 0.025233959568497166)"
         },
         "mode": "lines",
         "opacity": 1,
         "type": "scatter",
         "x": [
          0.6561880425959237,
          -0.88826039091796,
          null
         ],
         "y": [
          0.014406556349072674,
          0.44876525848477733,
          null
         ]
        },
        {
         "line": {
          "shape": "spline",
          "width": 0
         },
         "marker": {
          "color": "rgb(0.7829154594229126, 0.02497285719405673, 0.02497285719405673)"
         },
         "mode": "lines",
         "opacity": 1,
         "type": "scatter",
         "x": [
          0.6561880425959237,
          0.10816920140973707,
          null
         ],
         "y": [
          0.014406556349072674,
          0.9968668463250838,
          null
         ]
        },
        {
         "line": {
          "shape": "spline",
          "width": 0
         },
         "marker": {
          "color": "rgb(0.7811063397380467, 0.024712762096235408, 0.024712762096235408)"
         },
         "mode": "lines",
         "opacity": 1,
         "type": "scatter",
         "x": [
          0.6561880425959237,
          -0.05712631865800212,
          null
         ],
         "y": [
          0.014406556349072674,
          0.3303870467944924,
          null
         ]
        },
        {
         "line": {
          "shape": "spline",
          "width": 0
         },
         "marker": {
          "color": "rgb(0.7792962127765616, 0.0244536742750332, 0.0244536742750332)"
         },
         "mode": "lines",
         "opacity": 1,
         "type": "scatter",
         "x": [
          0.6561880425959237,
          -0.6920023759347991,
          null
         ],
         "y": [
          0.014406556349072674,
          -0.42282052296431377,
          null
         ]
        },
        {
         "line": {
          "shape": "spline",
          "width": 0
         },
         "marker": {
          "color": "rgb(0.7774850785384576, 0.024195593730449882, 0.024195593730449882)"
         },
         "mode": "lines",
         "opacity": 1,
         "type": "scatter",
         "x": [
          0.6561880425959237,
          -0.08015989063624109,
          null
         ],
         "y": [
          0.014406556349072674,
          0.7311264910311921,
          null
         ]
        },
        {
         "line": {
          "shape": "spline",
          "width": 0
         },
         "marker": {
          "color": "rgb(0.7756729370237345, 0.02393852046248579, 0.02393852046248579)"
         },
         "mode": "lines",
         "opacity": 1,
         "type": "scatter",
         "x": [
          0.6561880425959237,
          -0.6161589422030441,
          null
         ],
         "y": [
          0.014406556349072674,
          -0.7336198945028887,
          null
         ]
        },
        {
         "line": {
          "shape": "spline",
          "width": 0
         },
         "marker": {
          "color": "rgb(0.7738597882323922, 0.023682454471140812, 0.023682454471140812)"
         },
         "mode": "lines",
         "opacity": 1,
         "type": "scatter",
         "x": [
          0.6561880425959237,
          0.33875119688294697,
          null
         ],
         "y": [
          0.014406556349072674,
          -0.34323648494223935,
          null
         ]
        },
        {
         "line": {
          "shape": "spline",
          "width": 0
         },
         "marker": {
          "color": "rgb(0.7720456321644309, 0.023427395756414837, 0.023427395756414837)"
         },
         "mode": "lines",
         "opacity": 1,
         "type": "scatter",
         "x": [
          0.6561880425959237,
          -0.09977344620872326,
          null
         ],
         "y": [
          0.014406556349072674,
          -0.9942196228473164,
          null
         ]
        },
        {
         "line": {
          "shape": "spline",
          "width": 0
         },
         "marker": {
          "color": "rgb(0.7702304688198505, 0.023173344318307976, 0.023173344318307976)"
         },
         "mode": "lines",
         "opacity": 1,
         "type": "scatter",
         "x": [
          0.6561880425959237,
          0.28231830546686393,
          null
         ],
         "y": [
          0.014406556349072674,
          0.6123748779823588,
          null
         ]
        },
        {
         "line": {
          "shape": "spline",
          "width": 0
         },
         "marker": {
          "color": "rgb(0.7684142981986509, 0.022920300156820228, 0.022920300156820228)"
         },
         "mode": "lines",
         "opacity": 1,
         "type": "scatter",
         "x": [
          -0.08015989063624109,
          0.042555730321677636,
          null
         ],
         "y": [
          0.7311264910311921,
          -0.6610675416957015,
          null
         ]
        },
        {
         "line": {
          "shape": "spline",
          "width": 0
         },
         "marker": {
          "color": "rgb(0.7665971203008324, 0.022668263271951483, 0.022668263271951483)"
         },
         "mode": "lines",
         "opacity": 1,
         "type": "scatter",
         "x": [
          -0.08015989063624109,
          -0.69912365053649,
          null
         ],
         "y": [
          0.7311264910311921,
          0.1776516355523447,
          null
         ]
        },
        {
         "line": {
          "shape": "spline",
          "width": 0
         },
         "marker": {
          "color": "rgb(0.7647789351263948, 0.022417233663701852, 0.022417233663701852)"
         },
         "mode": "lines",
         "opacity": 1,
         "type": "scatter",
         "x": [
          -0.08015989063624109,
          0.7840491809787309,
          null
         ],
         "y": [
          0.7311264910311921,
          -0.3124284556444398,
          null
         ]
        },
        {
         "line": {
          "shape": "spline",
          "width": 2.7
         },
         "marker": {
          "color": "rgb(0.7629597426753381, 0.022167211332071335, 0.022167211332071335)"
         },
         "mode": "lines",
         "opacity": 1,
         "type": "scatter",
         "x": [
          -0.08015989063624109,
          -0.9590383342568007,
          null
         ],
         "y": [
          0.7311264910311921,
          -0.34685763200079156,
          null
         ]
        },
        {
         "line": {
          "shape": "spline",
          "width": 0
         },
         "marker": {
          "color": "rgb(0.7611395429476623, 0.02191819627705982, 0.02191819627705982)"
         },
         "mode": "lines",
         "opacity": 1,
         "type": "scatter",
         "x": [
          -0.08015989063624109,
          0.29053802337351115,
          null
         ],
         "y": [
          0.7311264910311921,
          -0.9500247040932227,
          null
         ]
        },
        {
         "line": {
          "shape": "spline",
          "width": 0
         },
         "marker": {
          "color": "rgb(0.7593183359433674, 0.02167018849866742, 0.02167018849866742)"
         },
         "mode": "lines",
         "opacity": 1,
         "type": "scatter",
         "x": [
          -0.08015989063624109,
          -0.4347894318337367,
          null
         ],
         "y": [
          0.7311264910311921,
          -0.08023740699404934,
          null
         ]
        },
        {
         "line": {
          "shape": "spline",
          "width": 0
         },
         "marker": {
          "color": "rgb(0.7574961216624534, 0.021423187996894133, 0.021423187996894133)"
         },
         "mode": "lines",
         "opacity": 1,
         "type": "scatter",
         "x": [
          -0.08015989063624109,
          0.9999999999999999,
          null
         ],
         "y": [
          0.7311264910311921,
          -0.038985615419455194,
          null
         ]
        },
        {
         "line": {
          "shape": "spline",
          "width": 0
         },
         "marker": {
          "color": "rgb(0.7556729001049204, 0.02117719477173996, 0.02117719477173996)"
         },
         "mode": "lines",
         "opacity": 1,
         "type": "scatter",
         "x": [
          -0.08015989063624109,
          -0.88826039091796,
          null
         ],
         "y": [
          0.7311264910311921,
          0.44876525848477733,
          null
         ]
        },
        {
         "line": {
          "shape": "spline",
          "width": 0
         },
         "marker": {
          "color": "rgb(0.7538486712707683, 0.02093220882320479, 0.02093220882320479)"
         },
         "mode": "lines",
         "opacity": 1,
         "type": "scatter",
         "x": [
          -0.08015989063624109,
          0.10816920140973707,
          null
         ],
         "y": [
          0.7311264910311921,
          0.9968668463250838,
          null
         ]
        },
        {
         "line": {
          "shape": "spline",
          "width": 0
         },
         "marker": {
          "color": "rgb(0.752023435159997, 0.020688230151288733, 0.020688230151288733)"
         },
         "mode": "lines",
         "opacity": 1,
         "type": "scatter",
         "x": [
          -0.08015989063624109,
          -0.05712631865800212,
          null
         ],
         "y": [
          0.7311264910311921,
          0.3303870467944924,
          null
         ]
        },
        {
         "line": {
          "shape": "spline",
          "width": 4.4
         },
         "marker": {
          "color": "rgb(0.7501971917726067, 0.02044525875599179, 0.02044525875599179)"
         },
         "mode": "lines",
         "opacity": 1,
         "type": "scatter",
         "x": [
          -0.08015989063624109,
          -0.6920023759347991,
          null
         ],
         "y": [
          0.7311264910311921,
          -0.42282052296431377,
          null
         ]
        },
        {
         "line": {
          "shape": "spline",
          "width": 0
         },
         "marker": {
          "color": "rgb(0.7483699411085973, 0.02020329463731385, 0.02020329463731385)"
         },
         "mode": "lines",
         "opacity": 1,
         "type": "scatter",
         "x": [
          -0.08015989063624109,
          0.33875119688294697,
          null
         ],
         "y": [
          0.7311264910311921,
          -0.34323648494223935,
          null
         ]
        },
        {
         "line": {
          "shape": "spline",
          "width": 0
         },
         "marker": {
          "color": "rgb(0.746541683167969, 0.019962337795255025, 0.019962337795255025)"
         },
         "mode": "lines",
         "opacity": 1,
         "type": "scatter",
         "x": [
          -0.08015989063624109,
          -0.09977344620872326,
          null
         ],
         "y": [
          0.7311264910311921,
          -0.9942196228473164,
          null
         ]
        },
        {
         "line": {
          "shape": "spline",
          "width": 0
         },
         "marker": {
          "color": "rgb(0.7447124179507214, 0.019722388229815313, 0.019722388229815313)"
         },
         "mode": "lines",
         "opacity": 1,
         "type": "scatter",
         "x": [
          -0.08015989063624109,
          0.28231830546686393,
          null
         ],
         "y": [
          0.7311264910311921,
          0.6123748779823588,
          null
         ]
        },
        {
         "line": {
          "shape": "spline",
          "width": 6.3
         },
         "marker": {
          "color": "rgb(0.7428821454568548, 0.019483445940994604, 0.019483445940994604)"
         },
         "mode": "lines",
         "opacity": 1,
         "type": "scatter",
         "x": [
          -0.08015989063624109,
          -0.6161589422030441,
          null
         ],
         "y": [
          0.7311264910311921,
          -0.7336198945028887,
          null
         ]
        },
        {
         "line": {
          "shape": "spline",
          "width": 7.1
         },
         "marker": {
          "color": "rgb(0.7410508656863691, 0.019245510928793008, 0.019245510928793008)"
         },
         "mode": "lines",
         "opacity": 1,
         "type": "scatter",
         "x": [
          -0.6161589422030441,
          0.042555730321677636,
          null
         ],
         "y": [
          -0.7336198945028887,
          -0.6610675416957015,
          null
         ]
        },
        {
         "line": {
          "shape": "spline",
          "width": 0
         },
         "marker": {
          "color": "rgb(0.7392185786392643, 0.019008583193210526, 0.019008583193210526)"
         },
         "mode": "lines",
         "opacity": 1,
         "type": "scatter",
         "x": [
          -0.6161589422030441,
          -0.69912365053649,
          null
         ],
         "y": [
          -0.7336198945028887,
          0.1776516355523447,
          null
         ]
        },
        {
         "line": {
          "shape": "spline",
          "width": 3.2
         },
         "marker": {
          "color": "rgb(0.7373852843155406, 0.018772662734247048, 0.018772662734247048)"
         },
         "mode": "lines",
         "opacity": 1,
         "type": "scatter",
         "x": [
          -0.6161589422030441,
          0.7840491809787309,
          null
         ],
         "y": [
          -0.7336198945028887,
          -0.3124284556444398,
          null
         ]
        },
        {
         "line": {
          "shape": "spline",
          "width": 8.5
         },
         "marker": {
          "color": "rgb(0.7355509827151977, 0.018537749551902682, 0.018537749551902682)"
         },
         "mode": "lines",
         "opacity": 1,
         "type": "scatter",
         "x": [
          -0.6161589422030441,
          -0.9590383342568007,
          null
         ],
         "y": [
          -0.7336198945028887,
          -0.34685763200079156,
          null
         ]
        },
        {
         "line": {
          "shape": "spline",
          "width": 6.7
         },
         "marker": {
          "color": "rgb(0.7337156738382357, 0.01830384364617743, 0.01830384364617743)"
         },
         "mode": "lines",
         "opacity": 1,
         "type": "scatter",
         "x": [
          -0.6161589422030441,
          0.29053802337351115,
          null
         ],
         "y": [
          -0.7336198945028887,
          -0.9500247040932227,
          null
         ]
        },
        {
         "line": {
          "shape": "spline",
          "width": 0
         },
         "marker": {
          "color": "rgb(0.7318793576846546, 0.018070945017071183, 0.018070945017071183)"
         },
         "mode": "lines",
         "opacity": 1,
         "type": "scatter",
         "x": [
          -0.6161589422030441,
          -0.4347894318337367,
          null
         ],
         "y": [
          -0.7336198945028887,
          -0.08023740699404934,
          null
         ]
        },
        {
         "line": {
          "shape": "spline",
          "width": 6.7
         },
         "marker": {
          "color": "rgb(0.7300420342544545, 0.017839053664584048, 0.017839053664584048)"
         },
         "mode": "lines",
         "opacity": 1,
         "type": "scatter",
         "x": [
          -0.6161589422030441,
          0.9999999999999999,
          null
         ],
         "y": [
          -0.7336198945028887,
          -0.038985615419455194,
          null
         ]
        },
        {
         "line": {
          "shape": "spline",
          "width": 3.2
         },
         "marker": {
          "color": "rgb(0.7282037035476353, 0.017608169588716027, 0.017608169588716027)"
         },
         "mode": "lines",
         "opacity": 1,
         "type": "scatter",
         "x": [
          -0.6161589422030441,
          -0.88826039091796,
          null
         ],
         "y": [
          -0.7336198945028887,
          0.44876525848477733,
          null
         ]
        },
        {
         "line": {
          "shape": "spline",
          "width": 6.3
         },
         "marker": {
          "color": "rgb(0.7263643655641969, 0.01737829278946712, 0.01737829278946712)"
         },
         "mode": "lines",
         "opacity": 1,
         "type": "scatter",
         "x": [
          -0.6161589422030441,
          0.10816920140973707,
          null
         ],
         "y": [
          -0.7336198945028887,
          0.9968668463250838,
          null
         ]
        },
        {
         "line": {
          "shape": "spline",
          "width": 0
         },
         "marker": {
          "color": "rgb(0.7245240203041396, 0.017149423266837105, 0.017149423266837105)"
         },
         "mode": "lines",
         "opacity": 1,
         "type": "scatter",
         "x": [
          -0.6161589422030441,
          -0.05712631865800212,
          null
         ],
         "y": [
          -0.7336198945028887,
          0.3303870467944924,
          null
         ]
        },
        {
         "line": {
          "shape": "spline",
          "width": 8.299999999999999
         },
         "marker": {
          "color": "rgb(0.7226826677674631, 0.016921561020826315, 0.016921561020826315)"
         },
         "mode": "lines",
         "opacity": 1,
         "type": "scatter",
         "x": [
          -0.6161589422030441,
          -0.6920023759347991,
          null
         ],
         "y": [
          -0.7336198945028887,
          -0.42282052296431377,
          null
         ]
        },
        {
         "line": {
          "shape": "spline",
          "width": 0
         },
         "marker": {
          "color": "rgb(0.7208403079541675, 0.016694706051434638, 0.016694706051434638)"
         },
         "mode": "lines",
         "opacity": 1,
         "type": "scatter",
         "x": [
          -0.6161589422030441,
          0.33875119688294697,
          null
         ],
         "y": [
          -0.7336198945028887,
          -0.34323648494223935,
          null
         ]
        },
        {
         "line": {
          "shape": "spline",
          "width": 0
         },
         "marker": {
          "color": "rgb(0.7189969408642529, 0.016468858358661964, 0.016468858358661964)"
         },
         "mode": "lines",
         "opacity": 1,
         "type": "scatter",
         "x": [
          -0.6161589422030441,
          -0.09977344620872326,
          null
         ],
         "y": [
          -0.7336198945028887,
          -0.9942196228473164,
          null
         ]
        },
        {
         "line": {
          "shape": "spline",
          "width": 0
         },
         "marker": {
          "color": "rgb(0.7171525664977193, 0.016244017942508404, 0.016244017942508404)"
         },
         "mode": "lines",
         "opacity": 1,
         "type": "scatter",
         "x": [
          -0.6161589422030441,
          0.28231830546686393,
          null
         ],
         "y": [
          -0.7336198945028887,
          0.6123748779823588,
          null
         ]
        },
        {
         "line": {
          "shape": "spline",
          "width": 0
         },
         "marker": {
          "color": "rgb(0.7153071848545665, 0.016020184802973958, 0.016020184802973958)"
         },
         "mode": "lines",
         "opacity": 1,
         "type": "scatter",
         "x": [
          0.042555730321677636,
          -0.69912365053649,
          null
         ],
         "y": [
          -0.6610675416957015,
          0.1776516355523447,
          null
         ]
        },
        {
         "line": {
          "shape": "spline",
          "width": 4.5
         },
         "marker": {
          "color": "rgb(0.7134607959347946, 0.015797358940058515, 0.015797358940058515)"
         },
         "mode": "lines",
         "opacity": 1,
         "type": "scatter",
         "x": [
          0.042555730321677636,
          0.7840491809787309,
          null
         ],
         "y": [
          -0.6610675416957015,
          -0.3124284556444398,
          null
         ]
        },
        {
         "line": {
          "shape": "spline",
          "width": 9.5
         },
         "marker": {
          "color": "rgb(0.7116133997384037, 0.015575540353762185, 0.015575540353762185)"
         },
         "mode": "lines",
         "opacity": 1,
         "type": "scatter",
         "x": [
          0.042555730321677636,
          0.29053802337351115,
          null
         ],
         "y": [
          -0.6610675416957015,
          -0.9500247040932227,
          null
         ]
        },
        {
         "line": {
          "shape": "spline",
          "width": 0
         },
         "marker": {
          "color": "rgb(0.7097649962653936, 0.01535472904408497, 0.01535472904408497)"
         },
         "mode": "lines",
         "opacity": 1,
         "type": "scatter",
         "x": [
          0.042555730321677636,
          -0.4347894318337367,
          null
         ],
         "y": [
          -0.6610675416957015,
          -0.08023740699404934,
          null
         ]
        },
        {
         "line": {
          "shape": "spline",
          "width": 4.5
         },
         "marker": {
          "color": "rgb(0.7079155855157645, 0.015134925011026867, 0.015134925011026867)"
         },
         "mode": "lines",
         "opacity": 1,
         "type": "scatter",
         "x": [
          0.042555730321677636,
          -0.88826039091796,
          null
         ],
         "y": [
          -0.6610675416957015,
          0.44876525848477733,
          null
         ]
        },
        {
         "line": {
          "shape": "spline",
          "width": 8.9
         },
         "marker": {
          "color": "rgb(0.7060651674895163, 0.014916128254587768, 0.014916128254587768)"
         },
         "mode": "lines",
         "opacity": 1,
         "type": "scatter",
         "x": [
          0.042555730321677636,
          0.10816920140973707,
          null
         ],
         "y": [
          -0.6610675416957015,
          0.9968668463250838,
          null
         ]
        },
        {
         "line": {
          "shape": "spline",
          "width": 0
         },
         "marker": {
          "color": "rgb(0.704213742186649, 0.014698338774767783, 0.014698338774767783)"
         },
         "mode": "lines",
         "opacity": 1,
         "type": "scatter",
         "x": [
          0.042555730321677636,
          -0.05712631865800212,
          null
         ],
         "y": [
          -0.6610675416957015,
          0.3303870467944924,
          null
         ]
        },
        {
         "line": {
          "shape": "spline",
          "width": 7.800000000000001
         },
         "marker": {
          "color": "rgb(0.7023613096071627, 0.0144815565715668, 0.0144815565715668)"
         },
         "mode": "lines",
         "opacity": 1,
         "type": "scatter",
         "x": [
          0.042555730321677636,
          -0.6920023759347991,
          null
         ],
         "y": [
          -0.6610675416957015,
          -0.42282052296431377,
          null
         ]
        },
        {
         "line": {
          "shape": "spline",
          "width": 0
         },
         "marker": {
          "color": "rgb(0.7005078697510573, 0.014265781644984932, 0.014265781644984932)"
         },
         "mode": "lines",
         "opacity": 1,
         "type": "scatter",
         "x": [
          0.042555730321677636,
          0.33875119688294697,
          null
         ],
         "y": [
          -0.6610675416957015,
          -0.34323648494223935,
          null
         ]
        },
        {
         "line": {
          "shape": "spline",
          "width": 0
         },
         "marker": {
          "color": "rgb(0.6986534226183329, 0.014051013995022177, 0.014051013995022177)"
         },
         "mode": "lines",
         "opacity": 1,
         "type": "scatter",
         "x": [
          0.042555730321677636,
          -0.09977344620872326,
          null
         ],
         "y": [
          -0.6610675416957015,
          -0.9942196228473164,
          null
         ]
        },
        {
         "line": {
          "shape": "spline",
          "width": 0
         },
         "marker": {
          "color": "rgb(0.6967979682089893, 0.013837253621678425, 0.013837253621678425)"
         },
         "mode": "lines",
         "opacity": 1,
         "type": "scatter",
         "x": [
          0.042555730321677636,
          0.28231830546686393,
          null
         ],
         "y": [
          -0.6610675416957015,
          0.6123748779823588,
          null
         ]
        },
        {
         "line": {
          "shape": "spline",
          "width": 9.6
         },
         "marker": {
          "color": "rgb(0.6949415065230266, 0.013624500524953898, 0.013624500524953898)"
         },
         "mode": "lines",
         "opacity": 1,
         "type": "scatter",
         "x": [
          0.042555730321677636,
          -0.9590383342568007,
          null
         ],
         "y": [
          -0.6610675416957015,
          -0.34685763200079156,
          null
         ]
        },
        {
         "line": {
          "shape": "spline",
          "width": 8.9
         },
         "marker": {
          "color": "rgb(0.6930840375604448, 0.013412754704848373, 0.013412754704848373)"
         },
         "mode": "lines",
         "opacity": 1,
         "type": "scatter",
         "x": [
          0.042555730321677636,
          0.9999999999999999,
          null
         ],
         "y": [
          -0.6610675416957015,
          -0.038985615419455194,
          null
         ]
        },
        {
         "line": {
          "shape": "spline",
          "width": 0
         },
         "marker": {
          "color": "rgb(0.691225561321244, 0.013202016161361851, 0.013202016161361851)"
         },
         "mode": "lines",
         "opacity": 1,
         "type": "scatter",
         "x": [
          -0.69912365053649,
          0.29053802337351115,
          null
         ],
         "y": [
          0.1776516355523447,
          -0.9500247040932227,
          null
         ]
        },
        {
         "line": {
          "shape": "spline",
          "width": 0
         },
         "marker": {
          "color": "rgb(0.6893660778054241, 0.012992284894494555, 0.012992284894494555)"
         },
         "mode": "lines",
         "opacity": 1,
         "type": "scatter",
         "x": [
          -0.69912365053649,
          0.10816920140973707,
          null
         ],
         "y": [
          0.1776516355523447,
          0.9968668463250838,
          null
         ]
        },
        {
         "line": {
          "shape": "spline",
          "width": 0
         },
         "marker": {
          "color": "rgb(0.6875055870129851, 0.01278356090424626, 0.01278356090424626)"
         },
         "mode": "lines",
         "opacity": 1,
         "type": "scatter",
         "x": [
          -0.69912365053649,
          -0.05712631865800212,
          null
         ],
         "y": [
          0.1776516355523447,
          0.3303870467944924,
          null
         ]
        },
        {
         "line": {
          "shape": "spline",
          "width": 0
         },
         "marker": {
          "color": "rgb(0.6856440889439271, 0.01257584419061697, 0.01257584419061697)"
         },
         "mode": "lines",
         "opacity": 1,
         "type": "scatter",
         "x": [
          -0.69912365053649,
          -0.6920023759347991,
          null
         ],
         "y": [
          0.1776516355523447,
          -0.42282052296431377,
          null
         ]
        },
        {
         "line": {
          "shape": "spline",
          "width": 0
         },
         "marker": {
          "color": "rgb(0.68378158359825, 0.012369134753606792, 0.012369134753606792)"
         },
         "mode": "lines",
         "opacity": 1,
         "type": "scatter",
         "x": [
          -0.69912365053649,
          0.7840491809787309,
          null
         ],
         "y": [
          0.1776516355523447,
          -0.3124284556444398,
          null
         ]
        },
        {
         "line": {
          "shape": "spline",
          "width": 0
         },
         "marker": {
          "color": "rgb(0.6819180709759538, 0.012163432593215728, 0.012163432593215728)"
         },
         "mode": "lines",
         "opacity": 1,
         "type": "scatter",
         "x": [
          -0.69912365053649,
          -0.9590383342568007,
          null
         ],
         "y": [
          0.1776516355523447,
          -0.34685763200079156,
          null
         ]
        },
        {
         "line": {
          "shape": "spline",
          "width": 0
         },
         "marker": {
          "color": "rgb(0.6800535510770385, 0.011958737709443779, 0.011958737709443779)"
         },
         "mode": "lines",
         "opacity": 1,
         "type": "scatter",
         "x": [
          -0.69912365053649,
          -0.4347894318337367,
          null
         ],
         "y": [
          0.1776516355523447,
          -0.08023740699404934,
          null
         ]
        },
        {
         "line": {
          "shape": "spline",
          "width": 0
         },
         "marker": {
          "color": "rgb(0.6781880239015041, 0.011755050102290943, 0.011755050102290943)"
         },
         "mode": "lines",
         "opacity": 1,
         "type": "scatter",
         "x": [
          -0.69912365053649,
          0.9999999999999999,
          null
         ],
         "y": [
          0.1776516355523447,
          -0.038985615419455194,
          null
         ]
        },
        {
         "line": {
          "shape": "spline",
          "width": 0
         },
         "marker": {
          "color": "rgb(0.6763214894493507, 0.01155236977175711, 0.01155236977175711)"
         },
         "mode": "lines",
         "opacity": 1,
         "type": "scatter",
         "x": [
          -0.69912365053649,
          -0.88826039091796,
          null
         ],
         "y": [
          0.1776516355523447,
          0.44876525848477733,
          null
         ]
        },
        {
         "line": {
          "shape": "spline",
          "width": 0
         },
         "marker": {
          "color": "rgb(0.6744539477205781, 0.01135069671784239, 0.01135069671784239)"
         },
         "mode": "lines",
         "opacity": 1,
         "type": "scatter",
         "x": [
          -0.69912365053649,
          0.33875119688294697,
          null
         ],
         "y": [
          0.1776516355523447,
          -0.34323648494223935,
          null
         ]
        },
        {
         "line": {
          "shape": "spline",
          "width": 0
         },
         "marker": {
          "color": "rgb(0.6725853987151865, 0.011150030940546674, 0.011150030940546674)"
         },
         "mode": "lines",
         "opacity": 1,
         "type": "scatter",
         "x": [
          -0.69912365053649,
          -0.09977344620872326,
          null
         ],
         "y": [
          0.1776516355523447,
          -0.9942196228473164,
          null
         ]
        },
        {
         "line": {
          "shape": "spline",
          "width": 0
         },
         "marker": {
          "color": "rgb(0.6707158424331758, 0.01095037243987007, 0.01095037243987007)"
         },
         "mode": "lines",
         "opacity": 1,
         "type": "scatter",
         "x": [
          -0.69912365053649,
          0.28231830546686393,
          null
         ],
         "y": [
          0.1776516355523447,
          0.6123748779823588,
          null
         ]
        },
        {
         "line": {
          "shape": "spline",
          "width": 7.1
         },
         "marker": {
          "color": "rgb(0.6688452788745461, 0.010751721215812582, 0.010751721215812582)"
         },
         "mode": "lines",
         "opacity": 1,
         "type": "scatter",
         "x": [
          0.7840491809787309,
          0.29053802337351115,
          null
         ],
         "y": [
          -0.3124284556444398,
          -0.9500247040932227,
          null
         ]
        },
        {
         "line": {
          "shape": "spline",
          "width": 10
         },
         "marker": {
          "color": "rgb(0.6669737080392972, 0.010554077268374207, 0.010554077268374207)"
         },
         "mode": "lines",
         "opacity": 1,
         "type": "scatter",
         "x": [
          0.7840491809787309,
          -0.88826039091796,
          null
         ],
         "y": [
          -0.3124284556444398,
          0.44876525848477733,
          null
         ]
        },
        {
         "line": {
          "shape": "spline",
          "width": 0
         },
         "marker": {
          "color": "rgb(0.6651011299274293, 0.010357440597554834, 0.010357440597554834)"
         },
         "mode": "lines",
         "opacity": 1,
         "type": "scatter",
         "x": [
          0.7840491809787309,
          0.10816920140973707,
          null
         ],
         "y": [
          -0.3124284556444398,
          0.9968668463250838,
          null
         ]
        },
        {
         "line": {
          "shape": "spline",
          "width": 0
         },
         "marker": {
          "color": "rgb(0.6632275445389423, 0.010161811203354576, 0.010161811203354576)"
         },
         "mode": "lines",
         "opacity": 1,
         "type": "scatter",
         "x": [
          0.7840491809787309,
          -0.05712631865800212,
          null
         ],
         "y": [
          -0.3124284556444398,
          0.3303870467944924,
          null
         ]
        },
        {
         "line": {
          "shape": "spline",
          "width": 0
         },
         "marker": {
          "color": "rgb(0.6613529518738361, 0.009967189085773431, 0.009967189085773431)"
         },
         "mode": "lines",
         "opacity": 1,
         "type": "scatter",
         "x": [
          0.7840491809787309,
          -0.6920023759347991,
          null
         ],
         "y": [
          -0.3124284556444398,
          -0.42282052296431377,
          null
         ]
        },
        {
         "line": {
          "shape": "spline",
          "width": 0
         },
         "marker": {
          "color": "rgb(0.6594773519321111, 0.00977357424481129, 0.00977357424481129)"
         },
         "mode": "lines",
         "opacity": 1,
         "type": "scatter",
         "x": [
          0.7840491809787309,
          0.33875119688294697,
          null
         ],
         "y": [
          -0.3124284556444398,
          -0.34323648494223935,
          null
         ]
        },
        {
         "line": {
          "shape": "spline",
          "width": 0
         },
         "marker": {
          "color": "rgb(0.6576007447137668, 0.009580966680468261, 0.009580966680468261)"
         },
         "mode": "lines",
         "opacity": 1,
         "type": "scatter",
         "x": [
          0.7840491809787309,
          -0.09977344620872326,
          null
         ],
         "y": [
          -0.3124284556444398,
          -0.9942196228473164,
          null
         ]
        },
        {
         "line": {
          "shape": "spline",
          "width": 0
         },
         "marker": {
          "color": "rgb(0.6557231302188035, 0.009389366392744347, 0.009389366392744347)"
         },
         "mode": "lines",
         "opacity": 1,
         "type": "scatter",
         "x": [
          0.7840491809787309,
          0.28231830546686393,
          null
         ],
         "y": [
          -0.3124284556444398,
          0.6123748779823588,
          null
         ]
        },
        {
         "line": {
          "shape": "spline",
          "width": 5.300000000000001
         },
         "marker": {
          "color": "rgb(0.6538445084472211, 0.009198773381639436, 0.009198773381639436)"
         },
         "mode": "lines",
         "opacity": 1,
         "type": "scatter",
         "x": [
          0.7840491809787309,
          -0.9590383342568007,
          null
         ],
         "y": [
          -0.3124284556444398,
          -0.34685763200079156,
          null
         ]
        },
        {
         "line": {
          "shape": "spline",
          "width": 0
         },
         "marker": {
          "color": "rgb(0.6519648793990196, 0.009009187647153638, 0.009009187647153638)"
         },
         "mode": "lines",
         "opacity": 1,
         "type": "scatter",
         "x": [
          0.7840491809787309,
          -0.4347894318337367,
          null
         ],
         "y": [
          -0.3124284556444398,
          -0.08023740699404934,
          null
         ]
        },
        {
         "line": {
          "shape": "spline",
          "width": 0
         },
         "marker": {
          "color": "rgb(0.6500842430741991, 0.008820609189286954, 0.008820609189286954)"
         },
         "mode": "lines",
         "opacity": 1,
         "type": "scatter",
         "x": [
          0.7840491809787309,
          0.9999999999999999,
          null
         ],
         "y": [
          -0.3124284556444398,
          -0.038985615419455194,
          null
         ]
        },
        {
         "line": {
          "shape": "spline",
          "width": 9.399999999999999
         },
         "marker": {
          "color": "rgb(0.6482025994727595, 0.008633038008039273, 0.008633038008039273)"
         },
         "mode": "lines",
         "opacity": 1,
         "type": "scatter",
         "x": [
          0.29053802337351115,
          -0.9590383342568007,
          null
         ],
         "y": [
          -0.9500247040932227,
          -0.34685763200079156,
          null
         ]
        },
        {
         "line": {
          "shape": "spline",
          "width": 7.1
         },
         "marker": {
          "color": "rgb(0.6463199485947007, 0.008446474103410817, 0.008446474103410817)"
         },
         "mode": "lines",
         "opacity": 1,
         "type": "scatter",
         "x": [
          0.29053802337351115,
          0.10816920140973707,
          null
         ],
         "y": [
          -0.9500247040932227,
          0.9968668463250838,
          null
         ]
        },
        {
         "line": {
          "shape": "spline",
          "width": 0
         },
         "marker": {
          "color": "rgb(0.6444362904400228, 0.008260917475401364, 0.008260917475401364)"
         },
         "mode": "lines",
         "opacity": 1,
         "type": "scatter",
         "x": [
          0.29053802337351115,
          -0.05712631865800212,
          null
         ],
         "y": [
          -0.9500247040932227,
          0.3303870467944924,
          null
         ]
        },
        {
         "line": {
          "shape": "spline",
          "width": 6.2
         },
         "marker": {
          "color": "rgb(0.6425516250087261, 0.008076368124010802, 0.008076368124010802)"
         },
         "mode": "lines",
         "opacity": 1,
         "type": "scatter",
         "x": [
          0.29053802337351115,
          -0.6920023759347991,
          null
         ],
         "y": [
          -0.9500247040932227,
          -0.42282052296431377,
          null
         ]
        },
        {
         "line": {
          "shape": "spline",
          "width": 0
         },
         "marker": {
          "color": "rgb(0.6406659523008101, 0.007892826049239576, 0.007892826049239576)"
         },
         "mode": "lines",
         "opacity": 1,
         "type": "scatter",
         "x": [
          0.29053802337351115,
          -0.4347894318337367,
          null
         ],
         "y": [
          -0.9500247040932227,
          -0.08023740699404934,
          null
         ]
        },
        {
         "line": {
          "shape": "spline",
          "width": 7
         },
         "marker": {
          "color": "rgb(0.6387792723162751, 0.007710291251087353, 0.007710291251087353)"
         },
         "mode": "lines",
         "opacity": 1,
         "type": "scatter",
         "x": [
          0.29053802337351115,
          0.9999999999999999,
          null
         ],
         "y": [
          -0.9500247040932227,
          -0.038985615419455194,
          null
         ]
        },
        {
         "line": {
          "shape": "spline",
          "width": 7.1
         },
         "marker": {
          "color": "rgb(0.636891585055121, 0.007528763729554133, 0.007528763729554133)"
         },
         "mode": "lines",
         "opacity": 1,
         "type": "scatter",
         "x": [
          0.29053802337351115,
          -0.88826039091796,
          null
         ],
         "y": [
          -0.9500247040932227,
          0.44876525848477733,
          null
         ]
        },
        {
         "line": {
          "shape": "spline",
          "width": 0
         },
         "marker": {
          "color": "rgb(0.6350028905173477, 0.007348243484640138, 0.007348243484640138)"
         },
         "mode": "lines",
         "opacity": 1,
         "type": "scatter",
         "x": [
          0.29053802337351115,
          0.33875119688294697,
          null
         ],
         "y": [
          -0.9500247040932227,
          -0.34323648494223935,
          null
         ]
        },
        {
         "line": {
          "shape": "spline",
          "width": 0
         },
         "marker": {
          "color": "rgb(0.6331131887029554, 0.007168730516345145, 0.007168730516345145)"
         },
         "mode": "lines",
         "opacity": 1,
         "type": "scatter",
         "x": [
          0.29053802337351115,
          -0.09977344620872326,
          null
         ],
         "y": [
          -0.9500247040932227,
          -0.9942196228473164,
          null
         ]
        },
        {
         "line": {
          "shape": "spline",
          "width": 0
         },
         "marker": {
          "color": "rgb(0.6312224796119441, 0.006990224824669156, 0.006990224824669156)"
         },
         "mode": "lines",
         "opacity": 1,
         "type": "scatter",
         "x": [
          0.29053802337351115,
          0.28231830546686393,
          null
         ],
         "y": [
          -0.9500247040932227,
          0.6123748779823588,
          null
         ]
        },
        {
         "line": {
          "shape": "spline",
          "width": 0
         },
         "marker": {
          "color": "rgb(0.6293307632443137, 0.006812726409612391, 0.006812726409612391)"
         },
         "mode": "lines",
         "opacity": 1,
         "type": "scatter",
         "x": [
          -0.4347894318337367,
          -0.9590383342568007,
          null
         ],
         "y": [
          -0.08023740699404934,
          -0.34685763200079156,
          null
         ]
        },
        {
         "line": {
          "shape": "spline",
          "width": 0
         },
         "marker": {
          "color": "rgb(0.6274380396000642, 0.006636235271174629, 0.006636235271174629)"
         },
         "mode": "lines",
         "opacity": 1,
         "type": "scatter",
         "x": [
          -0.4347894318337367,
          -0.88826039091796,
          null
         ],
         "y": [
          -0.08023740699404934,
          0.44876525848477733,
          null
         ]
        },
        {
         "line": {
          "shape": "spline",
          "width": 0
         },
         "marker": {
          "color": "rgb(0.6255443086791955, 0.00646075140935598, 0.00646075140935598)"
         },
         "mode": "lines",
         "opacity": 1,
         "type": "scatter",
         "x": [
          -0.4347894318337367,
          0.10816920140973707,
          null
         ],
         "y": [
          -0.08023740699404934,
          0.9968668463250838,
          null
         ]
        },
        {
         "line": {
          "shape": "spline",
          "width": 0
         },
         "marker": {
          "color": "rgb(0.6236495704817079, 0.006286274824156335, 0.006286274824156335)"
         },
         "mode": "lines",
         "opacity": 1,
         "type": "scatter",
         "x": [
          -0.4347894318337367,
          -0.05712631865800212,
          null
         ],
         "y": [
          -0.08023740699404934,
          0.3303870467944924,
          null
         ]
        },
        {
         "line": {
          "shape": "spline",
          "width": 0
         },
         "marker": {
          "color": "rgb(0.6217538250076011, 0.006112805515575803, 0.006112805515575803)"
         },
         "mode": "lines",
         "opacity": 1,
         "type": "scatter",
         "x": [
          -0.4347894318337367,
          -0.6920023759347991,
          null
         ],
         "y": [
          -0.08023740699404934,
          -0.42282052296431377,
          null
         ]
        },
        {
         "line": {
          "shape": "spline",
          "width": 0
         },
         "marker": {
          "color": "rgb(0.6198570722568754, 0.005940343483614385, 0.005940343483614385)"
         },
         "mode": "lines",
         "opacity": 1,
         "type": "scatter",
         "x": [
          -0.4347894318337367,
          0.33875119688294697,
          null
         ],
         "y": [
          -0.08023740699404934,
          -0.34323648494223935,
          null
         ]
        },
        {
         "line": {
          "shape": "spline",
          "width": 0
         },
         "marker": {
          "color": "rgb(0.6179593122295304, 0.005768888728272081, 0.005768888728272081)"
         },
         "mode": "lines",
         "opacity": 1,
         "type": "scatter",
         "x": [
          -0.4347894318337367,
          -0.09977344620872326,
          null
         ],
         "y": [
          -0.08023740699404934,
          -0.9942196228473164,
          null
         ]
        },
        {
         "line": {
          "shape": "spline",
          "width": 0
         },
         "marker": {
          "color": "rgb(0.6160605449255664, 0.00559844124954878, 0.00559844124954878)"
         },
         "mode": "lines",
         "opacity": 1,
         "type": "scatter",
         "x": [
          -0.4347894318337367,
          0.28231830546686393,
          null
         ],
         "y": [
          -0.08023740699404934,
          0.6123748779823588,
          null
         ]
        },
        {
         "line": {
          "shape": "spline",
          "width": 0
         },
         "marker": {
          "color": "rgb(0.6141607703449834, 0.005429001047444482, 0.005429001047444482)"
         },
         "mode": "lines",
         "opacity": 1,
         "type": "scatter",
         "x": [
          -0.4347894318337367,
          0.9999999999999999,
          null
         ],
         "y": [
          -0.08023740699404934,
          -0.038985615419455194,
          null
         ]
        },
        {
         "line": {
          "shape": "spline",
          "width": 5.300000000000001
         },
         "marker": {
          "color": "rgb(0.6122599884877812, 0.005260568121959408, 0.005260568121959408)"
         },
         "mode": "lines",
         "opacity": 1,
         "type": "scatter",
         "x": [
          -0.88826039091796,
          -0.9590383342568007,
          null
         ],
         "y": [
          0.44876525848477733,
          -0.34685763200079156,
          null
         ]
        },
        {
         "line": {
          "shape": "spline",
          "width": 0
         },
         "marker": {
          "color": "rgb(0.6103581993539601, 0.005093142473093337, 0.005093142473093337)"
         },
         "mode": "lines",
         "opacity": 1,
         "type": "scatter",
         "x": [
          -0.88826039091796,
          0.9999999999999999,
          null
         ],
         "y": [
          0.44876525848477733,
          -0.038985615419455194,
          null
         ]
        },
        {
         "line": {
          "shape": "spline",
          "width": 0
         },
         "marker": {
          "color": "rgb(0.6084554029435197, 0.00492672410084638, 0.00492672410084638)"
         },
         "mode": "lines",
         "opacity": 1,
         "type": "scatter",
         "x": [
          -0.88826039091796,
          0.10816920140973707,
          null
         ],
         "y": [
          0.44876525848477733,
          0.9968668463250838,
          null
         ]
        },
        {
         "line": {
          "shape": "spline",
          "width": 0
         },
         "marker": {
          "color": "rgb(0.6065515992564603, 0.004761313005218537, 0.004761313005218537)"
         },
         "mode": "lines",
         "opacity": 1,
         "type": "scatter",
         "x": [
          -0.88826039091796,
          -0.05712631865800212,
          null
         ],
         "y": [
          0.44876525848477733,
          0.3303870467944924,
          null
         ]
        },
        {
         "line": {
          "shape": "spline",
          "width": 0
         },
         "marker": {
          "color": "rgb(0.6046467882927818, 0.004596909186209697, 0.004596909186209697)"
         },
         "mode": "lines",
         "opacity": 1,
         "type": "scatter",
         "x": [
          -0.88826039091796,
          -0.6920023759347991,
          null
         ],
         "y": [
          0.44876525848477733,
          -0.42282052296431377,
          null
         ]
        },
        {
         "line": {
          "shape": "spline",
          "width": 0
         },
         "marker": {
          "color": "rgb(0.6027409700524843, 0.00443351264381997, 0.00443351264381997)"
         },
         "mode": "lines",
         "opacity": 1,
         "type": "scatter",
         "x": [
          -0.88826039091796,
          0.33875119688294697,
          null
         ],
         "y": [
          0.44876525848477733,
          -0.34323648494223935,
          null
         ]
        },
        {
         "line": {
          "shape": "spline",
          "width": 0
         },
         "marker": {
          "color": "rgb(0.6008341445355678, 0.004271123378049246, 0.004271123378049246)"
         },
         "mode": "lines",
         "opacity": 1,
         "type": "scatter",
         "x": [
          -0.88826039091796,
          -0.09977344620872326,
          null
         ],
         "y": [
          0.44876525848477733,
          -0.9942196228473164,
          null
         ]
        },
        {
         "line": {
          "shape": "spline",
          "width": 0
         },
         "marker": {
          "color": "rgb(0.598926311742032, 0.004109741388897747, 0.004109741388897747)"
         },
         "mode": "lines",
         "opacity": 1,
         "type": "scatter",
         "x": [
          -0.88826039091796,
          0.28231830546686393,
          null
         ],
         "y": [
          0.44876525848477733,
          0.6123748779823588,
          null
         ]
        },
        {
         "line": {
          "shape": "spline",
          "width": 8
         },
         "marker": {
          "color": "rgb(0.5970174716718772, 0.003949366676365251, 0.003949366676365251)"
         },
         "mode": "lines",
         "opacity": 1,
         "type": "scatter",
         "x": [
          0.10816920140973707,
          -0.9590383342568007,
          null
         ],
         "y": [
          0.9968668463250838,
          -0.34685763200079156,
          null
         ]
        },
        {
         "line": {
          "shape": "spline",
          "width": 9.9
         },
         "marker": {
          "color": "rgb(0.5951076243251033, 0.003789999240451869, 0.003789999240451869)"
         },
         "mode": "lines",
         "opacity": 1,
         "type": "scatter",
         "x": [
          0.10816920140973707,
          0.9999999999999999,
          null
         ],
         "y": [
          0.9968668463250838,
          -0.038985615419455194,
          null
         ]
        },
        {
         "line": {
          "shape": "spline",
          "width": 0
         },
         "marker": {
          "color": "rgb(0.5931967697017104, 0.0036316390811574895, 0.0036316390811574895)"
         },
         "mode": "lines",
         "opacity": 1,
         "type": "scatter",
         "x": [
          0.10816920140973707,
          -0.05712631865800212,
          null
         ],
         "y": [
          0.9968668463250838,
          0.3303870467944924,
          null
         ]
        },
        {
         "line": {
          "shape": "spline",
          "width": 8.7
         },
         "marker": {
          "color": "rgb(0.5912849078016984, 0.0034742861984822238, 0.0034742861984822238)"
         },
         "mode": "lines",
         "opacity": 1,
         "type": "scatter",
         "x": [
          0.10816920140973707,
          -0.6920023759347991,
          null
         ],
         "y": [
          0.9968668463250838,
          -0.42282052296431377,
          null
         ]
        },
        {
         "line": {
          "shape": "spline",
          "width": 0
         },
         "marker": {
          "color": "rgb(0.5893720386250674, 0.003317940592426072, 0.003317940592426072)"
         },
         "mode": "lines",
         "opacity": 1,
         "type": "scatter",
         "x": [
          0.10816920140973707,
          0.33875119688294697,
          null
         ],
         "y": [
          0.9968668463250838,
          -0.34323648494223935,
          null
         ]
        },
        {
         "line": {
          "shape": "spline",
          "width": 0
         },
         "marker": {
          "color": "rgb(0.5874581621718171, 0.003162602262989034, 0.003162602262989034)"
         },
         "mode": "lines",
         "opacity": 1,
         "type": "scatter",
         "x": [
          0.10816920140973707,
          -0.09977344620872326,
          null
         ],
         "y": [
          0.9968668463250838,
          -0.9942196228473164,
          null
         ]
        },
        {
         "line": {
          "shape": "spline",
          "width": 0
         },
         "marker": {
          "color": "rgb(0.5855432784419479, 0.0030082712101709985, 0.0030082712101709985)"
         },
         "mode": "lines",
         "opacity": 1,
         "type": "scatter",
         "x": [
          0.10816920140973707,
          0.28231830546686393,
          null
         ],
         "y": [
          0.9968668463250838,
          0.6123748779823588,
          null
         ]
        },
        {
         "line": {
          "shape": "spline",
          "width": 0
         },
         "marker": {
          "color": "rgb(0.5836273874354595, 0.002854947433972077, 0.002854947433972077)"
         },
         "mode": "lines",
         "opacity": 1,
         "type": "scatter",
         "x": [
          -0.05712631865800212,
          -0.9590383342568007,
          null
         ],
         "y": [
          0.3303870467944924,
          -0.34685763200079156,
          null
         ]
        },
        {
         "line": {
          "shape": "spline",
          "width": 0
         },
         "marker": {
          "color": "rgb(0.5817104891523521, 0.0027026309343921584, 0.0027026309343921584)"
         },
         "mode": "lines",
         "opacity": 1,
         "type": "scatter",
         "x": [
          -0.05712631865800212,
          0.9999999999999999,
          null
         ],
         "y": [
          0.3303870467944924,
          -0.038985615419455194,
          null
         ]
        },
        {
         "line": {
          "shape": "spline",
          "width": 0
         },
         "marker": {
          "color": "rgb(0.5797925835926256, 0.0025513217114314646, 0.0025513217114314646)"
         },
         "mode": "lines",
         "opacity": 1,
         "type": "scatter",
         "x": [
          -0.05712631865800212,
          -0.6920023759347991,
          null
         ],
         "y": [
          0.3303870467944924,
          -0.42282052296431377,
          null
         ]
        },
        {
         "line": {
          "shape": "spline",
          "width": 0
         },
         "marker": {
          "color": "rgb(0.57787367075628, 0.0024010197650897735, 0.0024010197650897735)"
         },
         "mode": "lines",
         "opacity": 1,
         "type": "scatter",
         "x": [
          -0.05712631865800212,
          0.33875119688294697,
          null
         ],
         "y": [
          0.3303870467944924,
          -0.34323648494223935,
          null
         ]
        },
        {
         "line": {
          "shape": "spline",
          "width": 0
         },
         "marker": {
          "color": "rgb(0.5759537506433154, 0.0022517250953670853, 0.0022517250953670853)"
         },
         "mode": "lines",
         "opacity": 1,
         "type": "scatter",
         "x": [
          -0.05712631865800212,
          -0.09977344620872326,
          null
         ],
         "y": [
          0.3303870467944924,
          -0.9942196228473164,
          null
         ]
        },
        {
         "line": {
          "shape": "spline",
          "width": 0
         },
         "marker": {
          "color": "rgb(0.5740328232537316, 0.002103437702263622, 0.002103437702263622)"
         },
         "mode": "lines",
         "opacity": 1,
         "type": "scatter",
         "x": [
          -0.05712631865800212,
          0.28231830546686393,
          null
         ],
         "y": [
          0.3303870467944924,
          0.6123748779823588,
          null
         ]
        },
        {
         "line": {
          "shape": "spline",
          "width": 8.2
         },
         "marker": {
          "color": "rgb(0.5721108885875289, 0.0019561575857790503, 0.0019561575857790503)"
         },
         "mode": "lines",
         "opacity": 1,
         "type": "scatter",
         "x": [
          -0.6920023759347991,
          -0.9590383342568007,
          null
         ],
         "y": [
          -0.42282052296431377,
          -0.34685763200079156,
          null
         ]
        },
        {
         "line": {
          "shape": "spline",
          "width": 8.6
         },
         "marker": {
          "color": "rgb(0.5701879466447071, 0.0018098847459137035, 0.0018098847459137035)"
         },
         "mode": "lines",
         "opacity": 1,
         "type": "scatter",
         "x": [
          -0.6920023759347991,
          0.9999999999999999,
          null
         ],
         "y": [
          -0.42282052296431377,
          -0.038985615419455194,
          null
         ]
        },
        {
         "line": {
          "shape": "spline",
          "width": 0
         },
         "marker": {
          "color": "rgb(0.568263997425266, 0.0016646191826674706, 0.0016646191826674706)"
         },
         "mode": "lines",
         "opacity": 1,
         "type": "scatter",
         "x": [
          -0.6920023759347991,
          0.33875119688294697,
          null
         ],
         "y": [
          -0.42282052296431377,
          -0.34323648494223935,
          null
         ]
        },
        {
         "line": {
          "shape": "spline",
          "width": 0
         },
         "marker": {
          "color": "rgb(0.566339040929206, 0.0015203608960402404, 0.0015203608960402404)"
         },
         "mode": "lines",
         "opacity": 1,
         "type": "scatter",
         "x": [
          -0.6920023759347991,
          -0.09977344620872326,
          null
         ],
         "y": [
          -0.42282052296431377,
          -0.9942196228473164,
          null
         ]
        },
        {
         "line": {
          "shape": "spline",
          "width": 0
         },
         "marker": {
          "color": "rgb(0.5644130771565269, 0.001377109886032013, 0.001377109886032013)"
         },
         "mode": "lines",
         "opacity": 1,
         "type": "scatter",
         "x": [
          -0.6920023759347991,
          0.28231830546686393,
          null
         ],
         "y": [
          -0.42282052296431377,
          0.6123748779823588,
          null
         ]
        },
        {
         "line": {
          "shape": "spline",
          "width": 0
         },
         "marker": {
          "color": "rgb(0.5624861061072286, 0.0012348661526430105, 0.0012348661526430105)"
         },
         "mode": "lines",
         "opacity": 1,
         "type": "scatter",
         "x": [
          0.33875119688294697,
          -0.9590383342568007,
          null
         ],
         "y": [
          -0.34323648494223935,
          -0.34685763200079156,
          null
         ]
        },
        {
         "line": {
          "shape": "spline",
          "width": 0
         },
         "marker": {
          "color": "rgb(0.5605581277813114, 0.0010936296958730107, 0.0010936296958730107)"
         },
         "mode": "lines",
         "opacity": 1,
         "type": "scatter",
         "x": [
          0.33875119688294697,
          0.9999999999999999,
          null
         ],
         "y": [
          -0.34323648494223935,
          -0.038985615419455194,
          null
         ]
        },
        {
         "line": {
          "shape": "spline",
          "width": 0
         },
         "marker": {
          "color": "rgb(0.558629142178775, 0.0009534005157221248, 0.0009534005157221248)"
         },
         "mode": "lines",
         "opacity": 1,
         "type": "scatter",
         "x": [
          0.33875119688294697,
          -0.09977344620872326,
          null
         ],
         "y": [
          -0.34323648494223935,
          -0.9942196228473164,
          null
         ]
        },
        {
         "line": {
          "shape": "spline",
          "width": 0
         },
         "marker": {
          "color": "rgb(0.5566991492996196, 0.0008141786121902417, 0.0008141786121902417)"
         },
         "mode": "lines",
         "opacity": 1,
         "type": "scatter",
         "x": [
          0.33875119688294697,
          0.28231830546686393,
          null
         ],
         "y": [
          -0.34323648494223935,
          0.6123748779823588,
          null
         ]
        },
        {
         "line": {
          "shape": "spline",
          "width": 0
         },
         "marker": {
          "color": "rgb(0.5547681491438451, 0.0006759639852774724, 0.0006759639852774724)"
         },
         "mode": "lines",
         "opacity": 1,
         "type": "scatter",
         "x": [
          -0.09977344620872326,
          -0.9590383342568007,
          null
         ],
         "y": [
          -0.9942196228473164,
          -0.34685763200079156,
          null
         ]
        },
        {
         "line": {
          "shape": "spline",
          "width": 0
         },
         "marker": {
          "color": "rgb(0.5528361417114515, 0.0005387566349838169, 0.0005387566349838169)"
         },
         "mode": "lines",
         "opacity": 1,
         "type": "scatter",
         "x": [
          -0.09977344620872326,
          0.9999999999999999,
          null
         ],
         "y": [
          -0.9942196228473164,
          -0.038985615419455194,
          null
         ]
        },
        {
         "line": {
          "shape": "spline",
          "width": 0
         },
         "marker": {
          "color": "rgb(0.5509031270024387, 0.0004025565613092752, 0.0004025565613092752)"
         },
         "mode": "lines",
         "opacity": 1,
         "type": "scatter",
         "x": [
          -0.09977344620872326,
          0.28231830546686393,
          null
         ],
         "y": [
          -0.9942196228473164,
          0.6123748779823588,
          null
         ]
        },
        {
         "line": {
          "shape": "spline",
          "width": 0
         },
         "marker": {
          "color": "rgb(0.5489691050168071, 0.0002673637642537363, 0.0002673637642537363)"
         },
         "mode": "lines",
         "opacity": 1,
         "type": "scatter",
         "x": [
          0.28231830546686393,
          -0.9590383342568007,
          null
         ],
         "y": [
          0.6123748779823588,
          -0.34685763200079156,
          null
         ]
        },
        {
         "line": {
          "shape": "spline",
          "width": 0
         },
         "marker": {
          "color": "rgb(0.5470340757545562, 0.00013317824381731125, 0.00013317824381731125)"
         },
         "mode": "lines",
         "opacity": 1,
         "type": "scatter",
         "x": [
          0.28231830546686393,
          0.9999999999999999,
          null
         ],
         "y": [
          0.6123748779823588,
          -0.038985615419455194,
          null
         ]
        },
        {
         "line": {
          "shape": "spline",
          "width": 7.9
         },
         "marker": {
          "color": "rgb(0.5450980392156862, 0.0, 0.0)"
         },
         "mode": "lines",
         "opacity": 1,
         "type": "scatter",
         "x": [
          -0.9590383342568007,
          0.9999999999999999,
          null
         ],
         "y": [
          -0.34685763200079156,
          -0.038985615419455194,
          null
         ]
        },
        {
         "hoverinfo": "text",
         "hovertext": [
          "Name:f616a21f-b421-4bef-b9f9-79da3f748d4b",
          "Name:f927a5d4-5129-42bc-8d8b-4130dd24faad",
          "Name:f72f110f-7122-455e-9d91-dae1244c2e81",
          "Name:f77a8e10-8150-48d8-84f1-bc30019b56d9",
          "Name:f6804afc-228c-4152-a4b1-b4a675337dd0",
          "Name:9a7dd598-48f4-471a-8814-b404579783ad",
          "Name:ea6bd065-cafc-4894-b34b-ac8fc21a92e4",
          "Name:c2214dec-c6de-4372-999c-4442f52c1757",
          "Name:c25f2795-8172-4a25-885f-3481322560b2",
          "Name:9b44dd4c-11b4-4584-8a8f-96b4defa7d7f",
          "Name:d35ec6f8-22fc-4386-b712-fff71c6863b9",
          "Name:b16161ab-ec8a-4fe7-bcef-d6adc621f68d",
          "Name:e7e4520c-4c20-4217-98c0-c72a28b06983",
          "Name:e3ed382a-51ce-42a4-95db-2bd3720fb120",
          "Name:e9eb0d5c-f760-4d09-a703-d3a234052398",
          "Name:ea12080c-cade-4ef2-a563-1fd50ae33a5d",
          "Name:261864f6-8798-441c-b2eb-ece0df5276ea",
          "Name:75967414-5af3-47e5-b4cf-90392be8976c",
          "Name:55c441d5-9fdc-40bc-8c67-2c045a24fc43",
          "Name:82a7fc65-990b-47c8-ac88-17316e8b0c0d",
          "Name:4597928b-e9d9-47ee-8bd7-2d300454fcfc",
          "Name:69d907ad-6aa1-4775-bdcd-04270d3f72cc",
          "Name:96d86a16-d881-483d-aff8-1bb275ac7fea",
          "Name:9803938c-cb43-491d-9cbc-ac19c9a46700",
          "Name:9819231f-f04b-4d99-a856-8894d327a45a",
          "Name:65355b2b-e804-46ff-a9d7-618d1ba7ea30",
          "Name:5ee62b89-93b4-4c0e-991d-3324faa8bb0c",
          "Name:5ab7b3d2-7901-4679-be42-7cb7bd150f6f",
          "Name:15e0d7ba-7338-419e-b795-34ee8973eec1",
          "Name:0e78375f-0960-4941-8a76-e2fae3514c6e"
         ],
         "marker": {
          "color": "LightSkyBlue",
          "size": 50
         },
         "mode": "markers+text",
         "textposition": "bottom center",
         "type": "scatter",
         "x": [
          -0.4237089899470136,
          0.5205884261503951,
          0.41695839289869735,
          0.7651866278042626,
          0.6840117985457818,
          -0.3262598396382662,
          0.8906284306660813,
          -0.35675277189078475,
          -0.2006089591922666,
          0.4775890294771492,
          -0.9238079484026622,
          -0.6192599418973583,
          0.1192988455823766,
          0.6561880425959237,
          -0.08015989063624109,
          -0.6161589422030441,
          0.042555730321677636,
          -0.69912365053649,
          0.7840491809787309,
          0.29053802337351115,
          -0.4347894318337367,
          -0.88826039091796,
          0.10816920140973707,
          -0.05712631865800212,
          -0.6920023759347991,
          0.33875119688294697,
          -0.09977344620872326,
          0.28231830546686393,
          -0.9590383342568007,
          0.9999999999999999
         ],
         "y": [
          0.4043391939631468,
          0.8796596795847385,
          0.2653693644066391,
          -0.6158024413261334,
          0.5702026763651347,
          -0.7506236726899015,
          0.30901222800562705,
          0.9090181900642286,
          -0.3410249045790984,
          -0.7065996477304826,
          -0.006394501764154287,
          0.7077813868065571,
          -0.053018382521206005,
          0.014406556349072674,
          0.7311264910311921,
          -0.7336198945028887,
          -0.6610675416957015,
          0.1776516355523447,
          -0.3124284556444398,
          -0.9500247040932227,
          -0.08023740699404934,
          0.44876525848477733,
          0.9968668463250838,
          0.3303870467944924,
          -0.42282052296431377,
          -0.34323648494223935,
          -0.9942196228473164,
          0.6123748779823588,
          -0.34685763200079156,
          -0.038985615419455194
         ]
        }
       ],
       "layout": {
        "annotations": [
         {
          "ax": 0.04843971810169076,
          "axref": "x",
          "ay": 0.6419994367739427,
          "ayref": "y",
          "opacity": 1,
          "showarrow": true,
          "x": 0.28451407212604296,
          "xref": "x",
          "y": 0.7608295581793405,
          "yref": "y"
         },
         {
          "ax": -0.0033752985241581324,
          "axref": "x",
          "ay": 0.33485427918489297,
          "ayref": "y",
          "opacity": 1,
          "showarrow": true,
          "x": 0.2067915471872696,
          "xref": "x",
          "y": 0.30011182179576606,
          "yref": "y"
         },
         {
          "ax": 0.1707388189286245,
          "axref": "x",
          "ay": -0.10573162368149328,
          "ayref": "y",
          "opacity": 1,
          "showarrow": true,
          "x": 0.4679627233664435,
          "xref": "x",
          "y": -0.3607670325038133,
          "yref": "y"
         },
         {
          "ax": 0.13015140429938407,
          "axref": "x",
          "ay": 0.4872709351641408,
          "ayref": "y",
          "opacity": 1,
          "showarrow": true,
          "x": 0.4070816014225829,
          "xref": "x",
          "y": 0.5287368057646377,
          "yref": "y"
         },
         {
          "ax": -0.3749844147926399,
          "axref": "x",
          "ay": -0.17314223936337733,
          "ayref": "y",
          "opacity": 1,
          "showarrow": true,
          "x": -0.35062212721545305,
          "xref": "x",
          "y": -0.46188295602663937,
          "yref": "y"
         },
         {
          "ax": 0.23345972035953386,
          "axref": "x",
          "ay": 0.35667571098438694,
          "ayref": "y",
          "opacity": 1,
          "showarrow": true,
          "x": 0.5620440755128076,
          "xref": "x",
          "y": 0.332843969495007,
          "yref": "y"
         },
         {
          "ax": -0.19057662981266799,
          "axref": "x",
          "ay": -0.12836417386627733,
          "ayref": "y",
          "opacity": 1,
          "showarrow": true,
          "x": -0.07401044974549517,
          "xref": "x",
          "y": -0.3947158577809894,
          "yref": "y"
         },
         {
          "ax": -0.3902308809188992,
          "axref": "x",
          "ay": 0.6566786920136877,
          "ayref": "y",
          "opacity": 1,
          "showarrow": true,
          "x": -0.37349182640484196,
          "xref": "x",
          "y": 0.7828484410389581,
          "yref": "y"
         },
         {
          "ax": -0.5614163202417518,
          "axref": "x",
          "ay": 0.29099541475774576,
          "ayref": "y",
          "opacity": 1,
          "showarrow": true,
          "x": -0.6302699853891209,
          "xref": "x",
          "y": 0.23432352515504523,
          "yref": "y"
         },
         {
          "ax": -0.3121589745696401,
          "axref": "x",
          "ay": 0.031657144692024214,
          "ayref": "y",
          "opacity": 1,
          "showarrow": true,
          "x": -0.25638396688095333,
          "xref": "x",
          "y": -0.1546838799435371,
          "yref": "y"
         },
         {
          "ax": 0.18017009551585864,
          "axref": "x",
          "ay": 0.045955369159353526,
          "ayref": "y",
          "opacity": 1,
          "showarrow": true,
          "x": 0.4821096382472947,
          "xref": "x",
          "y": -0.13323654324254314,
          "yref": "y"
         },
         {
          "ax": -0.6913736621019072,
          "axref": "x",
          "ay": 0.028740780981177633,
          "ayref": "y",
          "opacity": 1,
          "showarrow": true,
          "x": -0.825205998179354,
          "xref": "x",
          "y": -0.15905842550980692,
          "yref": "y"
         },
         {
          "ax": 0.026940019765067796,
          "axref": "x",
          "ay": -0.15113022688366787,
          "ayref": "y",
          "opacity": 1,
          "showarrow": true,
          "x": 0.2522645246211085,
          "xref": "x",
          "y": -0.42886493730707526,
          "yref": "y"
         },
         {
          "ax": -0.06658548328675123,
          "axref": "x",
          "ay": -0.27284275506503797,
          "ayref": "y",
          "opacity": 1,
          "showarrow": true,
          "x": 0.11197627004337997,
          "xref": "x",
          "y": -0.6114337295791303,
          "yref": "y"
         },
         {
          "ax": -0.42924921089037515,
          "axref": "x",
          "ay": 0.16205089348454874,
          "ayref": "y",
          "opacity": 1,
          "showarrow": true,
          "x": -0.43201932136205595,
          "xref": "x",
          "y": 0.040906743245249705,
          "yref": "y"
         },
         {
          "ax": -0.673758469174838,
          "axref": "x",
          "ay": 0.19897234609949627,
          "ayref": "y",
          "opacity": 1,
          "showarrow": true,
          "x": -0.7987832087887501,
          "xref": "x",
          "y": 0.09628892216767099,
          "yref": "y"
         },
         {
          "ax": 0.28814550502649316,
          "axref": "x",
          "ay": 0.18267678927184583,
          "ayref": "y",
          "opacity": 1,
          "showarrow": true,
          "x": 0.6440727525132465,
          "xref": "x",
          "y": 0.0718455869261953,
          "yref": "y"
         },
         {
          "ax": -0.6559846904324869,
          "axref": "x",
          "ay": 0.42655222622396205,
          "ayref": "y",
          "opacity": 1,
          "showarrow": true,
          "x": -0.7721225406752235,
          "xref": "x",
          "y": 0.4376587423543697,
          "yref": "y"
         },
         {
          "ax": -0.15776989426863827,
          "axref": "x",
          "ay": 0.7006030201441154,
          "ayref": "y",
          "opacity": 1,
          "showarrow": true,
          "x": -0.0248003464294506,
          "xref": "x",
          "y": 0.8487349332345996,
          "yref": "y"
         },
         {
          "ax": -0.24041765430250786,
          "axref": "x",
          "ay": 0.3673631203788196,
          "ayref": "y",
          "opacity": 1,
          "showarrow": true,
          "x": -0.148771986480255,
          "xref": "x",
          "y": 0.348875083586656,
          "yref": "y"
         },
         {
          "ax": -0.521484465922186,
          "axref": "x",
          "ay": 0.5560602903848519,
          "ayref": "y",
          "opacity": 1,
          "showarrow": true,
          "x": -0.5703722039097722,
          "xref": "x",
          "y": 0.6319208385957045,
          "yref": "y"
         },
         {
          "ax": -0.5578556829409064,
          "axref": "x",
          "ay": -0.009240664500583473,
          "ayref": "y",
          "opacity": 1,
          "showarrow": true,
          "x": -0.6249290294378527,
          "xref": "x",
          "y": -0.2160305937324486,
          "yref": "y"
         },
         {
          "ax": -0.1522050721823185,
          "axref": "x",
          "ay": 0.17566040572097041,
          "ayref": "y",
          "opacity": 1,
          "showarrow": true,
          "x": -0.016453113299970942,
          "xref": "x",
          "y": 0.0613210115998822,
          "yref": "y"
         },
         {
          "ax": 0.11623952632445503,
          "axref": "x",
          "ay": 0.20937287515610975,
          "ayref": "y",
          "opacity": 1,
          "showarrow": true,
          "x": 0.38621378446018934,
          "xref": "x",
          "y": 0.11188971575259121,
          "yref": "y"
         },
         {
          "ax": -0.04247889653203332,
          "axref": "x",
          "ay": 0.030551354510453738,
          "ayref": "y",
          "opacity": 1,
          "showarrow": true,
          "x": 0.14813615017545678,
          "xref": "x",
          "y": -0.1563425652158928,
          "yref": "y"
         },
         {
          "ax": -0.26174121807786843,
          "axref": "x",
          "ay": -0.29494021444208474,
          "ayref": "y",
          "opacity": 1,
          "showarrow": true,
          "x": -0.18075733214329587,
          "xref": "x",
          "y": -0.6445799186447007,
          "yref": "y"
         },
         {
          "ax": -0.07069534224007484,
          "axref": "x",
          "ay": 0.5083570359727528,
          "ayref": "y",
          "opacity": 1,
          "showarrow": true,
          "x": 0.10581148161339456,
          "xref": "x",
          "y": 0.5603659569775558,
          "yref": "y"
         },
         {
          "ax": -0.25193444029162737,
          "axref": "x",
          "ay": 0.5677328424971695,
          "ayref": "y",
          "opacity": 1,
          "showarrow": true,
          "x": -0.16604716546393422,
          "xref": "x",
          "y": 0.6494296667641807,
          "yref": "y"
         },
         {
          "ax": -0.5199339660750288,
          "axref": "x",
          "ay": -0.16464035026987092,
          "ayref": "y",
          "opacity": 1,
          "showarrow": true,
          "x": -0.5680464541390365,
          "xref": "x",
          "y": -0.4491301223863798,
          "yref": "y"
         },
         {
          "ax": 0.09716429325606446,
          "axref": "x",
          "ay": 0.06451800344741848,
          "ayref": "y",
          "opacity": 1,
          "showarrow": true,
          "x": -0.11454777319110088,
          "xref": "x",
          "y": -0.3430528346212415,
          "yref": "y"
         },
         {
          "ax": 0.7056084284082382,
          "axref": "x",
          "ay": 0.5943359537951828,
          "ayref": "y",
          "opacity": 1,
          "showarrow": true,
          "x": 0.7981184295371597,
          "xref": "x",
          "y": 0.4516740909004049,
          "yref": "y"
         },
         {
          "ax": 0.28157207823603636,
          "axref": "x",
          "ay": 0.10929606894451849,
          "ayref": "y",
          "opacity": 1,
          "showarrow": true,
          "x": 0.162063904278857,
          "xref": "x",
          "y": -0.2758857363755915,
          "yref": "y"
         },
         {
          "ax": 0.08191782712980519,
          "axref": "x",
          "ay": 0.8943389348244835,
          "ayref": "y",
          "opacity": 1,
          "showarrow": true,
          "x": -0.13741747238048976,
          "xref": "x",
          "y": 0.9016785624443561,
          "yref": "y"
         },
         {
          "ax": -0.08926761219304741,
          "axref": "x",
          "ay": 0.5286556575685416,
          "ayref": "y",
          "opacity": 1,
          "showarrow": true,
          "x": -0.39419563136476876,
          "xref": "x",
          "y": 0.3531536465604431,
          "yref": "y"
         },
         {
          "ax": 0.15998973347906426,
          "axref": "x",
          "ay": 0.26931738750282,
          "ayref": "y",
          "opacity": 1,
          "showarrow": true,
          "x": -0.020309612856601156,
          "xref": "x",
          "y": -0.03585375853813921,
          "yref": "y"
         },
         {
          "ax": 0.6523188035645631,
          "axref": "x",
          "ay": 0.28361561197014934,
          "ayref": "y",
          "opacity": 1,
          "showarrow": true,
          "x": 0.7181839922716469,
          "xref": "x",
          "y": -0.014406421837145217,
          "yref": "y"
         },
         {
          "ax": -0.2192249540532028,
          "axref": "x",
          "ay": 0.26640102379197345,
          "ayref": "y",
          "opacity": 1,
          "showarrow": true,
          "x": -0.5891316441550019,
          "xref": "x",
          "y": -0.04022830410440903,
          "yref": "y"
         },
         {
          "ax": 0.49908872781377217,
          "axref": "x",
          "ay": 0.08653001592712795,
          "ayref": "y",
          "opacity": 1,
          "showarrow": true,
          "x": 0.48833887864546066,
          "xref": "x",
          "y": -0.31003481590167736,
          "yref": "y"
         },
         {
          "ax": 0.40556322476195317,
          "axref": "x",
          "ay": -0.035182512254242126,
          "ayref": "y",
          "opacity": 1,
          "showarrow": true,
          "x": 0.34805062406773213,
          "xref": "x",
          "y": -0.4926036081737324,
          "yref": "y"
         },
         {
          "ax": 0.04289949715832922,
          "axref": "x",
          "ay": 0.39971113629534455,
          "ayref": "y",
          "opacity": 1,
          "showarrow": true,
          "x": -0.19594496733770375,
          "xref": "x",
          "y": 0.15973686465064763,
          "yref": "y"
         },
         {
          "ax": -0.20160976112613355,
          "axref": "x",
          "ay": 0.4366325889102921,
          "ayref": "y",
          "opacity": 1,
          "showarrow": true,
          "x": -0.5627088547643979,
          "xref": "x",
          "y": 0.2151190435730689,
          "yref": "y"
         },
         {
          "ax": 0.7602942130751975,
          "axref": "x",
          "ay": 0.4203370320826416,
          "ayref": "y",
          "opacity": 1,
          "showarrow": true,
          "x": 0.8801471065375986,
          "xref": "x",
          "y": 0.19067570833159322,
          "yref": "y"
         },
         {
          "ax": -0.18383598238378246,
          "axref": "x",
          "ay": 0.664212469034758,
          "ayref": "y",
          "opacity": 1,
          "showarrow": true,
          "x": -0.5360481866508713,
          "xref": "x",
          "y": 0.5564888637597676,
          "yref": "y"
         },
         {
          "ax": 0.46877340952454627,
          "axref": "x",
          "ay": 0.5725145219956888,
          "ayref": "y",
          "opacity": 1,
          "showarrow": true,
          "x": 0.44286590121162184,
          "xref": "x",
          "y": 0.41894194320116396,
          "yref": "y"
         },
         {
          "ax": 0.3143788137800661,
          "axref": "x",
          "ay": 0.9382632629549111,
          "ayref": "y",
          "opacity": 1,
          "showarrow": true,
          "x": 0.21127400759490159,
          "xref": "x",
          "y": 0.9675650546399975,
          "yref": "y"
         },
         {
          "ax": 0.6428875269773289,
          "axref": "x",
          "ay": 0.13192861912930254,
          "ayref": "y",
          "opacity": 1,
          "showarrow": true,
          "x": 0.7040370773907957,
          "xref": "x",
          "y": -0.24193691109841542,
          "yref": "y"
         },
         {
          "ax": 0.2317310537461965,
          "axref": "x",
          "ay": 0.6050233631896154,
          "ayref": "y",
          "opacity": 1,
          "showarrow": true,
          "x": 0.08730236754409719,
          "xref": "x",
          "y": 0.4677052049920539,
          "yref": "y"
         },
         {
          "ax": -0.0493357578734816,
          "axref": "x",
          "ay": 0.7937205331956478,
          "ayref": "y",
          "opacity": 1,
          "showarrow": true,
          "x": -0.33429784988542,
          "xref": "x",
          "y": 0.7507509600011024,
          "yref": "y"
         },
         {
          "ax": -0.08570697489220197,
          "axref": "x",
          "ay": 0.22841957831021234,
          "ayref": "y",
          "opacity": 1,
          "showarrow": true,
          "x": -0.3888546754135005,
          "xref": "x",
          "y": -0.0972004723270507,
          "yref": "y"
         },
         {
          "ax": 0.31994363586638586,
          "axref": "x",
          "ay": 0.4133206485317662,
          "ayref": "y",
          "opacity": 1,
          "showarrow": true,
          "x": 0.21962124072438124,
          "xref": "x",
          "y": 0.1801511330052801,
          "yref": "y"
         },
         {
          "ax": 0.6023001123480884,
          "axref": "x",
          "ay": 0.7249311779749366,
          "ayref": "y",
          "opacity": 1,
          "showarrow": true,
          "x": 0.643155955446935,
          "xref": "x",
          "y": 0.6475669271700356,
          "yref": "y"
         },
         {
          "ax": 0.5883882343731595,
          "axref": "x",
          "ay": 0.4470331179669056,
          "ayref": "y",
          "opacity": 1,
          "showarrow": true,
          "x": 0.6222881384845416,
          "xref": "x",
          "y": 0.2307198371579891,
          "yref": "y"
         },
         {
          "ax": 0.42966981151667105,
          "axref": "x",
          "ay": 0.26821159732124955,
          "ayref": "y",
          "opacity": 1,
          "showarrow": true,
          "x": 0.38421050419980896,
          "xref": "x",
          "y": -0.0375124438104949,
          "yref": "y"
         },
         {
          "ax": 0.21040748997083594,
          "axref": "x",
          "ay": -0.05727997163128895,
          "ayref": "y",
          "opacity": 1,
          "showarrow": true,
          "x": 0.05531702188105633,
          "xref": "x",
          "y": -0.5257497972393027,
          "yref": "y"
         },
         {
          "ax": 0.40145336580862956,
          "axref": "x",
          "ay": 0.7460172787835486,
          "ayref": "y",
          "opacity": 1,
          "showarrow": true,
          "x": 0.34188583563774677,
          "xref": "x",
          "y": 0.6791960783829537,
          "yref": "y"
         },
         {
          "ax": 0.22021426775707703,
          "axref": "x",
          "ay": 0.8053930853079653,
          "ayref": "y",
          "opacity": 1,
          "showarrow": true,
          "x": 0.07002718856041797,
          "xref": "x",
          "y": 0.7682597881695786,
          "yref": "y"
         },
         {
          "ax": -0.047785258026324495,
          "axref": "x",
          "ay": 0.07301989254092489,
          "ayref": "y",
          "opacity": 1,
          "showarrow": true,
          "x": -0.33197210011468437,
          "xref": "x",
          "y": -0.3303000009809819,
          "yref": "y"
         },
         {
          "ax": 0.04534927663021557,
          "axref": "x",
          "ay": -0.2426271541416312,
          "ayref": "y",
          "opacity": 1,
          "showarrow": true,
          "x": -0.1404552815040253,
          "xref": "x",
          "y": -0.4966254134157663,
          "yref": "y"
         },
         {
          "ax": 0.6537934117823894,
          "axref": "x",
          "ay": 0.2871907962061331,
          "ayref": "y",
          "opacity": 1,
          "showarrow": true,
          "x": 0.7722109212242353,
          "xref": "x",
          "y": 0.29810151210588004,
          "yref": "y"
         },
         {
          "ax": 0.2297570616101875,
          "axref": "x",
          "ay": -0.19784908864453118,
          "ayref": "y",
          "opacity": 1,
          "showarrow": true,
          "x": 0.13615639596593257,
          "xref": "x",
          "y": -0.42945831517011634,
          "yref": "y"
         },
         {
          "ax": 0.0301028105039563,
          "axref": "x",
          "ay": 0.5871937772354339,
          "ayref": "y",
          "opacity": 1,
          "showarrow": true,
          "x": -0.16332498069341422,
          "xref": "x",
          "y": 0.7481059836498313,
          "yref": "y"
         },
         {
          "ax": -0.1410826288188963,
          "axref": "x",
          "ay": 0.2215104999794919,
          "ayref": "y",
          "opacity": 1,
          "showarrow": true,
          "x": -0.4201031396776932,
          "xref": "x",
          "y": 0.19958106776591827,
          "yref": "y"
         },
         {
          "ax": 0.10817471685321538,
          "axref": "x",
          "ay": -0.037827770086229645,
          "ayref": "y",
          "opacity": 1,
          "showarrow": true,
          "x": -0.0462171211695256,
          "xref": "x",
          "y": -0.18942633733266406,
          "yref": "y"
         },
         {
          "ax": 0.6005037869387141,
          "axref": "x",
          "ay": -0.023529545618900333,
          "ayref": "y",
          "opacity": 1,
          "showarrow": true,
          "x": 0.6922764839587224,
          "xref": "x",
          "y": -0.16797900063167004,
          "yref": "y"
         },
         {
          "ax": -0.2710399706790517,
          "axref": "x",
          "ay": -0.040744133797076226,
          "ayref": "y",
          "opacity": 1,
          "showarrow": true,
          "x": -0.6150391524679263,
          "xref": "x",
          "y": -0.19380088289893388,
          "yref": "y"
         },
         {
          "ax": 0.44727371118792325,
          "axref": "x",
          "ay": -0.22061514166192173,
          "ayref": "y",
          "opacity": 1,
          "showarrow": true,
          "x": 0.46243137033253623,
          "xref": "x",
          "y": -0.4636073946962022,
          "yref": "y"
         },
         {
          "ax": 0.35374820813610425,
          "axref": "x",
          "ay": -0.34232766984329177,
          "ayref": "y",
          "opacity": 1,
          "showarrow": true,
          "x": 0.3221431157548077,
          "xref": "x",
          "y": -0.6461761869682572,
          "yref": "y"
         },
         {
          "ax": -0.008915519467519673,
          "axref": "x",
          "ay": 0.09256597870629488,
          "ayref": "y",
          "opacity": 1,
          "showarrow": true,
          "x": -0.2218524756506282,
          "xref": "x",
          "y": 0.006164285856122775,
          "yref": "y"
         },
         {
          "ax": -0.25342477775198247,
          "axref": "x",
          "ay": 0.1294874313212424,
          "ayref": "y",
          "opacity": 1,
          "showarrow": true,
          "x": -0.5886163630773223,
          "xref": "x",
          "y": 0.06154646477854406,
          "yref": "y"
         },
         {
          "ax": 0.7084791964493486,
          "axref": "x",
          "ay": 0.11319187449359196,
          "ayref": "y",
          "opacity": 1,
          "showarrow": true,
          "x": 0.8542395982246742,
          "xref": "x",
          "y": 0.03710312953706838,
          "yref": "y"
         },
         {
          "ax": -0.23565099900963135,
          "axref": "x",
          "ay": 0.35706731144570825,
          "ayref": "y",
          "opacity": 1,
          "showarrow": true,
          "x": -0.5619556949637957,
          "xref": "x",
          "y": 0.40291628496524273,
          "yref": "y"
         },
         {
          "ax": 0.59107251035148,
          "axref": "x",
          "ay": -0.17521653845974713,
          "ayref": "y",
          "opacity": 1,
          "showarrow": true,
          "x": 0.6781295690778713,
          "xref": "x",
          "y": -0.39550948989294027,
          "yref": "y"
         },
         {
          "ax": 0.2625637971542172,
          "axref": "x",
          "ay": 0.6311181053658614,
          "ayref": "y",
          "opacity": 1,
          "showarrow": true,
          "x": 0.18536649928197713,
          "xref": "x",
          "y": 0.8139924758454727,
          "yref": "y"
         },
         {
          "ax": 0.17991603712034762,
          "axref": "x",
          "ay": 0.29787820560056577,
          "ayref": "y",
          "opacity": 1,
          "showarrow": true,
          "x": 0.061394859231172744,
          "xref": "x",
          "y": 0.3141326261975291,
          "yref": "y"
         },
         {
          "ax": -0.10115077449933049,
          "axref": "x",
          "ay": 0.48657537560659814,
          "ayref": "y",
          "opacity": 1,
          "showarrow": true,
          "x": -0.3602053581983444,
          "xref": "x",
          "y": 0.5971783812065776,
          "yref": "y"
         },
         {
          "ax": -0.13752199151805086,
          "axref": "x",
          "ay": -0.07872557927883733,
          "ayref": "y",
          "opacity": 1,
          "showarrow": true,
          "x": -0.4147621837264249,
          "xref": "x",
          "y": -0.25077305112157555,
          "yref": "y"
         },
         {
          "ax": 0.268128619240537,
          "axref": "x",
          "ay": 0.10617549094271655,
          "ayref": "y",
          "opacity": 1,
          "showarrow": true,
          "x": 0.19371373241145678,
          "xref": "x",
          "y": 0.02657855421075527,
          "yref": "y"
         },
         {
          "ax": 0.5504850957222396,
          "axref": "x",
          "ay": 0.41778602038588686,
          "ayref": "y",
          "opacity": 1,
          "showarrow": true,
          "x": 0.6172484471340106,
          "xref": "x",
          "y": 0.49399434837551076,
          "yref": "y"
         },
         {
          "ax": 0.5365732177473105,
          "axref": "x",
          "ay": 0.1398879603778559,
          "ayref": "y",
          "opacity": 1,
          "showarrow": true,
          "x": 0.5963806301716171,
          "xref": "x",
          "y": 0.07714725836346428,
          "yref": "y"
         },
         {
          "ax": 0.3778547948908222,
          "axref": "x",
          "ay": -0.03893356026780012,
          "ayref": "y",
          "opacity": 1,
          "showarrow": true,
          "x": 0.3583029958868845,
          "xref": "x",
          "y": -0.19108502260501975,
          "yref": "y"
         },
         {
          "ax": 0.15859247334498705,
          "axref": "x",
          "ay": -0.36442512922033865,
          "ayref": "y",
          "opacity": 1,
          "showarrow": true,
          "x": 0.029409513568131887,
          "xref": "x",
          "y": -0.6793223760338275,
          "yref": "y"
         },
         {
          "ax": 0.34963834918278064,
          "axref": "x",
          "ay": 0.4388721211944989,
          "ayref": "y",
          "opacity": 1,
          "showarrow": true,
          "x": 0.3159783273248223,
          "xref": "x",
          "y": 0.5256234995884289,
          "yref": "y"
         },
         {
          "ax": 0.16839925113122814,
          "axref": "x",
          "ay": 0.4982479277189156,
          "ayref": "y",
          "opacity": 1,
          "showarrow": true,
          "x": 0.04411968024749352,
          "xref": "x",
          "y": 0.6146872093750538,
          "yref": "y"
         },
         {
          "ax": -0.09960027465217339,
          "axref": "x",
          "ay": -0.23412526504812478,
          "ayref": "y",
          "opacity": 1,
          "showarrow": true,
          "x": -0.3578796084276088,
          "xref": "x",
          "y": -0.48387257977550674,
          "yref": "y"
         },
         {
          "ax": 0.2194633940829982,
          "axref": "x",
          "ay": -0.6832130570080175,
          "ayref": "y",
          "opacity": 1,
          "showarrow": true,
          "x": -0.05339822277763401,
          "xref": "x",
          "y": -0.7169183648489594,
          "yref": "y"
         },
         {
          "ax": 0.827907529235172,
          "axref": "x",
          "ay": -0.15339510666025316,
          "ayref": "y",
          "opacity": 1,
          "showarrow": true,
          "x": 0.8592679799506266,
          "xref": "x",
          "y": 0.07780856067268693,
          "yref": "y"
         },
         {
          "ax": 0.4038711790629701,
          "axref": "x",
          "ay": -0.6384349915109174,
          "ayref": "y",
          "opacity": 1,
          "showarrow": true,
          "x": 0.22321345469232387,
          "xref": "x",
          "y": -0.6497512666033094,
          "yref": "y"
         },
         {
          "ax": 0.20421692795673893,
          "axref": "x",
          "ay": 0.1466078743690476,
          "ayref": "y",
          "opacity": 1,
          "showarrow": true,
          "x": -0.0762679219670229,
          "xref": "x",
          "y": 0.5278130322166381,
          "yref": "y"
         },
         {
          "ax": 0.03303148863388633,
          "axref": "x",
          "ay": -0.21907540288689434,
          "ayref": "y",
          "opacity": 1,
          "showarrow": true,
          "x": -0.33304608095130184,
          "xref": "x",
          "y": -0.020711883667274833,
          "yref": "y"
         },
         {
          "ax": 0.282288834305998,
          "axref": "x",
          "ay": -0.4784136729526159,
          "ayref": "y",
          "opacity": 1,
          "showarrow": true,
          "x": 0.04083993755686571,
          "xref": "x",
          "y": -0.40971928876585717,
          "yref": "y"
         },
         {
          "ax": 0.7746179043914967,
          "axref": "x",
          "ay": -0.4641154484852866,
          "ayref": "y",
          "opacity": 1,
          "showarrow": true,
          "x": 0.7793335426851138,
          "xref": "x",
          "y": -0.3882719520648632,
          "yref": "y"
         },
         {
          "ax": -0.09692585322626907,
          "axref": "x",
          "ay": -0.48133003666346247,
          "ayref": "y",
          "opacity": 1,
          "showarrow": true,
          "x": -0.5279820937415349,
          "xref": "x",
          "y": -0.414093834332127,
          "yref": "y"
         },
         {
          "ax": 0.621387828640706,
          "axref": "x",
          "ay": -0.661201044528308,
          "ayref": "y",
          "opacity": 1,
          "showarrow": true,
          "x": 0.5494884290589276,
          "xref": "x",
          "y": -0.6839003461293953,
          "yref": "y"
         },
         {
          "ax": 0.5278623255888869,
          "axref": "x",
          "ay": -0.7829135727096781,
          "ayref": "y",
          "opacity": 1,
          "showarrow": true,
          "x": 0.40920017448119905,
          "xref": "x",
          "y": -0.8664691384014503,
          "yref": "y"
         },
         {
          "ax": 0.16519859798526296,
          "axref": "x",
          "ay": -0.34801992416009137,
          "ayref": "y",
          "opacity": 1,
          "showarrow": true,
          "x": -0.13479541692423688,
          "xref": "x",
          "y": -0.21412866557707033,
          "yref": "y"
         },
         {
          "ax": -0.07931066029919981,
          "axref": "x",
          "ay": -0.3110984715451438,
          "ayref": "y",
          "opacity": 1,
          "showarrow": true,
          "x": -0.501559304350931,
          "xref": "x",
          "y": -0.15874648665464905,
          "yref": "y"
         },
         {
          "ax": 0.8825933139021312,
          "axref": "x",
          "ay": -0.3273940283727943,
          "ayref": "y",
          "opacity": 1,
          "showarrow": true,
          "x": 0.9412966569510656,
          "xref": "x",
          "y": -0.18318982189612473,
          "yref": "y"
         },
         {
          "ax": -0.06153688155684872,
          "axref": "x",
          "ay": -0.08351859142067802,
          "ayref": "y",
          "opacity": 1,
          "showarrow": true,
          "x": -0.47489863623740436,
          "xref": "x",
          "y": 0.18262333353204963,
          "yref": "y"
         },
         {
          "ax": 0.43667791460699984,
          "axref": "x",
          "ay": 0.19053220249947522,
          "ayref": "y",
          "opacity": 1,
          "showarrow": true,
          "x": 0.2724235580083685,
          "xref": "x",
          "y": 0.5936995244122796,
          "yref": "y"
         },
         {
          "ax": 0.35403015457313025,
          "axref": "x",
          "ay": -0.1427076972658205,
          "ayref": "y",
          "opacity": 1,
          "showarrow": true,
          "x": 0.14845191795756407,
          "xref": "x",
          "y": 0.09383967476433594,
          "yref": "y"
         },
         {
          "ax": 0.07296334295345214,
          "axref": "x",
          "ay": 0.04598947274021187,
          "ayref": "y",
          "opacity": 1,
          "showarrow": true,
          "x": -0.27314829947195307,
          "xref": "x",
          "y": 0.37688542977338446,
          "yref": "y"
         },
         {
          "ax": 0.03659212593473177,
          "axref": "x",
          "ay": -0.5193114821452236,
          "ayref": "y",
          "opacity": 1,
          "showarrow": true,
          "x": -0.32770512500003357,
          "xref": "x",
          "y": -0.47106600255476866,
          "yref": "y"
         },
         {
          "ax": 0.4422427366933196,
          "axref": "x",
          "ay": -0.3344104119236697,
          "ayref": "y",
          "opacity": 1,
          "showarrow": true,
          "x": 0.2807707911378481,
          "xref": "x",
          "y": -0.19371439722243786,
          "yref": "y"
         },
         {
          "ax": 0.7245992131750222,
          "axref": "x",
          "ay": -0.022799882480499356,
          "ayref": "y",
          "opacity": 1,
          "showarrow": true,
          "x": 0.704305505860402,
          "xref": "x",
          "y": 0.27370139694231765,
          "yref": "y"
         },
         {
          "ax": 0.7106873352000931,
          "axref": "x",
          "ay": -0.3006979424885303,
          "ayref": "y",
          "opacity": 1,
          "showarrow": true,
          "x": 0.6834376888980084,
          "xref": "x",
          "y": -0.14314569306972885,
          "yref": "y"
         },
         {
          "ax": 0.5519689123436048,
          "axref": "x",
          "ay": -0.47951946313418636,
          "ayref": "y",
          "opacity": 1,
          "showarrow": true,
          "x": 0.4453600546132759,
          "xref": "x",
          "y": -0.41137797403821286,
          "yref": "y"
         },
         {
          "ax": 0.33270659079776965,
          "axref": "x",
          "ay": -0.8050110320867249,
          "ayref": "y",
          "opacity": 1,
          "showarrow": true,
          "x": 0.1164665722945232,
          "xref": "x",
          "y": -0.8996153274670207,
          "yref": "y"
         },
         {
          "ax": 0.5237524666355633,
          "axref": "x",
          "ay": -0.0017137816718872934,
          "ayref": "y",
          "opacity": 1,
          "showarrow": true,
          "x": 0.4030353860512136,
          "xref": "x",
          "y": 0.30533054815523575,
          "yref": "y"
         },
         {
          "ax": 0.34251336858401077,
          "axref": "x",
          "ay": 0.05766202485252936,
          "ayref": "y",
          "opacity": 1,
          "showarrow": true,
          "x": 0.13117673897388482,
          "xref": "x",
          "y": 0.39439425794186067,
          "yref": "y"
         },
         {
          "ax": 0.07451384280060924,
          "axref": "x",
          "ay": -0.674711167914511,
          "ayref": "y",
          "opacity": 1,
          "showarrow": true,
          "x": -0.27082254970121744,
          "xref": "x",
          "y": -0.7041655312086998,
          "yref": "y"
         },
         {
          "ax": 0.17887597945375777,
          "axref": "x",
          "ay": -0.09021049816238341,
          "ayref": "y",
          "opacity": 1,
          "showarrow": true,
          "x": -0.07369193009225422,
          "xref": "x",
          "y": -0.4204170854261424,
          "yref": "y"
         },
         {
          "ax": 0.7873201146059315,
          "axref": "x",
          "ay": 0.4396074521853809,
          "ayref": "y",
          "opacity": 1,
          "showarrow": true,
          "x": 0.8389742726360064,
          "xref": "x",
          "y": 0.37430984009550394,
          "yref": "y"
         },
         {
          "ax": 0.3632837644337297,
          "axref": "x",
          "ay": -0.045432432665283407,
          "ayref": "y",
          "opacity": 1,
          "showarrow": true,
          "x": 0.20291974737770366,
          "xref": "x",
          "y": -0.35324998718049244,
          "yref": "y"
         },
         {
          "ax": 0.1636295133274985,
          "axref": "x",
          "ay": 0.7396104332146816,
          "ayref": "y",
          "opacity": 1,
          "showarrow": true,
          "x": -0.09656162928164311,
          "xref": "x",
          "y": 0.8243143116394551,
          "yref": "y"
         },
         {
          "ax": -0.007555925995354096,
          "axref": "x",
          "ay": 0.3739271559587397,
          "ayref": "y",
          "opacity": 1,
          "showarrow": true,
          "x": -0.35333978826592205,
          "xref": "x",
          "y": 0.2757893957555422,
          "yref": "y"
         },
         {
          "ax": 0.24170141967675757,
          "axref": "x",
          "ay": 0.11458888589301813,
          "ayref": "y",
          "opacity": 1,
          "showarrow": true,
          "x": 0.0205462302422455,
          "xref": "x",
          "y": -0.11321800934304016,
          "yref": "y"
         },
         {
          "ax": 0.7340304897622563,
          "axref": "x",
          "ay": 0.12888711036034745,
          "ayref": "y",
          "opacity": 1,
          "showarrow": true,
          "x": 0.7590398353704936,
          "xref": "x",
          "y": -0.09177067264204616,
          "yref": "y"
         },
         {
          "ax": -0.1375132678555095,
          "axref": "x",
          "ay": 0.11167252218217155,
          "ayref": "y",
          "opacity": 1,
          "showarrow": true,
          "x": -0.5482758010561551,
          "xref": "x",
          "y": -0.11759255490930998,
          "yref": "y"
         },
         {
          "ax": 0.5808004140114655,
          "axref": "x",
          "ay": -0.06819848568267395,
          "ayref": "y",
          "opacity": 1,
          "showarrow": true,
          "x": 0.5291947217443074,
          "xref": "x",
          "y": -0.3873990667065783,
          "yref": "y"
         },
         {
          "ax": 0.4872749109596465,
          "axref": "x",
          "ay": -0.18991101386404402,
          "ayref": "y",
          "opacity": 1,
          "showarrow": true,
          "x": 0.38890646716657884,
          "xref": "x",
          "y": -0.5699678589786333,
          "yref": "y"
         },
         {
          "ax": 0.12461118335602253,
          "axref": "x",
          "ay": 0.24498263468554266,
          "ayref": "y",
          "opacity": 1,
          "showarrow": true,
          "x": -0.1550891242388571,
          "xref": "x",
          "y": 0.08237261384574666,
          "yref": "y"
         },
         {
          "ax": -0.11989807492844023,
          "axref": "x",
          "ay": 0.2819040873004902,
          "ayref": "y",
          "opacity": 1,
          "showarrow": true,
          "x": -0.5218530116655512,
          "xref": "x",
          "y": 0.13775479276816796,
          "yref": "y"
         },
         {
          "ax": 0.8420058992728908,
          "axref": "x",
          "ay": 0.2656085304728397,
          "ayref": "y",
          "opacity": 1,
          "showarrow": true,
          "x": 0.9210029496364454,
          "xref": "x",
          "y": 0.11331145752669228,
          "yref": "y"
         },
         {
          "ax": -0.10212429618608915,
          "axref": "x",
          "ay": 0.509483967424956,
          "ayref": "y",
          "opacity": 1,
          "showarrow": true,
          "x": -0.49519234355202457,
          "xref": "x",
          "y": 0.47912461295486664,
          "yref": "y"
         },
         {
          "ax": 0.3960904999777594,
          "axref": "x",
          "ay": 0.7835347613451092,
          "ayref": "y",
          "opacity": 1,
          "showarrow": true,
          "x": 0.25212985069374827,
          "xref": "x",
          "y": 0.8902008038350966,
          "yref": "y"
         },
         {
          "ax": 0.3134427399438898,
          "axref": "x",
          "ay": 0.4502948615798135,
          "ayref": "y",
          "opacity": 1,
          "showarrow": true,
          "x": 0.12815821064294386,
          "xref": "x",
          "y": 0.390340954187153,
          "yref": "y"
         },
         {
          "ax": 0.03237592832421171,
          "axref": "x",
          "ay": 0.6389920315858459,
          "ayref": "y",
          "opacity": 1,
          "showarrow": true,
          "x": -0.2934420067865733,
          "xref": "x",
          "y": 0.6733867091962015,
          "yref": "y"
         },
         {
          "ax": -0.0039952886945086585,
          "axref": "x",
          "ay": 0.07369107670041045,
          "ayref": "y",
          "opacity": 1,
          "showarrow": true,
          "x": -0.3479988323146538,
          "xref": "x",
          "y": -0.17456472313195165,
          "yref": "y"
         },
         {
          "ax": 0.40165532206407917,
          "axref": "x",
          "ay": 0.2585921469219643,
          "ayref": "y",
          "opacity": 1,
          "showarrow": true,
          "x": 0.2604770838232279,
          "xref": "x",
          "y": 0.10278688220037915,
          "yref": "y"
         },
         {
          "ax": 0.6700999205708527,
          "axref": "x",
          "ay": 0.2923046163571037,
          "ayref": "y",
          "opacity": 1,
          "showarrow": true,
          "x": 0.6631439815833882,
          "xref": "x",
          "y": 0.15335558635308816,
          "yref": "y"
         },
         {
          "ax": 0.5113814977143644,
          "axref": "x",
          "ay": 0.11348309571144766,
          "ayref": "y",
          "opacity": 1,
          "showarrow": true,
          "x": 0.42506634729865567,
          "xref": "x",
          "y": -0.11487669461539585,
          "yref": "y"
         },
         {
          "ax": 0.2921191761685292,
          "axref": "x",
          "ay": -0.21200847324109084,
          "ayref": "y",
          "opacity": 1,
          "showarrow": true,
          "x": 0.09617286497990299,
          "xref": "x",
          "y": -0.6031140480442037,
          "yref": "y"
         },
         {
          "ax": 0.48316505200632287,
          "axref": "x",
          "ay": 0.5912887771737467,
          "ayref": "y",
          "opacity": 1,
          "showarrow": true,
          "x": 0.38274167873659337,
          "xref": "x",
          "y": 0.6018318275780528,
          "yref": "y"
         },
         {
          "ax": 0.30192595395477034,
          "axref": "x",
          "ay": 0.6506645836981634,
          "ayref": "y",
          "opacity": 1,
          "showarrow": true,
          "x": 0.11088303165926462,
          "xref": "x",
          "y": 0.6908955373646777,
          "yref": "y"
         },
         {
          "ax": 0.033926428171368816,
          "axref": "x",
          "ay": -0.081708609068877,
          "ayref": "y",
          "opacity": 1,
          "showarrow": true,
          "x": -0.29111625701583765,
          "xref": "x",
          "y": -0.40766425178588284,
          "yref": "y"
         },
         {
          "ax": 0.28218429551390756,
          "axref": "x",
          "ay": -0.22080572234213722,
          "ayref": "y",
          "opacity": 1,
          "showarrow": true,
          "x": 0.5864063630899944,
          "xref": "x",
          "y": 0.044103252831744905,
          "yref": "y"
         },
         {
          "ax": -0.34150630576452545,
          "axref": "x",
          "ay": 0.07919725868716354,
          "ayref": "y",
          "opacity": 1,
          "showarrow": true,
          "x": -0.3491295388276551,
          "xref": "x",
          "y": 0.49410772437569606,
          "yref": "y"
         },
         {
          "ax": -0.2634343994152664,
          "axref": "x",
          "ay": -0.5458242886344999,
          "ayref": "y",
          "opacity": 1,
          "showarrow": true,
          "x": -0.2320216793037665,
          "xref": "x",
          "y": -0.4434245966067992,
          "yref": "y"
         },
         {
          "ax": 0.0756645949194415,
          "axref": "x",
          "ay": -0.728611660210192,
          "ayref": "y",
          "opacity": 1,
          "showarrow": true,
          "x": 0.2766268121982953,
          "xref": "x",
          "y": -0.7176056539703374,
          "yref": "y"
         },
         {
          "ax": -0.6250338940204643,
          "axref": "x",
          "ay": -0.37850908722702786,
          "ayref": "y",
          "opacity": 1,
          "showarrow": true,
          "x": -0.7744209212115633,
          "xref": "x",
          "y": -0.19245179449559108,
          "yref": "y"
         },
         {
          "ax": -0.4727598907678123,
          "axref": "x",
          "ay": -0.02142114294167219,
          "ayref": "y",
          "opacity": 1,
          "showarrow": true,
          "x": -0.5460099163325853,
          "xref": "x",
          "y": 0.3431801219324424,
          "yref": "y"
         },
         {
          "ax": -0.1034804970279448,
          "axref": "x",
          "ay": -0.40182102760555377,
          "ayref": "y",
          "opacity": 1,
          "showarrow": true,
          "x": 0.007909174277215908,
          "xref": "x",
          "y": -0.22741970506337988,
          "yref": "y"
         },
         {
          "ax": 0.16496410147882873,
          "axref": "x",
          "ay": -0.36810855817041443,
          "ayref": "y",
          "opacity": 1,
          "showarrow": true,
          "x": 0.4105760720373762,
          "xref": "x",
          "y": -0.17685100091067085,
          "yref": "y"
         },
         {
          "ax": -0.20320986513725364,
          "axref": "x",
          "ay": -0.009748590829354697,
          "ayref": "y",
          "opacity": 1,
          "showarrow": true,
          "x": -0.14168487788674738,
          "xref": "x",
          "y": 0.3606889501009186,
          "yref": "y"
         },
         {
          "ax": -0.47120939092065517,
          "axref": "x",
          "ay": -0.7421217835963951,
          "ayref": "y",
          "opacity": 1,
          "showarrow": true,
          "x": -0.5436841665618497,
          "xref": "x",
          "y": -0.7378708390496419,
          "yref": "y"
         },
         {
          "ax": -0.14185205465829429,
          "axref": "x",
          "ay": -0.7058456071928014,
          "ayref": "y",
          "opacity": 1,
          "showarrow": true,
          "x": -0.04964816216830833,
          "xref": "x",
          "y": -0.6834565744442515,
          "yref": "y"
         },
         {
          "ax": -0.512691745087378,
          "axref": "x",
          "ay": -0.2864860185687784,
          "ayref": "y",
          "opacity": 1,
          "showarrow": true,
          "x": -0.6059076978119341,
          "xref": "x",
          "y": -0.05441719150821686,
          "yref": "y"
         },
         {
          "ax": 0.22889467067023234,
          "axref": "x",
          "ay": -0.5315260641671706,
          "ayref": "y",
          "opacity": 1,
          "showarrow": true,
          "x": 0.5064719258244815,
          "xref": "x",
          "y": -0.4219772599058052,
          "yref": "y"
         },
         {
          "ax": -0.6426490869475334,
          "axref": "x",
          "ay": -0.5487406523453465,
          "ayref": "y",
          "opacity": 1,
          "showarrow": true,
          "x": -0.8008437106021672,
          "xref": "x",
          "y": -0.44779914217306904,
          "yref": "y"
         },
         {
          "ax": -0.017860908132377534,
          "axref": "x",
          "ay": -0.8503241883915621,
          "ayref": "y",
          "opacity": 1,
          "showarrow": true,
          "x": 0.13633855762056682,
          "xref": "x",
          "y": -0.9001744462423924,
          "yref": "y"
         },
         {
          "ax": -0.3805246357360015,
          "axref": "x",
          "ay": -0.4154305398419754,
          "ayref": "y",
          "opacity": 1,
          "showarrow": true,
          "x": -0.40765703378486906,
          "xref": "x",
          "y": -0.2478339734180124,
          "yref": "y"
         },
         {
          "ax": 0.33687008018086684,
          "axref": "x",
          "ay": -0.39480464405467836,
          "ayref": "y",
          "opacity": 1,
          "showarrow": true,
          "x": 0.6684350400904333,
          "xref": "x",
          "y": -0.21689512973706676,
          "yref": "y"
         },
         {
          "ax": -0.6072601152781132,
          "axref": "x",
          "ay": -0.15092920710256208,
          "ayref": "y",
          "opacity": 1,
          "showarrow": true,
          "x": -0.7477602530980366,
          "xref": "x",
          "y": 0.1489180256911076,
          "yref": "y"
         },
         {
          "ax": -0.10904531911426457,
          "axref": "x",
          "ay": 0.12312158681759117,
          "ayref": "y",
          "opacity": 1,
          "showarrow": true,
          "x": -0.00043805885226375074,
          "xref": "x",
          "y": 0.5599942165713375,
          "yref": "y"
         },
         {
          "ax": -0.19169307914813416,
          "axref": "x",
          "ay": -0.21011831294770456,
          "ayref": "y",
          "opacity": 1,
          "showarrow": true,
          "x": -0.12440969890306815,
          "xref": "x",
          "y": 0.06013436692339391,
          "yref": "y"
         },
         {
          "ax": -0.5091311077865326,
          "axref": "x",
          "ay": -0.5867220978271076,
          "ayref": "y",
          "opacity": 1,
          "showarrow": true,
          "x": -0.6005667418606658,
          "xref": "x",
          "y": -0.5047713103957107,
          "yref": "y"
         },
         {
          "ax": 0.006245678622340378,
          "axref": "x",
          "ay": -0.5469300788160705,
          "ayref": "y",
          "opacity": 1,
          "showarrow": true,
          "x": 0.17249843775264365,
          "xref": "x",
          "y": -0.4450832818791549,
          "yref": "y"
         },
         {
          "ax": -0.21301664292349473,
          "axref": "x",
          "ay": -0.8724216477686089,
          "ayref": "y",
          "opacity": 1,
          "showarrow": true,
          "x": -0.156395044566109,
          "xref": "x",
          "y": -0.9333206353079627,
          "yref": "y"
         },
         {
          "ax": -0.021970767085701143,
          "axref": "x",
          "ay": -0.06912439735377135,
          "ayref": "y",
          "opacity": 1,
          "showarrow": true,
          "x": 0.1301737691905814,
          "xref": "x",
          "y": 0.2716252403142937,
          "yref": "y"
         },
         {
          "ax": 0.46659208049387946,
          "axref": "x",
          "ay": -0.1760276568450372,
          "ayref": "y",
          "opacity": 1,
          "showarrow": true,
          "x": 0.2545739054077786,
          "xref": "x",
          "y": -0.41854759927036933,
          "yref": "y"
         },
         {
          "ax": 0.2669378293876483,
          "axref": "x",
          "ay": 0.6090152090349278,
          "ayref": "y",
          "opacity": 1,
          "showarrow": true,
          "x": -0.044907471251568215,
          "xref": "x",
          "y": 0.7590166995495782,
          "yref": "y"
         },
         {
          "ax": 0.09575239006479569,
          "axref": "x",
          "ay": 0.24333193177898588,
          "ayref": "y",
          "opacity": 1,
          "showarrow": true,
          "x": -0.30168563023584716,
          "xref": "x",
          "y": 0.2104917836656653,
          "yref": "y"
         },
         {
          "ax": 0.34500973573690735,
          "axref": "x",
          "ay": -0.016006338286735672,
          "ayref": "y",
          "opacity": 1,
          "showarrow": true,
          "x": 0.07220038827232039,
          "xref": "x",
          "y": -0.17851562143291705,
          "yref": "y"
         },
         {
          "ax": 0.837338805822406,
          "axref": "x",
          "ay": -0.0017081138194063594,
          "ayref": "y",
          "opacity": 1,
          "showarrow": true,
          "x": 0.8106939934005685,
          "xref": "x",
          "y": -0.15706828473192308,
          "yref": "y"
         },
         {
          "ax": -0.034204951795359706,
          "axref": "x",
          "ay": -0.018922701997582253,
          "ayref": "y",
          "opacity": 1,
          "showarrow": true,
          "x": -0.49662164302608025,
          "xref": "x",
          "y": -0.18289016699918687,
          "yref": "y"
         },
         {
          "ax": 0.6841087300716153,
          "axref": "x",
          "ay": -0.19879370986242775,
          "ayref": "y",
          "opacity": 1,
          "showarrow": true,
          "x": 0.5808488797743823,
          "xref": "x",
          "y": -0.4526966787964552,
          "yref": "y"
         },
         {
          "ax": 0.5905832270197963,
          "axref": "x",
          "ay": -0.32050623804379785,
          "ayref": "y",
          "opacity": 1,
          "showarrow": true,
          "x": 0.44056062519665373,
          "xref": "x",
          "y": -0.6352654710685103,
          "yref": "y"
         },
         {
          "ax": 0.22791949941617232,
          "axref": "x",
          "ay": 0.11438741050578885,
          "ayref": "y",
          "opacity": 1,
          "showarrow": true,
          "x": -0.1034349662087822,
          "xref": "x",
          "y": 0.017075001755869762,
          "yref": "y"
         },
         {
          "ax": -0.01658975886829045,
          "axref": "x",
          "ay": 0.15130886312073638,
          "ayref": "y",
          "opacity": 1,
          "showarrow": true,
          "x": -0.4701988536354763,
          "xref": "x",
          "y": 0.07245718067829104,
          "yref": "y"
         },
         {
          "ax": 0.9453142153330406,
          "axref": "x",
          "ay": 0.13501330629308594,
          "ayref": "y",
          "opacity": 1,
          "showarrow": true,
          "x": 0.9726571076665202,
          "xref": "x",
          "y": 0.04801384543681537,
          "yref": "y"
         },
         {
          "ax": 0.0011840198740606378,
          "axref": "x",
          "ay": 0.37888874324520216,
          "ayref": "y",
          "opacity": 1,
          "showarrow": true,
          "x": -0.4435381855219497,
          "xref": "x",
          "y": 0.41382700086498975,
          "yref": "y"
         },
         {
          "ax": 0.4993988160379092,
          "axref": "x",
          "ay": 0.6529395371653555,
          "ayref": "y",
          "opacity": 1,
          "showarrow": true,
          "x": 0.30378400872382316,
          "xref": "x",
          "y": 0.8249031917452196,
          "yref": "y"
         },
         {
          "ax": 0.4167510560040396,
          "axref": "x",
          "ay": 0.3196996374000597,
          "ayref": "y",
          "opacity": 1,
          "showarrow": true,
          "x": 0.17981236867301875,
          "xref": "x",
          "y": 0.32504334209727603,
          "yref": "y"
         },
         {
          "ax": 0.1356842443843615,
          "axref": "x",
          "ay": 0.508396807406092,
          "ayref": "y",
          "opacity": 1,
          "showarrow": true,
          "x": -0.24178784875649842,
          "xref": "x",
          "y": 0.6080890971063245,
          "yref": "y"
         },
         {
          "ax": 0.09931302736564113,
          "axref": "x",
          "ay": -0.05690414747934336,
          "ayref": "y",
          "opacity": 1,
          "showarrow": true,
          "x": -0.2963446742845789,
          "xref": "x",
          "y": -0.23986233522182854,
          "yref": "y"
         },
         {
          "ax": 0.504963638124229,
          "axref": "x",
          "ay": 0.12799692274221053,
          "ayref": "y",
          "opacity": 1,
          "showarrow": true,
          "x": 0.31213124185330277,
          "xref": "x",
          "y": 0.03748927011050226,
          "yref": "y"
         },
         {
          "ax": 0.7734082366310024,
          "axref": "x",
          "ay": 0.16170939217734986,
          "ayref": "y",
          "opacity": 1,
          "showarrow": true,
          "x": 0.7147981396134631,
          "xref": "x",
          "y": 0.08805797426321127,
          "yref": "y"
         },
         {
          "ax": 0.6146898137745141,
          "axref": "x",
          "ay": -0.017112128468306148,
          "ayref": "y",
          "opacity": 1,
          "showarrow": true,
          "x": 0.47672050532873056,
          "xref": "x",
          "y": -0.18017430670527274,
          "yref": "y"
         },
         {
          "ax": 0.395427492228679,
          "axref": "x",
          "ay": -0.3426036974208446,
          "ayref": "y",
          "opacity": 1,
          "showarrow": true,
          "x": 0.14782702300997788,
          "xref": "x",
          "y": -0.6684116601340806,
          "yref": "y"
         },
         {
          "ax": 0.5864733680664727,
          "axref": "x",
          "ay": 0.46069355299399295,
          "ayref": "y",
          "opacity": 1,
          "showarrow": true,
          "x": 0.43439583676666826,
          "xref": "x",
          "y": 0.5365342154881758,
          "yref": "y"
         },
         {
          "ax": 0.40523427001492013,
          "axref": "x",
          "ay": 0.5200693595184096,
          "ayref": "y",
          "opacity": 1,
          "showarrow": true,
          "x": 0.1625371896893395,
          "xref": "x",
          "y": 0.6255979252748007,
          "yref": "y"
         },
         {
          "ax": 0.1372347442315186,
          "axref": "x",
          "ay": -0.2123038332486308,
          "ayref": "y",
          "opacity": 1,
          "showarrow": true,
          "x": -0.2394620989857628,
          "xref": "x",
          "y": -0.4729618638757597,
          "yref": "y"
         },
         {
          "ax": -0.15709852078455355,
          "axref": "x",
          "ay": 0.12397532418426355,
          "ayref": "y",
          "opacity": 1,
          "showarrow": true,
          "x": -0.05727139523143796,
          "xref": "x",
          "y": -0.26854610875571894,
          "yref": "y"
         },
         {
          "ax": -0.27868086554152566,
          "axref": "x",
          "ay": 0.2839966427425651,
          "ayref": "y",
          "opacity": 1,
          "showarrow": true,
          "x": -0.2396449123668961,
          "xref": "x",
          "y": -0.028514130918266684,
          "yref": "y"
         },
         {
          "ax": -0.6402803601467235,
          "axref": "x",
          "ay": 0.45131184415003717,
          "ayref": "y",
          "opacity": 1,
          "showarrow": true,
          "x": -0.7820441542746929,
          "xref": "x",
          "y": 0.22245867119294144,
          "yref": "y"
         },
         {
          "ax": -0.11872696315420407,
          "axref": "x",
          "ay": 0.42799990377151126,
          "ayref": "y",
          "opacity": 1,
          "showarrow": true,
          "x": 0.0002859412140862744,
          "xref": "x",
          "y": 0.18749076062515263,
          "yref": "y"
         },
         {
          "ax": 0.14971763535256946,
          "axref": "x",
          "ay": 0.4617123732066506,
          "ayref": "y",
          "opacity": 1,
          "showarrow": true,
          "x": 0.40295283897424655,
          "xref": "x",
          "y": 0.23805946477786166,
          "yref": "y"
         },
         {
          "ax": -0.2184563312635129,
          "axref": "x",
          "ay": 0.8200723405477104,
          "ayref": "y",
          "opacity": 1,
          "showarrow": true,
          "x": -0.149308110949877,
          "xref": "x",
          "y": 0.7755994157894511,
          "yref": "y"
         },
         {
          "ax": -0.4864558570469144,
          "axref": "x",
          "ay": 0.08769914778066995,
          "ayref": "y",
          "opacity": 1,
          "showarrow": true,
          "x": -0.5513073996249793,
          "xref": "x",
          "y": -0.3229603733611094,
          "yref": "y"
         },
         {
          "ax": -0.5279382112136374,
          "axref": "x",
          "ay": 0.5433349128082866,
          "ayref": "y",
          "opacity": 1,
          "showarrow": true,
          "x": -0.6135309308750637,
          "xref": "x",
          "y": 0.3604932741803156,
          "yref": "y"
         },
         {
          "ax": 0.21364820454397307,
          "axref": "x",
          "ay": 0.2982948672098944,
          "ayref": "y",
          "opacity": 1,
          "showarrow": true,
          "x": 0.4988486927613519,
          "xref": "x",
          "y": -0.007066794217272687,
          "yref": "y"
         },
         {
          "ax": -0.6578955530737928,
          "axref": "x",
          "ay": 0.2810802790317185,
          "ayref": "y",
          "opacity": 1,
          "showarrow": true,
          "x": -0.8084669436652968,
          "xref": "x",
          "y": -0.0328886764845365,
          "yref": "y"
         },
         {
          "ax": 0.06041812879318223,
          "axref": "x",
          "ay": 0.101209271166873,
          "ayref": "y",
          "opacity": 1,
          "showarrow": true,
          "x": 0.2690035791351657,
          "xref": "x",
          "y": -0.30269518828180486,
          "yref": "y"
         },
         {
          "ax": -0.0331073742586368,
          "axref": "x",
          "ay": -0.020503257014497067,
          "ayref": "y",
          "opacity": 1,
          "showarrow": true,
          "x": 0.12871532455743717,
          "xref": "x",
          "y": -0.4852639805538599,
          "yref": "y"
         },
         {
          "ax": -0.3957711018622607,
          "axref": "x",
          "ay": 0.4143903915350896,
          "ayref": "y",
          "opacity": 1,
          "showarrow": true,
          "x": -0.41528026684799874,
          "xref": "x",
          "y": 0.16707649227052013,
          "yref": "y"
         },
         {
          "ax": 0.3216236140546076,
          "axref": "x",
          "ay": 0.4350162873223867,
          "ayref": "y",
          "opacity": 1,
          "showarrow": true,
          "x": 0.6608118070273037,
          "xref": "x",
          "y": 0.19801533595146575,
          "yref": "y"
         },
         {
          "ax": -0.6225065814043724,
          "axref": "x",
          "ay": 0.678891724274503,
          "ayref": "y",
          "opacity": 1,
          "showarrow": true,
          "x": -0.7553834861611662,
          "xref": "x",
          "y": 0.5638284913796401,
          "yref": "y"
         },
         {
          "ax": -0.12429178524052384,
          "axref": "x",
          "ay": 0.9529425181946563,
          "ayref": "y",
          "opacity": 1,
          "showarrow": true,
          "x": -0.008061291915393384,
          "xref": "x",
          "y": 0.97490468225987,
          "yref": "y"
         },
         {
          "ax": -0.20693954527439343,
          "axref": "x",
          "ay": 0.6197026184293605,
          "ayref": "y",
          "opacity": 1,
          "showarrow": true,
          "x": -0.13203293196619778,
          "xref": "x",
          "y": 0.4750448326119264,
          "yref": "y"
         },
         {
          "ax": -0.48800635689407157,
          "axref": "x",
          "ay": 0.8083997884353928,
          "ayref": "y",
          "opacity": 1,
          "showarrow": true,
          "x": -0.553633149395715,
          "xref": "x",
          "y": 0.7580905876209749,
          "yref": "y"
         },
         {
          "ax": -0.5243775739127919,
          "axref": "x",
          "ay": 0.2430988335499574,
          "ayref": "y",
          "opacity": 1,
          "showarrow": true,
          "x": -0.6081899749237955,
          "xref": "x",
          "y": -0.08986084470717817,
          "yref": "y"
         },
         {
          "ax": -0.009000787503918889,
          "axref": "x",
          "ay": 0.2828908525609946,
          "ayref": "y",
          "opacity": 1,
          "showarrow": true,
          "x": 0.164875204689514,
          "xref": "x",
          "y": -0.03017281619062237,
          "yref": "y"
         },
         {
          "ax": -0.228263109049754,
          "axref": "x",
          "ay": -0.04260071639154389,
          "ayref": "y",
          "opacity": 1,
          "showarrow": true,
          "x": -0.16401827762923865,
          "xref": "x",
          "y": -0.5184101696194302,
          "yref": "y"
         },
         {
          "ax": -0.03721723321196041,
          "axref": "x",
          "ay": 0.7606965340232936,
          "ayref": "y",
          "opacity": 1,
          "showarrow": true,
          "x": 0.12255053612745177,
          "xref": "x",
          "y": 0.6865357060028262,
          "yref": "y"
         },
         {
          "ax": -0.07902661443529448,
          "axref": "x",
          "ay": -0.5010462231374,
          "ayref": "y",
          "opacity": 1,
          "showarrow": true,
          "x": -0.018235442056808424,
          "xref": "x",
          "y": -0.5810568824165507,
          "yref": "y"
         },
         {
          "ax": -0.4498663048643783,
          "axref": "x",
          "ay": -0.08168663451337685,
          "ayref": "y",
          "opacity": 1,
          "showarrow": true,
          "x": -0.5744949777004341,
          "xref": "x",
          "y": 0.04798250051948391,
          "yref": "y"
         },
         {
          "ax": -0.5622084537974644,
          "axref": "x",
          "ay": -0.17370970317162635,
          "ayref": "y",
          "opacity": 1,
          "showarrow": true,
          "x": -0.7430082011000633,
          "xref": "x",
          "y": -0.09005210246789032,
          "yref": "y"
         },
         {
          "ax": -0.040655056804944995,
          "axref": "x",
          "ay": -0.1970216435501522,
          "ayref": "y",
          "opacity": 1,
          "showarrow": true,
          "x": 0.03932189438871581,
          "xref": "x",
          "y": -0.1250200130356791,
          "yref": "y"
         },
         {
          "ax": 0.22778954170182852,
          "axref": "x",
          "ay": -0.16330917411501286,
          "ayref": "y",
          "opacity": 1,
          "showarrow": true,
          "x": 0.4419887921488761,
          "xref": "x",
          "y": -0.0744513088829701,
          "yref": "y"
         },
         {
          "ax": -0.14038442491425385,
          "axref": "x",
          "ay": 0.19505079322604685,
          "ayref": "y",
          "opacity": 1,
          "showarrow": true,
          "x": -0.11027215777524746,
          "xref": "x",
          "y": 0.46308864212861944,
          "yref": "y"
         },
         {
          "ax": -0.4083839506976554,
          "axref": "x",
          "ay": -0.5373223995409935,
          "ayref": "y",
          "opacity": 1,
          "showarrow": true,
          "x": -0.5122714464503497,
          "xref": "x",
          "y": -0.6354711470219411,
          "yref": "y"
         },
         {
          "ax": 0.29172011089323213,
          "axref": "x",
          "ay": -0.3267266801117691,
          "ayref": "y",
          "opacity": 1,
          "showarrow": true,
          "x": 0.5378846459359815,
          "xref": "x",
          "y": -0.31957756787810443,
          "yref": "y"
         },
         {
          "ax": -0.5798236467245337,
          "axref": "x",
          "ay": -0.343941268289945,
          "ayref": "y",
          "opacity": 1,
          "showarrow": true,
          "x": -0.7694309904906672,
          "xref": "x",
          "y": -0.3453994501453682,
          "yref": "y"
         },
         {
          "ax": 0.1384900351424413,
          "axref": "x",
          "ay": -0.5238122761547905,
          "ayref": "y",
          "opacity": 1,
          "showarrow": true,
          "x": 0.30803953230979525,
          "xref": "x",
          "y": -0.6152059619426365,
          "yref": "y"
         },
         {
          "ax": 0.044964532090622275,
          "axref": "x",
          "ay": -0.6455248043361606,
          "ayref": "y",
          "opacity": 1,
          "showarrow": true,
          "x": 0.16775127773206672,
          "xref": "x",
          "y": -0.7977747542146916,
          "yref": "y"
         },
         {
          "ax": -0.31769919551300163,
          "axref": "x",
          "ay": -0.21063115578657388,
          "ayref": "y",
          "opacity": 1,
          "showarrow": true,
          "x": -0.3762443136733692,
          "xref": "x",
          "y": -0.14543428139031161,
          "yref": "y"
         },
         {
          "ax": 0.39969552040386663,
          "axref": "x",
          "ay": -0.1900052599992768,
          "ayref": "y",
          "opacity": 1,
          "showarrow": true,
          "x": 0.6998477602019333,
          "xref": "x",
          "y": -0.11449543770936599,
          "yref": "y"
         },
         {
          "ax": -0.5444346750551133,
          "axref": "x",
          "ay": 0.053870176952839466,
          "ayref": "y",
          "opacity": 1,
          "showarrow": true,
          "x": -0.7163475329865366,
          "xref": "x",
          "y": 0.2513177177188084,
          "yref": "y"
         },
         {
          "ax": -0.04621987889126476,
          "axref": "x",
          "ay": 0.3279209708729927,
          "ayref": "y",
          "opacity": 1,
          "showarrow": true,
          "x": 0.030974661259236154,
          "xref": "x",
          "y": 0.6623939085990384,
          "yref": "y"
         },
         {
          "ax": -0.12886763892513436,
          "axref": "x",
          "ay": -0.00531892889230301,
          "ayref": "y",
          "opacity": 1,
          "showarrow": true,
          "x": -0.09299697879156824,
          "xref": "x",
          "y": 0.16253405895109468,
          "yref": "y"
         },
         {
          "ax": -0.4099344505448125,
          "axref": "x",
          "ay": 0.18337824111372936,
          "ayref": "y",
          "opacity": 1,
          "showarrow": true,
          "x": -0.5145971962210854,
          "xref": "x",
          "y": 0.44557981396014323,
          "yref": "y"
         },
         {
          "ax": -0.44630566756353285,
          "axref": "x",
          "ay": -0.38192271377170606,
          "ayref": "y",
          "opacity": 1,
          "showarrow": true,
          "x": -0.5691540217491659,
          "xref": "x",
          "y": -0.40237161836800994,
          "yref": "y"
         },
         {
          "ax": 0.06907111884534019,
          "axref": "x",
          "ay": -0.3421306947606689,
          "ayref": "y",
          "opacity": 1,
          "showarrow": true,
          "x": 0.20391115786414354,
          "xref": "x",
          "y": -0.3426835898514541,
          "yref": "y"
         },
         {
          "ax": -0.15019120270049494,
          "axref": "x",
          "ay": -0.6676222637132074,
          "ayref": "y",
          "opacity": 1,
          "showarrow": true,
          "x": -0.1249823244546091,
          "xref": "x",
          "y": -0.8309209432802619,
          "yref": "y"
         },
         {
          "ax": 0.04085467313729867,
          "axref": "x",
          "ay": 0.1356749867016302,
          "ayref": "y",
          "opacity": 1,
          "showarrow": true,
          "x": 0.1615864893020813,
          "xref": "x",
          "y": 0.3740249323419945,
          "yref": "y"
         },
         {
          "ax": 0.2600723798994134,
          "axref": "x",
          "ay": -0.683833594713092,
          "ayref": "y",
          "opacity": 1,
          "showarrow": true,
          "x": 0.15131405511054552,
          "xref": "x",
          "y": -0.6724505682043967,
          "yref": "y"
         },
         {
          "ax": -0.11076731052967037,
          "axref": "x",
          "ay": -0.2644740060890689,
          "ayref": "y",
          "opacity": 1,
          "showarrow": true,
          "x": -0.4049454805330802,
          "xref": "x",
          "y": -0.04341118526836213,
          "yref": "y"
         },
         {
          "ax": 0.63081910522794,
          "axref": "x",
          "ay": -0.5095140516874612,
          "ayref": "y",
          "opacity": 1,
          "showarrow": true,
          "x": 0.7074341431033354,
          "xref": "x",
          "y": -0.41097125366595044,
          "yref": "y"
         },
         {
          "ax": -0.24072465238982577,
          "axref": "x",
          "ay": -0.526728639865637,
          "ayref": "y",
          "opacity": 1,
          "showarrow": true,
          "x": -0.5998814933233133,
          "xref": "x",
          "y": -0.4367931359332143,
          "yref": "y"
         },
         {
          "ax": -0.2231094594627565,
          "axref": "x",
          "ay": -0.3564970747473184,
          "ayref": "y",
          "opacity": 1,
          "showarrow": true,
          "x": -0.5734587039327094,
          "xref": "x",
          "y": -0.18144578825573635,
          "yref": "y"
         },
         {
          "ax": -0.07083545621010456,
          "axref": "x",
          "ay": 0.0005908695380372753,
          "ayref": "y",
          "opacity": 1,
          "showarrow": true,
          "x": -0.34504769905373145,
          "xref": "x",
          "y": 0.35418612817229717,
          "yref": "y"
         },
         {
          "ax": 0.2984439375297629,
          "axref": "x",
          "ay": -0.3798090151258443,
          "ayref": "y",
          "opacity": 1,
          "showarrow": true,
          "x": 0.20887139155606976,
          "xref": "x",
          "y": -0.21641369882352515,
          "yref": "y"
         },
         {
          "ax": 0.5668885360365364,
          "axref": "x",
          "ay": -0.3460965456907049,
          "ayref": "y",
          "opacity": 1,
          "showarrow": true,
          "x": 0.61153828931623,
          "xref": "x",
          "y": -0.16584499467081615,
          "yref": "y"
         },
         {
          "ax": 0.19871456942045407,
          "axref": "x",
          "ay": 0.012263421650354767,
          "ayref": "y",
          "opacity": 1,
          "showarrow": true,
          "x": 0.059277339392106485,
          "xref": "x",
          "y": 0.3716949563407734,
          "yref": "y"
         },
         {
          "ax": -0.06928495636294746,
          "axref": "x",
          "ay": -0.7201097711166856,
          "ayref": "y",
          "opacity": 1,
          "showarrow": true,
          "x": -0.3427219492829958,
          "xref": "x",
          "y": -0.7268648328097871,
          "yref": "y"
         },
         {
          "ax": 0.38406352642533015,
          "axref": "x",
          "ay": -0.8283121759118526,
          "ayref": "y",
          "opacity": 1,
          "showarrow": true,
          "x": 0.3373007748994207,
          "xref": "x",
          "y": -0.8891684400025377,
          "yref": "y"
         },
         {
          "ax": 0.021399798821706256,
          "axref": "x",
          "ay": -0.39341852736226596,
          "ayref": "y",
          "opacity": 1,
          "showarrow": true,
          "x": -0.20669481650601523,
          "xref": "x",
          "y": -0.23682796717815763,
          "yref": "y"
         },
         {
          "ax": 0.7387945147385746,
          "axref": "x",
          "ay": -0.3727926315749689,
          "ayref": "y",
          "opacity": 1,
          "showarrow": true,
          "x": 0.8693972573692872,
          "xref": "x",
          "y": -0.20588912349721203,
          "yref": "y"
         },
         {
          "ax": -0.20533568072040542,
          "axref": "x",
          "ay": -0.12891719462285262,
          "ayref": "y",
          "opacity": 1,
          "showarrow": true,
          "x": -0.5467980358191827,
          "xref": "x",
          "y": 0.15992403193096233,
          "yref": "y"
         },
         {
          "ax": 0.29287911544344314,
          "axref": "x",
          "ay": 0.14513359929730063,
          "ayref": "y",
          "opacity": 1,
          "showarrow": true,
          "x": 0.2005241584265901,
          "xref": "x",
          "y": 0.5710002228111923,
          "yref": "y"
         },
         {
          "ax": 0.21023135540957355,
          "axref": "x",
          "ay": -0.1881063004679951,
          "ayref": "y",
          "opacity": 1,
          "showarrow": true,
          "x": 0.07655251837578571,
          "xref": "x",
          "y": 0.07114037316324864,
          "yref": "y"
         },
         {
          "ax": -0.10720667322882493,
          "axref": "x",
          "ay": -0.5647100853473982,
          "ayref": "y",
          "opacity": 1,
          "showarrow": true,
          "x": -0.39960452458181195,
          "xref": "x",
          "y": -0.49376530415585596,
          "yref": "y"
         },
         {
          "ax": 0.4081701131800481,
          "axref": "x",
          "ay": -0.524918066336361,
          "ayref": "y",
          "opacity": 1,
          "showarrow": true,
          "x": 0.3734606550314975,
          "xref": "x",
          "y": -0.43407727563930015,
          "yref": "y"
         },
         {
          "ax": 0.18890779163421298,
          "axref": "x",
          "ay": -0.8504096352888995,
          "ayref": "y",
          "opacity": 1,
          "showarrow": true,
          "x": 0.04456717271274485,
          "xref": "x",
          "y": -0.9223146290681079,
          "yref": "y"
         },
         {
          "ax": 0.37995366747200654,
          "axref": "x",
          "ay": -0.047112384874061886,
          "ayref": "y",
          "opacity": 1,
          "showarrow": true,
          "x": 0.33113598646943526,
          "xref": "x",
          "y": 0.28263124655414845,
          "yref": "y"
         },
         {
          "ax": -0.4406261090404923,
          "axref": "x",
          "ay": -0.33373102172992786,
          "ayref": "y",
          "opacity": 1,
          "showarrow": true,
          "x": -0.19903518935940734,
          "xref": "x",
          "y": -0.49739928171281467,
          "yref": "y"
         },
         {
          "ax": -0.8114657994695761,
          "axref": "x",
          "ay": 0.0856285668940952,
          "ayref": "y",
          "opacity": 1,
          "showarrow": true,
          "x": -0.7552947250030331,
          "xref": "x",
          "y": 0.13164010122321995,
          "yref": "y"
         },
         {
          "ax": -0.06987938371196567,
          "axref": "x",
          "ay": -0.15941147870429703,
          "ayref": "y",
          "opacity": 1,
          "showarrow": true,
          "x": 0.35708489863338255,
          "xref": "x",
          "y": -0.2359199671743684,
          "yref": "y"
         },
         {
          "ax": -0.9414231413297315,
          "axref": "x",
          "ay": -0.17662606688247293,
          "ayref": "y",
          "opacity": 1,
          "showarrow": true,
          "x": -0.9502307377932662,
          "xref": "x",
          "y": -0.2617418494416322,
          "yref": "y"
         },
         {
          "ax": -0.31663496251457557,
          "axref": "x",
          "ay": -0.47820960292868847,
          "ayref": "y",
          "opacity": 1,
          "showarrow": true,
          "x": -0.013048469570532184,
          "xref": "x",
          "y": -0.7141171535109556,
          "yref": "y"
         },
         {
          "ax": -0.6792986901181994,
          "axref": "x",
          "ay": -0.043315954379101816,
          "ayref": "y",
          "opacity": 1,
          "showarrow": true,
          "x": -0.5570440609759681,
          "xref": "x",
          "y": -0.061776680686575575,
          "yref": "y"
         },
         {
          "ax": -0.4022545514101428,
          "axref": "x",
          "ay": -0.029706442142680145,
          "ayref": "y",
          "opacity": 1,
          "showarrow": true,
          "x": -0.1414778529138831,
          "xref": "x",
          "y": -0.04136241233194308,
          "yref": "y"
         },
         {
          "ax": -0.13380995290336928,
          "axref": "x",
          "ay": 0.004006027292459194,
          "ayref": "y",
          "opacity": 1,
          "showarrow": true,
          "x": 0.2611890448462772,
          "xref": "x",
          "y": 0.009206291820765935,
          "yref": "y"
         },
         {
          "ax": -0.5019839195194516,
          "axref": "x",
          "ay": 0.36236599463351893,
          "ayref": "y",
          "opacity": 1,
          "showarrow": true,
          "x": -0.29107190507784636,
          "xref": "x",
          "y": 0.5467462428323554,
          "yref": "y"
         },
         {
          "ax": -0.7699834453028531,
          "axref": "x",
          "ay": -0.37000719813352145,
          "ayref": "y",
          "opacity": 1,
          "showarrow": true,
          "x": -0.6930711937529487,
          "xref": "x",
          "y": -0.5518135463182051,
          "yref": "y"
         },
         {
          "ax": 0.03809602579866883,
          "axref": "x",
          "ay": -0.02269005859180474,
          "ayref": "y",
          "opacity": 1,
          "showarrow": true,
          "x": 0.5190480128993343,
          "xref": "x",
          "y": -0.03083783700562997,
          "yref": "y"
         },
         {
          "ax": -0.9060341696603111,
          "axref": "x",
          "ay": 0.22118537836031152,
          "ayref": "y",
          "opacity": 1,
          "showarrow": true,
          "x": -0.8971472802891356,
          "xref": "x",
          "y": 0.3349753184225444,
          "yref": "y"
         },
         {
          "ax": -0.4078193734964626,
          "axref": "x",
          "ay": 0.4952361722804648,
          "ayref": "y",
          "opacity": 1,
          "showarrow": true,
          "x": -0.14982508604336275,
          "xref": "x",
          "y": 0.7460515093027743,
          "yref": "y"
         },
         {
          "ax": -0.49046713353033217,
          "axref": "x",
          "ay": 0.16199627251516904,
          "ayref": "y",
          "opacity": 1,
          "showarrow": true,
          "x": -0.27379672609416716,
          "xref": "x",
          "y": 0.24619165965483072,
          "yref": "y"
         },
         {
          "ax": -0.7715339451500103,
          "axref": "x",
          "ay": 0.35069344252120144,
          "ayref": "y",
          "opacity": 1,
          "showarrow": true,
          "x": -0.6953969435236843,
          "xref": "x",
          "y": 0.5292374146638792,
          "yref": "y"
         },
         {
          "ax": -0.8079051621687307,
          "axref": "x",
          "ay": -0.21460751236423403,
          "ayref": "y",
          "opacity": 1,
          "showarrow": true,
          "x": -0.7499537690517648,
          "xref": "x",
          "y": -0.3187140176642739,
          "yref": "y"
         },
         {
          "ax": -0.29252837575985763,
          "axref": "x",
          "ay": -0.17481549335319682,
          "ayref": "y",
          "opacity": 1,
          "showarrow": true,
          "x": 0.023111410561544643,
          "xref": "x",
          "y": -0.25902598914771807,
          "yref": "y"
         },
         {
          "ax": -0.5117906973056927,
          "axref": "x",
          "ay": -0.5003070623057353,
          "ayref": "y",
          "opacity": 1,
          "showarrow": true,
          "x": -0.305782071757208,
          "xref": "x",
          "y": -0.7472633425765259,
          "yref": "y"
         },
         {
          "ax": -0.3207448214678992,
          "axref": "x",
          "ay": 0.3029901881091023,
          "ayref": "y",
          "opacity": 1,
          "showarrow": true,
          "x": -0.019213258000517597,
          "xref": "x",
          "y": 0.45768253304573053,
          "yref": "y"
         },
         {
          "ax": -0.2883521057878404,
          "axref": "x",
          "ay": 0.023356922555427817,
          "ayref": "y",
          "opacity": 1,
          "showarrow": true,
          "x": -0.12289818773308137,
          "xref": "x",
          "y": -0.31885530957013686,
          "yref": "y"
         },
         {
          "ax": -0.6591917962169241,
          "axref": "x",
          "ay": 0.4427165111794509,
          "ayref": "y",
          "opacity": 1,
          "showarrow": true,
          "x": -0.6791577233767071,
          "xref": "x",
          "y": 0.3101840733658978,
          "yref": "y"
         },
         {
          "ax": 0.08239461954068628,
          "axref": "x",
          "ay": 0.19767646558105867,
          "ayref": "y",
          "opacity": 1,
          "showarrow": true,
          "x": 0.4332219002597085,
          "xref": "x",
          "y": -0.05737599503169055,
          "yref": "y"
         },
         {
          "ax": -0.7891491380770795,
          "axref": "x",
          "ay": 0.18046187740288278,
          "ayref": "y",
          "opacity": 1,
          "showarrow": true,
          "x": -0.8740937361669402,
          "xref": "x",
          "y": -0.08319787729895436,
          "yref": "y"
         },
         {
          "ax": -0.1643609592619236,
          "axref": "x",
          "ay": -0.1211216586433328,
          "ayref": "y",
          "opacity": 1,
          "showarrow": true,
          "x": 0.06308853205579379,
          "xref": "x",
          "y": -0.5355731813682777,
          "yref": "y"
         },
         {
          "ax": -0.5270246868655475,
          "axref": "x",
          "ay": 0.3137719899062539,
          "ayref": "y",
          "opacity": 1,
          "showarrow": true,
          "x": -0.4809070593496421,
          "xref": "x",
          "y": 0.11676729145610228,
          "yref": "y"
         },
         {
          "ax": 0.19037002905132078,
          "axref": "x",
          "ay": 0.33439788569355094,
          "ayref": "y",
          "opacity": 1,
          "showarrow": true,
          "x": 0.5951850145256603,
          "xref": "x",
          "y": 0.1477061351370479,
          "yref": "y"
         },
         {
          "ax": -0.7537601664076592,
          "axref": "x",
          "ay": 0.5782733226456672,
          "ayref": "y",
          "opacity": 1,
          "showarrow": true,
          "x": -0.8210102786628096,
          "xref": "x",
          "y": 0.5135192905652223,
          "yref": "y"
         },
         {
          "ax": -0.25554537024381063,
          "axref": "x",
          "ay": 0.8523241165658204,
          "ayref": "y",
          "opacity": 1,
          "showarrow": true,
          "x": -0.07368808441703678,
          "xref": "x",
          "y": 0.9245954814454522,
          "yref": "y"
         },
         {
          "ax": -0.3381931302776802,
          "axref": "x",
          "ay": 0.5190842168005247,
          "ayref": "y",
          "opacity": 1,
          "showarrow": true,
          "x": -0.1976597244678412,
          "xref": "x",
          "y": 0.42473563179750856,
          "yref": "y"
         },
         {
          "ax": -0.24998054815749088,
          "axref": "x",
          "ay": 0.32738150214267553,
          "ayref": "y",
          "opacity": 1,
          "showarrow": true,
          "x": -0.06534085128755712,
          "xref": "x",
          "y": 0.13718155981073477,
          "yref": "y"
         },
         {
          "ax": 0.018464050349282668,
          "axref": "x",
          "ay": 0.36109397157781487,
          "ayref": "y",
          "opacity": 1,
          "showarrow": true,
          "x": 0.33732604647260317,
          "xref": "x",
          "y": 0.1877502639634438,
          "yref": "y"
         },
         {
          "ax": -0.3497099162667997,
          "axref": "x",
          "ay": 0.7194539389188745,
          "ayref": "y",
          "opacity": 1,
          "showarrow": true,
          "x": -0.2149349034515204,
          "xref": "x",
          "y": 0.7252902149750333,
          "yref": "y"
         },
         {
          "ax": -0.6177094420502012,
          "axref": "x",
          "ay": -0.01291925384816578,
          "ayref": "y",
          "opacity": 1,
          "showarrow": true,
          "x": -0.6169341921266227,
          "xref": "x",
          "y": -0.3732695741755272,
          "yref": "y"
         },
         {
          "ax": -0.6556311589160787,
          "axref": "x",
          "ay": 0.14248043192112167,
          "ayref": "y",
          "opacity": 1,
          "showarrow": true,
          "x": -0.6738167674254388,
          "xref": "x",
          "y": -0.14017004552159604,
          "yref": "y"
         },
         {
          "ax": -0.14025437250720568,
          "axref": "x",
          "ay": 0.18227245093215888,
          "ayref": "y",
          "opacity": 1,
          "showarrow": true,
          "x": 0.09924841218787062,
          "xref": "x",
          "y": -0.08048201700504024,
          "yref": "y"
         },
         {
          "ax": -0.3595166940530408,
          "axref": "x",
          "ay": -0.14321911802037962,
          "ayref": "y",
          "opacity": 1,
          "showarrow": true,
          "x": -0.22964507013088203,
          "xref": "x",
          "y": -0.568719370433848,
          "yref": "y"
         },
         {
          "ax": -0.1684708182152472,
          "axref": "x",
          "ay": 0.660078132394458,
          "ayref": "y",
          "opacity": 1,
          "showarrow": true,
          "x": 0.056923743625808376,
          "xref": "x",
          "y": 0.6362265051884084,
          "yref": "y"
         },
         {
          "ax": 0.08092728795202712,
          "axref": "x",
          "ay": -0.35704296210845377,
          "ayref": "y",
          "opacity": 1,
          "showarrow": true,
          "x": 0.06174150913685238,
          "xref": "x",
          "y": -0.5090552519020776,
          "yref": "y"
         },
         {
          "ax": -0.2899124024770567,
          "axref": "x",
          "ay": 0.06231662651556935,
          "ayref": "y",
          "opacity": 1,
          "showarrow": true,
          "x": -0.49451802650677334,
          "xref": "x",
          "y": 0.11998413103395701,
          "yref": "y"
         },
         {
          "ax": 0.45167401328055373,
          "axref": "x",
          "ay": -0.18272341908282289,
          "ayref": "y",
          "opacity": 1,
          "showarrow": true,
          "x": 0.6178615971296423,
          "xref": "x",
          "y": -0.24757593736363134,
          "yref": "y"
         },
         {
          "ax": -0.4198697443372121,
          "axref": "x",
          "ay": -0.19993800726099878,
          "ayref": "y",
          "opacity": 1,
          "showarrow": true,
          "x": -0.6894540392970064,
          "xref": "x",
          "y": -0.27339781963089516,
          "yref": "y"
         },
         {
          "ax": 0.2049184344779439,
          "axref": "x",
          "ay": -0.5015215433072143,
          "ayref": "y",
          "opacity": 1,
          "showarrow": true,
          "x": 0.24772822892572752,
          "xref": "x",
          "y": -0.7257731237002185,
          "yref": "y"
         },
         {
          "ax": -0.15774529312568003,
          "axref": "x",
          "ay": -0.06662789475762768,
          "ayref": "y",
          "opacity": 1,
          "showarrow": true,
          "x": -0.29626736247970836,
          "xref": "x",
          "y": -0.0734326508758385,
          "yref": "y"
         },
         {
          "ax": 0.5596494227911882,
          "axref": "x",
          "ay": -0.046001998970330596,
          "ayref": "y",
          "opacity": 1,
          "showarrow": true,
          "x": 0.7798247113955941,
          "xref": "x",
          "y": -0.042493807194892895,
          "yref": "y"
         },
         {
          "ax": -0.38448077266779174,
          "axref": "x",
          "ay": 0.19787343798178567,
          "ayref": "y",
          "opacity": 1,
          "showarrow": true,
          "x": -0.6363705817928759,
          "xref": "x",
          "y": 0.32331934823328146,
          "yref": "y"
         },
         {
          "ax": 0.11373402349605684,
          "axref": "x",
          "ay": 0.4719242319019389,
          "ayref": "y",
          "opacity": 1,
          "showarrow": true,
          "x": 0.11095161245289695,
          "xref": "x",
          "y": 0.7343955391135114,
          "yref": "y"
         },
         {
          "ax": 0.031086263462187243,
          "axref": "x",
          "ay": 0.1386843321366432,
          "ayref": "y",
          "opacity": 1,
          "showarrow": true,
          "x": -0.013020027597907442,
          "xref": "x",
          "y": 0.23453568946556777,
          "yref": "y"
         },
         {
          "ax": -0.28635176517621125,
          "axref": "x",
          "ay": -0.23791945274275988,
          "ayref": "y",
          "opacity": 1,
          "showarrow": true,
          "x": -0.4891770705555051,
          "xref": "x",
          "y": -0.33036998785353683,
          "yref": "y"
         },
         {
          "ax": 0.01956947747306776,
          "axref": "x",
          "ay": 0.339054054254993,
          "ayref": "y",
          "opacity": 1,
          "showarrow": true,
          "x": -0.030295206581586666,
          "xref": "x",
          "y": 0.5350902726430925,
          "yref": "y"
         },
         {
          "ax": -0.24843004831033377,
          "axref": "x",
          "ay": -0.39331913851204736,
          "ayref": "y",
          "opacity": 1,
          "showarrow": true,
          "x": -0.43229449525668895,
          "xref": "x",
          "y": -0.563469516507468,
          "yref": "y"
         },
         {
          "ax": 0.3877434440891501,
          "axref": "x",
          "ay": -0.019305913086066665,
          "ayref": "y",
          "opacity": 1,
          "showarrow": true,
          "x": 0.5219657433425369,
          "xref": "x",
          "y": -0.0024496783684969953,
          "yref": "y"
         },
         {
          "ax": 0.22902502123266177,
          "axref": "x",
          "ay": -0.19812743373172267,
          "ayref": "y",
          "opacity": 1,
          "showarrow": true,
          "x": 0.28388810905780437,
          "xref": "x",
          "y": -0.270681959336981,
          "yref": "y"
         },
         {
          "ax": 0.009762699686826672,
          "axref": "x",
          "ay": -0.5236190026842612,
          "ayref": "y",
          "opacity": 1,
          "showarrow": true,
          "x": -0.0450053732609483,
          "xref": "x",
          "y": -0.7589193127657888,
          "yref": "y"
         },
         {
          "ax": 0.20080857552462028,
          "axref": "x",
          "ay": 0.27967824773057637,
          "ayref": "y",
          "opacity": 1,
          "showarrow": true,
          "x": 0.2415634404957421,
          "xref": "x",
          "y": 0.4460265628564676,
          "yref": "y"
         },
         {
          "ax": 0.34937188645880063,
          "axref": "x",
          "ay": -0.3233304926733144,
          "ayref": "y",
          "opacity": 1,
          "showarrow": true,
          "x": 0.19596380839023914,
          "xref": "x",
          "y": -0.4921990171845079,
          "yref": "y"
         },
         {
          "ax": -0.02146780397028314,
          "axref": "x",
          "ay": 0.09602909595070869,
          "ayref": "y",
          "opacity": 1,
          "showarrow": true,
          "x": -0.3602957272533866,
          "xref": "x",
          "y": 0.1368403657515267,
          "yref": "y"
         },
         {
          "ax": 0.7201186117873273,
          "axref": "x",
          "ay": -0.14901094964768355,
          "ayref": "y",
          "opacity": 1,
          "showarrow": true,
          "x": 0.752083896383029,
          "xref": "x",
          "y": -0.23071970264606168,
          "yref": "y"
         },
         {
          "ax": -0.15142514583043853,
          "axref": "x",
          "ay": -0.16622553782585944,
          "ayref": "y",
          "opacity": 1,
          "showarrow": true,
          "x": -0.5552317400436197,
          "xref": "x",
          "y": -0.25654158491332546,
          "yref": "y"
         },
         {
          "ax": 0.4733630329847174,
          "axref": "x",
          "ay": -0.46780907387207504,
          "ayref": "y",
          "opacity": 1,
          "showarrow": true,
          "x": 0.3819505281791143,
          "xref": "x",
          "y": -0.7089168889826488,
          "yref": "y"
         },
         {
          "ax": 0.11069930538109349,
          "axref": "x",
          "ay": -0.03291542532248833,
          "ayref": "y",
          "opacity": 1,
          "showarrow": true,
          "x": -0.16204506322632162,
          "xref": "x",
          "y": -0.05657641615826883,
          "yref": "y"
         },
         {
          "ax": 0.8280940212979617,
          "axref": "x",
          "ay": -0.01228952953519126,
          "ayref": "y",
          "opacity": 1,
          "showarrow": true,
          "x": 0.9140470106489809,
          "xref": "x",
          "y": -0.025637572477323227,
          "yref": "y"
         },
         {
          "ax": -0.11603617416101819,
          "axref": "x",
          "ay": 0.231585907416925,
          "ayref": "y",
          "opacity": 1,
          "showarrow": true,
          "x": -0.5021482825394892,
          "xref": "x",
          "y": 0.34017558295085115,
          "yref": "y"
         },
         {
          "ax": 0.38217862200283037,
          "axref": "x",
          "ay": 0.5056367013370783,
          "ayref": "y",
          "opacity": 1,
          "showarrow": true,
          "x": 0.24517391170628372,
          "xref": "x",
          "y": 0.7512517738310811,
          "yref": "y"
         },
         {
          "ax": 0.2995308619689608,
          "axref": "x",
          "ay": 0.17239680157178253,
          "ayref": "y",
          "opacity": 1,
          "showarrow": true,
          "x": 0.12120227165547932,
          "xref": "x",
          "y": 0.25139192418313744,
          "yref": "y"
         },
         {
          "ax": -0.017907166669437702,
          "axref": "x",
          "ay": -0.20420698330762055,
          "ayref": "y",
          "opacity": 1,
          "showarrow": true,
          "x": -0.35495477130211833,
          "xref": "x",
          "y": -0.31351375313596713,
          "yref": "y"
         },
         {
          "ax": 0.2880140759798413,
          "axref": "x",
          "ay": 0.3727665236901324,
          "ayref": "y",
          "opacity": 1,
          "showarrow": true,
          "x": 0.1039270926718001,
          "xref": "x",
          "y": 0.5519465073606622,
          "yref": "y"
         },
         {
          "ax": 0.020014550196439773,
          "axref": "x",
          "ay": -0.35960666907690797,
          "ayref": "y",
          "opacity": 1,
          "showarrow": true,
          "x": -0.2980721960033022,
          "xref": "x",
          "y": -0.5466132817898983,
          "yref": "y"
         },
         {
          "ax": 0.4974696197394353,
          "axref": "x",
          "ay": -0.16441496429658334,
          "ayref": "y",
          "opacity": 1,
          "showarrow": true,
          "x": 0.4181104083111911,
          "xref": "x",
          "y": -0.25382572461941133,
          "yref": "y"
         },
         {
          "ax": 0.2782072981936002,
          "axref": "x",
          "ay": -0.4899065332491218,
          "ayref": "y",
          "opacity": 1,
          "showarrow": true,
          "x": 0.08921692599243847,
          "xref": "x",
          "y": -0.7420630780482191,
          "yref": "y"
         },
         {
          "ax": 0.46925317403139377,
          "axref": "x",
          "ay": 0.31339071716571576,
          "ayref": "y",
          "opacity": 1,
          "showarrow": true,
          "x": 0.3757857397491289,
          "xref": "x",
          "y": 0.4628827975740373,
          "yref": "y"
         },
         {
          "ax": -0.018802080157281725,
          "axref": "x",
          "ay": 0.03502947466774531,
          "ayref": "y",
          "opacity": 1,
          "showarrow": true,
          "x": 0.011876825082197954,
          "xref": "x",
          "y": -0.3130190335139781,
          "yref": "y"
         },
         {
          "ax": -0.3896417705863655,
          "axref": "x",
          "ay": 0.4543890632917684,
          "ayref": "y",
          "opacity": 1,
          "showarrow": true,
          "x": -0.5443827105614278,
          "xref": "x",
          "y": 0.31602034942205653,
          "yref": "y"
         },
         {
          "ax": 0.3519446451712449,
          "axref": "x",
          "ay": 0.20934901769337616,
          "ayref": "y",
          "opacity": 1,
          "showarrow": true,
          "x": 0.5679969130749878,
          "xref": "x",
          "y": -0.051539718975531806,
          "yref": "y"
         },
         {
          "ax": -0.5195991124465209,
          "axref": "x",
          "ay": 0.19213442951520027,
          "ayref": "y",
          "opacity": 1,
          "showarrow": true,
          "x": -0.7393187233516609,
          "xref": "x",
          "y": -0.07736160124279562,
          "yref": "y"
         },
         {
          "ax": 0.10518906636863504,
          "axref": "x",
          "ay": -0.1094491065310153,
          "ayref": "y",
          "opacity": 1,
          "showarrow": true,
          "x": 0.1978635448710731,
          "xref": "x",
          "y": -0.529736905312119,
          "yref": "y"
         },
         {
          "ax": -0.2574746612349889,
          "axref": "x",
          "ay": 0.32544454201857137,
          "ayref": "y",
          "opacity": 1,
          "showarrow": true,
          "x": -0.3461320465343628,
          "xref": "x",
          "y": 0.12260356751226102,
          "yref": "y"
         },
         {
          "ax": 0.4599200546818794,
          "axref": "x",
          "ay": 0.34607043780586844,
          "ayref": "y",
          "opacity": 1,
          "showarrow": true,
          "x": 0.7299600273409396,
          "xref": "x",
          "y": 0.15354241119320663,
          "yref": "y"
         },
         {
          "ax": -0.48421014077710056,
          "axref": "x",
          "ay": 0.5899458747579847,
          "ayref": "y",
          "opacity": 1,
          "showarrow": true,
          "x": -0.6862352658475304,
          "xref": "x",
          "y": 0.5193555666213809,
          "yref": "y"
         },
         {
          "ax": 0.014004655386747993,
          "axref": "x",
          "ay": 0.863996668678138,
          "ayref": "y",
          "opacity": 1,
          "showarrow": true,
          "x": 0.061086928398242535,
          "xref": "x",
          "y": 0.930431757501611,
          "yref": "y"
         },
         {
          "ax": -0.0686431046471216,
          "axref": "x",
          "ay": 0.5307567689128423,
          "ayref": "y",
          "opacity": 1,
          "showarrow": true,
          "x": -0.06288471165256186,
          "xref": "x",
          "y": 0.4305719078536673,
          "yref": "y"
         },
         {
          "ax": -0.3860811332855201,
          "axref": "x",
          "ay": 0.15415298403343916,
          "ayref": "y",
          "opacity": 1,
          "showarrow": true,
          "x": -0.5390417546101596,
          "xref": "x",
          "y": -0.1343337694654373,
          "yref": "y"
         },
         {
          "ax": 0.12929565312335295,
          "axref": "x",
          "ay": 0.19394500304447637,
          "ayref": "y",
          "opacity": 1,
          "showarrow": true,
          "x": 0.23402342500314993,
          "xref": "x",
          "y": -0.07464574094888149,
          "yref": "y"
         },
         {
          "ax": -0.08996666842248217,
          "axref": "x",
          "ay": -0.13154656590806213,
          "ayref": "y",
          "opacity": 1,
          "showarrow": true,
          "x": -0.09487005731560272,
          "xref": "x",
          "y": -0.5628830943776892,
          "yref": "y"
         },
         {
          "ax": 0.10107920741531143,
          "axref": "x",
          "ay": 0.6717506845067754,
          "ayref": "y",
          "opacity": 1,
          "showarrow": true,
          "x": 0.1916987564410877,
          "xref": "x",
          "y": 0.6420627812445672,
          "yref": "y"
         },
         {
          "ax": -0.3481594164196426,
          "axref": "x",
          "ay": -0.001246701735848288,
          "ayref": "y",
          "opacity": 1,
          "showarrow": true,
          "x": -0.4821591793113434,
          "xref": "x",
          "y": -0.3674332981193685,
          "yref": "y"
         },
         {
          "ax": -0.28680160594068327,
          "axref": "x",
          "ay": -0.6973437180992951,
          "ayref": "y",
          "opacity": 1,
          "showarrow": true,
          "x": -0.12212293780950281,
          "xref": "x",
          "y": -0.6792056298974982,
          "yref": "y"
         },
         {
          "ax": -0.6576412963697671,
          "axref": "x",
          "ay": -0.27798412947527196,
          "ayref": "y",
          "opacity": 1,
          "showarrow": true,
          "x": -0.6783824734531285,
          "xref": "x",
          "y": -0.050166246961463656,
          "yref": "y"
         },
         {
          "ax": 0.08394511938784338,
          "axref": "x",
          "ay": -0.5230241750736642,
          "ayref": "y",
          "opacity": 1,
          "showarrow": true,
          "x": 0.4339971501832871,
          "xref": "x",
          "y": -0.417726315359052,
          "yref": "y"
         },
         {
          "ax": -0.7875986382299225,
          "axref": "x",
          "ay": -0.5402387632518402,
          "ayref": "y",
          "opacity": 1,
          "showarrow": true,
          "x": -0.8733184862433616,
          "xref": "x",
          "y": -0.4435481976263158,
          "yref": "y"
         },
         {
          "ax": -0.1628104594147665,
          "axref": "x",
          "ay": -0.8418222992980557,
          "ayref": "y",
          "opacity": 1,
          "showarrow": true,
          "x": 0.06386378197937234,
          "xref": "x",
          "y": -0.8959235016956392,
          "yref": "y"
         },
         {
          "ax": -0.5254741870183904,
          "axref": "x",
          "ay": -0.406928650748469,
          "ayref": "y",
          "opacity": 1,
          "showarrow": true,
          "x": -0.4801318094260636,
          "xref": "x",
          "y": -0.24358302887125916,
          "yref": "y"
         },
         {
          "ax": 0.19192052889847788,
          "axref": "x",
          "ay": -0.38630275496117195,
          "ayref": "y",
          "opacity": 1,
          "showarrow": true,
          "x": 0.5959602644492389,
          "xref": "x",
          "y": -0.21264418519031356,
          "yref": "y"
         },
         {
          "ax": -0.752209666560502,
          "axref": "x",
          "ay": -0.14242731800905567,
          "ayref": "y",
          "opacity": 1,
          "showarrow": true,
          "x": -0.820235028739231,
          "xref": "x",
          "y": 0.1531689702378608,
          "yref": "y"
         },
         {
          "ax": -0.2539948703966535,
          "axref": "x",
          "ay": 0.13162347591109758,
          "ayref": "y",
          "opacity": 1,
          "showarrow": true,
          "x": -0.07291283449345823,
          "xref": "x",
          "y": 0.5642451611180908,
          "yref": "y"
         },
         {
          "ax": -0.3366426304305231,
          "axref": "x",
          "ay": -0.20161642385419815,
          "ayref": "y",
          "opacity": 1,
          "showarrow": true,
          "x": -0.1968844745442626,
          "xref": "x",
          "y": 0.06438531147014712,
          "yref": "y"
         },
         {
          "ax": -0.6540806590689217,
          "axref": "x",
          "ay": -0.5782202087336012,
          "ayref": "y",
          "opacity": 1,
          "showarrow": true,
          "x": -0.6730415175018603,
          "xref": "x",
          "y": -0.5005203658489574,
          "yref": "y"
         },
         {
          "ax": -0.13870387266004858,
          "axref": "x",
          "ay": -0.538428189722564,
          "ayref": "y",
          "opacity": 1,
          "showarrow": true,
          "x": 0.10002366211144917,
          "xref": "x",
          "y": -0.4408323373324017,
          "yref": "y"
         },
         {
          "ax": -0.3579661942058837,
          "axref": "x",
          "ay": -0.8639197586751025,
          "ayref": "y",
          "opacity": 1,
          "showarrow": true,
          "x": -0.22886982020730348,
          "xref": "x",
          "y": -0.9290696907612095,
          "yref": "y"
         },
         {
          "ax": -0.1669203183680901,
          "axref": "x",
          "ay": -0.06062250826026494,
          "ayref": "y",
          "opacity": 1,
          "showarrow": true,
          "x": 0.05769899354938693,
          "xref": "x",
          "y": 0.2758761848610469,
          "yref": "y"
         },
         {
          "ax": -0.3282839601074062,
          "axref": "x",
          "ay": -0.2417079530716784,
          "ayref": "y",
          "opacity": 1,
          "showarrow": true,
          "x": -0.5137038053219481,
          "xref": "x",
          "y": -0.03202815875966686,
          "yref": "y"
         },
         {
          "ax": 0.41330245565020424,
          "axref": "x",
          "ay": -0.4867479986700706,
          "ayref": "y",
          "opacity": 1,
          "showarrow": true,
          "x": 0.5986758183144675,
          "xref": "x",
          "y": -0.39958822715725517,
          "yref": "y"
         },
         {
          "ax": 0.1665468768475944,
          "axref": "x",
          "ay": -0.805546122894462,
          "ayref": "y",
          "opacity": 1,
          "showarrow": true,
          "x": 0.22854245011055277,
          "xref": "x",
          "y": -0.8777854134938423,
          "yref": "y"
         },
         {
          "ax": -0.19611685075602953,
          "axref": "x",
          "ay": -0.3706524743448754,
          "ayref": "y",
          "opacity": 1,
          "showarrow": true,
          "x": -0.3154531412948831,
          "xref": "x",
          "y": -0.22544494066946236,
          "yref": "y"
         },
         {
          "ax": -0.42285233029814123,
          "axref": "x",
          "ay": -0.10615114160546207,
          "ayref": "y",
          "opacity": 1,
          "showarrow": true,
          "x": -0.6555563606080507,
          "xref": "x",
          "y": 0.1713070584396576,
          "yref": "y"
         },
         {
          "ax": 0.07536246586570736,
          "axref": "x",
          "ay": 0.16789965231469117,
          "ayref": "y",
          "opacity": 1,
          "showarrow": true,
          "x": 0.09176583363772221,
          "xref": "x",
          "y": 0.5823832493198875,
          "yref": "y"
         },
         {
          "ax": -0.007285294168162242,
          "axref": "x",
          "ay": -0.16534024745060455,
          "ayref": "y",
          "opacity": 1,
          "showarrow": true,
          "x": -0.03220580641308218,
          "xref": "x",
          "y": 0.08252339967194391,
          "yref": "y"
         },
         {
          "ax": -0.32472332280656074,
          "axref": "x",
          "ay": -0.5419440323300077,
          "ayref": "y",
          "opacity": 1,
          "showarrow": true,
          "x": -0.5083628493706799,
          "xref": "x",
          "y": -0.4823822776471607,
          "yref": "y"
         },
         {
          "ax": 0.1906534636023123,
          "axref": "x",
          "ay": -0.5021520133189704,
          "ayref": "y",
          "opacity": 1,
          "showarrow": true,
          "x": 0.2647023302426296,
          "xref": "x",
          "y": -0.4226942491306049,
          "yref": "y"
         },
         {
          "ax": -0.028608857943522813,
          "axref": "x",
          "ay": -0.8276435822715089,
          "ayref": "y",
          "opacity": 1,
          "showarrow": true,
          "x": -0.06419115207612304,
          "xref": "x",
          "y": -0.9109316025594127,
          "yref": "y"
         },
         {
          "ax": 0.16243701789427079,
          "axref": "x",
          "ay": -0.024346331856671344,
          "ayref": "y",
          "opacity": 1,
          "showarrow": true,
          "x": 0.22237766168056736,
          "xref": "x",
          "y": 0.2940142730628437,
          "yref": "y"
         },
         {
          "ax": -0.4582413019675616,
          "axref": "x",
          "ay": -0.5039625868482465,
          "ayref": "y",
          "opacity": 1,
          "showarrow": true,
          "x": -0.7086398181121812,
          "xref": "x",
          "y": -0.425410109424519,
          "yref": "y"
         },
         {
          "ax": 0.5212778651608387,
          "axref": "x",
          "ay": -0.35002657855757835,
          "ayref": "y",
          "opacity": 1,
          "showarrow": true,
          "x": 0.7606389325804193,
          "xref": "x",
          "y": -0.19450609698851676,
          "yref": "y"
         },
         {
          "ax": -0.2042928135814894,
          "axref": "x",
          "ay": -0.38618653427043903,
          "ayref": "y",
          "opacity": 1,
          "showarrow": true,
          "x": 0.043122604896010885,
          "xref": "x",
          "y": -0.6681056191818309,
          "yref": "y"
         },
         {
          "ax": -0.29547722456337644,
          "axref": "x",
          "ay": 0.5872592409387143,
          "ayref": "y",
          "opacity": 1,
          "showarrow": true,
          "x": -0.09365401157681968,
          "xref": "x",
          "y": 0.792063043631899,
          "yref": "y"
         },
         {
          "ax": -0.378124984597246,
          "axref": "x",
          "ay": 0.2540193411734185,
          "ayref": "y",
          "opacity": 1,
          "showarrow": true,
          "x": -0.2176256516276241,
          "xref": "x",
          "y": 0.29220319398395544,
          "yref": "y"
         },
         {
          "ax": -0.6955630132356445,
          "axref": "x",
          "ay": -0.12258444370598454,
          "ayref": "y",
          "opacity": 1,
          "showarrow": true,
          "x": -0.6937826945852217,
          "xref": "x",
          "y": -0.2727024833351491,
          "yref": "y"
         },
         {
          "ax": 0.04246276522112047,
          "axref": "x",
          "ay": -0.06738841004604754,
          "ayref": "y",
          "opacity": 1,
          "showarrow": true,
          "x": 0.4132559730999256,
          "xref": "x",
          "y": -0.18990843284524367,
          "yref": "y"
         },
         {
          "ax": -0.8290809923966453,
          "axref": "x",
          "ay": -0.08460299822422343,
          "ayref": "y",
          "opacity": 1,
          "showarrow": true,
          "x": -0.894059663326723,
          "xref": "x",
          "y": -0.21573031511250745,
          "yref": "y"
         },
         {
          "ax": -0.5669565411851133,
          "axref": "x",
          "ay": 0.04870711427914768,
          "ayref": "y",
          "opacity": 1,
          "showarrow": true,
          "x": -0.500872986509425,
          "xref": "x",
          "y": -0.015765146357450827,
          "yref": "y"
         },
         {
          "ax": 0.15043817473175497,
          "axref": "x",
          "ay": 0.06933301006644475,
          "ayref": "y",
          "opacity": 1,
          "showarrow": true,
          "x": 0.5752190873658773,
          "xref": "x",
          "y": 0.01517369732349478,
          "yref": "y"
         },
         {
          "ax": -0.793692020727225,
          "axref": "x",
          "ay": 0.313208447018561,
          "ayref": "y",
          "opacity": 1,
          "showarrow": true,
          "x": -0.8409762058225925,
          "xref": "x",
          "y": 0.38098685275166916,
          "yref": "y"
         },
         {
          "ax": -0.1801862268267715,
          "axref": "x",
          "ay": -0.08279242469494733,
          "ayref": "y",
          "opacity": 1,
          "showarrow": true,
          "x": 0.07928248502808771,
          "xref": "x",
          "y": -0.21301445481859332,
          "yref": "y"
         },
         {
          "ax": -0.3994485483726066,
          "axref": "x",
          "ay": -0.4082839936474858,
          "ayref": "y",
          "opacity": 1,
          "showarrow": true,
          "x": -0.24961099729066494,
          "xref": "x",
          "y": -0.7012518082474012,
          "yref": "y"
         },
         {
          "ax": -0.208402672534813,
          "axref": "x",
          "ay": 0.3950132567673518,
          "ayref": "y",
          "opacity": 1,
          "showarrow": true,
          "x": 0.03695781646602547,
          "xref": "x",
          "y": 0.5036940673748552,
          "yref": "y"
         },
         {
          "ax": 0.537293602176121,
          "axref": "x",
          "ay": -0.6312265798688312,
          "ayref": "y",
          "opacity": 1,
          "showarrow": true,
          "x": 0.4139158127748161,
          "xref": "x",
          "y": -0.7906256419810269,
          "yref": "y"
         },
         {
          "ax": -0.05210560496961458,
          "axref": "x",
          "ay": 0.06816840142016878,
          "ayref": "y",
          "opacity": 1,
          "showarrow": true,
          "x": -0.4701829979437873,
          "xref": "x",
          "y": 0.25846682995247305,
          "yref": "y"
         },
         {
          "ax": 0.446109191194234,
          "axref": "x",
          "ay": 0.342219195340322,
          "ayref": "y",
          "opacity": 1,
          "showarrow": true,
          "x": 0.2771391963019855,
          "xref": "x",
          "y": 0.669543020832703,
          "yref": "y"
         },
         {
          "ax": 0.3634614311603644,
          "axref": "x",
          "ay": 0.008979295575026303,
          "ayref": "y",
          "opacity": 1,
          "showarrow": true,
          "x": 0.15316755625118111,
          "xref": "x",
          "y": 0.16968317118475934,
          "yref": "y"
         },
         {
          "ax": 0.046023402521965906,
          "axref": "x",
          "ay": -0.36762448930437674,
          "ayref": "y",
          "opacity": 1,
          "showarrow": true,
          "x": -0.32298948670641653,
          "xref": "x",
          "y": -0.3952225061343453,
          "yref": "y"
         },
         {
          "ax": 0.5614001889308389,
          "axref": "x",
          "ay": -0.32783247029333956,
          "ayref": "y",
          "opacity": 1,
          "showarrow": true,
          "x": 0.4500756929068929,
          "xref": "x",
          "y": -0.33553447761778943,
          "yref": "y"
         },
         {
          "ax": 0.3421378673850038,
          "axref": "x",
          "ay": -0.6533240392458781,
          "ayref": "y",
          "opacity": 1,
          "showarrow": true,
          "x": 0.12118221058814027,
          "xref": "x",
          "y": -0.8237718310465972,
          "yref": "y"
         },
         {
          "ax": 0.5331837432227974,
          "axref": "x",
          "ay": 0.1499732111689595,
          "ayref": "y",
          "opacity": 1,
          "showarrow": true,
          "x": 0.4077510243448307,
          "xref": "x",
          "y": 0.3811740445756592,
          "yref": "y"
         },
         {
          "ax": -0.08749457663903493,
          "axref": "x",
          "ay": -0.32964304382261567,
          "ayref": "y",
          "opacity": 1,
          "showarrow": true,
          "x": -0.5232664554479178,
          "xref": "x",
          "y": -0.33825033791170356,
          "yref": "y"
         },
         {
          "ax": 0.1746298745724971,
          "axref": "x",
          "ay": -0.19633293131924456,
          "ayref": "y",
          "opacity": 1,
          "showarrow": true,
          "x": -0.1300797786306198,
          "xref": "x",
          "y": -0.13828516915664696,
          "yref": "y"
         },
         {
          "ax": 0.8920245904893653,
          "axref": "x",
          "ay": -0.1757070355319475,
          "ayref": "y",
          "opacity": 1,
          "showarrow": true,
          "x": 0.9460122952446826,
          "xref": "x",
          "y": -0.10734632547570133,
          "yref": "y"
         },
         {
          "ax": -0.3342501554416448,
          "axref": "x",
          "ay": -0.6484411680470071,
          "ayref": "y",
          "opacity": 1,
          "showarrow": true,
          "x": -0.6466442448492228,
          "xref": "x",
          "y": -0.49764940002389935,
          "yref": "y"
         },
         {
          "ax": 0.1993536123916241,
          "axref": "x",
          "ay": 0.02342107111593056,
          "ayref": "y",
          "opacity": 1,
          "showarrow": true,
          "x": 0.15376140690068058,
          "xref": "x",
          "y": 0.5101439587205072,
          "yref": "y"
         },
         {
          "ax": 0.11670585235775452,
          "axref": "x",
          "ay": -0.30981882864936516,
          "ayref": "y",
          "opacity": 1,
          "showarrow": true,
          "x": 0.029789766849876193,
          "xref": "x",
          "y": 0.010284109072563608,
          "yref": "y"
         },
         {
          "ax": -0.20073217628064396,
          "axref": "x",
          "ay": -0.6864226135287682,
          "ayref": "y",
          "opacity": 1,
          "showarrow": true,
          "x": -0.4463672761077215,
          "xref": "x",
          "y": -0.554621568246541,
          "yref": "y"
         },
         {
          "ax": -0.07212570423011277,
          "axref": "x",
          "ay": -0.515131055543636,
          "ayref": "y",
          "opacity": 1,
          "showarrow": true,
          "x": -0.25345756803192476,
          "xref": "x",
          "y": -0.2976842312688427,
          "yref": "y"
         },
         {
          "ax": 0.6452690116867555,
          "axref": "x",
          "ay": -0.49450515975633896,
          "ayref": "y",
          "opacity": 1,
          "showarrow": true,
          "x": 0.8226345058433777,
          "xref": "x",
          "y": -0.26674538758789706,
          "yref": "y"
         },
         {
          "ax": -0.2988611837722245,
          "axref": "x",
          "ay": -0.2506297228042227,
          "ayref": "y",
          "opacity": 1,
          "showarrow": true,
          "x": -0.5935607873450922,
          "xref": "x",
          "y": 0.0990677678402773,
          "yref": "y"
         },
         {
          "ax": 0.3146446101282291,
          "axref": "x",
          "ay": -0.6466305945177311,
          "ayref": "y",
          "opacity": 1,
          "showarrow": true,
          "x": 0.32669790350558797,
          "xref": "x",
          "y": -0.4949335397299852,
          "yref": "y"
         },
         {
          "ax": 0.09538228858239395,
          "axref": "x",
          "ay": -0.9721221634702695,
          "ayref": "y",
          "opacity": 1,
          "showarrow": true,
          "x": -0.002195578813164664,
          "xref": "x",
          "y": -0.983170893158793,
          "yref": "y"
         },
         {
          "ax": 0.28642816442018754,
          "axref": "x",
          "ay": -0.16882491305543196,
          "ayref": "y",
          "opacity": 1,
          "showarrow": true,
          "x": 0.28437323494352573,
          "xref": "x",
          "y": 0.22177498246346342,
          "yref": "y"
         },
         {
          "ax": -0.6969138830452687,
          "axref": "x",
          "ay": -0.21354751949742046,
          "ayref": "y",
          "opacity": 1,
          "showarrow": true,
          "x": -0.8279761086510348,
          "xref": "x",
          "y": -0.28020257574910595,
          "yref": "y"
         },
         {
          "ax": -0.6615249113758483,
          "axref": "x",
          "ay": 0.184263925745364,
          "ayref": "y",
          "opacity": 1,
          "showarrow": true,
          "x": -0.7748926511469042,
          "xref": "x",
          "y": 0.31651459211507066,
          "yref": "y"
         },
         {
          "ax": -0.1633101152119998,
          "axref": "x",
          "ay": 0.45831471966551723,
          "ayref": "y",
          "opacity": 1,
          "showarrow": true,
          "x": -0.02757045690113137,
          "xref": "x",
          "y": 0.7275907829953006,
          "yref": "y"
         },
         {
          "ax": -0.2459578752458694,
          "axref": "x",
          "ay": 0.1250748199002215,
          "ayref": "y",
          "opacity": 1,
          "showarrow": true,
          "x": -0.15154209695193577,
          "xref": "x",
          "y": 0.22773093334735695,
          "yref": "y"
         },
         {
          "ax": -0.5633959038842679,
          "axref": "x",
          "ay": -0.25152896497918154,
          "ayref": "y",
          "opacity": 1,
          "showarrow": true,
          "x": -0.6276991399095334,
          "xref": "x",
          "y": -0.3371747439717476,
          "yref": "y"
         },
         {
          "ax": -0.04801911747539486,
          "axref": "x",
          "ay": -0.21173694596814435,
          "ayref": "y",
          "opacity": 1,
          "showarrow": true,
          "x": 0.14536603970377604,
          "xref": "x",
          "y": -0.2774867154551918,
          "yref": "y"
         },
         {
          "ax": -0.26728143902122997,
          "axref": "x",
          "ay": -0.5372285149206828,
          "ayref": "y",
          "opacity": 1,
          "showarrow": true,
          "x": -0.1835274426149766,
          "xref": "x",
          "y": -0.7657240688839997,
          "yref": "y"
         },
         {
          "ax": -0.07623556318343638,
          "axref": "x",
          "ay": 0.2660687354941547,
          "ayref": "y",
          "opacity": 1,
          "showarrow": true,
          "x": 0.10304137114171379,
          "xref": "x",
          "y": 0.4392218067382568,
          "yref": "y"
         },
         {
          "ax": 0.28260528408313157,
          "axref": "x",
          "ay": -0.05961151120675227,
          "ayref": "y",
          "opacity": 1,
          "showarrow": true,
          "x": 0.6413026420415657,
          "xref": "x",
          "y": -0.04929856331310373,
          "yref": "y"
         },
         {
          "ax": -0.9236493625873804,
          "axref": "x",
          "ay": 0.050953813241992885,
          "ayref": "y",
          "opacity": 1,
          "showarrow": true,
          "x": -0.9413438484220906,
          "xref": "x",
          "y": -0.1479519093793993,
          "yref": "y"
         },
         {
          "ax": 0.05586980454101992,
          "axref": "x",
          "ay": 0.20488982153266105,
          "ayref": "y",
          "opacity": 1,
          "showarrow": true,
          "x": 0.5279349022705099,
          "xref": "x",
          "y": 0.08295210305660294,
          "yref": "y"
         },
         {
          "ax": -0.3900455947541115,
          "axref": "x",
          "ay": 0.7228160524049305,
          "ayref": "y",
          "opacity": 1,
          "showarrow": true,
          "x": -0.1409381966721872,
          "xref": "x",
          "y": 0.8598414493650073,
          "yref": "y"
         },
         {
          "ax": -0.4726933547879811,
          "axref": "x",
          "ay": 0.38957615263963485,
          "ayref": "y",
          "opacity": 1,
          "showarrow": true,
          "x": -0.2649098367229916,
          "xref": "x",
          "y": 0.3599815997170636,
          "yref": "y"
         },
         {
          "ax": -0.7901313834263796,
          "axref": "x",
          "ay": 0.012972367760231779,
          "ayref": "y",
          "opacity": 1,
          "showarrow": true,
          "x": -0.7410668796805893,
          "xref": "x",
          "y": -0.20492407760204098,
          "yref": "y"
         },
         {
          "ax": -0.27475459701750654,
          "axref": "x",
          "ay": 0.05276438677126899,
          "ayref": "y",
          "opacity": 1,
          "showarrow": true,
          "x": 0.03199829993272019,
          "xref": "x",
          "y": -0.14523604908548518,
          "yref": "y"
         },
         {
          "ax": -0.4940169185633417,
          "axref": "x",
          "ay": -0.2727271821812695,
          "ayref": "y",
          "opacity": 1,
          "showarrow": true,
          "x": -0.29689518238603246,
          "xref": "x",
          "y": -0.633473402514293,
          "yref": "y"
         },
         {
          "ax": -0.3029710427255481,
          "axref": "x",
          "ay": 0.5305700682335681,
          "ayref": "y",
          "opacity": 1,
          "showarrow": true,
          "x": -0.010326368629342053,
          "xref": "x",
          "y": 0.5714724731079635,
          "yref": "y"
         },
         {
          "ax": -0.42543456642353183,
          "axref": "x",
          "ay": 0.32500460716214613,
          "ayref": "y",
          "opacity": 1,
          "showarrow": true,
          "x": -0.6922364503401663,
          "xref": "x",
          "y": -0.010926512419322687,
          "yref": "y"
         },
         {
          "ax": 0.5540846007048685,
          "axref": "x",
          "ay": 0.4789406154528143,
          "ayref": "y",
          "opacity": 1,
          "showarrow": true,
          "x": 0.7770423003524342,
          "xref": "x",
          "y": 0.21997750001667957,
          "yref": "y"
         },
         {
          "ax": 0.025521441375867475,
          "axref": "x",
          "ay": 0.6636269465597882,
          "ayref": "y",
          "opacity": 1,
          "showarrow": true,
          "x": -0.015802438641067326,
          "xref": "x",
          "y": 0.4970069966771402,
          "yref": "y"
         },
         {
          "ax": -0.291916587262531,
          "axref": "x",
          "ay": 0.287023161680385,
          "ayref": "y",
          "opacity": 1,
          "showarrow": true,
          "x": -0.491959481598665,
          "xref": "x",
          "y": -0.06789868064196436,
          "yref": "y"
         },
         {
          "ax": 0.22346019914634202,
          "axref": "x",
          "ay": 0.32681518069142224,
          "ayref": "y",
          "opacity": 1,
          "showarrow": true,
          "x": 0.28110569801464447,
          "xref": "x",
          "y": -0.008210652125408557,
          "yref": "y"
         },
         {
          "ax": 0.004197877600506904,
          "axref": "x",
          "ay": 0.0013236117388837343,
          "ayref": "y",
          "opacity": 1,
          "showarrow": true,
          "x": -0.04778778430410818,
          "xref": "x",
          "y": -0.49644800555421637,
          "yref": "y"
         },
         {
          "ax": 0.1952437534383005,
          "axref": "x",
          "ay": 0.8046208621537213,
          "ayref": "y",
          "opacity": 1,
          "showarrow": true,
          "x": 0.23878102945258223,
          "xref": "x",
          "y": 0.70849787006804,
          "yref": "y"
         },
         {
          "ax": -0.5080823264574015,
          "axref": "x",
          "ay": -0.008235292603149591,
          "ayref": "y",
          "opacity": 1,
          "showarrow": true,
          "x": -0.7335603303571011,
          "xref": "x",
          "y": -0.17754646230197055,
          "yref": "y"
         },
         {
          "ax": 0.4714368406709989,
          "axref": "x",
          "ay": 0.14570071568751858,
          "ayref": "y",
          "opacity": 1,
          "showarrow": true,
          "x": 0.7357184203354994,
          "xref": "x",
          "y": 0.0533575501340317,
          "yref": "y"
         },
         {
          "ax": -0.3745643472964006,
          "axref": "x",
          "ay": -0.0462167380849107,
          "ayref": "y",
          "opacity": 1,
          "showarrow": true,
          "x": -0.5332833616155997,
          "xref": "x",
          "y": -0.23451863052461222,
          "yref": "y"
         },
         {
          "ax": 0.14081243911247243,
          "axref": "x",
          "ay": -0.006424719073873486,
          "ayref": "y",
          "opacity": 1,
          "showarrow": true,
          "x": 0.23978181799770967,
          "xref": "x",
          "y": -0.17483060200805642,
          "yref": "y"
         },
         {
          "ax": -0.07844988243336269,
          "axref": "x",
          "ay": -0.331916288026412,
          "ayref": "y",
          "opacity": 1,
          "showarrow": true,
          "x": -0.08911166432104298,
          "xref": "x",
          "y": -0.6630679554368643,
          "yref": "y"
         },
         {
          "ax": 0.11259599340443091,
          "axref": "x",
          "ay": 0.4713809623884256,
          "ayref": "y",
          "opacity": 1,
          "showarrow": true,
          "x": 0.19745714943564743,
          "xref": "x",
          "y": 0.5418779201853922,
          "yref": "y"
         },
         {
          "ax": -0.8255203550957999,
          "axref": "x",
          "ay": -0.38483907748255264,
          "ayref": "y",
          "opacity": 1,
          "showarrow": true,
          "x": -0.8922793446763004,
          "xref": "x",
          "y": -0.3658483547416721,
          "yref": "y"
         },
         {
          "ax": 0.1539988120326004,
          "axref": "x",
          "ay": -0.23090306919188447,
          "ayref": "y",
          "opacity": 1,
          "showarrow": true,
          "x": 0.5769994060163002,
          "xref": "x",
          "y": -0.13494434230566985,
          "yref": "y"
         },
         {
          "ax": -0.17662558952592605,
          "axref": "x",
          "ay": -0.3830285039532766,
          "ayref": "y",
          "opacity": 1,
          "showarrow": true,
          "x": 0.08106280367851043,
          "xref": "x",
          "y": -0.36313249444775797,
          "yref": "y"
         },
         {
          "ax": -0.3958879110717612,
          "axref": "x",
          "ay": -0.7085200729058151,
          "ayref": "y",
          "opacity": 1,
          "showarrow": true,
          "x": -0.24783067864024222,
          "xref": "x",
          "y": -0.8513698478765658,
          "yref": "y"
         },
         {
          "ax": -0.20484203523396757,
          "axref": "x",
          "ay": 0.09477717750902251,
          "ayref": "y",
          "opacity": 1,
          "showarrow": true,
          "x": 0.03873813511644819,
          "xref": "x",
          "y": 0.35357602774569064,
          "yref": "y"
         },
         {
          "ax": -0.3101435686869269,
          "axref": "x",
          "ay": -0.34504705847151546,
          "ayref": "y",
          "opacity": 1,
          "showarrow": true,
          "x": -0.6345909514718638,
          "xref": "x",
          "y": -0.3459523452361535,
          "yref": "y"
         },
         {
          "ax": 0.6693755984414734,
          "axref": "x",
          "ay": -0.1911110501808473,
          "ayref": "y",
          "opacity": 1,
          "showarrow": true,
          "x": 0.8346877992207367,
          "xref": "x",
          "y": -0.11504833280015123,
          "yref": "y"
         },
         {
          "ax": 0.11948887533711186,
          "axref": "x",
          "ay": -0.6687280538947779,
          "ayref": "y",
          "opacity": 1,
          "showarrow": true,
          "x": 0.009857714564194292,
          "xref": "x",
          "y": -0.8314738383710472,
          "yref": "y"
         },
         {
          "ax": 0.3105347511749055,
          "axref": "x",
          "ay": 0.13456919652005972,
          "ayref": "y",
          "opacity": 1,
          "showarrow": true,
          "x": 0.2964265283208847,
          "xref": "x",
          "y": 0.37347203725120925,
          "yref": "y"
         },
         {
          "ax": -0.529405890232762,
          "axref": "x",
          "ay": -0.6705386274240539,
          "ayref": "y",
          "opacity": 1,
          "showarrow": true,
          "x": -0.7442221122447814,
          "xref": "x",
          "y": -0.5086981297124227,
          "yref": "y"
         },
         {
          "ax": 0.4501132768956383,
          "axref": "x",
          "ay": -0.5166026191333858,
          "ayref": "y",
          "opacity": 1,
          "showarrow": true,
          "x": 0.7250566384478191,
          "xref": "x",
          "y": -0.2777941172764205,
          "yref": "y"
         },
         {
          "ax": 0.09127242962907034,
          "axref": "x",
          "ay": -0.19092237243247878,
          "ayref": "y",
          "opacity": 1,
          "showarrow": true,
          "x": 0.18679536754796713,
          "xref": "x",
          "y": 0.21072625277494,
          "yref": "y"
         },
         {
          "ax": -0.33836001439496843,
          "axref": "x",
          "ay": 0.13275862299078361,
          "ayref": "y",
          "opacity": 1,
          "showarrow": true,
          "x": -0.6486991743258846,
          "xref": "x",
          "y": -0.10704950450500395,
          "yref": "y"
         },
         {
          "ax": 0.6411591527334319,
          "axref": "x",
          "ay": 0.2866946312814518,
          "ayref": "y",
          "opacity": 1,
          "showarrow": true,
          "x": 0.8205795763667159,
          "xref": "x",
          "y": 0.12385450793099831,
          "yref": "y"
         },
         {
          "ax": 0.020480832871599575,
          "axref": "x",
          "ay": -0.1929216237101234,
          "ayref": "y",
          "opacity": 1,
          "showarrow": true,
          "x": 0.5102404164357996,
          "xref": "x",
          "y": -0.11595361956478928,
          "yref": "y"
         }
        ],
        "clickmode": "event+select",
        "height": 600,
        "hovermode": "closest",
        "margin": {
         "b": 40,
         "l": 40,
         "r": 40,
         "t": 40
        },
        "showlegend": false,
        "template": {
         "data": {
          "bar": [
           {
            "error_x": {
             "color": "#2a3f5f"
            },
            "error_y": {
             "color": "#2a3f5f"
            },
            "marker": {
             "line": {
              "color": "#E5ECF6",
              "width": 0.5
             }
            },
            "type": "bar"
           }
          ],
          "barpolar": [
           {
            "marker": {
             "line": {
              "color": "#E5ECF6",
              "width": 0.5
             }
            },
            "type": "barpolar"
           }
          ],
          "carpet": [
           {
            "aaxis": {
             "endlinecolor": "#2a3f5f",
             "gridcolor": "white",
             "linecolor": "white",
             "minorgridcolor": "white",
             "startlinecolor": "#2a3f5f"
            },
            "baxis": {
             "endlinecolor": "#2a3f5f",
             "gridcolor": "white",
             "linecolor": "white",
             "minorgridcolor": "white",
             "startlinecolor": "#2a3f5f"
            },
            "type": "carpet"
           }
          ],
          "choropleth": [
           {
            "colorbar": {
             "outlinewidth": 0,
             "ticks": ""
            },
            "type": "choropleth"
           }
          ],
          "contour": [
           {
            "colorbar": {
             "outlinewidth": 0,
             "ticks": ""
            },
            "colorscale": [
             [
              0,
              "#0d0887"
             ],
             [
              0.1111111111111111,
              "#46039f"
             ],
             [
              0.2222222222222222,
              "#7201a8"
             ],
             [
              0.3333333333333333,
              "#9c179e"
             ],
             [
              0.4444444444444444,
              "#bd3786"
             ],
             [
              0.5555555555555556,
              "#d8576b"
             ],
             [
              0.6666666666666666,
              "#ed7953"
             ],
             [
              0.7777777777777778,
              "#fb9f3a"
             ],
             [
              0.8888888888888888,
              "#fdca26"
             ],
             [
              1,
              "#f0f921"
             ]
            ],
            "type": "contour"
           }
          ],
          "contourcarpet": [
           {
            "colorbar": {
             "outlinewidth": 0,
             "ticks": ""
            },
            "type": "contourcarpet"
           }
          ],
          "heatmap": [
           {
            "colorbar": {
             "outlinewidth": 0,
             "ticks": ""
            },
            "colorscale": [
             [
              0,
              "#0d0887"
             ],
             [
              0.1111111111111111,
              "#46039f"
             ],
             [
              0.2222222222222222,
              "#7201a8"
             ],
             [
              0.3333333333333333,
              "#9c179e"
             ],
             [
              0.4444444444444444,
              "#bd3786"
             ],
             [
              0.5555555555555556,
              "#d8576b"
             ],
             [
              0.6666666666666666,
              "#ed7953"
             ],
             [
              0.7777777777777778,
              "#fb9f3a"
             ],
             [
              0.8888888888888888,
              "#fdca26"
             ],
             [
              1,
              "#f0f921"
             ]
            ],
            "type": "heatmap"
           }
          ],
          "heatmapgl": [
           {
            "colorbar": {
             "outlinewidth": 0,
             "ticks": ""
            },
            "colorscale": [
             [
              0,
              "#0d0887"
             ],
             [
              0.1111111111111111,
              "#46039f"
             ],
             [
              0.2222222222222222,
              "#7201a8"
             ],
             [
              0.3333333333333333,
              "#9c179e"
             ],
             [
              0.4444444444444444,
              "#bd3786"
             ],
             [
              0.5555555555555556,
              "#d8576b"
             ],
             [
              0.6666666666666666,
              "#ed7953"
             ],
             [
              0.7777777777777778,
              "#fb9f3a"
             ],
             [
              0.8888888888888888,
              "#fdca26"
             ],
             [
              1,
              "#f0f921"
             ]
            ],
            "type": "heatmapgl"
           }
          ],
          "histogram": [
           {
            "marker": {
             "colorbar": {
              "outlinewidth": 0,
              "ticks": ""
             }
            },
            "type": "histogram"
           }
          ],
          "histogram2d": [
           {
            "colorbar": {
             "outlinewidth": 0,
             "ticks": ""
            },
            "colorscale": [
             [
              0,
              "#0d0887"
             ],
             [
              0.1111111111111111,
              "#46039f"
             ],
             [
              0.2222222222222222,
              "#7201a8"
             ],
             [
              0.3333333333333333,
              "#9c179e"
             ],
             [
              0.4444444444444444,
              "#bd3786"
             ],
             [
              0.5555555555555556,
              "#d8576b"
             ],
             [
              0.6666666666666666,
              "#ed7953"
             ],
             [
              0.7777777777777778,
              "#fb9f3a"
             ],
             [
              0.8888888888888888,
              "#fdca26"
             ],
             [
              1,
              "#f0f921"
             ]
            ],
            "type": "histogram2d"
           }
          ],
          "histogram2dcontour": [
           {
            "colorbar": {
             "outlinewidth": 0,
             "ticks": ""
            },
            "colorscale": [
             [
              0,
              "#0d0887"
             ],
             [
              0.1111111111111111,
              "#46039f"
             ],
             [
              0.2222222222222222,
              "#7201a8"
             ],
             [
              0.3333333333333333,
              "#9c179e"
             ],
             [
              0.4444444444444444,
              "#bd3786"
             ],
             [
              0.5555555555555556,
              "#d8576b"
             ],
             [
              0.6666666666666666,
              "#ed7953"
             ],
             [
              0.7777777777777778,
              "#fb9f3a"
             ],
             [
              0.8888888888888888,
              "#fdca26"
             ],
             [
              1,
              "#f0f921"
             ]
            ],
            "type": "histogram2dcontour"
           }
          ],
          "mesh3d": [
           {
            "colorbar": {
             "outlinewidth": 0,
             "ticks": ""
            },
            "type": "mesh3d"
           }
          ],
          "parcoords": [
           {
            "line": {
             "colorbar": {
              "outlinewidth": 0,
              "ticks": ""
             }
            },
            "type": "parcoords"
           }
          ],
          "pie": [
           {
            "automargin": true,
            "type": "pie"
           }
          ],
          "scatter": [
           {
            "marker": {
             "colorbar": {
              "outlinewidth": 0,
              "ticks": ""
             }
            },
            "type": "scatter"
           }
          ],
          "scatter3d": [
           {
            "line": {
             "colorbar": {
              "outlinewidth": 0,
              "ticks": ""
             }
            },
            "marker": {
             "colorbar": {
              "outlinewidth": 0,
              "ticks": ""
             }
            },
            "type": "scatter3d"
           }
          ],
          "scattercarpet": [
           {
            "marker": {
             "colorbar": {
              "outlinewidth": 0,
              "ticks": ""
             }
            },
            "type": "scattercarpet"
           }
          ],
          "scattergeo": [
           {
            "marker": {
             "colorbar": {
              "outlinewidth": 0,
              "ticks": ""
             }
            },
            "type": "scattergeo"
           }
          ],
          "scattergl": [
           {
            "marker": {
             "colorbar": {
              "outlinewidth": 0,
              "ticks": ""
             }
            },
            "type": "scattergl"
           }
          ],
          "scattermapbox": [
           {
            "marker": {
             "colorbar": {
              "outlinewidth": 0,
              "ticks": ""
             }
            },
            "type": "scattermapbox"
           }
          ],
          "scatterpolar": [
           {
            "marker": {
             "colorbar": {
              "outlinewidth": 0,
              "ticks": ""
             }
            },
            "type": "scatterpolar"
           }
          ],
          "scatterpolargl": [
           {
            "marker": {
             "colorbar": {
              "outlinewidth": 0,
              "ticks": ""
             }
            },
            "type": "scatterpolargl"
           }
          ],
          "scatterternary": [
           {
            "marker": {
             "colorbar": {
              "outlinewidth": 0,
              "ticks": ""
             }
            },
            "type": "scatterternary"
           }
          ],
          "surface": [
           {
            "colorbar": {
             "outlinewidth": 0,
             "ticks": ""
            },
            "colorscale": [
             [
              0,
              "#0d0887"
             ],
             [
              0.1111111111111111,
              "#46039f"
             ],
             [
              0.2222222222222222,
              "#7201a8"
             ],
             [
              0.3333333333333333,
              "#9c179e"
             ],
             [
              0.4444444444444444,
              "#bd3786"
             ],
             [
              0.5555555555555556,
              "#d8576b"
             ],
             [
              0.6666666666666666,
              "#ed7953"
             ],
             [
              0.7777777777777778,
              "#fb9f3a"
             ],
             [
              0.8888888888888888,
              "#fdca26"
             ],
             [
              1,
              "#f0f921"
             ]
            ],
            "type": "surface"
           }
          ],
          "table": [
           {
            "cells": {
             "fill": {
              "color": "#EBF0F8"
             },
             "line": {
              "color": "white"
             }
            },
            "header": {
             "fill": {
              "color": "#C8D4E3"
             },
             "line": {
              "color": "white"
             }
            },
            "type": "table"
           }
          ]
         },
         "layout": {
          "annotationdefaults": {
           "arrowcolor": "#2a3f5f",
           "arrowhead": 0,
           "arrowwidth": 1
          },
          "coloraxis": {
           "colorbar": {
            "outlinewidth": 0,
            "ticks": ""
           }
          },
          "colorscale": {
           "diverging": [
            [
             0,
             "#8e0152"
            ],
            [
             0.1,
             "#c51b7d"
            ],
            [
             0.2,
             "#de77ae"
            ],
            [
             0.3,
             "#f1b6da"
            ],
            [
             0.4,
             "#fde0ef"
            ],
            [
             0.5,
             "#f7f7f7"
            ],
            [
             0.6,
             "#e6f5d0"
            ],
            [
             0.7,
             "#b8e186"
            ],
            [
             0.8,
             "#7fbc41"
            ],
            [
             0.9,
             "#4d9221"
            ],
            [
             1,
             "#276419"
            ]
           ],
           "sequential": [
            [
             0,
             "#0d0887"
            ],
            [
             0.1111111111111111,
             "#46039f"
            ],
            [
             0.2222222222222222,
             "#7201a8"
            ],
            [
             0.3333333333333333,
             "#9c179e"
            ],
            [
             0.4444444444444444,
             "#bd3786"
            ],
            [
             0.5555555555555556,
             "#d8576b"
            ],
            [
             0.6666666666666666,
             "#ed7953"
            ],
            [
             0.7777777777777778,
             "#fb9f3a"
            ],
            [
             0.8888888888888888,
             "#fdca26"
            ],
            [
             1,
             "#f0f921"
            ]
           ],
           "sequentialminus": [
            [
             0,
             "#0d0887"
            ],
            [
             0.1111111111111111,
             "#46039f"
            ],
            [
             0.2222222222222222,
             "#7201a8"
            ],
            [
             0.3333333333333333,
             "#9c179e"
            ],
            [
             0.4444444444444444,
             "#bd3786"
            ],
            [
             0.5555555555555556,
             "#d8576b"
            ],
            [
             0.6666666666666666,
             "#ed7953"
            ],
            [
             0.7777777777777778,
             "#fb9f3a"
            ],
            [
             0.8888888888888888,
             "#fdca26"
            ],
            [
             1,
             "#f0f921"
            ]
           ]
          },
          "colorway": [
           "#636efa",
           "#EF553B",
           "#00cc96",
           "#ab63fa",
           "#FFA15A",
           "#19d3f3",
           "#FF6692",
           "#B6E880",
           "#FF97FF",
           "#FECB52"
          ],
          "font": {
           "color": "#2a3f5f"
          },
          "geo": {
           "bgcolor": "white",
           "lakecolor": "white",
           "landcolor": "#E5ECF6",
           "showlakes": true,
           "showland": true,
           "subunitcolor": "white"
          },
          "hoverlabel": {
           "align": "left"
          },
          "hovermode": "closest",
          "mapbox": {
           "style": "light"
          },
          "paper_bgcolor": "white",
          "plot_bgcolor": "#E5ECF6",
          "polar": {
           "angularaxis": {
            "gridcolor": "white",
            "linecolor": "white",
            "ticks": ""
           },
           "bgcolor": "#E5ECF6",
           "radialaxis": {
            "gridcolor": "white",
            "linecolor": "white",
            "ticks": ""
           }
          },
          "scene": {
           "xaxis": {
            "backgroundcolor": "#E5ECF6",
            "gridcolor": "white",
            "gridwidth": 2,
            "linecolor": "white",
            "showbackground": true,
            "ticks": "",
            "zerolinecolor": "white"
           },
           "yaxis": {
            "backgroundcolor": "#E5ECF6",
            "gridcolor": "white",
            "gridwidth": 2,
            "linecolor": "white",
            "showbackground": true,
            "ticks": "",
            "zerolinecolor": "white"
           },
           "zaxis": {
            "backgroundcolor": "#E5ECF6",
            "gridcolor": "white",
            "gridwidth": 2,
            "linecolor": "white",
            "showbackground": true,
            "ticks": "",
            "zerolinecolor": "white"
           }
          },
          "shapedefaults": {
           "line": {
            "color": "#2a3f5f"
           }
          },
          "ternary": {
           "aaxis": {
            "gridcolor": "white",
            "linecolor": "white",
            "ticks": ""
           },
           "baxis": {
            "gridcolor": "white",
            "linecolor": "white",
            "ticks": ""
           },
           "bgcolor": "#E5ECF6",
           "caxis": {
            "gridcolor": "white",
            "linecolor": "white",
            "ticks": ""
           }
          },
          "title": {
           "x": 0.05
          },
          "xaxis": {
           "automargin": true,
           "gridcolor": "white",
           "linecolor": "white",
           "ticks": "",
           "title": {
            "standoff": 15
           },
           "zerolinecolor": "white",
           "zerolinewidth": 2
          },
          "yaxis": {
           "automargin": true,
           "gridcolor": "white",
           "linecolor": "white",
           "ticks": "",
           "title": {
            "standoff": 15
           },
           "zerolinecolor": "white",
           "zerolinewidth": 2
          }
         }
        },
        "title": {
         "text": "Interactive Transaction Visualization"
        },
        "xaxis": {
         "showgrid": false,
         "showticklabels": false,
         "zeroline": false
        },
        "yaxis": {
         "showgrid": false,
         "showticklabels": false,
         "zeroline": false
        }
       }
      },
      "text/html": [
       "<div>\n",
       "        \n",
       "        \n",
       "            <div id=\"61ae430e-8533-411f-8b48-88a4bd6f63c9\" class=\"plotly-graph-div\" style=\"height:600px; width:100%;\"></div>\n",
       "            <script type=\"text/javascript\">\n",
       "                require([\"plotly\"], function(Plotly) {\n",
       "                    window.PLOTLYENV=window.PLOTLYENV || {};\n",
       "                    \n",
       "                if (document.getElementById(\"61ae430e-8533-411f-8b48-88a4bd6f63c9\")) {\n",
       "                    Plotly.newPlot(\n",
       "                        '61ae430e-8533-411f-8b48-88a4bd6f63c9',\n",
       "                        [{\"line\": {\"shape\": \"spline\", \"width\": 0.0}, \"marker\": {\"color\": \"rgb(0.9411764705882353, 0.5019607843137255, 0.5019607843137255)\"}, \"mode\": \"lines\", \"opacity\": 1, \"type\": \"scatter\", \"x\": [-0.4237089899470136, 0.5205884261503951, null], \"y\": [0.4043391939631468, 0.8796596795847385, null]}, {\"line\": {\"shape\": \"spline\", \"width\": 0.0}, \"marker\": {\"color\": \"rgb(0.9410939332864068, 0.4999741068328667, 0.4999741068328667)\"}, \"mode\": \"lines\", \"opacity\": 1, \"type\": \"scatter\", \"x\": [-0.4237089899470136, 0.41695839289869735, null], \"y\": [0.4043391939631468, 0.2653693644066391, null]}, {\"line\": {\"shape\": \"spline\", \"width\": 0.0}, \"marker\": {\"color\": \"rgb(0.9410124032611975, 0.4979864220753887, 0.4979864220753887)\"}, \"mode\": \"lines\", \"opacity\": 1, \"type\": \"scatter\", \"x\": [-0.4237089899470136, 0.7651866278042626, null], \"y\": [0.4043391939631468, -0.6158024413261334, null]}, {\"line\": {\"shape\": \"spline\", \"width\": 0.0}, \"marker\": {\"color\": \"rgb(0.9409318805126071, 0.4959977300412918, 0.4959977300412918)\"}, \"mode\": \"lines\", \"opacity\": 1, \"type\": \"scatter\", \"x\": [-0.4237089899470136, 0.6840117985457818, null], \"y\": [0.4043391939631468, 0.5702026763651347, null]}, {\"line\": {\"shape\": \"spline\", \"width\": 0.0}, \"marker\": {\"color\": \"rgb(0.9408523650406359, 0.49400803073057575, 0.49400803073057575)\"}, \"mode\": \"lines\", \"opacity\": 1, \"type\": \"scatter\", \"x\": [-0.4237089899470136, -0.3262598396382662, null], \"y\": [0.4043391939631468, -0.7506236726899015, null]}, {\"line\": {\"shape\": \"spline\", \"width\": 0.0}, \"marker\": {\"color\": \"rgb(0.9407738568452837, 0.4920173241432406, 0.4920173241432406)\"}, \"mode\": \"lines\", \"opacity\": 1, \"type\": \"scatter\", \"x\": [-0.4237089899470136, 0.8906284306660813, null], \"y\": [0.4043391939631468, 0.30901222800562705, null]}, {\"line\": {\"shape\": \"spline\", \"width\": 0.0}, \"marker\": {\"color\": \"rgb(0.9406963559265509, 0.49002561027928637, 0.49002561027928637)\"}, \"mode\": \"lines\", \"opacity\": 1, \"type\": \"scatter\", \"x\": [-0.4237089899470136, 0.042555730321677636, null], \"y\": [0.4043391939631468, -0.6610675416957015, null]}, {\"line\": {\"shape\": \"spline\", \"width\": 0.0}, \"marker\": {\"color\": \"rgb(0.9406198622844368, 0.4880328891387131, 0.4880328891387131)\"}, \"mode\": \"lines\", \"opacity\": 1, \"type\": \"scatter\", \"x\": [-0.4237089899470136, -0.35675277189078475, null], \"y\": [0.4043391939631468, 0.9090181900642286, null]}, {\"line\": {\"shape\": \"spline\", \"width\": 0.0}, \"marker\": {\"color\": \"rgb(0.9405443759189419, 0.48603916072152076, 0.48603916072152076)\"}, \"mode\": \"lines\", \"opacity\": 1, \"type\": \"scatter\", \"x\": [-0.4237089899470136, -0.69912365053649, null], \"y\": [0.4043391939631468, 0.1776516355523447, null]}, {\"line\": {\"shape\": \"spline\", \"width\": 0.0}, \"marker\": {\"color\": \"rgb(0.9404698968300663, 0.48404442502770906, 0.48404442502770906)\"}, \"mode\": \"lines\", \"opacity\": 1, \"type\": \"scatter\", \"x\": [-0.4237089899470136, -0.2006089591922666, null], \"y\": [0.4043391939631468, -0.3410249045790984, null]}, {\"line\": {\"shape\": \"spline\", \"width\": 0.0}, \"marker\": {\"color\": \"rgb(0.9403964250178095, 0.4820486820572786, 0.4820486820572786)\"}, \"mode\": \"lines\", \"opacity\": 1, \"type\": \"scatter\", \"x\": [-0.4237089899470136, 0.7840491809787309, null], \"y\": [0.4043391939631468, -0.3124284556444398, null]}, {\"line\": {\"shape\": \"spline\", \"width\": 0.0}, \"marker\": {\"color\": \"rgb(0.9403239604821719, 0.48005193181022887, 0.48005193181022887)\"}, \"mode\": \"lines\", \"opacity\": 1, \"type\": \"scatter\", \"x\": [-0.4237089899470136, -0.9590383342568007, null], \"y\": [0.4043391939631468, -0.34685763200079156, null]}, {\"line\": {\"shape\": \"spline\", \"width\": 0.0}, \"marker\": {\"color\": \"rgb(0.9402525032231533, 0.47805417428656016, 0.47805417428656016)\"}, \"mode\": \"lines\", \"opacity\": 1, \"type\": \"scatter\", \"x\": [-0.4237089899470136, 0.4775890294771492, null], \"y\": [0.4043391939631468, -0.7065996477304826, null]}, {\"line\": {\"shape\": \"spline\", \"width\": 0.0}, \"marker\": {\"color\": \"rgb(0.9401820532407538, 0.47605540948627245, 0.47605540948627245)\"}, \"mode\": \"lines\", \"opacity\": 1, \"type\": \"scatter\", \"x\": [-0.4237089899470136, 0.29053802337351115, null], \"y\": [0.4043391939631468, -0.9500247040932227, null]}, {\"line\": {\"shape\": \"spline\", \"width\": 0.0}, \"marker\": {\"color\": \"rgb(0.9401126105349733, 0.4740556374093656, 0.4740556374093656)\"}, \"mode\": \"lines\", \"opacity\": 1, \"type\": \"scatter\", \"x\": [-0.4237089899470136, -0.4347894318337367, null], \"y\": [0.4043391939631468, -0.08023740699404934, null]}, {\"line\": {\"shape\": \"spline\", \"width\": 0.0}, \"marker\": {\"color\": \"rgb(0.940044175105812, 0.4720548580558397, 0.4720548580558397)\"}, \"mode\": \"lines\", \"opacity\": 1, \"type\": \"scatter\", \"x\": [-0.4237089899470136, -0.9238079484026622, null], \"y\": [0.4043391939631468, -0.006394501764154287, null]}, {\"line\": {\"shape\": \"spline\", \"width\": 0.0}, \"marker\": {\"color\": \"rgb(0.9399767469532696, 0.47005307142569497, 0.47005307142569497)\"}, \"mode\": \"lines\", \"opacity\": 1, \"type\": \"scatter\", \"x\": [-0.4237089899470136, 0.9999999999999999, null], \"y\": [0.4043391939631468, -0.038985615419455194, null]}, {\"line\": {\"shape\": \"spline\", \"width\": 0.0}, \"marker\": {\"color\": \"rgb(0.9399103260773465, 0.4680502775189308, 0.4680502775189308)\"}, \"mode\": \"lines\", \"opacity\": 1, \"type\": \"scatter\", \"x\": [-0.4237089899470136, -0.88826039091796, null], \"y\": [0.4043391939631468, 0.44876525848477733, null]}, {\"line\": {\"shape\": \"spline\", \"width\": 0.0}, \"marker\": {\"color\": \"rgb(0.9398449124780424, 0.46604647633554763, 0.46604647633554763)\"}, \"mode\": \"lines\", \"opacity\": 1, \"type\": \"scatter\", \"x\": [-0.4237089899470136, 0.10816920140973707, null], \"y\": [0.4043391939631468, 0.9968668463250838, null]}, {\"line\": {\"shape\": \"spline\", \"width\": 0.0}, \"marker\": {\"color\": \"rgb(0.9397805061553574, 0.46404166787554535, 0.46404166787554535)\"}, \"mode\": \"lines\", \"opacity\": 1, \"type\": \"scatter\", \"x\": [-0.4237089899470136, -0.05712631865800212, null], \"y\": [0.4043391939631468, 0.3303870467944924, null]}, {\"line\": {\"shape\": \"spline\", \"width\": 0.0}, \"marker\": {\"color\": \"rgb(0.9397171071092915, 0.46203585213892395, 0.46203585213892395)\"}, \"mode\": \"lines\", \"opacity\": 1, \"type\": \"scatter\", \"x\": [-0.4237089899470136, -0.6192599418973583, null], \"y\": [0.4043391939631468, 0.7077813868065571, null]}, {\"line\": {\"shape\": \"spline\", \"width\": 0.0}, \"marker\": {\"color\": \"rgb(0.9396547153398447, 0.46002902912568344, 0.46002902912568344)\"}, \"mode\": \"lines\", \"opacity\": 1, \"type\": \"scatter\", \"x\": [-0.4237089899470136, -0.6920023759347991, null], \"y\": [0.4043391939631468, -0.42282052296431377, null]}, {\"line\": {\"shape\": \"spline\", \"width\": 0.0}, \"marker\": {\"color\": \"rgb(0.9395933308470169, 0.45802119883582393, 0.45802119883582393)\"}, \"mode\": \"lines\", \"opacity\": 1, \"type\": \"scatter\", \"x\": [-0.4237089899470136, 0.1192988455823766, null], \"y\": [0.4043391939631468, -0.053018382521206005, null]}, {\"line\": {\"shape\": \"spline\", \"width\": 0.0}, \"marker\": {\"color\": \"rgb(0.9395329536308081, 0.4560123612693454, 0.4560123612693454)\"}, \"mode\": \"lines\", \"opacity\": 1, \"type\": \"scatter\", \"x\": [-0.4237089899470136, 0.6561880425959237, null], \"y\": [0.4043391939631468, 0.014406556349072674, null]}, {\"line\": {\"shape\": \"spline\", \"width\": 0.0}, \"marker\": {\"color\": \"rgb(0.9394735836912186, 0.45400251642624767, 0.45400251642624767)\"}, \"mode\": \"lines\", \"opacity\": 1, \"type\": \"scatter\", \"x\": [-0.4237089899470136, 0.33875119688294697, null], \"y\": [0.4043391939631468, -0.34323648494223935, null]}, {\"line\": {\"shape\": \"spline\", \"width\": 0.0}, \"marker\": {\"color\": \"rgb(0.9394152210282481, 0.4519916643065308, 0.4519916643065308)\"}, \"mode\": \"lines\", \"opacity\": 1, \"type\": \"scatter\", \"x\": [-0.4237089899470136, -0.09977344620872326, null], \"y\": [0.4043391939631468, -0.9942196228473164, null]}, {\"line\": {\"shape\": \"spline\", \"width\": 0.0}, \"marker\": {\"color\": \"rgb(0.9393578656418966, 0.4499798049101953, 0.4499798049101953)\"}, \"mode\": \"lines\", \"opacity\": 1, \"type\": \"scatter\", \"x\": [-0.4237089899470136, 0.28231830546686393, null], \"y\": [0.4043391939631468, 0.6123748779823588, null]}, {\"line\": {\"shape\": \"spline\", \"width\": 0.0}, \"marker\": {\"color\": \"rgb(0.9393015175321642, 0.44796693823724043, 0.44796693823724043)\"}, \"mode\": \"lines\", \"opacity\": 1, \"type\": \"scatter\", \"x\": [-0.4237089899470136, -0.08015989063624109, null], \"y\": [0.4043391939631468, 0.7311264910311921, null]}, {\"line\": {\"shape\": \"spline\", \"width\": 0.0}, \"marker\": {\"color\": \"rgb(0.9392461766990509, 0.44595306428766646, 0.44595306428766646)\"}, \"mode\": \"lines\", \"opacity\": 1, \"type\": \"scatter\", \"x\": [-0.4237089899470136, -0.6161589422030441, null], \"y\": [0.4043391939631468, -0.7336198945028887, null]}, {\"line\": {\"shape\": \"spline\", \"width\": 0.0}, \"marker\": {\"color\": \"rgb(0.9391918431425567, 0.44393818306147337, 0.44393818306147337)\"}, \"mode\": \"lines\", \"opacity\": 1, \"type\": \"scatter\", \"x\": [0.5205884261503951, -0.3262598396382662, null], \"y\": [0.8796596795847385, -0.7506236726899015, null]}, {\"line\": {\"shape\": \"spline\", \"width\": 8.9}, \"marker\": {\"color\": \"rgb(0.9391385168626815, 0.4419222945586613, 0.4419222945586613)\"}, \"mode\": \"lines\", \"opacity\": 1, \"type\": \"scatter\", \"x\": [0.5205884261503951, 0.8906284306660813, null], \"y\": [0.8796596795847385, 0.30901222800562705, null]}, {\"line\": {\"shape\": \"spline\", \"width\": 10.0}, \"marker\": {\"color\": \"rgb(0.9390861978594254, 0.4399053987792301, 0.4399053987792301)\"}, \"mode\": \"lines\", \"opacity\": 1, \"type\": \"scatter\", \"x\": [0.5205884261503951, 0.042555730321677636, null], \"y\": [0.8796596795847385, -0.6610675416957015, null]}, {\"line\": {\"shape\": \"spline\", \"width\": 0.0}, \"marker\": {\"color\": \"rgb(0.9390348861327884, 0.43788749572317975, 0.43788749572317975)\"}, \"mode\": \"lines\", \"opacity\": 1, \"type\": \"scatter\", \"x\": [0.5205884261503951, -0.35675277189078475, null], \"y\": [0.8796596795847385, 0.9090181900642286, null]}, {\"line\": {\"shape\": \"spline\", \"width\": 0.0}, \"marker\": {\"color\": \"rgb(0.9389845816827704, 0.43586858539051043, 0.43586858539051043)\"}, \"mode\": \"lines\", \"opacity\": 1, \"type\": \"scatter\", \"x\": [0.5205884261503951, -0.69912365053649, null], \"y\": [0.8796596795847385, 0.1776516355523447, null]}, {\"line\": {\"shape\": \"spline\", \"width\": 0.0}, \"marker\": {\"color\": \"rgb(0.9389352845093716, 0.433848667781222, 0.433848667781222)\"}, \"mode\": \"lines\", \"opacity\": 1, \"type\": \"scatter\", \"x\": [0.5205884261503951, -0.2006089591922666, null], \"y\": [0.8796596795847385, -0.3410249045790984, null]}, {\"line\": {\"shape\": \"spline\", \"width\": 4.5}, \"marker\": {\"color\": \"rgb(0.9388869946125918, 0.43182774289531445, 0.43182774289531445)\"}, \"mode\": \"lines\", \"opacity\": 1, \"type\": \"scatter\", \"x\": [0.5205884261503951, 0.7840491809787309, null], \"y\": [0.8796596795847385, -0.3124284556444398, null]}, {\"line\": {\"shape\": \"spline\", \"width\": 9.6}, \"marker\": {\"color\": \"rgb(0.9388397119924313, 0.4298058107327877, 0.4298058107327877)\"}, \"mode\": \"lines\", \"opacity\": 1, \"type\": \"scatter\", \"x\": [0.5205884261503951, -0.9590383342568007, null], \"y\": [0.8796596795847385, -0.34685763200079156, null]}, {\"line\": {\"shape\": \"spline\", \"width\": 8.0}, \"marker\": {\"color\": \"rgb(0.9387934366488898, 0.4277828712936421, 0.4277828712936421)\"}, \"mode\": \"lines\", \"opacity\": 1, \"type\": \"scatter\", \"x\": [0.5205884261503951, 0.4775890294771492, null], \"y\": [0.8796596795847385, -0.7065996477304826, null]}, {\"line\": {\"shape\": \"spline\", \"width\": 9.5}, \"marker\": {\"color\": \"rgb(0.9387481685819673, 0.42575892457787734, 0.42575892457787734)\"}, \"mode\": \"lines\", \"opacity\": 1, \"type\": \"scatter\", \"x\": [0.5205884261503951, 0.29053802337351115, null], \"y\": [0.8796596795847385, -0.9500247040932227, null]}, {\"line\": {\"shape\": \"spline\", \"width\": 0.0}, \"marker\": {\"color\": \"rgb(0.9387039077916639, 0.42373397058549345, 0.42373397058549345)\"}, \"mode\": \"lines\", \"opacity\": 1, \"type\": \"scatter\", \"x\": [0.5205884261503951, -0.4347894318337367, null], \"y\": [0.8796596795847385, -0.08023740699404934, null]}, {\"line\": {\"shape\": \"spline\", \"width\": 8.9}, \"marker\": {\"color\": \"rgb(0.9386606542779795, 0.42170800931649055, 0.42170800931649055)\"}, \"mode\": \"lines\", \"opacity\": 1, \"type\": \"scatter\", \"x\": [0.5205884261503951, -0.9238079484026622, null], \"y\": [0.8796596795847385, -0.006394501764154287, null]}, {\"line\": {\"shape\": \"spline\", \"width\": 8.9}, \"marker\": {\"color\": \"rgb(0.9386184080409142, 0.41968104077086854, 0.41968104077086854)\"}, \"mode\": \"lines\", \"opacity\": 1, \"type\": \"scatter\", \"x\": [0.5205884261503951, 0.9999999999999999, null], \"y\": [0.8796596795847385, -0.038985615419455194, null]}, {\"line\": {\"shape\": \"spline\", \"width\": 4.5}, \"marker\": {\"color\": \"rgb(0.938577169080468, 0.41765306494862753, 0.41765306494862753)\"}, \"mode\": \"lines\", \"opacity\": 1, \"type\": \"scatter\", \"x\": [0.5205884261503951, -0.88826039091796, null], \"y\": [0.8796596795847385, 0.44876525848477733, null]}, {\"line\": {\"shape\": \"spline\", \"width\": 0.0}, \"marker\": {\"color\": \"rgb(0.9385369373966409, 0.4156240818497673, 0.4156240818497673)\"}, \"mode\": \"lines\", \"opacity\": 1, \"type\": \"scatter\", \"x\": [0.5205884261503951, 0.41695839289869735, null], \"y\": [0.8796596795847385, 0.2653693644066391, null]}, {\"line\": {\"shape\": \"spline\", \"width\": 8.9}, \"marker\": {\"color\": \"rgb(0.9384977129894329, 0.41359409147428805, 0.41359409147428805)\"}, \"mode\": \"lines\", \"opacity\": 1, \"type\": \"scatter\", \"x\": [0.5205884261503951, 0.10816920140973707, null], \"y\": [0.8796596795847385, 0.9968668463250838, null]}, {\"line\": {\"shape\": \"spline\", \"width\": 0.0}, \"marker\": {\"color\": \"rgb(0.9384594958588439, 0.4115630938221897, 0.4115630938221897)\"}, \"mode\": \"lines\", \"opacity\": 1, \"type\": \"scatter\", \"x\": [0.5205884261503951, 0.7651866278042626, null], \"y\": [0.8796596795847385, -0.6158024413261334, null]}, {\"line\": {\"shape\": \"spline\", \"width\": 0.0}, \"marker\": {\"color\": \"rgb(0.938422286004874, 0.40953108889347234, 0.40953108889347234)\"}, \"mode\": \"lines\", \"opacity\": 1, \"type\": \"scatter\", \"x\": [0.5205884261503951, -0.05712631865800212, null], \"y\": [0.8796596795847385, 0.3303870467944924, null]}, {\"line\": {\"shape\": \"spline\", \"width\": 0.0}, \"marker\": {\"color\": \"rgb(0.9383860834275233, 0.407498076688136, 0.407498076688136)\"}, \"mode\": \"lines\", \"opacity\": 1, \"type\": \"scatter\", \"x\": [0.5205884261503951, -0.6192599418973583, null], \"y\": [0.8796596795847385, 0.7077813868065571, null]}, {\"line\": {\"shape\": \"spline\", \"width\": 7.800000000000001}, \"marker\": {\"color\": \"rgb(0.9383508881267915, 0.4054640572061805, 0.4054640572061805)\"}, \"mode\": \"lines\", \"opacity\": 1, \"type\": \"scatter\", \"x\": [0.5205884261503951, -0.6920023759347991, null], \"y\": [0.8796596795847385, -0.42282052296431377, null]}, {\"line\": {\"shape\": \"spline\", \"width\": 9.9}, \"marker\": {\"color\": \"rgb(0.9383167001026789, 0.4034290304476058, 0.4034290304476058)\"}, \"mode\": \"lines\", \"opacity\": 1, \"type\": \"scatter\", \"x\": [0.5205884261503951, 0.1192988455823766, null], \"y\": [0.8796596795847385, -0.053018382521206005, null]}, {\"line\": {\"shape\": \"spline\", \"width\": 0.0}, \"marker\": {\"color\": \"rgb(0.9382835193551853, 0.4013929964124121, 0.4013929964124121)\"}, \"mode\": \"lines\", \"opacity\": 1, \"type\": \"scatter\", \"x\": [0.5205884261503951, 0.6840117985457818, null], \"y\": [0.8796596795847385, 0.5702026763651347, null]}, {\"line\": {\"shape\": \"spline\", \"width\": 0.0}, \"marker\": {\"color\": \"rgb(0.9382513458843108, 0.3993559551005993, 0.3993559551005993)\"}, \"mode\": \"lines\", \"opacity\": 1, \"type\": \"scatter\", \"x\": [0.5205884261503951, 0.6561880425959237, null], \"y\": [0.8796596795847385, 0.014406556349072674, null]}, {\"line\": {\"shape\": \"spline\", \"width\": 0.0}, \"marker\": {\"color\": \"rgb(0.9382201796900554, 0.39731790651216736, 0.39731790651216736)\"}, \"mode\": \"lines\", \"opacity\": 1, \"type\": \"scatter\", \"x\": [0.5205884261503951, 0.33875119688294697, null], \"y\": [0.8796596795847385, -0.34323648494223935, null]}, {\"line\": {\"shape\": \"spline\", \"width\": 0.0}, \"marker\": {\"color\": \"rgb(0.9381900207724192, 0.3952788506471163, 0.3952788506471163)\"}, \"mode\": \"lines\", \"opacity\": 1, \"type\": \"scatter\", \"x\": [0.5205884261503951, -0.09977344620872326, null], \"y\": [0.8796596795847385, -0.9942196228473164, null]}, {\"line\": {\"shape\": \"spline\", \"width\": 0.0}, \"marker\": {\"color\": \"rgb(0.938160869131402, 0.3932387875054463, 0.3932387875054463)\"}, \"mode\": \"lines\", \"opacity\": 1, \"type\": \"scatter\", \"x\": [0.5205884261503951, 0.28231830546686393, null], \"y\": [0.8796596795847385, 0.6123748779823588, null]}, {\"line\": {\"shape\": \"spline\", \"width\": 0.0}, \"marker\": {\"color\": \"rgb(0.9381327247670038, 0.3911977170871571, 0.3911977170871571)\"}, \"mode\": \"lines\", \"opacity\": 1, \"type\": \"scatter\", \"x\": [0.5205884261503951, -0.08015989063624109, null], \"y\": [0.8796596795847385, 0.7311264910311921, null]}, {\"line\": {\"shape\": \"spline\", \"width\": 7.1}, \"marker\": {\"color\": \"rgb(0.9381055876792247, 0.38915563939224895, 0.38915563939224895)\"}, \"mode\": \"lines\", \"opacity\": 1, \"type\": \"scatter\", \"x\": [0.5205884261503951, -0.6161589422030441, null], \"y\": [0.8796596795847385, -0.7336198945028887, null]}, {\"line\": {\"shape\": \"spline\", \"width\": 0.0}, \"marker\": {\"color\": \"rgb(0.9380794578680647, 0.3871125544207217, 0.3871125544207217)\"}, \"mode\": \"lines\", \"opacity\": 1, \"type\": \"scatter\", \"x\": [0.41695839289869735, -0.3262598396382662, null], \"y\": [0.2653693644066391, -0.7506236726899015, null]}, {\"line\": {\"shape\": \"spline\", \"width\": 0.0}, \"marker\": {\"color\": \"rgb(0.9380543353335236, 0.38506846217257573, 0.38506846217257573)\"}, \"mode\": \"lines\", \"opacity\": 1, \"type\": \"scatter\", \"x\": [0.41695839289869735, 0.8906284306660813, null], \"y\": [0.2653693644066391, 0.30901222800562705, null]}, {\"line\": {\"shape\": \"spline\", \"width\": 0.0}, \"marker\": {\"color\": \"rgb(0.9380302200756018, 0.38302336264781023, 0.38302336264781023)\"}, \"mode\": \"lines\", \"opacity\": 1, \"type\": \"scatter\", \"x\": [0.41695839289869735, 0.042555730321677636, null], \"y\": [0.2653693644066391, -0.6610675416957015, null]}, {\"line\": {\"shape\": \"spline\", \"width\": 0.0}, \"marker\": {\"color\": \"rgb(0.938007112094299, 0.3809772558464257, 0.3809772558464257)\"}, \"mode\": \"lines\", \"opacity\": 1, \"type\": \"scatter\", \"x\": [0.41695839289869735, -0.35675277189078475, null], \"y\": [0.2653693644066391, 0.9090181900642286, null]}, {\"line\": {\"shape\": \"spline\", \"width\": 0.0}, \"marker\": {\"color\": \"rgb(0.9379850113896153, 0.3789301417684221, 0.3789301417684221)\"}, \"mode\": \"lines\", \"opacity\": 1, \"type\": \"scatter\", \"x\": [0.41695839289869735, -0.69912365053649, null], \"y\": [0.2653693644066391, 0.1776516355523447, null]}, {\"line\": {\"shape\": \"spline\", \"width\": 0.0}, \"marker\": {\"color\": \"rgb(0.9379639179615507, 0.3768820204137995, 0.3768820204137995)\"}, \"mode\": \"lines\", \"opacity\": 1, \"type\": \"scatter\", \"x\": [0.41695839289869735, -0.2006089591922666, null], \"y\": [0.2653693644066391, -0.3410249045790984, null]}, {\"line\": {\"shape\": \"spline\", \"width\": 0.0}, \"marker\": {\"color\": \"rgb(0.9379438318101051, 0.37483289178255774, 0.37483289178255774)\"}, \"mode\": \"lines\", \"opacity\": 1, \"type\": \"scatter\", \"x\": [0.41695839289869735, 0.7840491809787309, null], \"y\": [0.2653693644066391, -0.3124284556444398, null]}, {\"line\": {\"shape\": \"spline\", \"width\": 0.0}, \"marker\": {\"color\": \"rgb(0.9379247529352789, 0.37278275587469667, 0.37278275587469667)\"}, \"mode\": \"lines\", \"opacity\": 1, \"type\": \"scatter\", \"x\": [0.41695839289869735, -0.9590383342568007, null], \"y\": [0.2653693644066391, -0.34685763200079156, null]}, {\"line\": {\"shape\": \"spline\", \"width\": 0.0}, \"marker\": {\"color\": \"rgb(0.9379066813370714, 0.3707316126902168, 0.3707316126902168)\"}, \"mode\": \"lines\", \"opacity\": 1, \"type\": \"scatter\", \"x\": [0.41695839289869735, 0.4775890294771492, null], \"y\": [0.2653693644066391, -0.7065996477304826, null]}, {\"line\": {\"shape\": \"spline\", \"width\": 0.0}, \"marker\": {\"color\": \"rgb(0.9378896170154831, 0.36867946222911785, 0.36867946222911785)\"}, \"mode\": \"lines\", \"opacity\": 1, \"type\": \"scatter\", \"x\": [0.41695839289869735, 0.29053802337351115, null], \"y\": [0.2653693644066391, -0.9500247040932227, null]}, {\"line\": {\"shape\": \"spline\", \"width\": 0.0}, \"marker\": {\"color\": \"rgb(0.9378735599705139, 0.36662630449139977, 0.36662630449139977)\"}, \"mode\": \"lines\", \"opacity\": 1, \"type\": \"scatter\", \"x\": [0.41695839289869735, -0.4347894318337367, null], \"y\": [0.2653693644066391, -0.08023740699404934, null]}, {\"line\": {\"shape\": \"spline\", \"width\": 0.0}, \"marker\": {\"color\": \"rgb(0.9378585102021639, 0.3645721394770627, 0.3645721394770627)\"}, \"mode\": \"lines\", \"opacity\": 1, \"type\": \"scatter\", \"x\": [0.41695839289869735, -0.9238079484026622, null], \"y\": [0.2653693644066391, -0.006394501764154287, null]}, {\"line\": {\"shape\": \"spline\", \"width\": 0.0}, \"marker\": {\"color\": \"rgb(0.9378444677104328, 0.3625169671861065, 0.3625169671861065)\"}, \"mode\": \"lines\", \"opacity\": 1, \"type\": \"scatter\", \"x\": [0.41695839289869735, 0.9999999999999999, null], \"y\": [0.2653693644066391, -0.038985615419455194, null]}, {\"line\": {\"shape\": \"spline\", \"width\": 0.0}, \"marker\": {\"color\": \"rgb(0.9378314324953209, 0.3604607876185312, 0.3604607876185312)\"}, \"mode\": \"lines\", \"opacity\": 1, \"type\": \"scatter\", \"x\": [0.41695839289869735, -0.88826039091796, null], \"y\": [0.2653693644066391, 0.44876525848477733, null]}, {\"line\": {\"shape\": \"spline\", \"width\": 0.0}, \"marker\": {\"color\": \"rgb(0.9378194045568279, 0.35840360077433686, 0.35840360077433686)\"}, \"mode\": \"lines\", \"opacity\": 1, \"type\": \"scatter\", \"x\": [0.41695839289869735, 0.7651866278042626, null], \"y\": [0.2653693644066391, -0.6158024413261334, null]}, {\"line\": {\"shape\": \"spline\", \"width\": 0.0}, \"marker\": {\"color\": \"rgb(0.9378083838949541, 0.3563454066535233, 0.3563454066535233)\"}, \"mode\": \"lines\", \"opacity\": 1, \"type\": \"scatter\", \"x\": [0.41695839289869735, 0.10816920140973707, null], \"y\": [0.2653693644066391, 0.9968668463250838, null]}, {\"line\": {\"shape\": \"spline\", \"width\": 0.0}, \"marker\": {\"color\": \"rgb(0.9377983705096994, 0.3542862052560908, 0.3542862052560908)\"}, \"mode\": \"lines\", \"opacity\": 1, \"type\": \"scatter\", \"x\": [0.41695839289869735, -0.05712631865800212, null], \"y\": [0.2653693644066391, 0.3303870467944924, null]}, {\"line\": {\"shape\": \"spline\", \"width\": 0.0}, \"marker\": {\"color\": \"rgb(0.9377893644010636, 0.35222599658203924, 0.35222599658203924)\"}, \"mode\": \"lines\", \"opacity\": 1, \"type\": \"scatter\", \"x\": [0.41695839289869735, -0.6192599418973583, null], \"y\": [0.2653693644066391, 0.7077813868065571, null]}, {\"line\": {\"shape\": \"spline\", \"width\": 0.0}, \"marker\": {\"color\": \"rgb(0.937781365569047, 0.3501647806313686, 0.3501647806313686)\"}, \"mode\": \"lines\", \"opacity\": 1, \"type\": \"scatter\", \"x\": [0.41695839289869735, -0.6920023759347991, null], \"y\": [0.2653693644066391, -0.42282052296431377, null]}, {\"line\": {\"shape\": \"spline\", \"width\": 0.0}, \"marker\": {\"color\": \"rgb(0.9377743740136495, 0.3481025574040788, 0.3481025574040788)\"}, \"mode\": \"lines\", \"opacity\": 1, \"type\": \"scatter\", \"x\": [0.41695839289869735, 0.1192988455823766, null], \"y\": [0.2653693644066391, -0.053018382521206005, null]}, {\"line\": {\"shape\": \"spline\", \"width\": 0.0}, \"marker\": {\"color\": \"rgb(0.9377683897348711, 0.3460393269001699, 0.3460393269001699)\"}, \"mode\": \"lines\", \"opacity\": 1, \"type\": \"scatter\", \"x\": [0.41695839289869735, 0.6840117985457818, null], \"y\": [0.2653693644066391, 0.5702026763651347, null]}, {\"line\": {\"shape\": \"spline\", \"width\": 0.0}, \"marker\": {\"color\": \"rgb(0.9377634127327118, 0.3439750891196419, 0.3439750891196419)\"}, \"mode\": \"lines\", \"opacity\": 1, \"type\": \"scatter\", \"x\": [0.41695839289869735, 0.6561880425959237, null], \"y\": [0.2653693644066391, 0.014406556349072674, null]}, {\"line\": {\"shape\": \"spline\", \"width\": 0.0}, \"marker\": {\"color\": \"rgb(0.9377594430071715, 0.3419098440624949, 0.3419098440624949)\"}, \"mode\": \"lines\", \"opacity\": 1, \"type\": \"scatter\", \"x\": [0.41695839289869735, 0.33875119688294697, null], \"y\": [0.2653693644066391, -0.34323648494223935, null]}, {\"line\": {\"shape\": \"spline\", \"width\": 0.0}, \"marker\": {\"color\": \"rgb(0.9377564805582506, 0.3398435917287288, 0.3398435917287288)\"}, \"mode\": \"lines\", \"opacity\": 1, \"type\": \"scatter\", \"x\": [0.41695839289869735, -0.09977344620872326, null], \"y\": [0.2653693644066391, -0.9942196228473164, null]}, {\"line\": {\"shape\": \"spline\", \"width\": 0.0}, \"marker\": {\"color\": \"rgb(0.9377545253859485, 0.33777633211834357, 0.33777633211834357)\"}, \"mode\": \"lines\", \"opacity\": 1, \"type\": \"scatter\", \"x\": [0.41695839289869735, 0.28231830546686393, null], \"y\": [0.2653693644066391, 0.6123748779823588, null]}, {\"line\": {\"shape\": \"spline\", \"width\": 0.0}, \"marker\": {\"color\": \"rgb(0.9377535774902654, 0.33570806523133934, 0.33570806523133934)\"}, \"mode\": \"lines\", \"opacity\": 1, \"type\": \"scatter\", \"x\": [0.41695839289869735, -0.08015989063624109, null], \"y\": [0.2653693644066391, 0.7311264910311921, null]}, {\"line\": {\"shape\": \"spline\", \"width\": 0.0}, \"marker\": {\"color\": \"rgb(0.9377536368712015, 0.333638791067716, 0.333638791067716)\"}, \"mode\": \"lines\", \"opacity\": 1, \"type\": \"scatter\", \"x\": [0.41695839289869735, -0.6161589422030441, null], \"y\": [0.2653693644066391, -0.7336198945028887, null]}, {\"line\": {\"shape\": \"spline\", \"width\": 0.0}, \"marker\": {\"color\": \"rgb(0.9377547035287567, 0.33156850962747353, 0.33156850962747353)\"}, \"mode\": \"lines\", \"opacity\": 1, \"type\": \"scatter\", \"x\": [0.7651866278042626, -0.3262598396382662, null], \"y\": [-0.6158024413261334, -0.7506236726899015, null]}, {\"line\": {\"shape\": \"spline\", \"width\": 0.0}, \"marker\": {\"color\": \"rgb(0.9377567774629308, 0.32949722091061207, 0.32949722091061207)\"}, \"mode\": \"lines\", \"opacity\": 1, \"type\": \"scatter\", \"x\": [0.7651866278042626, 0.8906284306660813, null], \"y\": [-0.6158024413261334, 0.30901222800562705, null]}, {\"line\": {\"shape\": \"spline\", \"width\": 0.0}, \"marker\": {\"color\": \"rgb(0.937759858673724, 0.3274249249171316, 0.3274249249171316)\"}, \"mode\": \"lines\", \"opacity\": 1, \"type\": \"scatter\", \"x\": [0.7651866278042626, 0.042555730321677636, null], \"y\": [-0.6158024413261334, -0.6610675416957015, null]}, {\"line\": {\"shape\": \"spline\", \"width\": 0.0}, \"marker\": {\"color\": \"rgb(0.9377639471611364, 0.3253516216470319, 0.3253516216470319)\"}, \"mode\": \"lines\", \"opacity\": 1, \"type\": \"scatter\", \"x\": [0.7651866278042626, -0.35675277189078475, null], \"y\": [-0.6158024413261334, 0.9090181900642286, null]}, {\"line\": {\"shape\": \"spline\", \"width\": 0.0}, \"marker\": {\"color\": \"rgb(0.9377690429251678, 0.3232773111003132, 0.3232773111003132)\"}, \"mode\": \"lines\", \"opacity\": 1, \"type\": \"scatter\", \"x\": [0.7651866278042626, -0.69912365053649, null], \"y\": [-0.6158024413261334, 0.1776516355523447, null]}, {\"line\": {\"shape\": \"spline\", \"width\": 0.0}, \"marker\": {\"color\": \"rgb(0.9377751459658183, 0.32120199327697563, 0.32120199327697563)\"}, \"mode\": \"lines\", \"opacity\": 1, \"type\": \"scatter\", \"x\": [0.7651866278042626, -0.2006089591922666, null], \"y\": [-0.6158024413261334, -0.3410249045790984, null]}, {\"line\": {\"shape\": \"spline\", \"width\": 0.0}, \"marker\": {\"color\": \"rgb(0.9377822562830879, 0.3191256681770188, 0.3191256681770188)\"}, \"mode\": \"lines\", \"opacity\": 1, \"type\": \"scatter\", \"x\": [0.7651866278042626, 0.7840491809787309, null], \"y\": [-0.6158024413261334, -0.3124284556444398, null]}, {\"line\": {\"shape\": \"spline\", \"width\": 0.0}, \"marker\": {\"color\": \"rgb(0.9377903738769767, 0.31704833580044267, 0.31704833580044267)\"}, \"mode\": \"lines\", \"opacity\": 1, \"type\": \"scatter\", \"x\": [0.7651866278042626, -0.9590383342568007, null], \"y\": [-0.6158024413261334, -0.34685763200079156, null]}, {\"line\": {\"shape\": \"spline\", \"width\": 0.0}, \"marker\": {\"color\": \"rgb(0.9377994987474845, 0.31496999614724763, 0.31496999614724763)\"}, \"mode\": \"lines\", \"opacity\": 1, \"type\": \"scatter\", \"x\": [0.7651866278042626, 0.4775890294771492, null], \"y\": [-0.6158024413261334, -0.7065996477304826, null]}, {\"line\": {\"shape\": \"spline\", \"width\": 0.0}, \"marker\": {\"color\": \"rgb(0.9378096308946113, 0.3128906492174335, 0.3128906492174335)\"}, \"mode\": \"lines\", \"opacity\": 1, \"type\": \"scatter\", \"x\": [0.7651866278042626, 0.29053802337351115, null], \"y\": [-0.6158024413261334, -0.9500247040932227, null]}, {\"line\": {\"shape\": \"spline\", \"width\": 0.0}, \"marker\": {\"color\": \"rgb(0.9378207703183573, 0.3108102950110002, 0.3108102950110002)\"}, \"mode\": \"lines\", \"opacity\": 1, \"type\": \"scatter\", \"x\": [0.7651866278042626, -0.4347894318337367, null], \"y\": [-0.6158024413261334, -0.08023740699404934, null]}, {\"line\": {\"shape\": \"spline\", \"width\": 0.0}, \"marker\": {\"color\": \"rgb(0.9378329170187223, 0.30872893352794795, 0.30872893352794795)\"}, \"mode\": \"lines\", \"opacity\": 1, \"type\": \"scatter\", \"x\": [0.7651866278042626, -0.9238079484026622, null], \"y\": [-0.6158024413261334, -0.006394501764154287, null]}, {\"line\": {\"shape\": \"spline\", \"width\": 0.0}, \"marker\": {\"color\": \"rgb(0.9378460709957064, 0.30664656476827656, 0.30664656476827656)\"}, \"mode\": \"lines\", \"opacity\": 1, \"type\": \"scatter\", \"x\": [0.7651866278042626, 0.9999999999999999, null], \"y\": [-0.6158024413261334, -0.038985615419455194, null]}, {\"line\": {\"shape\": \"spline\", \"width\": 0.0}, \"marker\": {\"color\": \"rgb(0.9378602322493097, 0.30456318873198596, 0.30456318873198596)\"}, \"mode\": \"lines\", \"opacity\": 1, \"type\": \"scatter\", \"x\": [0.7651866278042626, -0.88826039091796, null], \"y\": [-0.6158024413261334, 0.44876525848477733, null]}, {\"line\": {\"shape\": \"spline\", \"width\": 0.0}, \"marker\": {\"color\": \"rgb(0.9378754007795319, 0.30247880541907646, 0.30247880541907646)\"}, \"mode\": \"lines\", \"opacity\": 1, \"type\": \"scatter\", \"x\": [0.7651866278042626, 0.10816920140973707, null], \"y\": [-0.6158024413261334, 0.9968668463250838, null]}, {\"line\": {\"shape\": \"spline\", \"width\": 0.0}, \"marker\": {\"color\": \"rgb(0.9378915765863732, 0.30039341482954784, 0.30039341482954784)\"}, \"mode\": \"lines\", \"opacity\": 1, \"type\": \"scatter\", \"x\": [0.7651866278042626, -0.05712631865800212, null], \"y\": [-0.6158024413261334, 0.3303870467944924, null]}, {\"line\": {\"shape\": \"spline\", \"width\": 0.0}, \"marker\": {\"color\": \"rgb(0.9379087596698336, 0.29830701696340045, 0.29830701696340045)\"}, \"mode\": \"lines\", \"opacity\": 1, \"type\": \"scatter\", \"x\": [0.7651866278042626, -0.6192599418973583, null], \"y\": [-0.6158024413261334, 0.7077813868065571, null]}, {\"line\": {\"shape\": \"spline\", \"width\": 0.0}, \"marker\": {\"color\": \"rgb(0.937926950029913, 0.2962196118206337, 0.2962196118206337)\"}, \"mode\": \"lines\", \"opacity\": 1, \"type\": \"scatter\", \"x\": [0.7651866278042626, -0.6920023759347991, null], \"y\": [-0.6158024413261334, -0.42282052296431377, null]}, {\"line\": {\"shape\": \"spline\", \"width\": 0.0}, \"marker\": {\"color\": \"rgb(0.9379461476666116, 0.2941311994012479, 0.2941311994012479)\"}, \"mode\": \"lines\", \"opacity\": 1, \"type\": \"scatter\", \"x\": [0.7651866278042626, 0.1192988455823766, null], \"y\": [-0.6158024413261334, -0.053018382521206005, null]}, {\"line\": {\"shape\": \"spline\", \"width\": 0.0}, \"marker\": {\"color\": \"rgb(0.9379663525799291, 0.29204177970524303, 0.29204177970524303)\"}, \"mode\": \"lines\", \"opacity\": 1, \"type\": \"scatter\", \"x\": [0.7651866278042626, 0.6840117985457818, null], \"y\": [-0.6158024413261334, 0.5702026763651347, null]}, {\"line\": {\"shape\": \"spline\", \"width\": 0.0}, \"marker\": {\"color\": \"rgb(0.9379875647698659, 0.28995135273261896, 0.28995135273261896)\"}, \"mode\": \"lines\", \"opacity\": 1, \"type\": \"scatter\", \"x\": [0.7651866278042626, 0.6561880425959237, null], \"y\": [-0.6158024413261334, 0.014406556349072674, null]}, {\"line\": {\"shape\": \"spline\", \"width\": 0.0}, \"marker\": {\"color\": \"rgb(0.9380097842364217, 0.2878599184833759, 0.2878599184833759)\"}, \"mode\": \"lines\", \"opacity\": 1, \"type\": \"scatter\", \"x\": [0.7651866278042626, 0.33875119688294697, null], \"y\": [-0.6158024413261334, -0.34323648494223935, null]}, {\"line\": {\"shape\": \"spline\", \"width\": 0.0}, \"marker\": {\"color\": \"rgb(0.9380330109795965, 0.2857674769575138, 0.2857674769575138)\"}, \"mode\": \"lines\", \"opacity\": 1, \"type\": \"scatter\", \"x\": [0.7651866278042626, -0.09977344620872326, null], \"y\": [-0.6158024413261334, -0.9942196228473164, null]}, {\"line\": {\"shape\": \"spline\", \"width\": 0.0}, \"marker\": {\"color\": \"rgb(0.9380572449993905, 0.2836740281550325, 0.2836740281550325)\"}, \"mode\": \"lines\", \"opacity\": 1, \"type\": \"scatter\", \"x\": [0.7651866278042626, 0.28231830546686393, null], \"y\": [-0.6158024413261334, 0.6123748779823588, null]}, {\"line\": {\"shape\": \"spline\", \"width\": 0.0}, \"marker\": {\"color\": \"rgb(0.9380824862958037, 0.281579572075932, 0.281579572075932)\"}, \"mode\": \"lines\", \"opacity\": 1, \"type\": \"scatter\", \"x\": [0.7651866278042626, -0.08015989063624109, null], \"y\": [-0.6158024413261334, 0.7311264910311921, null]}, {\"line\": {\"shape\": \"spline\", \"width\": 0.0}, \"marker\": {\"color\": \"rgb(0.9381087348688357, 0.2794841087202127, 0.2794841087202127)\"}, \"mode\": \"lines\", \"opacity\": 1, \"type\": \"scatter\", \"x\": [0.7651866278042626, -0.6161589422030441, null], \"y\": [-0.6158024413261334, -0.7336198945028887, null]}, {\"line\": {\"shape\": \"spline\", \"width\": 0.0}, \"marker\": {\"color\": \"rgb(0.9381359907184871, 0.27738763808787426, 0.27738763808787426)\"}, \"mode\": \"lines\", \"opacity\": 1, \"type\": \"scatter\", \"x\": [0.6840117985457818, -0.3262598396382662, null], \"y\": [0.5702026763651347, -0.7506236726899015, null]}, {\"line\": {\"shape\": \"spline\", \"width\": 0.0}, \"marker\": {\"color\": \"rgb(0.9381642538447573, 0.2752901601789167, 0.2752901601789167)\"}, \"mode\": \"lines\", \"opacity\": 1, \"type\": \"scatter\", \"x\": [0.6840117985457818, 0.8906284306660813, null], \"y\": [0.5702026763651347, 0.30901222800562705, null]}, {\"line\": {\"shape\": \"spline\", \"width\": 0.0}, \"marker\": {\"color\": \"rgb(0.9381935242476467, 0.2731916749933401, 0.2731916749933401)\"}, \"mode\": \"lines\", \"opacity\": 1, \"type\": \"scatter\", \"x\": [0.6840117985457818, 0.042555730321677636, null], \"y\": [0.5702026763651347, -0.6610675416957015, null]}, {\"line\": {\"shape\": \"spline\", \"width\": 0.0}, \"marker\": {\"color\": \"rgb(0.938223801927155, 0.2710921825311444, 0.2710921825311444)\"}, \"mode\": \"lines\", \"opacity\": 1, \"type\": \"scatter\", \"x\": [0.6840117985457818, -0.35675277189078475, null], \"y\": [0.5702026763651347, 0.9090181900642286, null]}, {\"line\": {\"shape\": \"spline\", \"width\": 0.0}, \"marker\": {\"color\": \"rgb(0.9382550868832825, 0.26899168279232966, 0.26899168279232966)\"}, \"mode\": \"lines\", \"opacity\": 1, \"type\": \"scatter\", \"x\": [0.6840117985457818, -0.69912365053649, null], \"y\": [0.5702026763651347, 0.1776516355523447, null]}, {\"line\": {\"shape\": \"spline\", \"width\": 0.0}, \"marker\": {\"color\": \"rgb(0.9382873791160291, 0.2668901757768958, 0.2668901757768958)\"}, \"mode\": \"lines\", \"opacity\": 1, \"type\": \"scatter\", \"x\": [0.6840117985457818, -0.2006089591922666, null], \"y\": [0.5702026763651347, -0.3410249045790984, null]}, {\"line\": {\"shape\": \"spline\", \"width\": 0.0}, \"marker\": {\"color\": \"rgb(0.9383206786253948, 0.2647876614848428, 0.2647876614848428)\"}, \"mode\": \"lines\", \"opacity\": 1, \"type\": \"scatter\", \"x\": [0.6840117985457818, 0.7840491809787309, null], \"y\": [0.5702026763651347, -0.3124284556444398, null]}, {\"line\": {\"shape\": \"spline\", \"width\": 0.0}, \"marker\": {\"color\": \"rgb(0.9383549854113795, 0.2626841399161708, 0.2626841399161708)\"}, \"mode\": \"lines\", \"opacity\": 1, \"type\": \"scatter\", \"x\": [0.6840117985457818, -0.9590383342568007, null], \"y\": [0.5702026763651347, -0.34685763200079156, null]}, {\"line\": {\"shape\": \"spline\", \"width\": 0.0}, \"marker\": {\"color\": \"rgb(0.9383902994739834, 0.26057961107087957, 0.26057961107087957)\"}, \"mode\": \"lines\", \"opacity\": 1, \"type\": \"scatter\", \"x\": [0.6840117985457818, 0.4775890294771492, null], \"y\": [0.5702026763651347, -0.7065996477304826, null]}, {\"line\": {\"shape\": \"spline\", \"width\": 0.0}, \"marker\": {\"color\": \"rgb(0.9384266208132063, 0.25847407494896946, 0.25847407494896946)\"}, \"mode\": \"lines\", \"opacity\": 1, \"type\": \"scatter\", \"x\": [0.6840117985457818, 0.29053802337351115, null], \"y\": [0.5702026763651347, -0.9500247040932227, null]}, {\"line\": {\"shape\": \"spline\", \"width\": 0.0}, \"marker\": {\"color\": \"rgb(0.9384639494290482, 0.25636753155044023, 0.25636753155044023)\"}, \"mode\": \"lines\", \"opacity\": 1, \"type\": \"scatter\", \"x\": [0.6840117985457818, -0.4347894318337367, null], \"y\": [0.5702026763651347, -0.08023740699404934, null]}, {\"line\": {\"shape\": \"spline\", \"width\": 0.0}, \"marker\": {\"color\": \"rgb(0.9385022853215093, 0.2542599808752919, 0.2542599808752919)\"}, \"mode\": \"lines\", \"opacity\": 1, \"type\": \"scatter\", \"x\": [0.6840117985457818, -0.9238079484026622, null], \"y\": [0.5702026763651347, -0.006394501764154287, null]}, {\"line\": {\"shape\": \"spline\", \"width\": 0.0}, \"marker\": {\"color\": \"rgb(0.9385416284905895, 0.25215142292352455, 0.25215142292352455)\"}, \"mode\": \"lines\", \"opacity\": 1, \"type\": \"scatter\", \"x\": [0.6840117985457818, 0.9999999999999999, null], \"y\": [0.5702026763651347, -0.038985615419455194, null]}, {\"line\": {\"shape\": \"spline\", \"width\": 0.0}, \"marker\": {\"color\": \"rgb(0.9385819789362888, 0.250041857695138, 0.250041857695138)\"}, \"mode\": \"lines\", \"opacity\": 1, \"type\": \"scatter\", \"x\": [0.6840117985457818, -0.88826039091796, null], \"y\": [0.5702026763651347, 0.44876525848477733, null]}, {\"line\": {\"shape\": \"spline\", \"width\": 0.0}, \"marker\": {\"color\": \"rgb(0.9386233366586072, 0.2479312851901323, 0.2479312851901323)\"}, \"mode\": \"lines\", \"opacity\": 1, \"type\": \"scatter\", \"x\": [0.6840117985457818, 0.10816920140973707, null], \"y\": [0.5702026763651347, 0.9968668463250838, null]}, {\"line\": {\"shape\": \"spline\", \"width\": 0.0}, \"marker\": {\"color\": \"rgb(0.9386657016575446, 0.24581970540850762, 0.24581970540850762)\"}, \"mode\": \"lines\", \"opacity\": 1, \"type\": \"scatter\", \"x\": [0.6840117985457818, -0.05712631865800212, null], \"y\": [0.5702026763651347, 0.3303870467944924, null]}, {\"line\": {\"shape\": \"spline\", \"width\": 0.0}, \"marker\": {\"color\": \"rgb(0.9387090739331011, 0.24370711835026382, 0.24370711835026382)\"}, \"mode\": \"lines\", \"opacity\": 1, \"type\": \"scatter\", \"x\": [0.6840117985457818, -0.6192599418973583, null], \"y\": [0.5702026763651347, 0.7077813868065571, null]}, {\"line\": {\"shape\": \"spline\", \"width\": 0.0}, \"marker\": {\"color\": \"rgb(0.9387534534852766, 0.24159352401540102, 0.24159352401540102)\"}, \"mode\": \"lines\", \"opacity\": 1, \"type\": \"scatter\", \"x\": [0.6840117985457818, -0.6920023759347991, null], \"y\": [0.5702026763651347, -0.42282052296431377, null]}, {\"line\": {\"shape\": \"spline\", \"width\": 0.0}, \"marker\": {\"color\": \"rgb(0.9387988403140712, 0.2394789224039191, 0.2394789224039191)\"}, \"mode\": \"lines\", \"opacity\": 1, \"type\": \"scatter\", \"x\": [0.6840117985457818, 0.1192988455823766, null], \"y\": [0.5702026763651347, -0.053018382521206005, null]}, {\"line\": {\"shape\": \"spline\", \"width\": 0.0}, \"marker\": {\"color\": \"rgb(0.9388452344194849, 0.2373633135158182, 0.2373633135158182)\"}, \"mode\": \"lines\", \"opacity\": 1, \"type\": \"scatter\", \"x\": [0.6840117985457818, 0.6561880425959237, null], \"y\": [0.5702026763651347, 0.014406556349072674, null]}, {\"line\": {\"shape\": \"spline\", \"width\": 0.0}, \"marker\": {\"color\": \"rgb(0.9388926358015175, 0.2352466973510985, 0.2352466973510985)\"}, \"mode\": \"lines\", \"opacity\": 1, \"type\": \"scatter\", \"x\": [0.6840117985457818, 0.33875119688294697, null], \"y\": [0.5702026763651347, -0.34323648494223935, null]}, {\"line\": {\"shape\": \"spline\", \"width\": 0.0}, \"marker\": {\"color\": \"rgb(0.9389410444601693, 0.23312907390975934, 0.23312907390975934)\"}, \"mode\": \"lines\", \"opacity\": 1, \"type\": \"scatter\", \"x\": [0.6840117985457818, -0.09977344620872326, null], \"y\": [0.5702026763651347, -0.9942196228473164, null]}, {\"line\": {\"shape\": \"spline\", \"width\": 0.0}, \"marker\": {\"color\": \"rgb(0.9389904603954403, 0.23101044319180108, 0.23101044319180108)\"}, \"mode\": \"lines\", \"opacity\": 1, \"type\": \"scatter\", \"x\": [0.6840117985457818, 0.28231830546686393, null], \"y\": [0.5702026763651347, 0.6123748779823588, null]}, {\"line\": {\"shape\": \"spline\", \"width\": 0.0}, \"marker\": {\"color\": \"rgb(0.9390408836073303, 0.22889080519722382, 0.22889080519722382)\"}, \"mode\": \"lines\", \"opacity\": 1, \"type\": \"scatter\", \"x\": [0.6840117985457818, -0.08015989063624109, null], \"y\": [0.5702026763651347, 0.7311264910311921, null]}, {\"line\": {\"shape\": \"spline\", \"width\": 0.0}, \"marker\": {\"color\": \"rgb(0.9390923140958394, 0.22677015992602745, 0.22677015992602745)\"}, \"mode\": \"lines\", \"opacity\": 1, \"type\": \"scatter\", \"x\": [0.6840117985457818, -0.6161589422030441, null], \"y\": [0.5702026763651347, -0.7336198945028887, null]}, {\"line\": {\"shape\": \"spline\", \"width\": 0.0}, \"marker\": {\"color\": \"rgb(0.9391447518609677, 0.22464850737821185, 0.22464850737821185)\"}, \"mode\": \"lines\", \"opacity\": 1, \"type\": \"scatter\", \"x\": [-0.3262598396382662, 0.8906284306660813, null], \"y\": [-0.7506236726899015, 0.30901222800562705, null]}, {\"line\": {\"shape\": \"spline\", \"width\": 0.0}, \"marker\": {\"color\": \"rgb(0.939198196902715, 0.22252584755377725, 0.22252584755377725)\"}, \"mode\": \"lines\", \"opacity\": 1, \"type\": \"scatter\", \"x\": [-0.3262598396382662, -0.35675277189078475, null], \"y\": [-0.7506236726899015, 0.9090181900642286, null]}, {\"line\": {\"shape\": \"spline\", \"width\": 0.0}, \"marker\": {\"color\": \"rgb(0.9392526492210813, 0.22040218045272364, 0.22040218045272364)\"}, \"mode\": \"lines\", \"opacity\": 1, \"type\": \"scatter\", \"x\": [-0.3262598396382662, -0.2006089591922666, null], \"y\": [-0.7506236726899015, -0.3410249045790984, null]}, {\"line\": {\"shape\": \"spline\", \"width\": 0.0}, \"marker\": {\"color\": \"rgb(0.9393081088160667, 0.21827750607505092, 0.21827750607505092)\"}, \"mode\": \"lines\", \"opacity\": 1, \"type\": \"scatter\", \"x\": [-0.3262598396382662, 0.4775890294771492, null], \"y\": [-0.7506236726899015, -0.7065996477304826, null]}, {\"line\": {\"shape\": \"spline\", \"width\": 0.0}, \"marker\": {\"color\": \"rgb(0.9393645756876712, 0.2161518244207592, 0.2161518244207592)\"}, \"mode\": \"lines\", \"opacity\": 1, \"type\": \"scatter\", \"x\": [-0.3262598396382662, -0.9238079484026622, null], \"y\": [-0.7506236726899015, -0.006394501764154287, null]}, {\"line\": {\"shape\": \"spline\", \"width\": 0.0}, \"marker\": {\"color\": \"rgb(0.9394220498358947, 0.21402513548984836, 0.21402513548984836)\"}, \"mode\": \"lines\", \"opacity\": 1, \"type\": \"scatter\", \"x\": [-0.3262598396382662, -0.6192599418973583, null], \"y\": [-0.7506236726899015, 0.7077813868065571, null]}, {\"line\": {\"shape\": \"spline\", \"width\": 0.0}, \"marker\": {\"color\": \"rgb(0.9394805312607376, 0.2118974392823182, 0.2118974392823182)\"}, \"mode\": \"lines\", \"opacity\": 1, \"type\": \"scatter\", \"x\": [-0.3262598396382662, 0.1192988455823766, null], \"y\": [-0.7506236726899015, -0.053018382521206005, null]}, {\"line\": {\"shape\": \"spline\", \"width\": 0.0}, \"marker\": {\"color\": \"rgb(0.9395400199621993, 0.20976873579816924, 0.20976873579816924)\"}, \"mode\": \"lines\", \"opacity\": 1, \"type\": \"scatter\", \"x\": [-0.3262598396382662, 0.6561880425959237, null], \"y\": [-0.7506236726899015, 0.014406556349072674, null]}, {\"line\": {\"shape\": \"spline\", \"width\": 0.0}, \"marker\": {\"color\": \"rgb(0.93960051594028, 0.2076390250374014, 0.2076390250374014)\"}, \"mode\": \"lines\", \"opacity\": 1, \"type\": \"scatter\", \"x\": [-0.3262598396382662, -0.08015989063624109, null], \"y\": [-0.7506236726899015, 0.7311264910311921, null]}, {\"line\": {\"shape\": \"spline\", \"width\": 0.0}, \"marker\": {\"color\": \"rgb(0.9396620191949799, 0.2055083070000142, 0.2055083070000142)\"}, \"mode\": \"lines\", \"opacity\": 1, \"type\": \"scatter\", \"x\": [-0.3262598396382662, -0.6161589422030441, null], \"y\": [-0.7506236726899015, -0.7336198945028887, null]}, {\"line\": {\"shape\": \"spline\", \"width\": 0.0}, \"marker\": {\"color\": \"rgb(0.9397245297262988, 0.20337658168600803, 0.20337658168600803)\"}, \"mode\": \"lines\", \"opacity\": 1, \"type\": \"scatter\", \"x\": [-0.3262598396382662, 0.042555730321677636, null], \"y\": [-0.7506236726899015, -0.6610675416957015, null]}, {\"line\": {\"shape\": \"spline\", \"width\": 0.0}, \"marker\": {\"color\": \"rgb(0.9397880475342368, 0.20124384909538273, 0.20124384909538273)\"}, \"mode\": \"lines\", \"opacity\": 1, \"type\": \"scatter\", \"x\": [-0.3262598396382662, -0.69912365053649, null], \"y\": [-0.7506236726899015, 0.1776516355523447, null]}, {\"line\": {\"shape\": \"spline\", \"width\": 0.0}, \"marker\": {\"color\": \"rgb(0.9398525726187941, 0.1991101092281382, 0.1991101092281382)\"}, \"mode\": \"lines\", \"opacity\": 1, \"type\": \"scatter\", \"x\": [-0.3262598396382662, 0.7840491809787309, null], \"y\": [-0.7506236726899015, -0.3124284556444398, null]}, {\"line\": {\"shape\": \"spline\", \"width\": 0.0}, \"marker\": {\"color\": \"rgb(0.9399181049799702, 0.1969753620842748, 0.1969753620842748)\"}, \"mode\": \"lines\", \"opacity\": 1, \"type\": \"scatter\", \"x\": [-0.3262598396382662, -0.9590383342568007, null], \"y\": [-0.7506236726899015, -0.34685763200079156, null]}, {\"line\": {\"shape\": \"spline\", \"width\": 0.0}, \"marker\": {\"color\": \"rgb(0.9399846446177655, 0.19483960766379216, 0.19483960766379216)\"}, \"mode\": \"lines\", \"opacity\": 1, \"type\": \"scatter\", \"x\": [-0.3262598396382662, 0.29053802337351115, null], \"y\": [-0.7506236726899015, -0.9500247040932227, null]}, {\"line\": {\"shape\": \"spline\", \"width\": 0.0}, \"marker\": {\"color\": \"rgb(0.9400521915321798, 0.19270284596669063, 0.19270284596669063)\"}, \"mode\": \"lines\", \"opacity\": 1, \"type\": \"scatter\", \"x\": [-0.3262598396382662, -0.4347894318337367, null], \"y\": [-0.7506236726899015, -0.08023740699404934, null]}, {\"line\": {\"shape\": \"spline\", \"width\": 0.0}, \"marker\": {\"color\": \"rgb(0.9401207457232135, 0.19056507699296987, 0.19056507699296987)\"}, \"mode\": \"lines\", \"opacity\": 1, \"type\": \"scatter\", \"x\": [-0.3262598396382662, 0.9999999999999999, null], \"y\": [-0.7506236726899015, -0.038985615419455194, null]}, {\"line\": {\"shape\": \"spline\", \"width\": 0.0}, \"marker\": {\"color\": \"rgb(0.9401903071908662, 0.1884263007426299, 0.1884263007426299)\"}, \"mode\": \"lines\", \"opacity\": 1, \"type\": \"scatter\", \"x\": [-0.3262598396382662, -0.88826039091796, null], \"y\": [-0.7506236726899015, 0.44876525848477733, null]}, {\"line\": {\"shape\": \"spline\", \"width\": 0.0}, \"marker\": {\"color\": \"rgb(0.9402608759351376, 0.18628651721567113, 0.18628651721567113)\"}, \"mode\": \"lines\", \"opacity\": 1, \"type\": \"scatter\", \"x\": [-0.3262598396382662, 0.10816920140973707, null], \"y\": [-0.7506236726899015, 0.9968668463250838, null]}, {\"line\": {\"shape\": \"spline\", \"width\": 0.0}, \"marker\": {\"color\": \"rgb(0.9403324519560283, 0.18414572641209315, 0.18414572641209315)\"}, \"mode\": \"lines\", \"opacity\": 1, \"type\": \"scatter\", \"x\": [-0.3262598396382662, -0.05712631865800212, null], \"y\": [-0.7506236726899015, 0.3303870467944924, null]}, {\"line\": {\"shape\": \"spline\", \"width\": 0.0}, \"marker\": {\"color\": \"rgb(0.9404050352535381, 0.18200392833189605, 0.18200392833189605)\"}, \"mode\": \"lines\", \"opacity\": 1, \"type\": \"scatter\", \"x\": [-0.3262598396382662, -0.6920023759347991, null], \"y\": [-0.7506236726899015, -0.42282052296431377, null]}, {\"line\": {\"shape\": \"spline\", \"width\": 0.0}, \"marker\": {\"color\": \"rgb(0.940478625827667, 0.17986112297507995, 0.17986112297507995)\"}, \"mode\": \"lines\", \"opacity\": 1, \"type\": \"scatter\", \"x\": [-0.3262598396382662, 0.33875119688294697, null], \"y\": [-0.7506236726899015, -0.34323648494223935, null]}, {\"line\": {\"shape\": \"spline\", \"width\": 0.0}, \"marker\": {\"color\": \"rgb(0.9405532236784149, 0.17771731034164473, 0.17771731034164473)\"}, \"mode\": \"lines\", \"opacity\": 1, \"type\": \"scatter\", \"x\": [-0.3262598396382662, -0.09977344620872326, null], \"y\": [-0.7506236726899015, -0.9942196228473164, null]}, {\"line\": {\"shape\": \"spline\", \"width\": 0.0}, \"marker\": {\"color\": \"rgb(0.9406288288057818, 0.1755724904315905, 0.1755724904315905)\"}, \"mode\": \"lines\", \"opacity\": 1, \"type\": \"scatter\", \"x\": [-0.3262598396382662, 0.28231830546686393, null], \"y\": [-0.7506236726899015, 0.6123748779823588, null]}, {\"line\": {\"shape\": \"spline\", \"width\": 8.9}, \"marker\": {\"color\": \"rgb(0.940705441209768, 0.17342666324491707, 0.17342666324491707)\"}, \"mode\": \"lines\", \"opacity\": 1, \"type\": \"scatter\", \"x\": [0.8906284306660813, 0.042555730321677636, null], \"y\": [0.30901222800562705, -0.6610675416957015, null]}, {\"line\": {\"shape\": \"spline\", \"width\": 0.0}, \"marker\": {\"color\": \"rgb(0.9407830608903731, 0.17127982878162462, 0.17127982878162462)\"}, \"mode\": \"lines\", \"opacity\": 1, \"type\": \"scatter\", \"x\": [0.8906284306660813, -0.35675277189078475, null], \"y\": [0.30901222800562705, 0.9090181900642286, null]}, {\"line\": {\"shape\": \"spline\", \"width\": 0.0}, \"marker\": {\"color\": \"rgb(0.9408616878475973, 0.16913198704171317, 0.16913198704171317)\"}, \"mode\": \"lines\", \"opacity\": 1, \"type\": \"scatter\", \"x\": [0.8906284306660813, -0.69912365053649, null], \"y\": [0.30901222800562705, 0.1776516355523447, null]}, {\"line\": {\"shape\": \"spline\", \"width\": 0.0}, \"marker\": {\"color\": \"rgb(0.9409413220814407, 0.1669831380251825, 0.1669831380251825)\"}, \"mode\": \"lines\", \"opacity\": 1, \"type\": \"scatter\", \"x\": [0.8906284306660813, -0.2006089591922666, null], \"y\": [0.30901222800562705, -0.3410249045790984, null]}, {\"line\": {\"shape\": \"spline\", \"width\": 0.0}, \"marker\": {\"color\": \"rgb(0.9410219635919029, 0.16483328173203293, 0.16483328173203293)\"}, \"mode\": \"lines\", \"opacity\": 1, \"type\": \"scatter\", \"x\": [0.8906284306660813, 0.7840491809787309, null], \"y\": [0.30901222800562705, -0.3124284556444398, null]}, {\"line\": {\"shape\": \"spline\", \"width\": 8.0}, \"marker\": {\"color\": \"rgb(0.9411036123789844, 0.16268241816226436, 0.16268241816226436)\"}, \"mode\": \"lines\", \"opacity\": 1, \"type\": \"scatter\", \"x\": [0.8906284306660813, -0.9590383342568007, null], \"y\": [0.30901222800562705, -0.34685763200079156, null]}, {\"line\": {\"shape\": \"spline\", \"width\": 4.5}, \"marker\": {\"color\": \"rgb(0.941186268442685, 0.16053054731587646, 0.16053054731587646)\"}, \"mode\": \"lines\", \"opacity\": 1, \"type\": \"scatter\", \"x\": [0.8906284306660813, 0.4775890294771492, null], \"y\": [0.30901222800562705, -0.7065996477304826, null]}, {\"line\": {\"shape\": \"spline\", \"width\": 7.1}, \"marker\": {\"color\": \"rgb(0.9412699317830047, 0.15837766919286955, 0.15837766919286955)\"}, \"mode\": \"lines\", \"opacity\": 1, \"type\": \"scatter\", \"x\": [0.8906284306660813, 0.29053802337351115, null], \"y\": [0.30901222800562705, -0.9500247040932227, null]}, {\"line\": {\"shape\": \"spline\", \"width\": 0.0}, \"marker\": {\"color\": \"rgb(0.9413546023999434, 0.15622378379324353, 0.15622378379324353)\"}, \"mode\": \"lines\", \"opacity\": 1, \"type\": \"scatter\", \"x\": [0.8906284306660813, -0.4347894318337367, null], \"y\": [0.30901222800562705, -0.08023740699404934, null]}, {\"line\": {\"shape\": \"spline\", \"width\": 10.0}, \"marker\": {\"color\": \"rgb(0.9414402802935014, 0.15406889111699829, 0.15406889111699829)\"}, \"mode\": \"lines\", \"opacity\": 1, \"type\": \"scatter\", \"x\": [0.8906284306660813, -0.9238079484026622, null], \"y\": [0.30901222800562705, -0.006394501764154287, null]}, {\"line\": {\"shape\": \"spline\", \"width\": 9.9}, \"marker\": {\"color\": \"rgb(0.9415269654636782, 0.15191299116413415, 0.15191299116413415)\"}, \"mode\": \"lines\", \"opacity\": 1, \"type\": \"scatter\", \"x\": [0.8906284306660813, 0.9999999999999999, null], \"y\": [0.30901222800562705, -0.038985615419455194, null]}, {\"line\": {\"shape\": \"spline\", \"width\": 0.0}, \"marker\": {\"color\": \"rgb(0.9416146579104742, 0.1497560839346509, 0.1497560839346509)\"}, \"mode\": \"lines\", \"opacity\": 1, \"type\": \"scatter\", \"x\": [0.8906284306660813, -0.88826039091796, null], \"y\": [0.30901222800562705, 0.44876525848477733, null]}, {\"line\": {\"shape\": \"spline\", \"width\": 10.0}, \"marker\": {\"color\": \"rgb(0.9417033576338891, 0.14759816942854864, 0.14759816942854864)\"}, \"mode\": \"lines\", \"opacity\": 1, \"type\": \"scatter\", \"x\": [0.8906284306660813, 0.10816920140973707, null], \"y\": [0.30901222800562705, 0.9968668463250838, null]}, {\"line\": {\"shape\": \"spline\", \"width\": 0.0}, \"marker\": {\"color\": \"rgb(0.9417930646339232, 0.1454392476458275, 0.1454392476458275)\"}, \"mode\": \"lines\", \"opacity\": 1, \"type\": \"scatter\", \"x\": [0.8906284306660813, -0.05712631865800212, null], \"y\": [0.30901222800562705, 0.3303870467944924, null]}, {\"line\": {\"shape\": \"spline\", \"width\": 0.0}, \"marker\": {\"color\": \"rgb(0.9418837789105764, 0.14327931858648701, 0.14327931858648701)\"}, \"mode\": \"lines\", \"opacity\": 1, \"type\": \"scatter\", \"x\": [0.8906284306660813, -0.6192599418973583, null], \"y\": [0.30901222800562705, 0.7077813868065571, null]}, {\"line\": {\"shape\": \"spline\", \"width\": 8.7}, \"marker\": {\"color\": \"rgb(0.9419755004638486, 0.14111838225052753, 0.14111838225052753)\"}, \"mode\": \"lines\", \"opacity\": 1, \"type\": \"scatter\", \"x\": [0.8906284306660813, -0.6920023759347991, null], \"y\": [0.30901222800562705, -0.42282052296431377, null]}, {\"line\": {\"shape\": \"spline\", \"width\": 9.5}, \"marker\": {\"color\": \"rgb(0.9420682292937399, 0.13895643863794893, 0.13895643863794893)\"}, \"mode\": \"lines\", \"opacity\": 1, \"type\": \"scatter\", \"x\": [0.8906284306660813, 0.1192988455823766, null], \"y\": [0.30901222800562705, -0.053018382521206005, null]}, {\"line\": {\"shape\": \"spline\", \"width\": 0.0}, \"marker\": {\"color\": \"rgb(0.9421619654002503, 0.13679348774875122, 0.13679348774875122)\"}, \"mode\": \"lines\", \"opacity\": 1, \"type\": \"scatter\", \"x\": [0.8906284306660813, 0.6561880425959237, null], \"y\": [0.30901222800562705, 0.014406556349072674, null]}, {\"line\": {\"shape\": \"spline\", \"width\": 0.0}, \"marker\": {\"color\": \"rgb(0.9422567087833799, 0.1346295295829344, 0.1346295295829344)\"}, \"mode\": \"lines\", \"opacity\": 1, \"type\": \"scatter\", \"x\": [0.8906284306660813, 0.33875119688294697, null], \"y\": [0.30901222800562705, -0.34323648494223935, null]}, {\"line\": {\"shape\": \"spline\", \"width\": 0.0}, \"marker\": {\"color\": \"rgb(0.9423524594431284, 0.13246456414049856, 0.13246456414049856)\"}, \"mode\": \"lines\", \"opacity\": 1, \"type\": \"scatter\", \"x\": [0.8906284306660813, -0.09977344620872326, null], \"y\": [0.30901222800562705, -0.9942196228473164, null]}, {\"line\": {\"shape\": \"spline\", \"width\": 0.0}, \"marker\": {\"color\": \"rgb(0.9424492173794963, 0.1302985914214434, 0.1302985914214434)\"}, \"mode\": \"lines\", \"opacity\": 1, \"type\": \"scatter\", \"x\": [0.8906284306660813, 0.28231830546686393, null], \"y\": [0.30901222800562705, 0.6123748779823588, null]}, {\"line\": {\"shape\": \"spline\", \"width\": 0.0}, \"marker\": {\"color\": \"rgb(0.942546982592483, 0.12813161142576934, 0.12813161142576934)\"}, \"mode\": \"lines\", \"opacity\": 1, \"type\": \"scatter\", \"x\": [0.8906284306660813, -0.08015989063624109, null], \"y\": [0.30901222800562705, 0.7311264910311921, null]}, {\"line\": {\"shape\": \"spline\", \"width\": 6.3}, \"marker\": {\"color\": \"rgb(0.9426457550820888, 0.12596362415347628, 0.12596362415347628)\"}, \"mode\": \"lines\", \"opacity\": 1, \"type\": \"scatter\", \"x\": [0.8906284306660813, -0.6161589422030441, null], \"y\": [0.30901222800562705, -0.7336198945028887, null]}, {\"line\": {\"shape\": \"spline\", \"width\": 0.0}, \"marker\": {\"color\": \"rgb(0.9427455348483137, 0.12379462960456411, 0.12379462960456411)\"}, \"mode\": \"lines\", \"opacity\": 1, \"type\": \"scatter\", \"x\": [-0.35675277189078475, 0.042555730321677636, null], \"y\": [0.9090181900642286, -0.6610675416957015, null]}, {\"line\": {\"shape\": \"spline\", \"width\": 0.0}, \"marker\": {\"color\": \"rgb(0.9428463218911577, 0.12162462777903282, 0.12162462777903282)\"}, \"mode\": \"lines\", \"opacity\": 1, \"type\": \"scatter\", \"x\": [-0.35675277189078475, -0.2006089591922666, null], \"y\": [0.9090181900642286, -0.3410249045790984, null]}, {\"line\": {\"shape\": \"spline\", \"width\": 0.0}, \"marker\": {\"color\": \"rgb(0.9429481162106208, 0.11945361867688242, 0.11945361867688242)\"}, \"mode\": \"lines\", \"opacity\": 1, \"type\": \"scatter\", \"x\": [-0.35675277189078475, -0.9238079484026622, null], \"y\": [0.9090181900642286, -0.006394501764154287, null]}, {\"line\": {\"shape\": \"spline\", \"width\": 0.0}, \"marker\": {\"color\": \"rgb(0.9430509178067029, 0.11728160229811324, 0.11728160229811324)\"}, \"mode\": \"lines\", \"opacity\": 1, \"type\": \"scatter\", \"x\": [-0.35675277189078475, 0.1192988455823766, null], \"y\": [0.9090181900642286, -0.053018382521206005, null]}, {\"line\": {\"shape\": \"spline\", \"width\": 0.0}, \"marker\": {\"color\": \"rgb(0.9431547266794041, 0.11510857864272472, 0.11510857864272472)\"}, \"mode\": \"lines\", \"opacity\": 1, \"type\": \"scatter\", \"x\": [-0.35675277189078475, 0.6561880425959237, null], \"y\": [0.9090181900642286, 0.014406556349072674, null]}, {\"line\": {\"shape\": \"spline\", \"width\": 0.0}, \"marker\": {\"color\": \"rgb(0.9432595428287245, 0.11293454771071709, 0.11293454771071709)\"}, \"mode\": \"lines\", \"opacity\": 1, \"type\": \"scatter\", \"x\": [-0.35675277189078475, -0.08015989063624109, null], \"y\": [0.9090181900642286, 0.7311264910311921, null]}, {\"line\": {\"shape\": \"spline\", \"width\": 0.0}, \"marker\": {\"color\": \"rgb(0.9433653662546638, 0.11075950950209046, 0.11075950950209046)\"}, \"mode\": \"lines\", \"opacity\": 1, \"type\": \"scatter\", \"x\": [-0.35675277189078475, -0.6161589422030441, null], \"y\": [0.9090181900642286, -0.7336198945028887, null]}, {\"line\": {\"shape\": \"spline\", \"width\": 0.0}, \"marker\": {\"color\": \"rgb(0.9434721969572223, 0.10858346401684471, 0.10858346401684471)\"}, \"mode\": \"lines\", \"opacity\": 1, \"type\": \"scatter\", \"x\": [-0.35675277189078475, -0.69912365053649, null], \"y\": [0.9090181900642286, 0.1776516355523447, null]}, {\"line\": {\"shape\": \"spline\", \"width\": 0.0}, \"marker\": {\"color\": \"rgb(0.9435800349363997, 0.10640641125497996, 0.10640641125497996)\"}, \"mode\": \"lines\", \"opacity\": 1, \"type\": \"scatter\", \"x\": [-0.35675277189078475, 0.7840491809787309, null], \"y\": [0.9090181900642286, -0.3124284556444398, null]}, {\"line\": {\"shape\": \"spline\", \"width\": 0.0}, \"marker\": {\"color\": \"rgb(0.9436888801921963, 0.1042283512164961, 0.1042283512164961)\"}, \"mode\": \"lines\", \"opacity\": 1, \"type\": \"scatter\", \"x\": [-0.35675277189078475, -0.9590383342568007, null], \"y\": [0.9090181900642286, -0.34685763200079156, null]}, {\"line\": {\"shape\": \"spline\", \"width\": 0.0}, \"marker\": {\"color\": \"rgb(0.9437987327246122, 0.10204928390139312, 0.10204928390139312)\"}, \"mode\": \"lines\", \"opacity\": 1, \"type\": \"scatter\", \"x\": [-0.35675277189078475, 0.4775890294771492, null], \"y\": [0.9090181900642286, -0.7065996477304826, null]}, {\"line\": {\"shape\": \"spline\", \"width\": 0.0}, \"marker\": {\"color\": \"rgb(0.9439095925336469, 0.09986920930967114, 0.09986920930967114)\"}, \"mode\": \"lines\", \"opacity\": 1, \"type\": \"scatter\", \"x\": [-0.35675277189078475, 0.29053802337351115, null], \"y\": [0.9090181900642286, -0.9500247040932227, null]}, {\"line\": {\"shape\": \"spline\", \"width\": 0.0}, \"marker\": {\"color\": \"rgb(0.9440214596193008, 0.09768812744132993, 0.09768812744132993)\"}, \"mode\": \"lines\", \"opacity\": 1, \"type\": \"scatter\", \"x\": [-0.35675277189078475, -0.4347894318337367, null], \"y\": [0.9090181900642286, -0.08023740699404934, null]}, {\"line\": {\"shape\": \"spline\", \"width\": 0.0}, \"marker\": {\"color\": \"rgb(0.9441343339815738, 0.09550603829636972, 0.09550603829636972)\"}, \"mode\": \"lines\", \"opacity\": 1, \"type\": \"scatter\", \"x\": [-0.35675277189078475, 0.9999999999999999, null], \"y\": [0.9090181900642286, -0.038985615419455194, null]}, {\"line\": {\"shape\": \"spline\", \"width\": 0.0}, \"marker\": {\"color\": \"rgb(0.9442482156204659, 0.09332294187479029, 0.09332294187479029)\"}, \"mode\": \"lines\", \"opacity\": 1, \"type\": \"scatter\", \"x\": [-0.35675277189078475, -0.88826039091796, null], \"y\": [0.9090181900642286, 0.44876525848477733, null]}, {\"line\": {\"shape\": \"spline\", \"width\": 0.0}, \"marker\": {\"color\": \"rgb(0.944363104535977, 0.09113883817659185, 0.09113883817659185)\"}, \"mode\": \"lines\", \"opacity\": 1, \"type\": \"scatter\", \"x\": [-0.35675277189078475, 0.10816920140973707, null], \"y\": [0.9090181900642286, 0.9968668463250838, null]}, {\"line\": {\"shape\": \"spline\", \"width\": 0.0}, \"marker\": {\"color\": \"rgb(0.9444790007281072, 0.08895372720177441, 0.08895372720177441)\"}, \"mode\": \"lines\", \"opacity\": 1, \"type\": \"scatter\", \"x\": [-0.35675277189078475, -0.05712631865800212, null], \"y\": [0.9090181900642286, 0.3303870467944924, null]}, {\"line\": {\"shape\": \"spline\", \"width\": 0.0}, \"marker\": {\"color\": \"rgb(0.9445959041968564, 0.08676760895033797, 0.08676760895033797)\"}, \"mode\": \"lines\", \"opacity\": 1, \"type\": \"scatter\", \"x\": [-0.35675277189078475, -0.6192599418973583, null], \"y\": [0.9090181900642286, 0.7077813868065571, null]}, {\"line\": {\"shape\": \"spline\", \"width\": 0.0}, \"marker\": {\"color\": \"rgb(0.9447138149422247, 0.0845804834222823, 0.0845804834222823)\"}, \"mode\": \"lines\", \"opacity\": 1, \"type\": \"scatter\", \"x\": [-0.35675277189078475, -0.6920023759347991, null], \"y\": [0.9090181900642286, -0.42282052296431377, null]}, {\"line\": {\"shape\": \"spline\", \"width\": 0.0}, \"marker\": {\"color\": \"rgb(0.9448327329642121, 0.08239235061760763, 0.08239235061760763)\"}, \"mode\": \"lines\", \"opacity\": 1, \"type\": \"scatter\", \"x\": [-0.35675277189078475, 0.33875119688294697, null], \"y\": [0.9090181900642286, -0.34323648494223935, null]}, {\"line\": {\"shape\": \"spline\", \"width\": 0.0}, \"marker\": {\"color\": \"rgb(0.9449526582628185, 0.08020321053631396, 0.08020321053631396)\"}, \"mode\": \"lines\", \"opacity\": 1, \"type\": \"scatter\", \"x\": [-0.35675277189078475, -0.09977344620872326, null], \"y\": [0.9090181900642286, -0.9942196228473164, null]}, {\"line\": {\"shape\": \"spline\", \"width\": 0.0}, \"marker\": {\"color\": \"rgb(0.9450735908380441, 0.07801306317840107, 0.07801306317840107)\"}, \"mode\": \"lines\", \"opacity\": 1, \"type\": \"scatter\", \"x\": [-0.35675277189078475, 0.28231830546686393, null], \"y\": [0.9090181900642286, 0.6123748779823588, null]}, {\"line\": {\"shape\": \"spline\", \"width\": 0.0}, \"marker\": {\"color\": \"rgb(0.9451955306898887, 0.07582190854386917, 0.07582190854386917)\"}, \"mode\": \"lines\", \"opacity\": 1, \"type\": \"scatter\", \"x\": [-0.2006089591922666, 0.042555730321677636, null], \"y\": [-0.3410249045790984, -0.6610675416957015, null]}, {\"line\": {\"shape\": \"spline\", \"width\": 0.0}, \"marker\": {\"color\": \"rgb(0.9453184778183525, 0.07362974663271804, 0.07362974663271804)\"}, \"mode\": \"lines\", \"opacity\": 1, \"type\": \"scatter\", \"x\": [-0.2006089591922666, -0.69912365053649, null], \"y\": [-0.3410249045790984, 0.1776516355523447, null]}, {\"line\": {\"shape\": \"spline\", \"width\": 0.0}, \"marker\": {\"color\": \"rgb(0.9454424322234352, 0.07143657744494836, 0.07143657744494836)\"}, \"mode\": \"lines\", \"opacity\": 1, \"type\": \"scatter\", \"x\": [-0.2006089591922666, -0.9238079484026622, null], \"y\": [-0.3410249045790984, -0.006394501764154287, null]}, {\"line\": {\"shape\": \"spline\", \"width\": 0.0}, \"marker\": {\"color\": \"rgb(0.9455673939051372, 0.069242400980559, 0.069242400980559)\"}, \"mode\": \"lines\", \"opacity\": 1, \"type\": \"scatter\", \"x\": [-0.2006089591922666, 0.1192988455823766, null], \"y\": [-0.3410249045790984, -0.053018382521206005, null]}, {\"line\": {\"shape\": \"spline\", \"width\": 0.0}, \"marker\": {\"color\": \"rgb(0.9456933628634582, 0.06704721723955076, 0.06704721723955076)\"}, \"mode\": \"lines\", \"opacity\": 1, \"type\": \"scatter\", \"x\": [-0.2006089591922666, 0.6561880425959237, null], \"y\": [-0.3410249045790984, 0.014406556349072674, null]}, {\"line\": {\"shape\": \"spline\", \"width\": 0.0}, \"marker\": {\"color\": \"rgb(0.9458203390983981, 0.06485102622192351, 0.06485102622192351)\"}, \"mode\": \"lines\", \"opacity\": 1, \"type\": \"scatter\", \"x\": [-0.2006089591922666, -0.08015989063624109, null], \"y\": [-0.3410249045790984, 0.7311264910311921, null]}, {\"line\": {\"shape\": \"spline\", \"width\": 0.0}, \"marker\": {\"color\": \"rgb(0.9459483226099573, 0.06265382792767704, 0.06265382792767704)\"}, \"mode\": \"lines\", \"opacity\": 1, \"type\": \"scatter\", \"x\": [-0.2006089591922666, -0.6161589422030441, null], \"y\": [-0.3410249045790984, -0.7336198945028887, null]}, {\"line\": {\"shape\": \"spline\", \"width\": 0.0}, \"marker\": {\"color\": \"rgb(0.9460773133981355, 0.06045562235681157, 0.06045562235681157)\"}, \"mode\": \"lines\", \"opacity\": 1, \"type\": \"scatter\", \"x\": [-0.2006089591922666, 0.7840491809787309, null], \"y\": [-0.3410249045790984, -0.3124284556444398, null]}, {\"line\": {\"shape\": \"spline\", \"width\": 0.0}, \"marker\": {\"color\": \"rgb(0.946207311462933, 0.058256409509326756, 0.058256409509326756)\"}, \"mode\": \"lines\", \"opacity\": 1, \"type\": \"scatter\", \"x\": [-0.2006089591922666, -0.9590383342568007, null], \"y\": [-0.3410249045790984, -0.34685763200079156, null]}, {\"line\": {\"shape\": \"spline\", \"width\": 0.0}, \"marker\": {\"color\": \"rgb(0.9463383168043492, 0.0560561893852235, 0.0560561893852235)\"}, \"mode\": \"lines\", \"opacity\": 1, \"type\": \"scatter\", \"x\": [-0.2006089591922666, 0.4775890294771492, null], \"y\": [-0.3410249045790984, -0.7065996477304826, null]}, {\"line\": {\"shape\": \"spline\", \"width\": 0.0}, \"marker\": {\"color\": \"rgb(0.9464703294223846, 0.05385496198450079, 0.05385496198450079)\"}, \"mode\": \"lines\", \"opacity\": 1, \"type\": \"scatter\", \"x\": [-0.2006089591922666, 0.29053802337351115, null], \"y\": [-0.3410249045790984, -0.9500247040932227, null]}, {\"line\": {\"shape\": \"spline\", \"width\": 0.0}, \"marker\": {\"color\": \"rgb(0.9450453410541569, 0.05321073557004108, 0.05321073557004108)\"}, \"mode\": \"lines\", \"opacity\": 1, \"type\": \"scatter\", \"x\": [-0.2006089591922666, -0.4347894318337367, null], \"y\": [-0.3410249045790984, -0.08023740699404934, null]}, {\"line\": {\"shape\": \"spline\", \"width\": 0.0}, \"marker\": {\"color\": \"rgb(0.9433288908182463, 0.052857971023264505, 0.052857971023264505)\"}, \"mode\": \"lines\", \"opacity\": 1, \"type\": \"scatter\", \"x\": [-0.2006089591922666, 0.9999999999999999, null], \"y\": [-0.3410249045790984, -0.038985615419455194, null]}, {\"line\": {\"shape\": \"spline\", \"width\": 0.0}, \"marker\": {\"color\": \"rgb(0.9416114333057166, 0.052506213753106934, 0.052506213753106934)\"}, \"mode\": \"lines\", \"opacity\": 1, \"type\": \"scatter\", \"x\": [-0.2006089591922666, -0.88826039091796, null], \"y\": [-0.3410249045790984, 0.44876525848477733, null]}, {\"line\": {\"shape\": \"spline\", \"width\": 0.0}, \"marker\": {\"color\": \"rgb(0.9398929685165678, 0.05215546375956848, 0.05215546375956848)\"}, \"mode\": \"lines\", \"opacity\": 1, \"type\": \"scatter\", \"x\": [-0.2006089591922666, 0.10816920140973707, null], \"y\": [-0.3410249045790984, 0.9968668463250838, null]}, {\"line\": {\"shape\": \"spline\", \"width\": 0.0}, \"marker\": {\"color\": \"rgb(0.9381734964508, 0.05180572104264902, 0.05180572104264902)\"}, \"mode\": \"lines\", \"opacity\": 1, \"type\": \"scatter\", \"x\": [-0.2006089591922666, -0.05712631865800212, null], \"y\": [-0.3410249045790984, 0.3303870467944924, null]}, {\"line\": {\"shape\": \"spline\", \"width\": 0.0}, \"marker\": {\"color\": \"rgb(0.9364530171084129, 0.05145698560234879, 0.05145698560234879)\"}, \"mode\": \"lines\", \"opacity\": 1, \"type\": \"scatter\", \"x\": [-0.2006089591922666, -0.6192599418973583, null], \"y\": [-0.3410249045790984, 0.7077813868065571, null]}, {\"line\": {\"shape\": \"spline\", \"width\": 0.0}, \"marker\": {\"color\": \"rgb(0.9347315304894068, 0.051109257438667566, 0.051109257438667566)\"}, \"mode\": \"lines\", \"opacity\": 1, \"type\": \"scatter\", \"x\": [-0.2006089591922666, -0.6920023759347991, null], \"y\": [-0.3410249045790984, -0.42282052296431377, null]}, {\"line\": {\"shape\": \"spline\", \"width\": 0.0}, \"marker\": {\"color\": \"rgb(0.9330090365937818, 0.05076253655160534, 0.05076253655160534)\"}, \"mode\": \"lines\", \"opacity\": 1, \"type\": \"scatter\", \"x\": [-0.2006089591922666, 0.33875119688294697, null], \"y\": [-0.3410249045790984, -0.34323648494223935, null]}, {\"line\": {\"shape\": \"spline\", \"width\": 0.0}, \"marker\": {\"color\": \"rgb(0.9312855354215376, 0.05041682294116223, 0.05041682294116223)\"}, \"mode\": \"lines\", \"opacity\": 1, \"type\": \"scatter\", \"x\": [-0.2006089591922666, -0.09977344620872326, null], \"y\": [-0.3410249045790984, -0.9942196228473164, null]}, {\"line\": {\"shape\": \"spline\", \"width\": 0.0}, \"marker\": {\"color\": \"rgb(0.9295610269726744, 0.050072116607338235, 0.050072116607338235)\"}, \"mode\": \"lines\", \"opacity\": 1, \"type\": \"scatter\", \"x\": [-0.2006089591922666, 0.28231830546686393, null], \"y\": [-0.3410249045790984, 0.6123748779823588, null]}, {\"line\": {\"shape\": \"spline\", \"width\": 8.0}, \"marker\": {\"color\": \"rgb(0.927835511247192, 0.04972841755013335, 0.04972841755013335)\"}, \"mode\": \"lines\", \"opacity\": 1, \"type\": \"scatter\", \"x\": [0.4775890294771492, 0.042555730321677636, null], \"y\": [-0.7065996477304826, -0.6610675416957015, null]}, {\"line\": {\"shape\": \"spline\", \"width\": 0.0}, \"marker\": {\"color\": \"rgb(0.9261089882450907, 0.04938572576954747, 0.04938572576954747)\"}, \"mode\": \"lines\", \"opacity\": 1, \"type\": \"scatter\", \"x\": [0.4775890294771492, -0.69912365053649, null], \"y\": [-0.7065996477304826, 0.1776516355523447, null]}, {\"line\": {\"shape\": \"spline\", \"width\": 8.9}, \"marker\": {\"color\": \"rgb(0.9243814579663702, 0.04904404126558071, 0.04904404126558071)\"}, \"mode\": \"lines\", \"opacity\": 1, \"type\": \"scatter\", \"x\": [0.4775890294771492, 0.7840491809787309, null], \"y\": [-0.7065996477304826, -0.3124284556444398, null]}, {\"line\": {\"shape\": \"spline\", \"width\": 8.4}, \"marker\": {\"color\": \"rgb(0.9226529204110305, 0.048703364038233055, 0.048703364038233055)\"}, \"mode\": \"lines\", \"opacity\": 1, \"type\": \"scatter\", \"x\": [0.4775890294771492, -0.9590383342568007, null], \"y\": [-0.7065996477304826, -0.34685763200079156, null]}, {\"line\": {\"shape\": \"spline\", \"width\": 4.5}, \"marker\": {\"color\": \"rgb(0.9209233755790719, 0.048363694087504405, 0.048363694087504405)\"}, \"mode\": \"lines\", \"opacity\": 1, \"type\": \"scatter\", \"x\": [0.4775890294771492, -0.9238079484026622, null], \"y\": [-0.7065996477304826, -0.006394501764154287, null]}, {\"line\": {\"shape\": \"spline\", \"width\": 0.0}, \"marker\": {\"color\": \"rgb(0.9191928234704941, 0.04802503141339487, 0.04802503141339487)\"}, \"mode\": \"lines\", \"opacity\": 1, \"type\": \"scatter\", \"x\": [0.4775890294771492, -0.6192599418973583, null], \"y\": [-0.7065996477304826, 0.7077813868065571, null]}, {\"line\": {\"shape\": \"spline\", \"width\": 7.1}, \"marker\": {\"color\": \"rgb(0.9174612640852973, 0.04768737601590445, 0.04768737601590445)\"}, \"mode\": \"lines\", \"opacity\": 1, \"type\": \"scatter\", \"x\": [0.4775890294771492, 0.1192988455823766, null], \"y\": [-0.7065996477304826, -0.053018382521206005, null]}, {\"line\": {\"shape\": \"spline\", \"width\": 0.0}, \"marker\": {\"color\": \"rgb(0.9157286974234814, 0.04735072789503303, 0.04735072789503303)\"}, \"mode\": \"lines\", \"opacity\": 1, \"type\": \"scatter\", \"x\": [0.4775890294771492, 0.6561880425959237, null], \"y\": [-0.7065996477304826, 0.014406556349072674, null]}, {\"line\": {\"shape\": \"spline\", \"width\": 0.0}, \"marker\": {\"color\": \"rgb(0.9139951234850464, 0.047015087050780724, 0.047015087050780724)\"}, \"mode\": \"lines\", \"opacity\": 1, \"type\": \"scatter\", \"x\": [0.4775890294771492, -0.08015989063624109, null], \"y\": [-0.7065996477304826, 0.7311264910311921, null]}, {\"line\": {\"shape\": \"spline\", \"width\": 5.699999999999999}, \"marker\": {\"color\": \"rgb(0.9122605422699924, 0.04668045348314753, 0.04668045348314753)\"}, \"mode\": \"lines\", \"opacity\": 1, \"type\": \"scatter\", \"x\": [0.4775890294771492, -0.6161589422030441, null], \"y\": [-0.7065996477304826, -0.7336198945028887, null]}, {\"line\": {\"shape\": \"spline\", \"width\": 9.5}, \"marker\": {\"color\": \"rgb(0.9105249537783192, 0.046346827192133455, 0.046346827192133455)\"}, \"mode\": \"lines\", \"opacity\": 1, \"type\": \"scatter\", \"x\": [0.4775890294771492, 0.29053802337351115, null], \"y\": [-0.7065996477304826, -0.9500247040932227, null]}, {\"line\": {\"shape\": \"spline\", \"width\": 0.0}, \"marker\": {\"color\": \"rgb(0.908788358010027, 0.04601420817773838, 0.04601420817773838)\"}, \"mode\": \"lines\", \"opacity\": 1, \"type\": \"scatter\", \"x\": [0.4775890294771492, -0.4347894318337367, null], \"y\": [-0.7065996477304826, -0.08023740699404934, null]}, {\"line\": {\"shape\": \"spline\", \"width\": 4.4}, \"marker\": {\"color\": \"rgb(0.9070507549651158, 0.04568259643996242, 0.04568259643996242)\"}, \"mode\": \"lines\", \"opacity\": 1, \"type\": \"scatter\", \"x\": [0.4775890294771492, 0.9999999999999999, null], \"y\": [-0.7065996477304826, -0.038985615419455194, null]}, {\"line\": {\"shape\": \"spline\", \"width\": 8.9}, \"marker\": {\"color\": \"rgb(0.9053121446435853, 0.04535199197880557, 0.04535199197880557)\"}, \"mode\": \"lines\", \"opacity\": 1, \"type\": \"scatter\", \"x\": [0.4775890294771492, -0.88826039091796, null], \"y\": [-0.7065996477304826, 0.44876525848477733, null]}, {\"line\": {\"shape\": \"spline\", \"width\": 4.5}, \"marker\": {\"color\": \"rgb(0.9035725270454358, 0.04502239479426784, 0.04502239479426784)\"}, \"mode\": \"lines\", \"opacity\": 1, \"type\": \"scatter\", \"x\": [0.4775890294771492, 0.10816920140973707, null], \"y\": [-0.7065996477304826, 0.9968668463250838, null]}, {\"line\": {\"shape\": \"spline\", \"width\": 0.0}, \"marker\": {\"color\": \"rgb(0.9018319021706672, 0.04469380488634911, 0.04469380488634911)\"}, \"mode\": \"lines\", \"opacity\": 1, \"type\": \"scatter\", \"x\": [0.4775890294771492, -0.05712631865800212, null], \"y\": [-0.7065996477304826, 0.3303870467944924, null]}, {\"line\": {\"shape\": \"spline\", \"width\": 3.9000000000000004}, \"marker\": {\"color\": \"rgb(0.9000902700192797, 0.04436622225504938, 0.04436622225504938)\"}, \"mode\": \"lines\", \"opacity\": 1, \"type\": \"scatter\", \"x\": [0.4775890294771492, -0.6920023759347991, null], \"y\": [-0.7065996477304826, -0.42282052296431377, null]}, {\"line\": {\"shape\": \"spline\", \"width\": 0.0}, \"marker\": {\"color\": \"rgb(0.8983476305912729, 0.04403964690036888, 0.04403964690036888)\"}, \"mode\": \"lines\", \"opacity\": 1, \"type\": \"scatter\", \"x\": [0.4775890294771492, 0.33875119688294697, null], \"y\": [-0.7065996477304826, -0.34323648494223935, null]}, {\"line\": {\"shape\": \"spline\", \"width\": 0.0}, \"marker\": {\"color\": \"rgb(0.8966039838866472, 0.04371407882230738, 0.04371407882230738)\"}, \"mode\": \"lines\", \"opacity\": 1, \"type\": \"scatter\", \"x\": [0.4775890294771492, -0.09977344620872326, null], \"y\": [-0.7065996477304826, -0.9942196228473164, null]}, {\"line\": {\"shape\": \"spline\", \"width\": 0.0}, \"marker\": {\"color\": \"rgb(0.8948593299054024, 0.04338951802086488, 0.04338951802086488)\"}, \"mode\": \"lines\", \"opacity\": 1, \"type\": \"scatter\", \"x\": [0.4775890294771492, 0.28231830546686393, null], \"y\": [-0.7065996477304826, 0.6123748779823588, null]}, {\"line\": {\"shape\": \"spline\", \"width\": 8.9}, \"marker\": {\"color\": \"rgb(0.8931136686475385, 0.0430659644960415, 0.0430659644960415)\"}, \"mode\": \"lines\", \"opacity\": 1, \"type\": \"scatter\", \"x\": [-0.9238079484026622, 0.042555730321677636, null], \"y\": [-0.006394501764154287, -0.6610675416957015, null]}, {\"line\": {\"shape\": \"spline\", \"width\": 0.0}, \"marker\": {\"color\": \"rgb(0.8913670001130554, 0.04274341824783734, 0.04274341824783734)\"}, \"mode\": \"lines\", \"opacity\": 1, \"type\": \"scatter\", \"x\": [-0.9238079484026622, -0.69912365053649, null], \"y\": [-0.006394501764154287, 0.1776516355523447, null]}, {\"line\": {\"shape\": \"spline\", \"width\": 0.0}, \"marker\": {\"color\": \"rgb(0.8896193243019532, 0.04242187927625218, 0.04242187927625218)\"}, \"mode\": \"lines\", \"opacity\": 1, \"type\": \"scatter\", \"x\": [-0.9238079484026622, 0.7840491809787309, null], \"y\": [-0.006394501764154287, -0.3124284556444398, null]}, {\"line\": {\"shape\": \"spline\", \"width\": 8.0}, \"marker\": {\"color\": \"rgb(0.8878706412142321, 0.04210134758128603, 0.04210134758128603)\"}, \"mode\": \"lines\", \"opacity\": 1, \"type\": \"scatter\", \"x\": [-0.9238079484026622, -0.9590383342568007, null], \"y\": [-0.006394501764154287, -0.34685763200079156, null]}, {\"line\": {\"shape\": \"spline\", \"width\": 7.1}, \"marker\": {\"color\": \"rgb(0.886120950849892, 0.04178182316293899, 0.04178182316293899)\"}, \"mode\": \"lines\", \"opacity\": 1, \"type\": \"scatter\", \"x\": [-0.9238079484026622, 0.29053802337351115, null], \"y\": [-0.006394501764154287, -0.9500247040932227, null]}, {\"line\": {\"shape\": \"spline\", \"width\": 0.0}, \"marker\": {\"color\": \"rgb(0.8843702532089326, 0.041463306021211066, 0.041463306021211066)\"}, \"mode\": \"lines\", \"opacity\": 1, \"type\": \"scatter\", \"x\": [-0.9238079484026622, -0.4347894318337367, null], \"y\": [-0.006394501764154287, -0.08023740699404934, null]}, {\"line\": {\"shape\": \"spline\", \"width\": 9.5}, \"marker\": {\"color\": \"rgb(0.8826185482913542, 0.041145796156102143, 0.041145796156102143)\"}, \"mode\": \"lines\", \"opacity\": 1, \"type\": \"scatter\", \"x\": [-0.9238079484026622, 0.1192988455823766, null], \"y\": [-0.006394501764154287, -0.053018382521206005, null]}, {\"line\": {\"shape\": \"spline\", \"width\": 0.0}, \"marker\": {\"color\": \"rgb(0.8808658360971566, 0.040829293567612446, 0.040829293567612446)\"}, \"mode\": \"lines\", \"opacity\": 1, \"type\": \"scatter\", \"x\": [-0.9238079484026622, 0.6561880425959237, null], \"y\": [-0.006394501764154287, 0.014406556349072674, null]}, {\"line\": {\"shape\": \"spline\", \"width\": 0.0}, \"marker\": {\"color\": \"rgb(0.87911211662634, 0.04051379825574175, 0.04051379825574175)\"}, \"mode\": \"lines\", \"opacity\": 1, \"type\": \"scatter\", \"x\": [-0.9238079484026622, -0.08015989063624109, null], \"y\": [-0.006394501764154287, 0.7311264910311921, null]}, {\"line\": {\"shape\": \"spline\", \"width\": 6.3}, \"marker\": {\"color\": \"rgb(0.8773573898789045, 0.04019931022049006, 0.04019931022049006)\"}, \"mode\": \"lines\", \"opacity\": 1, \"type\": \"scatter\", \"x\": [-0.9238079484026622, -0.6161589422030441, null], \"y\": [-0.006394501764154287, -0.7336198945028887, null]}, {\"line\": {\"shape\": \"spline\", \"width\": 9.9}, \"marker\": {\"color\": \"rgb(0.8756016558548497, 0.03988582946185759, 0.03988582946185759)\"}, \"mode\": \"lines\", \"opacity\": 1, \"type\": \"scatter\", \"x\": [-0.9238079484026622, 0.9999999999999999, null], \"y\": [-0.006394501764154287, -0.038985615419455194, null]}, {\"line\": {\"shape\": \"spline\", \"width\": 0.0}, \"marker\": {\"color\": \"rgb(0.8738449145541759, 0.03957335597984413, 0.03957335597984413)\"}, \"mode\": \"lines\", \"opacity\": 1, \"type\": \"scatter\", \"x\": [-0.9238079484026622, -0.88826039091796, null], \"y\": [-0.006394501764154287, 0.44876525848477733, null]}, {\"line\": {\"shape\": \"spline\", \"width\": 10.0}, \"marker\": {\"color\": \"rgb(0.872087165976883, 0.039261889774449776, 0.039261889774449776)\"}, \"mode\": \"lines\", \"opacity\": 1, \"type\": \"scatter\", \"x\": [-0.9238079484026622, 0.10816920140973707, null], \"y\": [-0.006394501764154287, 0.9968668463250838, null]}, {\"line\": {\"shape\": \"spline\", \"width\": 0.0}, \"marker\": {\"color\": \"rgb(0.870328410122971, 0.03895143084567443, 0.03895143084567443)\"}, \"mode\": \"lines\", \"opacity\": 1, \"type\": \"scatter\", \"x\": [-0.9238079484026622, -0.05712631865800212, null], \"y\": [-0.006394501764154287, 0.3303870467944924, null]}, {\"line\": {\"shape\": \"spline\", \"width\": 0.0}, \"marker\": {\"color\": \"rgb(0.8685686469924401, 0.038641979193518194, 0.038641979193518194)\"}, \"mode\": \"lines\", \"opacity\": 1, \"type\": \"scatter\", \"x\": [-0.9238079484026622, -0.6192599418973583, null], \"y\": [-0.006394501764154287, 0.7077813868065571, null]}, {\"line\": {\"shape\": \"spline\", \"width\": 8.7}, \"marker\": {\"color\": \"rgb(0.8668078765852899, 0.038333534817981074, 0.038333534817981074)\"}, \"mode\": \"lines\", \"opacity\": 1, \"type\": \"scatter\", \"x\": [-0.9238079484026622, -0.6920023759347991, null], \"y\": [-0.006394501764154287, -0.42282052296431377, null]}, {\"line\": {\"shape\": \"spline\", \"width\": 0.0}, \"marker\": {\"color\": \"rgb(0.8650460989015206, 0.03802609771906307, 0.03802609771906307)\"}, \"mode\": \"lines\", \"opacity\": 1, \"type\": \"scatter\", \"x\": [-0.9238079484026622, 0.33875119688294697, null], \"y\": [-0.006394501764154287, -0.34323648494223935, null]}, {\"line\": {\"shape\": \"spline\", \"width\": 0.0}, \"marker\": {\"color\": \"rgb(0.8632833139411323, 0.037719667896764064, 0.037719667896764064)\"}, \"mode\": \"lines\", \"opacity\": 1, \"type\": \"scatter\", \"x\": [-0.9238079484026622, -0.09977344620872326, null], \"y\": [-0.006394501764154287, -0.9942196228473164, null]}, {\"line\": {\"shape\": \"spline\", \"width\": 0.0}, \"marker\": {\"color\": \"rgb(0.8615195217041249, 0.037414245351084174, 0.037414245351084174)\"}, \"mode\": \"lines\", \"opacity\": 1, \"type\": \"scatter\", \"x\": [-0.9238079484026622, 0.28231830546686393, null], \"y\": [-0.006394501764154287, 0.6123748779823588, null]}, {\"line\": {\"shape\": \"spline\", \"width\": 0.0}, \"marker\": {\"color\": \"rgb(0.8597547221904985, 0.0371098300820234, 0.0371098300820234)\"}, \"mode\": \"lines\", \"opacity\": 1, \"type\": \"scatter\", \"x\": [-0.6192599418973583, 0.042555730321677636, null], \"y\": [0.7077813868065571, -0.6610675416957015, null]}, {\"line\": {\"shape\": \"spline\", \"width\": 0.0}, \"marker\": {\"color\": \"rgb(0.857988915400253, 0.036806422089581625, 0.036806422089581625)\"}, \"mode\": \"lines\", \"opacity\": 1, \"type\": \"scatter\", \"x\": [-0.6192599418973583, -0.69912365053649, null], \"y\": [0.7077813868065571, 0.1776516355523447, null]}, {\"line\": {\"shape\": \"spline\", \"width\": 0.0}, \"marker\": {\"color\": \"rgb(0.8562221013333885, 0.036504021373758855, 0.036504021373758855)\"}, \"mode\": \"lines\", \"opacity\": 1, \"type\": \"scatter\", \"x\": [-0.6192599418973583, 0.7840491809787309, null], \"y\": [0.7077813868065571, -0.3124284556444398, null]}, {\"line\": {\"shape\": \"spline\", \"width\": 0.0}, \"marker\": {\"color\": \"rgb(0.8544542799899048, 0.03620262793455531, 0.03620262793455531)\"}, \"mode\": \"lines\", \"opacity\": 1, \"type\": \"scatter\", \"x\": [-0.6192599418973583, -0.9590383342568007, null], \"y\": [0.7077813868065571, -0.34685763200079156, null]}, {\"line\": {\"shape\": \"spline\", \"width\": 0.0}, \"marker\": {\"color\": \"rgb(0.852685451369802, 0.035902241771970766, 0.035902241771970766)\"}, \"mode\": \"lines\", \"opacity\": 1, \"type\": \"scatter\", \"x\": [-0.6192599418973583, 0.29053802337351115, null], \"y\": [0.7077813868065571, -0.9500247040932227, null]}, {\"line\": {\"shape\": \"spline\", \"width\": 0.0}, \"marker\": {\"color\": \"rgb(0.8509156154730801, 0.03560286288600534, 0.03560286288600534)\"}, \"mode\": \"lines\", \"opacity\": 1, \"type\": \"scatter\", \"x\": [-0.6192599418973583, -0.4347894318337367, null], \"y\": [0.7077813868065571, -0.08023740699404934, null]}, {\"line\": {\"shape\": \"spline\", \"width\": 0.0}, \"marker\": {\"color\": \"rgb(0.8491447722997393, 0.03530449127665902, 0.03530449127665902)\"}, \"mode\": \"lines\", \"opacity\": 1, \"type\": \"scatter\", \"x\": [-0.6192599418973583, 0.9999999999999999, null], \"y\": [0.7077813868065571, -0.038985615419455194, null]}, {\"line\": {\"shape\": \"spline\", \"width\": 0.0}, \"marker\": {\"color\": \"rgb(0.8473729218497793, 0.03500712694393171, 0.03500712694393171)\"}, \"mode\": \"lines\", \"opacity\": 1, \"type\": \"scatter\", \"x\": [-0.6192599418973583, -0.88826039091796, null], \"y\": [0.7077813868065571, 0.44876525848477733, null]}, {\"line\": {\"shape\": \"spline\", \"width\": 0.0}, \"marker\": {\"color\": \"rgb(0.8456000641232002, 0.03471076988782351, 0.03471076988782351)\"}, \"mode\": \"lines\", \"opacity\": 1, \"type\": \"scatter\", \"x\": [-0.6192599418973583, 0.10816920140973707, null], \"y\": [0.7077813868065571, 0.9968668463250838, null]}, {\"line\": {\"shape\": \"spline\", \"width\": 0.0}, \"marker\": {\"color\": \"rgb(0.8438261991200021, 0.034415420108334316, 0.034415420108334316)\"}, \"mode\": \"lines\", \"opacity\": 1, \"type\": \"scatter\", \"x\": [-0.6192599418973583, -0.05712631865800212, null], \"y\": [0.7077813868065571, 0.3303870467944924, null]}, {\"line\": {\"shape\": \"spline\", \"width\": 0.0}, \"marker\": {\"color\": \"rgb(0.8420513268401848, 0.034121077605464345, 0.034121077605464345)\"}, \"mode\": \"lines\", \"opacity\": 1, \"type\": \"scatter\", \"x\": [-0.6192599418973583, 0.1192988455823766, null], \"y\": [0.7077813868065571, -0.053018382521206005, null]}, {\"line\": {\"shape\": \"spline\", \"width\": 0.0}, \"marker\": {\"color\": \"rgb(0.8402754472837486, 0.03382774237921338, 0.03382774237921338)\"}, \"mode\": \"lines\", \"opacity\": 1, \"type\": \"scatter\", \"x\": [-0.6192599418973583, 0.6561880425959237, null], \"y\": [0.7077813868065571, 0.014406556349072674, null]}, {\"line\": {\"shape\": \"spline\", \"width\": 0.0}, \"marker\": {\"color\": \"rgb(0.8384985604506932, 0.03353541442958152, 0.03353541442958152)\"}, \"mode\": \"lines\", \"opacity\": 1, \"type\": \"scatter\", \"x\": [-0.6192599418973583, -0.08015989063624109, null], \"y\": [0.7077813868065571, 0.7311264910311921, null]}, {\"line\": {\"shape\": \"spline\", \"width\": 0.0}, \"marker\": {\"color\": \"rgb(0.8367206663410187, 0.03324409375656867, 0.03324409375656867)\"}, \"mode\": \"lines\", \"opacity\": 1, \"type\": \"scatter\", \"x\": [-0.6192599418973583, -0.6161589422030441, null], \"y\": [0.7077813868065571, -0.7336198945028887, null]}, {\"line\": {\"shape\": \"spline\", \"width\": 0.0}, \"marker\": {\"color\": \"rgb(0.834941764954725, 0.032953780360175045, 0.032953780360175045)\"}, \"mode\": \"lines\", \"opacity\": 1, \"type\": \"scatter\", \"x\": [-0.6192599418973583, -0.6920023759347991, null], \"y\": [0.7077813868065571, -0.42282052296431377, null]}, {\"line\": {\"shape\": \"spline\", \"width\": 0.0}, \"marker\": {\"color\": \"rgb(0.8331618562918124, 0.03266447424040042, 0.03266447424040042)\"}, \"mode\": \"lines\", \"opacity\": 1, \"type\": \"scatter\", \"x\": [-0.6192599418973583, 0.33875119688294697, null], \"y\": [0.7077813868065571, -0.34323648494223935, null]}, {\"line\": {\"shape\": \"spline\", \"width\": 0.0}, \"marker\": {\"color\": \"rgb(0.8313809403522808, 0.0323761753972448, 0.0323761753972448)\"}, \"mode\": \"lines\", \"opacity\": 1, \"type\": \"scatter\", \"x\": [-0.6192599418973583, -0.09977344620872326, null], \"y\": [0.7077813868065571, -0.9942196228473164, null]}, {\"line\": {\"shape\": \"spline\", \"width\": 0.0}, \"marker\": {\"color\": \"rgb(0.8295990171361299, 0.0320888838307084, 0.0320888838307084)\"}, \"mode\": \"lines\", \"opacity\": 1, \"type\": \"scatter\", \"x\": [-0.6192599418973583, 0.28231830546686393, null], \"y\": [0.7077813868065571, 0.6123748779823588, null]}, {\"line\": {\"shape\": \"spline\", \"width\": 9.9}, \"marker\": {\"color\": \"rgb(0.82781608664336, 0.03180259954079101, 0.03180259954079101)\"}, \"mode\": \"lines\", \"opacity\": 1, \"type\": \"scatter\", \"x\": [0.1192988455823766, 0.042555730321677636, null], \"y\": [-0.053018382521206005, -0.6610675416957015, null]}, {\"line\": {\"shape\": \"spline\", \"width\": 0.0}, \"marker\": {\"color\": \"rgb(0.8260321488739711, 0.03151732252749262, 0.03151732252749262)\"}, \"mode\": \"lines\", \"opacity\": 1, \"type\": \"scatter\", \"x\": [0.1192988455823766, -0.69912365053649, null], \"y\": [-0.053018382521206005, 0.1776516355523447, null]}, {\"line\": {\"shape\": \"spline\", \"width\": 3.2}, \"marker\": {\"color\": \"rgb(0.824247203827963, 0.031233052790813454, 0.031233052790813454)\"}, \"mode\": \"lines\", \"opacity\": 1, \"type\": \"scatter\", \"x\": [0.1192988455823766, 0.7840491809787309, null], \"y\": [-0.053018382521206005, -0.3124284556444398, null]}, {\"line\": {\"shape\": \"spline\", \"width\": 9.3}, \"marker\": {\"color\": \"rgb(0.822461251505336, 0.03094979033075329, 0.03094979033075329)\"}, \"mode\": \"lines\", \"opacity\": 1, \"type\": \"scatter\", \"x\": [0.1192988455823766, -0.9590383342568007, null], \"y\": [-0.053018382521206005, -0.34685763200079156, null]}, {\"line\": {\"shape\": \"spline\", \"width\": 8.9}, \"marker\": {\"color\": \"rgb(0.8206742919060898, 0.03066753514731224, 0.03066753514731224)\"}, \"mode\": \"lines\", \"opacity\": 1, \"type\": \"scatter\", \"x\": [0.1192988455823766, 0.29053802337351115, null], \"y\": [-0.053018382521206005, -0.9500247040932227, null]}, {\"line\": {\"shape\": \"spline\", \"width\": 0.0}, \"marker\": {\"color\": \"rgb(0.8188863250302245, 0.030386287240490195, 0.030386287240490195)\"}, \"mode\": \"lines\", \"opacity\": 1, \"type\": \"scatter\", \"x\": [0.1192988455823766, -0.4347894318337367, null], \"y\": [-0.053018382521206005, -0.08023740699404934, null]}, {\"line\": {\"shape\": \"spline\", \"width\": 9.399999999999999}, \"marker\": {\"color\": \"rgb(0.8170973508777403, 0.03010604661028715, 0.03010604661028715)\"}, \"mode\": \"lines\", \"opacity\": 1, \"type\": \"scatter\", \"x\": [0.1192988455823766, 0.9999999999999999, null], \"y\": [-0.053018382521206005, -0.038985615419455194, null]}, {\"line\": {\"shape\": \"spline\", \"width\": 3.2}, \"marker\": {\"color\": \"rgb(0.8153073694486368, 0.029826813256703333, 0.029826813256703333)\"}, \"mode\": \"lines\", \"opacity\": 1, \"type\": \"scatter\", \"x\": [0.1192988455823766, -0.88826039091796, null], \"y\": [-0.053018382521206005, 0.44876525848477733, null]}, {\"line\": {\"shape\": \"spline\", \"width\": 9.5}, \"marker\": {\"color\": \"rgb(0.8135163807429143, 0.029548587179738628, 0.029548587179738628)\"}, \"mode\": \"lines\", \"opacity\": 1, \"type\": \"scatter\", \"x\": [0.1192988455823766, 0.10816920140973707, null], \"y\": [-0.053018382521206005, 0.9968668463250838, null]}, {\"line\": {\"shape\": \"spline\", \"width\": 0.0}, \"marker\": {\"color\": \"rgb(0.8117243847605727, 0.029271368379392926, 0.029271368379392926)\"}, \"mode\": \"lines\", \"opacity\": 1, \"type\": \"scatter\", \"x\": [0.1192988455823766, -0.05712631865800212, null], \"y\": [-0.053018382521206005, 0.3303870467944924, null]}, {\"line\": {\"shape\": \"spline\", \"width\": 8.299999999999999}, \"marker\": {\"color\": \"rgb(0.809931381501612, 0.028995156855666337, 0.028995156855666337)\"}, \"mode\": \"lines\", \"opacity\": 1, \"type\": \"scatter\", \"x\": [0.1192988455823766, -0.6920023759347991, null], \"y\": [-0.053018382521206005, -0.42282052296431377, null]}, {\"line\": {\"shape\": \"spline\", \"width\": 0.0}, \"marker\": {\"color\": \"rgb(0.8081373709660323, 0.028719952608558752, 0.028719952608558752)\"}, \"mode\": \"lines\", \"opacity\": 1, \"type\": \"scatter\", \"x\": [0.1192988455823766, -0.08015989063624109, null], \"y\": [-0.053018382521206005, 0.7311264910311921, null]}, {\"line\": {\"shape\": \"spline\", \"width\": 7.0}, \"marker\": {\"color\": \"rgb(0.8063423531538334, 0.02844575563807039, 0.02844575563807039)\"}, \"mode\": \"lines\", \"opacity\": 1, \"type\": \"scatter\", \"x\": [0.1192988455823766, -0.6161589422030441, null], \"y\": [-0.053018382521206005, -0.7336198945028887, null]}, {\"line\": {\"shape\": \"spline\", \"width\": 0.0}, \"marker\": {\"color\": \"rgb(0.8045463280650156, 0.028172565944200922, 0.028172565944200922)\"}, \"mode\": \"lines\", \"opacity\": 1, \"type\": \"scatter\", \"x\": [0.1192988455823766, 0.6561880425959237, null], \"y\": [-0.053018382521206005, 0.014406556349072674, null]}, {\"line\": {\"shape\": \"spline\", \"width\": 0.0}, \"marker\": {\"color\": \"rgb(0.8027492956995788, 0.027900383526950567, 0.027900383526950567)\"}, \"mode\": \"lines\", \"opacity\": 1, \"type\": \"scatter\", \"x\": [0.1192988455823766, 0.33875119688294697, null], \"y\": [-0.053018382521206005, -0.34323648494223935, null]}, {\"line\": {\"shape\": \"spline\", \"width\": 0.0}, \"marker\": {\"color\": \"rgb(0.8009512560575226, 0.027629208386319437, 0.027629208386319437)\"}, \"mode\": \"lines\", \"opacity\": 1, \"type\": \"scatter\", \"x\": [0.1192988455823766, -0.09977344620872326, null], \"y\": [-0.053018382521206005, -0.9942196228473164, null]}, {\"line\": {\"shape\": \"spline\", \"width\": 0.0}, \"marker\": {\"color\": \"rgb(0.7991522091388474, 0.02735904052230731, 0.02735904052230731)\"}, \"mode\": \"lines\", \"opacity\": 1, \"type\": \"scatter\", \"x\": [0.1192988455823766, 0.28231830546686393, null], \"y\": [-0.053018382521206005, 0.6123748779823588, null]}, {\"line\": {\"shape\": \"spline\", \"width\": 0.0}, \"marker\": {\"color\": \"rgb(0.7973521549435532, 0.027089879934914296, 0.027089879934914296)\"}, \"mode\": \"lines\", \"opacity\": 1, \"type\": \"scatter\", \"x\": [0.6561880425959237, 0.042555730321677636, null], \"y\": [0.014406556349072674, -0.6610675416957015, null]}, {\"line\": {\"shape\": \"spline\", \"width\": 0.0}, \"marker\": {\"color\": \"rgb(0.7955510934716399, 0.026821726624140285, 0.026821726624140285)\"}, \"mode\": \"lines\", \"opacity\": 1, \"type\": \"scatter\", \"x\": [0.6561880425959237, -0.69912365053649, null], \"y\": [0.014406556349072674, 0.1776516355523447, null]}, {\"line\": {\"shape\": \"spline\", \"width\": 0.0}, \"marker\": {\"color\": \"rgb(0.7937490247231076, 0.026554580589985388, 0.026554580589985388)\"}, \"mode\": \"lines\", \"opacity\": 1, \"type\": \"scatter\", \"x\": [0.6561880425959237, 0.7840491809787309, null], \"y\": [0.014406556349072674, -0.3124284556444398, null]}, {\"line\": {\"shape\": \"spline\", \"width\": 0.0}, \"marker\": {\"color\": \"rgb(0.7919459486979561, 0.026288441832449605, 0.026288441832449605)\"}, \"mode\": \"lines\", \"opacity\": 1, \"type\": \"scatter\", \"x\": [0.6561880425959237, -0.9590383342568007, null], \"y\": [0.014406556349072674, -0.34685763200079156, null]}, {\"line\": {\"shape\": \"spline\", \"width\": 0.0}, \"marker\": {\"color\": \"rgb(0.7901418653961856, 0.026023310351532825, 0.026023310351532825)\"}, \"mode\": \"lines\", \"opacity\": 1, \"type\": \"scatter\", \"x\": [0.6561880425959237, 0.29053802337351115, null], \"y\": [0.014406556349072674, -0.9500247040932227, null]}, {\"line\": {\"shape\": \"spline\", \"width\": 0.0}, \"marker\": {\"color\": \"rgb(0.7883367748177958, 0.02575918614723527, 0.02575918614723527)\"}, \"mode\": \"lines\", \"opacity\": 1, \"type\": \"scatter\", \"x\": [0.6561880425959237, -0.4347894318337367, null], \"y\": [0.014406556349072674, -0.08023740699404934, null]}, {\"line\": {\"shape\": \"spline\", \"width\": 0.0}, \"marker\": {\"color\": \"rgb(0.7865306769627872, 0.025496069219556605, 0.025496069219556605)\"}, \"mode\": \"lines\", \"opacity\": 1, \"type\": \"scatter\", \"x\": [0.6561880425959237, 0.9999999999999999, null], \"y\": [0.014406556349072674, -0.038985615419455194, null]}, {\"line\": {\"shape\": \"spline\", \"width\": 0.0}, \"marker\": {\"color\": \"rgb(0.7847235718311595, 0.025233959568497166, 0.025233959568497166)\"}, \"mode\": \"lines\", \"opacity\": 1, \"type\": \"scatter\", \"x\": [0.6561880425959237, -0.88826039091796, null], \"y\": [0.014406556349072674, 0.44876525848477733, null]}, {\"line\": {\"shape\": \"spline\", \"width\": 0.0}, \"marker\": {\"color\": \"rgb(0.7829154594229126, 0.02497285719405673, 0.02497285719405673)\"}, \"mode\": \"lines\", \"opacity\": 1, \"type\": \"scatter\", \"x\": [0.6561880425959237, 0.10816920140973707, null], \"y\": [0.014406556349072674, 0.9968668463250838, null]}, {\"line\": {\"shape\": \"spline\", \"width\": 0.0}, \"marker\": {\"color\": \"rgb(0.7811063397380467, 0.024712762096235408, 0.024712762096235408)\"}, \"mode\": \"lines\", \"opacity\": 1, \"type\": \"scatter\", \"x\": [0.6561880425959237, -0.05712631865800212, null], \"y\": [0.014406556349072674, 0.3303870467944924, null]}, {\"line\": {\"shape\": \"spline\", \"width\": 0.0}, \"marker\": {\"color\": \"rgb(0.7792962127765616, 0.0244536742750332, 0.0244536742750332)\"}, \"mode\": \"lines\", \"opacity\": 1, \"type\": \"scatter\", \"x\": [0.6561880425959237, -0.6920023759347991, null], \"y\": [0.014406556349072674, -0.42282052296431377, null]}, {\"line\": {\"shape\": \"spline\", \"width\": 0.0}, \"marker\": {\"color\": \"rgb(0.7774850785384576, 0.024195593730449882, 0.024195593730449882)\"}, \"mode\": \"lines\", \"opacity\": 1, \"type\": \"scatter\", \"x\": [0.6561880425959237, -0.08015989063624109, null], \"y\": [0.014406556349072674, 0.7311264910311921, null]}, {\"line\": {\"shape\": \"spline\", \"width\": 0.0}, \"marker\": {\"color\": \"rgb(0.7756729370237345, 0.02393852046248579, 0.02393852046248579)\"}, \"mode\": \"lines\", \"opacity\": 1, \"type\": \"scatter\", \"x\": [0.6561880425959237, -0.6161589422030441, null], \"y\": [0.014406556349072674, -0.7336198945028887, null]}, {\"line\": {\"shape\": \"spline\", \"width\": 0.0}, \"marker\": {\"color\": \"rgb(0.7738597882323922, 0.023682454471140812, 0.023682454471140812)\"}, \"mode\": \"lines\", \"opacity\": 1, \"type\": \"scatter\", \"x\": [0.6561880425959237, 0.33875119688294697, null], \"y\": [0.014406556349072674, -0.34323648494223935, null]}, {\"line\": {\"shape\": \"spline\", \"width\": 0.0}, \"marker\": {\"color\": \"rgb(0.7720456321644309, 0.023427395756414837, 0.023427395756414837)\"}, \"mode\": \"lines\", \"opacity\": 1, \"type\": \"scatter\", \"x\": [0.6561880425959237, -0.09977344620872326, null], \"y\": [0.014406556349072674, -0.9942196228473164, null]}, {\"line\": {\"shape\": \"spline\", \"width\": 0.0}, \"marker\": {\"color\": \"rgb(0.7702304688198505, 0.023173344318307976, 0.023173344318307976)\"}, \"mode\": \"lines\", \"opacity\": 1, \"type\": \"scatter\", \"x\": [0.6561880425959237, 0.28231830546686393, null], \"y\": [0.014406556349072674, 0.6123748779823588, null]}, {\"line\": {\"shape\": \"spline\", \"width\": 0.0}, \"marker\": {\"color\": \"rgb(0.7684142981986509, 0.022920300156820228, 0.022920300156820228)\"}, \"mode\": \"lines\", \"opacity\": 1, \"type\": \"scatter\", \"x\": [-0.08015989063624109, 0.042555730321677636, null], \"y\": [0.7311264910311921, -0.6610675416957015, null]}, {\"line\": {\"shape\": \"spline\", \"width\": 0.0}, \"marker\": {\"color\": \"rgb(0.7665971203008324, 0.022668263271951483, 0.022668263271951483)\"}, \"mode\": \"lines\", \"opacity\": 1, \"type\": \"scatter\", \"x\": [-0.08015989063624109, -0.69912365053649, null], \"y\": [0.7311264910311921, 0.1776516355523447, null]}, {\"line\": {\"shape\": \"spline\", \"width\": 0.0}, \"marker\": {\"color\": \"rgb(0.7647789351263948, 0.022417233663701852, 0.022417233663701852)\"}, \"mode\": \"lines\", \"opacity\": 1, \"type\": \"scatter\", \"x\": [-0.08015989063624109, 0.7840491809787309, null], \"y\": [0.7311264910311921, -0.3124284556444398, null]}, {\"line\": {\"shape\": \"spline\", \"width\": 2.7}, \"marker\": {\"color\": \"rgb(0.7629597426753381, 0.022167211332071335, 0.022167211332071335)\"}, \"mode\": \"lines\", \"opacity\": 1, \"type\": \"scatter\", \"x\": [-0.08015989063624109, -0.9590383342568007, null], \"y\": [0.7311264910311921, -0.34685763200079156, null]}, {\"line\": {\"shape\": \"spline\", \"width\": 0.0}, \"marker\": {\"color\": \"rgb(0.7611395429476623, 0.02191819627705982, 0.02191819627705982)\"}, \"mode\": \"lines\", \"opacity\": 1, \"type\": \"scatter\", \"x\": [-0.08015989063624109, 0.29053802337351115, null], \"y\": [0.7311264910311921, -0.9500247040932227, null]}, {\"line\": {\"shape\": \"spline\", \"width\": 0.0}, \"marker\": {\"color\": \"rgb(0.7593183359433674, 0.02167018849866742, 0.02167018849866742)\"}, \"mode\": \"lines\", \"opacity\": 1, \"type\": \"scatter\", \"x\": [-0.08015989063624109, -0.4347894318337367, null], \"y\": [0.7311264910311921, -0.08023740699404934, null]}, {\"line\": {\"shape\": \"spline\", \"width\": 0.0}, \"marker\": {\"color\": \"rgb(0.7574961216624534, 0.021423187996894133, 0.021423187996894133)\"}, \"mode\": \"lines\", \"opacity\": 1, \"type\": \"scatter\", \"x\": [-0.08015989063624109, 0.9999999999999999, null], \"y\": [0.7311264910311921, -0.038985615419455194, null]}, {\"line\": {\"shape\": \"spline\", \"width\": 0.0}, \"marker\": {\"color\": \"rgb(0.7556729001049204, 0.02117719477173996, 0.02117719477173996)\"}, \"mode\": \"lines\", \"opacity\": 1, \"type\": \"scatter\", \"x\": [-0.08015989063624109, -0.88826039091796, null], \"y\": [0.7311264910311921, 0.44876525848477733, null]}, {\"line\": {\"shape\": \"spline\", \"width\": 0.0}, \"marker\": {\"color\": \"rgb(0.7538486712707683, 0.02093220882320479, 0.02093220882320479)\"}, \"mode\": \"lines\", \"opacity\": 1, \"type\": \"scatter\", \"x\": [-0.08015989063624109, 0.10816920140973707, null], \"y\": [0.7311264910311921, 0.9968668463250838, null]}, {\"line\": {\"shape\": \"spline\", \"width\": 0.0}, \"marker\": {\"color\": \"rgb(0.752023435159997, 0.020688230151288733, 0.020688230151288733)\"}, \"mode\": \"lines\", \"opacity\": 1, \"type\": \"scatter\", \"x\": [-0.08015989063624109, -0.05712631865800212, null], \"y\": [0.7311264910311921, 0.3303870467944924, null]}, {\"line\": {\"shape\": \"spline\", \"width\": 4.4}, \"marker\": {\"color\": \"rgb(0.7501971917726067, 0.02044525875599179, 0.02044525875599179)\"}, \"mode\": \"lines\", \"opacity\": 1, \"type\": \"scatter\", \"x\": [-0.08015989063624109, -0.6920023759347991, null], \"y\": [0.7311264910311921, -0.42282052296431377, null]}, {\"line\": {\"shape\": \"spline\", \"width\": 0.0}, \"marker\": {\"color\": \"rgb(0.7483699411085973, 0.02020329463731385, 0.02020329463731385)\"}, \"mode\": \"lines\", \"opacity\": 1, \"type\": \"scatter\", \"x\": [-0.08015989063624109, 0.33875119688294697, null], \"y\": [0.7311264910311921, -0.34323648494223935, null]}, {\"line\": {\"shape\": \"spline\", \"width\": 0.0}, \"marker\": {\"color\": \"rgb(0.746541683167969, 0.019962337795255025, 0.019962337795255025)\"}, \"mode\": \"lines\", \"opacity\": 1, \"type\": \"scatter\", \"x\": [-0.08015989063624109, -0.09977344620872326, null], \"y\": [0.7311264910311921, -0.9942196228473164, null]}, {\"line\": {\"shape\": \"spline\", \"width\": 0.0}, \"marker\": {\"color\": \"rgb(0.7447124179507214, 0.019722388229815313, 0.019722388229815313)\"}, \"mode\": \"lines\", \"opacity\": 1, \"type\": \"scatter\", \"x\": [-0.08015989063624109, 0.28231830546686393, null], \"y\": [0.7311264910311921, 0.6123748779823588, null]}, {\"line\": {\"shape\": \"spline\", \"width\": 6.3}, \"marker\": {\"color\": \"rgb(0.7428821454568548, 0.019483445940994604, 0.019483445940994604)\"}, \"mode\": \"lines\", \"opacity\": 1, \"type\": \"scatter\", \"x\": [-0.08015989063624109, -0.6161589422030441, null], \"y\": [0.7311264910311921, -0.7336198945028887, null]}, {\"line\": {\"shape\": \"spline\", \"width\": 7.1}, \"marker\": {\"color\": \"rgb(0.7410508656863691, 0.019245510928793008, 0.019245510928793008)\"}, \"mode\": \"lines\", \"opacity\": 1, \"type\": \"scatter\", \"x\": [-0.6161589422030441, 0.042555730321677636, null], \"y\": [-0.7336198945028887, -0.6610675416957015, null]}, {\"line\": {\"shape\": \"spline\", \"width\": 0.0}, \"marker\": {\"color\": \"rgb(0.7392185786392643, 0.019008583193210526, 0.019008583193210526)\"}, \"mode\": \"lines\", \"opacity\": 1, \"type\": \"scatter\", \"x\": [-0.6161589422030441, -0.69912365053649, null], \"y\": [-0.7336198945028887, 0.1776516355523447, null]}, {\"line\": {\"shape\": \"spline\", \"width\": 3.2}, \"marker\": {\"color\": \"rgb(0.7373852843155406, 0.018772662734247048, 0.018772662734247048)\"}, \"mode\": \"lines\", \"opacity\": 1, \"type\": \"scatter\", \"x\": [-0.6161589422030441, 0.7840491809787309, null], \"y\": [-0.7336198945028887, -0.3124284556444398, null]}, {\"line\": {\"shape\": \"spline\", \"width\": 8.5}, \"marker\": {\"color\": \"rgb(0.7355509827151977, 0.018537749551902682, 0.018537749551902682)\"}, \"mode\": \"lines\", \"opacity\": 1, \"type\": \"scatter\", \"x\": [-0.6161589422030441, -0.9590383342568007, null], \"y\": [-0.7336198945028887, -0.34685763200079156, null]}, {\"line\": {\"shape\": \"spline\", \"width\": 6.7}, \"marker\": {\"color\": \"rgb(0.7337156738382357, 0.01830384364617743, 0.01830384364617743)\"}, \"mode\": \"lines\", \"opacity\": 1, \"type\": \"scatter\", \"x\": [-0.6161589422030441, 0.29053802337351115, null], \"y\": [-0.7336198945028887, -0.9500247040932227, null]}, {\"line\": {\"shape\": \"spline\", \"width\": 0.0}, \"marker\": {\"color\": \"rgb(0.7318793576846546, 0.018070945017071183, 0.018070945017071183)\"}, \"mode\": \"lines\", \"opacity\": 1, \"type\": \"scatter\", \"x\": [-0.6161589422030441, -0.4347894318337367, null], \"y\": [-0.7336198945028887, -0.08023740699404934, null]}, {\"line\": {\"shape\": \"spline\", \"width\": 6.7}, \"marker\": {\"color\": \"rgb(0.7300420342544545, 0.017839053664584048, 0.017839053664584048)\"}, \"mode\": \"lines\", \"opacity\": 1, \"type\": \"scatter\", \"x\": [-0.6161589422030441, 0.9999999999999999, null], \"y\": [-0.7336198945028887, -0.038985615419455194, null]}, {\"line\": {\"shape\": \"spline\", \"width\": 3.2}, \"marker\": {\"color\": \"rgb(0.7282037035476353, 0.017608169588716027, 0.017608169588716027)\"}, \"mode\": \"lines\", \"opacity\": 1, \"type\": \"scatter\", \"x\": [-0.6161589422030441, -0.88826039091796, null], \"y\": [-0.7336198945028887, 0.44876525848477733, null]}, {\"line\": {\"shape\": \"spline\", \"width\": 6.3}, \"marker\": {\"color\": \"rgb(0.7263643655641969, 0.01737829278946712, 0.01737829278946712)\"}, \"mode\": \"lines\", \"opacity\": 1, \"type\": \"scatter\", \"x\": [-0.6161589422030441, 0.10816920140973707, null], \"y\": [-0.7336198945028887, 0.9968668463250838, null]}, {\"line\": {\"shape\": \"spline\", \"width\": 0.0}, \"marker\": {\"color\": \"rgb(0.7245240203041396, 0.017149423266837105, 0.017149423266837105)\"}, \"mode\": \"lines\", \"opacity\": 1, \"type\": \"scatter\", \"x\": [-0.6161589422030441, -0.05712631865800212, null], \"y\": [-0.7336198945028887, 0.3303870467944924, null]}, {\"line\": {\"shape\": \"spline\", \"width\": 8.299999999999999}, \"marker\": {\"color\": \"rgb(0.7226826677674631, 0.016921561020826315, 0.016921561020826315)\"}, \"mode\": \"lines\", \"opacity\": 1, \"type\": \"scatter\", \"x\": [-0.6161589422030441, -0.6920023759347991, null], \"y\": [-0.7336198945028887, -0.42282052296431377, null]}, {\"line\": {\"shape\": \"spline\", \"width\": 0.0}, \"marker\": {\"color\": \"rgb(0.7208403079541675, 0.016694706051434638, 0.016694706051434638)\"}, \"mode\": \"lines\", \"opacity\": 1, \"type\": \"scatter\", \"x\": [-0.6161589422030441, 0.33875119688294697, null], \"y\": [-0.7336198945028887, -0.34323648494223935, null]}, {\"line\": {\"shape\": \"spline\", \"width\": 0.0}, \"marker\": {\"color\": \"rgb(0.7189969408642529, 0.016468858358661964, 0.016468858358661964)\"}, \"mode\": \"lines\", \"opacity\": 1, \"type\": \"scatter\", \"x\": [-0.6161589422030441, -0.09977344620872326, null], \"y\": [-0.7336198945028887, -0.9942196228473164, null]}, {\"line\": {\"shape\": \"spline\", \"width\": 0.0}, \"marker\": {\"color\": \"rgb(0.7171525664977193, 0.016244017942508404, 0.016244017942508404)\"}, \"mode\": \"lines\", \"opacity\": 1, \"type\": \"scatter\", \"x\": [-0.6161589422030441, 0.28231830546686393, null], \"y\": [-0.7336198945028887, 0.6123748779823588, null]}, {\"line\": {\"shape\": \"spline\", \"width\": 0.0}, \"marker\": {\"color\": \"rgb(0.7153071848545665, 0.016020184802973958, 0.016020184802973958)\"}, \"mode\": \"lines\", \"opacity\": 1, \"type\": \"scatter\", \"x\": [0.042555730321677636, -0.69912365053649, null], \"y\": [-0.6610675416957015, 0.1776516355523447, null]}, {\"line\": {\"shape\": \"spline\", \"width\": 4.5}, \"marker\": {\"color\": \"rgb(0.7134607959347946, 0.015797358940058515, 0.015797358940058515)\"}, \"mode\": \"lines\", \"opacity\": 1, \"type\": \"scatter\", \"x\": [0.042555730321677636, 0.7840491809787309, null], \"y\": [-0.6610675416957015, -0.3124284556444398, null]}, {\"line\": {\"shape\": \"spline\", \"width\": 9.5}, \"marker\": {\"color\": \"rgb(0.7116133997384037, 0.015575540353762185, 0.015575540353762185)\"}, \"mode\": \"lines\", \"opacity\": 1, \"type\": \"scatter\", \"x\": [0.042555730321677636, 0.29053802337351115, null], \"y\": [-0.6610675416957015, -0.9500247040932227, null]}, {\"line\": {\"shape\": \"spline\", \"width\": 0.0}, \"marker\": {\"color\": \"rgb(0.7097649962653936, 0.01535472904408497, 0.01535472904408497)\"}, \"mode\": \"lines\", \"opacity\": 1, \"type\": \"scatter\", \"x\": [0.042555730321677636, -0.4347894318337367, null], \"y\": [-0.6610675416957015, -0.08023740699404934, null]}, {\"line\": {\"shape\": \"spline\", \"width\": 4.5}, \"marker\": {\"color\": \"rgb(0.7079155855157645, 0.015134925011026867, 0.015134925011026867)\"}, \"mode\": \"lines\", \"opacity\": 1, \"type\": \"scatter\", \"x\": [0.042555730321677636, -0.88826039091796, null], \"y\": [-0.6610675416957015, 0.44876525848477733, null]}, {\"line\": {\"shape\": \"spline\", \"width\": 8.9}, \"marker\": {\"color\": \"rgb(0.7060651674895163, 0.014916128254587768, 0.014916128254587768)\"}, \"mode\": \"lines\", \"opacity\": 1, \"type\": \"scatter\", \"x\": [0.042555730321677636, 0.10816920140973707, null], \"y\": [-0.6610675416957015, 0.9968668463250838, null]}, {\"line\": {\"shape\": \"spline\", \"width\": 0.0}, \"marker\": {\"color\": \"rgb(0.704213742186649, 0.014698338774767783, 0.014698338774767783)\"}, \"mode\": \"lines\", \"opacity\": 1, \"type\": \"scatter\", \"x\": [0.042555730321677636, -0.05712631865800212, null], \"y\": [-0.6610675416957015, 0.3303870467944924, null]}, {\"line\": {\"shape\": \"spline\", \"width\": 7.800000000000001}, \"marker\": {\"color\": \"rgb(0.7023613096071627, 0.0144815565715668, 0.0144815565715668)\"}, \"mode\": \"lines\", \"opacity\": 1, \"type\": \"scatter\", \"x\": [0.042555730321677636, -0.6920023759347991, null], \"y\": [-0.6610675416957015, -0.42282052296431377, null]}, {\"line\": {\"shape\": \"spline\", \"width\": 0.0}, \"marker\": {\"color\": \"rgb(0.7005078697510573, 0.014265781644984932, 0.014265781644984932)\"}, \"mode\": \"lines\", \"opacity\": 1, \"type\": \"scatter\", \"x\": [0.042555730321677636, 0.33875119688294697, null], \"y\": [-0.6610675416957015, -0.34323648494223935, null]}, {\"line\": {\"shape\": \"spline\", \"width\": 0.0}, \"marker\": {\"color\": \"rgb(0.6986534226183329, 0.014051013995022177, 0.014051013995022177)\"}, \"mode\": \"lines\", \"opacity\": 1, \"type\": \"scatter\", \"x\": [0.042555730321677636, -0.09977344620872326, null], \"y\": [-0.6610675416957015, -0.9942196228473164, null]}, {\"line\": {\"shape\": \"spline\", \"width\": 0.0}, \"marker\": {\"color\": \"rgb(0.6967979682089893, 0.013837253621678425, 0.013837253621678425)\"}, \"mode\": \"lines\", \"opacity\": 1, \"type\": \"scatter\", \"x\": [0.042555730321677636, 0.28231830546686393, null], \"y\": [-0.6610675416957015, 0.6123748779823588, null]}, {\"line\": {\"shape\": \"spline\", \"width\": 9.6}, \"marker\": {\"color\": \"rgb(0.6949415065230266, 0.013624500524953898, 0.013624500524953898)\"}, \"mode\": \"lines\", \"opacity\": 1, \"type\": \"scatter\", \"x\": [0.042555730321677636, -0.9590383342568007, null], \"y\": [-0.6610675416957015, -0.34685763200079156, null]}, {\"line\": {\"shape\": \"spline\", \"width\": 8.9}, \"marker\": {\"color\": \"rgb(0.6930840375604448, 0.013412754704848373, 0.013412754704848373)\"}, \"mode\": \"lines\", \"opacity\": 1, \"type\": \"scatter\", \"x\": [0.042555730321677636, 0.9999999999999999, null], \"y\": [-0.6610675416957015, -0.038985615419455194, null]}, {\"line\": {\"shape\": \"spline\", \"width\": 0.0}, \"marker\": {\"color\": \"rgb(0.691225561321244, 0.013202016161361851, 0.013202016161361851)\"}, \"mode\": \"lines\", \"opacity\": 1, \"type\": \"scatter\", \"x\": [-0.69912365053649, 0.29053802337351115, null], \"y\": [0.1776516355523447, -0.9500247040932227, null]}, {\"line\": {\"shape\": \"spline\", \"width\": 0.0}, \"marker\": {\"color\": \"rgb(0.6893660778054241, 0.012992284894494555, 0.012992284894494555)\"}, \"mode\": \"lines\", \"opacity\": 1, \"type\": \"scatter\", \"x\": [-0.69912365053649, 0.10816920140973707, null], \"y\": [0.1776516355523447, 0.9968668463250838, null]}, {\"line\": {\"shape\": \"spline\", \"width\": 0.0}, \"marker\": {\"color\": \"rgb(0.6875055870129851, 0.01278356090424626, 0.01278356090424626)\"}, \"mode\": \"lines\", \"opacity\": 1, \"type\": \"scatter\", \"x\": [-0.69912365053649, -0.05712631865800212, null], \"y\": [0.1776516355523447, 0.3303870467944924, null]}, {\"line\": {\"shape\": \"spline\", \"width\": 0.0}, \"marker\": {\"color\": \"rgb(0.6856440889439271, 0.01257584419061697, 0.01257584419061697)\"}, \"mode\": \"lines\", \"opacity\": 1, \"type\": \"scatter\", \"x\": [-0.69912365053649, -0.6920023759347991, null], \"y\": [0.1776516355523447, -0.42282052296431377, null]}, {\"line\": {\"shape\": \"spline\", \"width\": 0.0}, \"marker\": {\"color\": \"rgb(0.68378158359825, 0.012369134753606792, 0.012369134753606792)\"}, \"mode\": \"lines\", \"opacity\": 1, \"type\": \"scatter\", \"x\": [-0.69912365053649, 0.7840491809787309, null], \"y\": [0.1776516355523447, -0.3124284556444398, null]}, {\"line\": {\"shape\": \"spline\", \"width\": 0.0}, \"marker\": {\"color\": \"rgb(0.6819180709759538, 0.012163432593215728, 0.012163432593215728)\"}, \"mode\": \"lines\", \"opacity\": 1, \"type\": \"scatter\", \"x\": [-0.69912365053649, -0.9590383342568007, null], \"y\": [0.1776516355523447, -0.34685763200079156, null]}, {\"line\": {\"shape\": \"spline\", \"width\": 0.0}, \"marker\": {\"color\": \"rgb(0.6800535510770385, 0.011958737709443779, 0.011958737709443779)\"}, \"mode\": \"lines\", \"opacity\": 1, \"type\": \"scatter\", \"x\": [-0.69912365053649, -0.4347894318337367, null], \"y\": [0.1776516355523447, -0.08023740699404934, null]}, {\"line\": {\"shape\": \"spline\", \"width\": 0.0}, \"marker\": {\"color\": \"rgb(0.6781880239015041, 0.011755050102290943, 0.011755050102290943)\"}, \"mode\": \"lines\", \"opacity\": 1, \"type\": \"scatter\", \"x\": [-0.69912365053649, 0.9999999999999999, null], \"y\": [0.1776516355523447, -0.038985615419455194, null]}, {\"line\": {\"shape\": \"spline\", \"width\": 0.0}, \"marker\": {\"color\": \"rgb(0.6763214894493507, 0.01155236977175711, 0.01155236977175711)\"}, \"mode\": \"lines\", \"opacity\": 1, \"type\": \"scatter\", \"x\": [-0.69912365053649, -0.88826039091796, null], \"y\": [0.1776516355523447, 0.44876525848477733, null]}, {\"line\": {\"shape\": \"spline\", \"width\": 0.0}, \"marker\": {\"color\": \"rgb(0.6744539477205781, 0.01135069671784239, 0.01135069671784239)\"}, \"mode\": \"lines\", \"opacity\": 1, \"type\": \"scatter\", \"x\": [-0.69912365053649, 0.33875119688294697, null], \"y\": [0.1776516355523447, -0.34323648494223935, null]}, {\"line\": {\"shape\": \"spline\", \"width\": 0.0}, \"marker\": {\"color\": \"rgb(0.6725853987151865, 0.011150030940546674, 0.011150030940546674)\"}, \"mode\": \"lines\", \"opacity\": 1, \"type\": \"scatter\", \"x\": [-0.69912365053649, -0.09977344620872326, null], \"y\": [0.1776516355523447, -0.9942196228473164, null]}, {\"line\": {\"shape\": \"spline\", \"width\": 0.0}, \"marker\": {\"color\": \"rgb(0.6707158424331758, 0.01095037243987007, 0.01095037243987007)\"}, \"mode\": \"lines\", \"opacity\": 1, \"type\": \"scatter\", \"x\": [-0.69912365053649, 0.28231830546686393, null], \"y\": [0.1776516355523447, 0.6123748779823588, null]}, {\"line\": {\"shape\": \"spline\", \"width\": 7.1}, \"marker\": {\"color\": \"rgb(0.6688452788745461, 0.010751721215812582, 0.010751721215812582)\"}, \"mode\": \"lines\", \"opacity\": 1, \"type\": \"scatter\", \"x\": [0.7840491809787309, 0.29053802337351115, null], \"y\": [-0.3124284556444398, -0.9500247040932227, null]}, {\"line\": {\"shape\": \"spline\", \"width\": 10.0}, \"marker\": {\"color\": \"rgb(0.6669737080392972, 0.010554077268374207, 0.010554077268374207)\"}, \"mode\": \"lines\", \"opacity\": 1, \"type\": \"scatter\", \"x\": [0.7840491809787309, -0.88826039091796, null], \"y\": [-0.3124284556444398, 0.44876525848477733, null]}, {\"line\": {\"shape\": \"spline\", \"width\": 0.0}, \"marker\": {\"color\": \"rgb(0.6651011299274293, 0.010357440597554834, 0.010357440597554834)\"}, \"mode\": \"lines\", \"opacity\": 1, \"type\": \"scatter\", \"x\": [0.7840491809787309, 0.10816920140973707, null], \"y\": [-0.3124284556444398, 0.9968668463250838, null]}, {\"line\": {\"shape\": \"spline\", \"width\": 0.0}, \"marker\": {\"color\": \"rgb(0.6632275445389423, 0.010161811203354576, 0.010161811203354576)\"}, \"mode\": \"lines\", \"opacity\": 1, \"type\": \"scatter\", \"x\": [0.7840491809787309, -0.05712631865800212, null], \"y\": [-0.3124284556444398, 0.3303870467944924, null]}, {\"line\": {\"shape\": \"spline\", \"width\": 0.0}, \"marker\": {\"color\": \"rgb(0.6613529518738361, 0.009967189085773431, 0.009967189085773431)\"}, \"mode\": \"lines\", \"opacity\": 1, \"type\": \"scatter\", \"x\": [0.7840491809787309, -0.6920023759347991, null], \"y\": [-0.3124284556444398, -0.42282052296431377, null]}, {\"line\": {\"shape\": \"spline\", \"width\": 0.0}, \"marker\": {\"color\": \"rgb(0.6594773519321111, 0.00977357424481129, 0.00977357424481129)\"}, \"mode\": \"lines\", \"opacity\": 1, \"type\": \"scatter\", \"x\": [0.7840491809787309, 0.33875119688294697, null], \"y\": [-0.3124284556444398, -0.34323648494223935, null]}, {\"line\": {\"shape\": \"spline\", \"width\": 0.0}, \"marker\": {\"color\": \"rgb(0.6576007447137668, 0.009580966680468261, 0.009580966680468261)\"}, \"mode\": \"lines\", \"opacity\": 1, \"type\": \"scatter\", \"x\": [0.7840491809787309, -0.09977344620872326, null], \"y\": [-0.3124284556444398, -0.9942196228473164, null]}, {\"line\": {\"shape\": \"spline\", \"width\": 0.0}, \"marker\": {\"color\": \"rgb(0.6557231302188035, 0.009389366392744347, 0.009389366392744347)\"}, \"mode\": \"lines\", \"opacity\": 1, \"type\": \"scatter\", \"x\": [0.7840491809787309, 0.28231830546686393, null], \"y\": [-0.3124284556444398, 0.6123748779823588, null]}, {\"line\": {\"shape\": \"spline\", \"width\": 5.300000000000001}, \"marker\": {\"color\": \"rgb(0.6538445084472211, 0.009198773381639436, 0.009198773381639436)\"}, \"mode\": \"lines\", \"opacity\": 1, \"type\": \"scatter\", \"x\": [0.7840491809787309, -0.9590383342568007, null], \"y\": [-0.3124284556444398, -0.34685763200079156, null]}, {\"line\": {\"shape\": \"spline\", \"width\": 0.0}, \"marker\": {\"color\": \"rgb(0.6519648793990196, 0.009009187647153638, 0.009009187647153638)\"}, \"mode\": \"lines\", \"opacity\": 1, \"type\": \"scatter\", \"x\": [0.7840491809787309, -0.4347894318337367, null], \"y\": [-0.3124284556444398, -0.08023740699404934, null]}, {\"line\": {\"shape\": \"spline\", \"width\": 0.0}, \"marker\": {\"color\": \"rgb(0.6500842430741991, 0.008820609189286954, 0.008820609189286954)\"}, \"mode\": \"lines\", \"opacity\": 1, \"type\": \"scatter\", \"x\": [0.7840491809787309, 0.9999999999999999, null], \"y\": [-0.3124284556444398, -0.038985615419455194, null]}, {\"line\": {\"shape\": \"spline\", \"width\": 9.399999999999999}, \"marker\": {\"color\": \"rgb(0.6482025994727595, 0.008633038008039273, 0.008633038008039273)\"}, \"mode\": \"lines\", \"opacity\": 1, \"type\": \"scatter\", \"x\": [0.29053802337351115, -0.9590383342568007, null], \"y\": [-0.9500247040932227, -0.34685763200079156, null]}, {\"line\": {\"shape\": \"spline\", \"width\": 7.1}, \"marker\": {\"color\": \"rgb(0.6463199485947007, 0.008446474103410817, 0.008446474103410817)\"}, \"mode\": \"lines\", \"opacity\": 1, \"type\": \"scatter\", \"x\": [0.29053802337351115, 0.10816920140973707, null], \"y\": [-0.9500247040932227, 0.9968668463250838, null]}, {\"line\": {\"shape\": \"spline\", \"width\": 0.0}, \"marker\": {\"color\": \"rgb(0.6444362904400228, 0.008260917475401364, 0.008260917475401364)\"}, \"mode\": \"lines\", \"opacity\": 1, \"type\": \"scatter\", \"x\": [0.29053802337351115, -0.05712631865800212, null], \"y\": [-0.9500247040932227, 0.3303870467944924, null]}, {\"line\": {\"shape\": \"spline\", \"width\": 6.2}, \"marker\": {\"color\": \"rgb(0.6425516250087261, 0.008076368124010802, 0.008076368124010802)\"}, \"mode\": \"lines\", \"opacity\": 1, \"type\": \"scatter\", \"x\": [0.29053802337351115, -0.6920023759347991, null], \"y\": [-0.9500247040932227, -0.42282052296431377, null]}, {\"line\": {\"shape\": \"spline\", \"width\": 0.0}, \"marker\": {\"color\": \"rgb(0.6406659523008101, 0.007892826049239576, 0.007892826049239576)\"}, \"mode\": \"lines\", \"opacity\": 1, \"type\": \"scatter\", \"x\": [0.29053802337351115, -0.4347894318337367, null], \"y\": [-0.9500247040932227, -0.08023740699404934, null]}, {\"line\": {\"shape\": \"spline\", \"width\": 7.0}, \"marker\": {\"color\": \"rgb(0.6387792723162751, 0.007710291251087353, 0.007710291251087353)\"}, \"mode\": \"lines\", \"opacity\": 1, \"type\": \"scatter\", \"x\": [0.29053802337351115, 0.9999999999999999, null], \"y\": [-0.9500247040932227, -0.038985615419455194, null]}, {\"line\": {\"shape\": \"spline\", \"width\": 7.1}, \"marker\": {\"color\": \"rgb(0.636891585055121, 0.007528763729554133, 0.007528763729554133)\"}, \"mode\": \"lines\", \"opacity\": 1, \"type\": \"scatter\", \"x\": [0.29053802337351115, -0.88826039091796, null], \"y\": [-0.9500247040932227, 0.44876525848477733, null]}, {\"line\": {\"shape\": \"spline\", \"width\": 0.0}, \"marker\": {\"color\": \"rgb(0.6350028905173477, 0.007348243484640138, 0.007348243484640138)\"}, \"mode\": \"lines\", \"opacity\": 1, \"type\": \"scatter\", \"x\": [0.29053802337351115, 0.33875119688294697, null], \"y\": [-0.9500247040932227, -0.34323648494223935, null]}, {\"line\": {\"shape\": \"spline\", \"width\": 0.0}, \"marker\": {\"color\": \"rgb(0.6331131887029554, 0.007168730516345145, 0.007168730516345145)\"}, \"mode\": \"lines\", \"opacity\": 1, \"type\": \"scatter\", \"x\": [0.29053802337351115, -0.09977344620872326, null], \"y\": [-0.9500247040932227, -0.9942196228473164, null]}, {\"line\": {\"shape\": \"spline\", \"width\": 0.0}, \"marker\": {\"color\": \"rgb(0.6312224796119441, 0.006990224824669156, 0.006990224824669156)\"}, \"mode\": \"lines\", \"opacity\": 1, \"type\": \"scatter\", \"x\": [0.29053802337351115, 0.28231830546686393, null], \"y\": [-0.9500247040932227, 0.6123748779823588, null]}, {\"line\": {\"shape\": \"spline\", \"width\": 0.0}, \"marker\": {\"color\": \"rgb(0.6293307632443137, 0.006812726409612391, 0.006812726409612391)\"}, \"mode\": \"lines\", \"opacity\": 1, \"type\": \"scatter\", \"x\": [-0.4347894318337367, -0.9590383342568007, null], \"y\": [-0.08023740699404934, -0.34685763200079156, null]}, {\"line\": {\"shape\": \"spline\", \"width\": 0.0}, \"marker\": {\"color\": \"rgb(0.6274380396000642, 0.006636235271174629, 0.006636235271174629)\"}, \"mode\": \"lines\", \"opacity\": 1, \"type\": \"scatter\", \"x\": [-0.4347894318337367, -0.88826039091796, null], \"y\": [-0.08023740699404934, 0.44876525848477733, null]}, {\"line\": {\"shape\": \"spline\", \"width\": 0.0}, \"marker\": {\"color\": \"rgb(0.6255443086791955, 0.00646075140935598, 0.00646075140935598)\"}, \"mode\": \"lines\", \"opacity\": 1, \"type\": \"scatter\", \"x\": [-0.4347894318337367, 0.10816920140973707, null], \"y\": [-0.08023740699404934, 0.9968668463250838, null]}, {\"line\": {\"shape\": \"spline\", \"width\": 0.0}, \"marker\": {\"color\": \"rgb(0.6236495704817079, 0.006286274824156335, 0.006286274824156335)\"}, \"mode\": \"lines\", \"opacity\": 1, \"type\": \"scatter\", \"x\": [-0.4347894318337367, -0.05712631865800212, null], \"y\": [-0.08023740699404934, 0.3303870467944924, null]}, {\"line\": {\"shape\": \"spline\", \"width\": 0.0}, \"marker\": {\"color\": \"rgb(0.6217538250076011, 0.006112805515575803, 0.006112805515575803)\"}, \"mode\": \"lines\", \"opacity\": 1, \"type\": \"scatter\", \"x\": [-0.4347894318337367, -0.6920023759347991, null], \"y\": [-0.08023740699404934, -0.42282052296431377, null]}, {\"line\": {\"shape\": \"spline\", \"width\": 0.0}, \"marker\": {\"color\": \"rgb(0.6198570722568754, 0.005940343483614385, 0.005940343483614385)\"}, \"mode\": \"lines\", \"opacity\": 1, \"type\": \"scatter\", \"x\": [-0.4347894318337367, 0.33875119688294697, null], \"y\": [-0.08023740699404934, -0.34323648494223935, null]}, {\"line\": {\"shape\": \"spline\", \"width\": 0.0}, \"marker\": {\"color\": \"rgb(0.6179593122295304, 0.005768888728272081, 0.005768888728272081)\"}, \"mode\": \"lines\", \"opacity\": 1, \"type\": \"scatter\", \"x\": [-0.4347894318337367, -0.09977344620872326, null], \"y\": [-0.08023740699404934, -0.9942196228473164, null]}, {\"line\": {\"shape\": \"spline\", \"width\": 0.0}, \"marker\": {\"color\": \"rgb(0.6160605449255664, 0.00559844124954878, 0.00559844124954878)\"}, \"mode\": \"lines\", \"opacity\": 1, \"type\": \"scatter\", \"x\": [-0.4347894318337367, 0.28231830546686393, null], \"y\": [-0.08023740699404934, 0.6123748779823588, null]}, {\"line\": {\"shape\": \"spline\", \"width\": 0.0}, \"marker\": {\"color\": \"rgb(0.6141607703449834, 0.005429001047444482, 0.005429001047444482)\"}, \"mode\": \"lines\", \"opacity\": 1, \"type\": \"scatter\", \"x\": [-0.4347894318337367, 0.9999999999999999, null], \"y\": [-0.08023740699404934, -0.038985615419455194, null]}, {\"line\": {\"shape\": \"spline\", \"width\": 5.300000000000001}, \"marker\": {\"color\": \"rgb(0.6122599884877812, 0.005260568121959408, 0.005260568121959408)\"}, \"mode\": \"lines\", \"opacity\": 1, \"type\": \"scatter\", \"x\": [-0.88826039091796, -0.9590383342568007, null], \"y\": [0.44876525848477733, -0.34685763200079156, null]}, {\"line\": {\"shape\": \"spline\", \"width\": 0.0}, \"marker\": {\"color\": \"rgb(0.6103581993539601, 0.005093142473093337, 0.005093142473093337)\"}, \"mode\": \"lines\", \"opacity\": 1, \"type\": \"scatter\", \"x\": [-0.88826039091796, 0.9999999999999999, null], \"y\": [0.44876525848477733, -0.038985615419455194, null]}, {\"line\": {\"shape\": \"spline\", \"width\": 0.0}, \"marker\": {\"color\": \"rgb(0.6084554029435197, 0.00492672410084638, 0.00492672410084638)\"}, \"mode\": \"lines\", \"opacity\": 1, \"type\": \"scatter\", \"x\": [-0.88826039091796, 0.10816920140973707, null], \"y\": [0.44876525848477733, 0.9968668463250838, null]}, {\"line\": {\"shape\": \"spline\", \"width\": 0.0}, \"marker\": {\"color\": \"rgb(0.6065515992564603, 0.004761313005218537, 0.004761313005218537)\"}, \"mode\": \"lines\", \"opacity\": 1, \"type\": \"scatter\", \"x\": [-0.88826039091796, -0.05712631865800212, null], \"y\": [0.44876525848477733, 0.3303870467944924, null]}, {\"line\": {\"shape\": \"spline\", \"width\": 0.0}, \"marker\": {\"color\": \"rgb(0.6046467882927818, 0.004596909186209697, 0.004596909186209697)\"}, \"mode\": \"lines\", \"opacity\": 1, \"type\": \"scatter\", \"x\": [-0.88826039091796, -0.6920023759347991, null], \"y\": [0.44876525848477733, -0.42282052296431377, null]}, {\"line\": {\"shape\": \"spline\", \"width\": 0.0}, \"marker\": {\"color\": \"rgb(0.6027409700524843, 0.00443351264381997, 0.00443351264381997)\"}, \"mode\": \"lines\", \"opacity\": 1, \"type\": \"scatter\", \"x\": [-0.88826039091796, 0.33875119688294697, null], \"y\": [0.44876525848477733, -0.34323648494223935, null]}, {\"line\": {\"shape\": \"spline\", \"width\": 0.0}, \"marker\": {\"color\": \"rgb(0.6008341445355678, 0.004271123378049246, 0.004271123378049246)\"}, \"mode\": \"lines\", \"opacity\": 1, \"type\": \"scatter\", \"x\": [-0.88826039091796, -0.09977344620872326, null], \"y\": [0.44876525848477733, -0.9942196228473164, null]}, {\"line\": {\"shape\": \"spline\", \"width\": 0.0}, \"marker\": {\"color\": \"rgb(0.598926311742032, 0.004109741388897747, 0.004109741388897747)\"}, \"mode\": \"lines\", \"opacity\": 1, \"type\": \"scatter\", \"x\": [-0.88826039091796, 0.28231830546686393, null], \"y\": [0.44876525848477733, 0.6123748779823588, null]}, {\"line\": {\"shape\": \"spline\", \"width\": 8.0}, \"marker\": {\"color\": \"rgb(0.5970174716718772, 0.003949366676365251, 0.003949366676365251)\"}, \"mode\": \"lines\", \"opacity\": 1, \"type\": \"scatter\", \"x\": [0.10816920140973707, -0.9590383342568007, null], \"y\": [0.9968668463250838, -0.34685763200079156, null]}, {\"line\": {\"shape\": \"spline\", \"width\": 9.9}, \"marker\": {\"color\": \"rgb(0.5951076243251033, 0.003789999240451869, 0.003789999240451869)\"}, \"mode\": \"lines\", \"opacity\": 1, \"type\": \"scatter\", \"x\": [0.10816920140973707, 0.9999999999999999, null], \"y\": [0.9968668463250838, -0.038985615419455194, null]}, {\"line\": {\"shape\": \"spline\", \"width\": 0.0}, \"marker\": {\"color\": \"rgb(0.5931967697017104, 0.0036316390811574895, 0.0036316390811574895)\"}, \"mode\": \"lines\", \"opacity\": 1, \"type\": \"scatter\", \"x\": [0.10816920140973707, -0.05712631865800212, null], \"y\": [0.9968668463250838, 0.3303870467944924, null]}, {\"line\": {\"shape\": \"spline\", \"width\": 8.7}, \"marker\": {\"color\": \"rgb(0.5912849078016984, 0.0034742861984822238, 0.0034742861984822238)\"}, \"mode\": \"lines\", \"opacity\": 1, \"type\": \"scatter\", \"x\": [0.10816920140973707, -0.6920023759347991, null], \"y\": [0.9968668463250838, -0.42282052296431377, null]}, {\"line\": {\"shape\": \"spline\", \"width\": 0.0}, \"marker\": {\"color\": \"rgb(0.5893720386250674, 0.003317940592426072, 0.003317940592426072)\"}, \"mode\": \"lines\", \"opacity\": 1, \"type\": \"scatter\", \"x\": [0.10816920140973707, 0.33875119688294697, null], \"y\": [0.9968668463250838, -0.34323648494223935, null]}, {\"line\": {\"shape\": \"spline\", \"width\": 0.0}, \"marker\": {\"color\": \"rgb(0.5874581621718171, 0.003162602262989034, 0.003162602262989034)\"}, \"mode\": \"lines\", \"opacity\": 1, \"type\": \"scatter\", \"x\": [0.10816920140973707, -0.09977344620872326, null], \"y\": [0.9968668463250838, -0.9942196228473164, null]}, {\"line\": {\"shape\": \"spline\", \"width\": 0.0}, \"marker\": {\"color\": \"rgb(0.5855432784419479, 0.0030082712101709985, 0.0030082712101709985)\"}, \"mode\": \"lines\", \"opacity\": 1, \"type\": \"scatter\", \"x\": [0.10816920140973707, 0.28231830546686393, null], \"y\": [0.9968668463250838, 0.6123748779823588, null]}, {\"line\": {\"shape\": \"spline\", \"width\": 0.0}, \"marker\": {\"color\": \"rgb(0.5836273874354595, 0.002854947433972077, 0.002854947433972077)\"}, \"mode\": \"lines\", \"opacity\": 1, \"type\": \"scatter\", \"x\": [-0.05712631865800212, -0.9590383342568007, null], \"y\": [0.3303870467944924, -0.34685763200079156, null]}, {\"line\": {\"shape\": \"spline\", \"width\": 0.0}, \"marker\": {\"color\": \"rgb(0.5817104891523521, 0.0027026309343921584, 0.0027026309343921584)\"}, \"mode\": \"lines\", \"opacity\": 1, \"type\": \"scatter\", \"x\": [-0.05712631865800212, 0.9999999999999999, null], \"y\": [0.3303870467944924, -0.038985615419455194, null]}, {\"line\": {\"shape\": \"spline\", \"width\": 0.0}, \"marker\": {\"color\": \"rgb(0.5797925835926256, 0.0025513217114314646, 0.0025513217114314646)\"}, \"mode\": \"lines\", \"opacity\": 1, \"type\": \"scatter\", \"x\": [-0.05712631865800212, -0.6920023759347991, null], \"y\": [0.3303870467944924, -0.42282052296431377, null]}, {\"line\": {\"shape\": \"spline\", \"width\": 0.0}, \"marker\": {\"color\": \"rgb(0.57787367075628, 0.0024010197650897735, 0.0024010197650897735)\"}, \"mode\": \"lines\", \"opacity\": 1, \"type\": \"scatter\", \"x\": [-0.05712631865800212, 0.33875119688294697, null], \"y\": [0.3303870467944924, -0.34323648494223935, null]}, {\"line\": {\"shape\": \"spline\", \"width\": 0.0}, \"marker\": {\"color\": \"rgb(0.5759537506433154, 0.0022517250953670853, 0.0022517250953670853)\"}, \"mode\": \"lines\", \"opacity\": 1, \"type\": \"scatter\", \"x\": [-0.05712631865800212, -0.09977344620872326, null], \"y\": [0.3303870467944924, -0.9942196228473164, null]}, {\"line\": {\"shape\": \"spline\", \"width\": 0.0}, \"marker\": {\"color\": \"rgb(0.5740328232537316, 0.002103437702263622, 0.002103437702263622)\"}, \"mode\": \"lines\", \"opacity\": 1, \"type\": \"scatter\", \"x\": [-0.05712631865800212, 0.28231830546686393, null], \"y\": [0.3303870467944924, 0.6123748779823588, null]}, {\"line\": {\"shape\": \"spline\", \"width\": 8.2}, \"marker\": {\"color\": \"rgb(0.5721108885875289, 0.0019561575857790503, 0.0019561575857790503)\"}, \"mode\": \"lines\", \"opacity\": 1, \"type\": \"scatter\", \"x\": [-0.6920023759347991, -0.9590383342568007, null], \"y\": [-0.42282052296431377, -0.34685763200079156, null]}, {\"line\": {\"shape\": \"spline\", \"width\": 8.6}, \"marker\": {\"color\": \"rgb(0.5701879466447071, 0.0018098847459137035, 0.0018098847459137035)\"}, \"mode\": \"lines\", \"opacity\": 1, \"type\": \"scatter\", \"x\": [-0.6920023759347991, 0.9999999999999999, null], \"y\": [-0.42282052296431377, -0.038985615419455194, null]}, {\"line\": {\"shape\": \"spline\", \"width\": 0.0}, \"marker\": {\"color\": \"rgb(0.568263997425266, 0.0016646191826674706, 0.0016646191826674706)\"}, \"mode\": \"lines\", \"opacity\": 1, \"type\": \"scatter\", \"x\": [-0.6920023759347991, 0.33875119688294697, null], \"y\": [-0.42282052296431377, -0.34323648494223935, null]}, {\"line\": {\"shape\": \"spline\", \"width\": 0.0}, \"marker\": {\"color\": \"rgb(0.566339040929206, 0.0015203608960402404, 0.0015203608960402404)\"}, \"mode\": \"lines\", \"opacity\": 1, \"type\": \"scatter\", \"x\": [-0.6920023759347991, -0.09977344620872326, null], \"y\": [-0.42282052296431377, -0.9942196228473164, null]}, {\"line\": {\"shape\": \"spline\", \"width\": 0.0}, \"marker\": {\"color\": \"rgb(0.5644130771565269, 0.001377109886032013, 0.001377109886032013)\"}, \"mode\": \"lines\", \"opacity\": 1, \"type\": \"scatter\", \"x\": [-0.6920023759347991, 0.28231830546686393, null], \"y\": [-0.42282052296431377, 0.6123748779823588, null]}, {\"line\": {\"shape\": \"spline\", \"width\": 0.0}, \"marker\": {\"color\": \"rgb(0.5624861061072286, 0.0012348661526430105, 0.0012348661526430105)\"}, \"mode\": \"lines\", \"opacity\": 1, \"type\": \"scatter\", \"x\": [0.33875119688294697, -0.9590383342568007, null], \"y\": [-0.34323648494223935, -0.34685763200079156, null]}, {\"line\": {\"shape\": \"spline\", \"width\": 0.0}, \"marker\": {\"color\": \"rgb(0.5605581277813114, 0.0010936296958730107, 0.0010936296958730107)\"}, \"mode\": \"lines\", \"opacity\": 1, \"type\": \"scatter\", \"x\": [0.33875119688294697, 0.9999999999999999, null], \"y\": [-0.34323648494223935, -0.038985615419455194, null]}, {\"line\": {\"shape\": \"spline\", \"width\": 0.0}, \"marker\": {\"color\": \"rgb(0.558629142178775, 0.0009534005157221248, 0.0009534005157221248)\"}, \"mode\": \"lines\", \"opacity\": 1, \"type\": \"scatter\", \"x\": [0.33875119688294697, -0.09977344620872326, null], \"y\": [-0.34323648494223935, -0.9942196228473164, null]}, {\"line\": {\"shape\": \"spline\", \"width\": 0.0}, \"marker\": {\"color\": \"rgb(0.5566991492996196, 0.0008141786121902417, 0.0008141786121902417)\"}, \"mode\": \"lines\", \"opacity\": 1, \"type\": \"scatter\", \"x\": [0.33875119688294697, 0.28231830546686393, null], \"y\": [-0.34323648494223935, 0.6123748779823588, null]}, {\"line\": {\"shape\": \"spline\", \"width\": 0.0}, \"marker\": {\"color\": \"rgb(0.5547681491438451, 0.0006759639852774724, 0.0006759639852774724)\"}, \"mode\": \"lines\", \"opacity\": 1, \"type\": \"scatter\", \"x\": [-0.09977344620872326, -0.9590383342568007, null], \"y\": [-0.9942196228473164, -0.34685763200079156, null]}, {\"line\": {\"shape\": \"spline\", \"width\": 0.0}, \"marker\": {\"color\": \"rgb(0.5528361417114515, 0.0005387566349838169, 0.0005387566349838169)\"}, \"mode\": \"lines\", \"opacity\": 1, \"type\": \"scatter\", \"x\": [-0.09977344620872326, 0.9999999999999999, null], \"y\": [-0.9942196228473164, -0.038985615419455194, null]}, {\"line\": {\"shape\": \"spline\", \"width\": 0.0}, \"marker\": {\"color\": \"rgb(0.5509031270024387, 0.0004025565613092752, 0.0004025565613092752)\"}, \"mode\": \"lines\", \"opacity\": 1, \"type\": \"scatter\", \"x\": [-0.09977344620872326, 0.28231830546686393, null], \"y\": [-0.9942196228473164, 0.6123748779823588, null]}, {\"line\": {\"shape\": \"spline\", \"width\": 0.0}, \"marker\": {\"color\": \"rgb(0.5489691050168071, 0.0002673637642537363, 0.0002673637642537363)\"}, \"mode\": \"lines\", \"opacity\": 1, \"type\": \"scatter\", \"x\": [0.28231830546686393, -0.9590383342568007, null], \"y\": [0.6123748779823588, -0.34685763200079156, null]}, {\"line\": {\"shape\": \"spline\", \"width\": 0.0}, \"marker\": {\"color\": \"rgb(0.5470340757545562, 0.00013317824381731125, 0.00013317824381731125)\"}, \"mode\": \"lines\", \"opacity\": 1, \"type\": \"scatter\", \"x\": [0.28231830546686393, 0.9999999999999999, null], \"y\": [0.6123748779823588, -0.038985615419455194, null]}, {\"line\": {\"shape\": \"spline\", \"width\": 7.9}, \"marker\": {\"color\": \"rgb(0.5450980392156862, 0.0, 0.0)\"}, \"mode\": \"lines\", \"opacity\": 1, \"type\": \"scatter\", \"x\": [-0.9590383342568007, 0.9999999999999999, null], \"y\": [-0.34685763200079156, -0.038985615419455194, null]}, {\"hoverinfo\": \"text\", \"hovertext\": [\"Name:f616a21f-b421-4bef-b9f9-79da3f748d4b\", \"Name:f927a5d4-5129-42bc-8d8b-4130dd24faad\", \"Name:f72f110f-7122-455e-9d91-dae1244c2e81\", \"Name:f77a8e10-8150-48d8-84f1-bc30019b56d9\", \"Name:f6804afc-228c-4152-a4b1-b4a675337dd0\", \"Name:9a7dd598-48f4-471a-8814-b404579783ad\", \"Name:ea6bd065-cafc-4894-b34b-ac8fc21a92e4\", \"Name:c2214dec-c6de-4372-999c-4442f52c1757\", \"Name:c25f2795-8172-4a25-885f-3481322560b2\", \"Name:9b44dd4c-11b4-4584-8a8f-96b4defa7d7f\", \"Name:d35ec6f8-22fc-4386-b712-fff71c6863b9\", \"Name:b16161ab-ec8a-4fe7-bcef-d6adc621f68d\", \"Name:e7e4520c-4c20-4217-98c0-c72a28b06983\", \"Name:e3ed382a-51ce-42a4-95db-2bd3720fb120\", \"Name:e9eb0d5c-f760-4d09-a703-d3a234052398\", \"Name:ea12080c-cade-4ef2-a563-1fd50ae33a5d\", \"Name:261864f6-8798-441c-b2eb-ece0df5276ea\", \"Name:75967414-5af3-47e5-b4cf-90392be8976c\", \"Name:55c441d5-9fdc-40bc-8c67-2c045a24fc43\", \"Name:82a7fc65-990b-47c8-ac88-17316e8b0c0d\", \"Name:4597928b-e9d9-47ee-8bd7-2d300454fcfc\", \"Name:69d907ad-6aa1-4775-bdcd-04270d3f72cc\", \"Name:96d86a16-d881-483d-aff8-1bb275ac7fea\", \"Name:9803938c-cb43-491d-9cbc-ac19c9a46700\", \"Name:9819231f-f04b-4d99-a856-8894d327a45a\", \"Name:65355b2b-e804-46ff-a9d7-618d1ba7ea30\", \"Name:5ee62b89-93b4-4c0e-991d-3324faa8bb0c\", \"Name:5ab7b3d2-7901-4679-be42-7cb7bd150f6f\", \"Name:15e0d7ba-7338-419e-b795-34ee8973eec1\", \"Name:0e78375f-0960-4941-8a76-e2fae3514c6e\"], \"marker\": {\"color\": \"LightSkyBlue\", \"size\": 50}, \"mode\": \"markers+text\", \"textposition\": \"bottom center\", \"type\": \"scatter\", \"x\": [-0.4237089899470136, 0.5205884261503951, 0.41695839289869735, 0.7651866278042626, 0.6840117985457818, -0.3262598396382662, 0.8906284306660813, -0.35675277189078475, -0.2006089591922666, 0.4775890294771492, -0.9238079484026622, -0.6192599418973583, 0.1192988455823766, 0.6561880425959237, -0.08015989063624109, -0.6161589422030441, 0.042555730321677636, -0.69912365053649, 0.7840491809787309, 0.29053802337351115, -0.4347894318337367, -0.88826039091796, 0.10816920140973707, -0.05712631865800212, -0.6920023759347991, 0.33875119688294697, -0.09977344620872326, 0.28231830546686393, -0.9590383342568007, 0.9999999999999999], \"y\": [0.4043391939631468, 0.8796596795847385, 0.2653693644066391, -0.6158024413261334, 0.5702026763651347, -0.7506236726899015, 0.30901222800562705, 0.9090181900642286, -0.3410249045790984, -0.7065996477304826, -0.006394501764154287, 0.7077813868065571, -0.053018382521206005, 0.014406556349072674, 0.7311264910311921, -0.7336198945028887, -0.6610675416957015, 0.1776516355523447, -0.3124284556444398, -0.9500247040932227, -0.08023740699404934, 0.44876525848477733, 0.9968668463250838, 0.3303870467944924, -0.42282052296431377, -0.34323648494223935, -0.9942196228473164, 0.6123748779823588, -0.34685763200079156, -0.038985615419455194]}],\n",
       "                        {\"annotations\": [{\"ax\": 0.04843971810169076, \"axref\": \"x\", \"ay\": 0.6419994367739427, \"ayref\": \"y\", \"opacity\": 1, \"showarrow\": true, \"x\": 0.28451407212604296, \"xref\": \"x\", \"y\": 0.7608295581793405, \"yref\": \"y\"}, {\"ax\": -0.0033752985241581324, \"axref\": \"x\", \"ay\": 0.33485427918489297, \"ayref\": \"y\", \"opacity\": 1, \"showarrow\": true, \"x\": 0.2067915471872696, \"xref\": \"x\", \"y\": 0.30011182179576606, \"yref\": \"y\"}, {\"ax\": 0.1707388189286245, \"axref\": \"x\", \"ay\": -0.10573162368149328, \"ayref\": \"y\", \"opacity\": 1, \"showarrow\": true, \"x\": 0.4679627233664435, \"xref\": \"x\", \"y\": -0.3607670325038133, \"yref\": \"y\"}, {\"ax\": 0.13015140429938407, \"axref\": \"x\", \"ay\": 0.4872709351641408, \"ayref\": \"y\", \"opacity\": 1, \"showarrow\": true, \"x\": 0.4070816014225829, \"xref\": \"x\", \"y\": 0.5287368057646377, \"yref\": \"y\"}, {\"ax\": -0.3749844147926399, \"axref\": \"x\", \"ay\": -0.17314223936337733, \"ayref\": \"y\", \"opacity\": 1, \"showarrow\": true, \"x\": -0.35062212721545305, \"xref\": \"x\", \"y\": -0.46188295602663937, \"yref\": \"y\"}, {\"ax\": 0.23345972035953386, \"axref\": \"x\", \"ay\": 0.35667571098438694, \"ayref\": \"y\", \"opacity\": 1, \"showarrow\": true, \"x\": 0.5620440755128076, \"xref\": \"x\", \"y\": 0.332843969495007, \"yref\": \"y\"}, {\"ax\": -0.19057662981266799, \"axref\": \"x\", \"ay\": -0.12836417386627733, \"ayref\": \"y\", \"opacity\": 1, \"showarrow\": true, \"x\": -0.07401044974549517, \"xref\": \"x\", \"y\": -0.3947158577809894, \"yref\": \"y\"}, {\"ax\": -0.3902308809188992, \"axref\": \"x\", \"ay\": 0.6566786920136877, \"ayref\": \"y\", \"opacity\": 1, \"showarrow\": true, \"x\": -0.37349182640484196, \"xref\": \"x\", \"y\": 0.7828484410389581, \"yref\": \"y\"}, {\"ax\": -0.5614163202417518, \"axref\": \"x\", \"ay\": 0.29099541475774576, \"ayref\": \"y\", \"opacity\": 1, \"showarrow\": true, \"x\": -0.6302699853891209, \"xref\": \"x\", \"y\": 0.23432352515504523, \"yref\": \"y\"}, {\"ax\": -0.3121589745696401, \"axref\": \"x\", \"ay\": 0.031657144692024214, \"ayref\": \"y\", \"opacity\": 1, \"showarrow\": true, \"x\": -0.25638396688095333, \"xref\": \"x\", \"y\": -0.1546838799435371, \"yref\": \"y\"}, {\"ax\": 0.18017009551585864, \"axref\": \"x\", \"ay\": 0.045955369159353526, \"ayref\": \"y\", \"opacity\": 1, \"showarrow\": true, \"x\": 0.4821096382472947, \"xref\": \"x\", \"y\": -0.13323654324254314, \"yref\": \"y\"}, {\"ax\": -0.6913736621019072, \"axref\": \"x\", \"ay\": 0.028740780981177633, \"ayref\": \"y\", \"opacity\": 1, \"showarrow\": true, \"x\": -0.825205998179354, \"xref\": \"x\", \"y\": -0.15905842550980692, \"yref\": \"y\"}, {\"ax\": 0.026940019765067796, \"axref\": \"x\", \"ay\": -0.15113022688366787, \"ayref\": \"y\", \"opacity\": 1, \"showarrow\": true, \"x\": 0.2522645246211085, \"xref\": \"x\", \"y\": -0.42886493730707526, \"yref\": \"y\"}, {\"ax\": -0.06658548328675123, \"axref\": \"x\", \"ay\": -0.27284275506503797, \"ayref\": \"y\", \"opacity\": 1, \"showarrow\": true, \"x\": 0.11197627004337997, \"xref\": \"x\", \"y\": -0.6114337295791303, \"yref\": \"y\"}, {\"ax\": -0.42924921089037515, \"axref\": \"x\", \"ay\": 0.16205089348454874, \"ayref\": \"y\", \"opacity\": 1, \"showarrow\": true, \"x\": -0.43201932136205595, \"xref\": \"x\", \"y\": 0.040906743245249705, \"yref\": \"y\"}, {\"ax\": -0.673758469174838, \"axref\": \"x\", \"ay\": 0.19897234609949627, \"ayref\": \"y\", \"opacity\": 1, \"showarrow\": true, \"x\": -0.7987832087887501, \"xref\": \"x\", \"y\": 0.09628892216767099, \"yref\": \"y\"}, {\"ax\": 0.28814550502649316, \"axref\": \"x\", \"ay\": 0.18267678927184583, \"ayref\": \"y\", \"opacity\": 1, \"showarrow\": true, \"x\": 0.6440727525132465, \"xref\": \"x\", \"y\": 0.0718455869261953, \"yref\": \"y\"}, {\"ax\": -0.6559846904324869, \"axref\": \"x\", \"ay\": 0.42655222622396205, \"ayref\": \"y\", \"opacity\": 1, \"showarrow\": true, \"x\": -0.7721225406752235, \"xref\": \"x\", \"y\": 0.4376587423543697, \"yref\": \"y\"}, {\"ax\": -0.15776989426863827, \"axref\": \"x\", \"ay\": 0.7006030201441154, \"ayref\": \"y\", \"opacity\": 1, \"showarrow\": true, \"x\": -0.0248003464294506, \"xref\": \"x\", \"y\": 0.8487349332345996, \"yref\": \"y\"}, {\"ax\": -0.24041765430250786, \"axref\": \"x\", \"ay\": 0.3673631203788196, \"ayref\": \"y\", \"opacity\": 1, \"showarrow\": true, \"x\": -0.148771986480255, \"xref\": \"x\", \"y\": 0.348875083586656, \"yref\": \"y\"}, {\"ax\": -0.521484465922186, \"axref\": \"x\", \"ay\": 0.5560602903848519, \"ayref\": \"y\", \"opacity\": 1, \"showarrow\": true, \"x\": -0.5703722039097722, \"xref\": \"x\", \"y\": 0.6319208385957045, \"yref\": \"y\"}, {\"ax\": -0.5578556829409064, \"axref\": \"x\", \"ay\": -0.009240664500583473, \"ayref\": \"y\", \"opacity\": 1, \"showarrow\": true, \"x\": -0.6249290294378527, \"xref\": \"x\", \"y\": -0.2160305937324486, \"yref\": \"y\"}, {\"ax\": -0.1522050721823185, \"axref\": \"x\", \"ay\": 0.17566040572097041, \"ayref\": \"y\", \"opacity\": 1, \"showarrow\": true, \"x\": -0.016453113299970942, \"xref\": \"x\", \"y\": 0.0613210115998822, \"yref\": \"y\"}, {\"ax\": 0.11623952632445503, \"axref\": \"x\", \"ay\": 0.20937287515610975, \"ayref\": \"y\", \"opacity\": 1, \"showarrow\": true, \"x\": 0.38621378446018934, \"xref\": \"x\", \"y\": 0.11188971575259121, \"yref\": \"y\"}, {\"ax\": -0.04247889653203332, \"axref\": \"x\", \"ay\": 0.030551354510453738, \"ayref\": \"y\", \"opacity\": 1, \"showarrow\": true, \"x\": 0.14813615017545678, \"xref\": \"x\", \"y\": -0.1563425652158928, \"yref\": \"y\"}, {\"ax\": -0.26174121807786843, \"axref\": \"x\", \"ay\": -0.29494021444208474, \"ayref\": \"y\", \"opacity\": 1, \"showarrow\": true, \"x\": -0.18075733214329587, \"xref\": \"x\", \"y\": -0.6445799186447007, \"yref\": \"y\"}, {\"ax\": -0.07069534224007484, \"axref\": \"x\", \"ay\": 0.5083570359727528, \"ayref\": \"y\", \"opacity\": 1, \"showarrow\": true, \"x\": 0.10581148161339456, \"xref\": \"x\", \"y\": 0.5603659569775558, \"yref\": \"y\"}, {\"ax\": -0.25193444029162737, \"axref\": \"x\", \"ay\": 0.5677328424971695, \"ayref\": \"y\", \"opacity\": 1, \"showarrow\": true, \"x\": -0.16604716546393422, \"xref\": \"x\", \"y\": 0.6494296667641807, \"yref\": \"y\"}, {\"ax\": -0.5199339660750288, \"axref\": \"x\", \"ay\": -0.16464035026987092, \"ayref\": \"y\", \"opacity\": 1, \"showarrow\": true, \"x\": -0.5680464541390365, \"xref\": \"x\", \"y\": -0.4491301223863798, \"yref\": \"y\"}, {\"ax\": 0.09716429325606446, \"axref\": \"x\", \"ay\": 0.06451800344741848, \"ayref\": \"y\", \"opacity\": 1, \"showarrow\": true, \"x\": -0.11454777319110088, \"xref\": \"x\", \"y\": -0.3430528346212415, \"yref\": \"y\"}, {\"ax\": 0.7056084284082382, \"axref\": \"x\", \"ay\": 0.5943359537951828, \"ayref\": \"y\", \"opacity\": 1, \"showarrow\": true, \"x\": 0.7981184295371597, \"xref\": \"x\", \"y\": 0.4516740909004049, \"yref\": \"y\"}, {\"ax\": 0.28157207823603636, \"axref\": \"x\", \"ay\": 0.10929606894451849, \"ayref\": \"y\", \"opacity\": 1, \"showarrow\": true, \"x\": 0.162063904278857, \"xref\": \"x\", \"y\": -0.2758857363755915, \"yref\": \"y\"}, {\"ax\": 0.08191782712980519, \"axref\": \"x\", \"ay\": 0.8943389348244835, \"ayref\": \"y\", \"opacity\": 1, \"showarrow\": true, \"x\": -0.13741747238048976, \"xref\": \"x\", \"y\": 0.9016785624443561, \"yref\": \"y\"}, {\"ax\": -0.08926761219304741, \"axref\": \"x\", \"ay\": 0.5286556575685416, \"ayref\": \"y\", \"opacity\": 1, \"showarrow\": true, \"x\": -0.39419563136476876, \"xref\": \"x\", \"y\": 0.3531536465604431, \"yref\": \"y\"}, {\"ax\": 0.15998973347906426, \"axref\": \"x\", \"ay\": 0.26931738750282, \"ayref\": \"y\", \"opacity\": 1, \"showarrow\": true, \"x\": -0.020309612856601156, \"xref\": \"x\", \"y\": -0.03585375853813921, \"yref\": \"y\"}, {\"ax\": 0.6523188035645631, \"axref\": \"x\", \"ay\": 0.28361561197014934, \"ayref\": \"y\", \"opacity\": 1, \"showarrow\": true, \"x\": 0.7181839922716469, \"xref\": \"x\", \"y\": -0.014406421837145217, \"yref\": \"y\"}, {\"ax\": -0.2192249540532028, \"axref\": \"x\", \"ay\": 0.26640102379197345, \"ayref\": \"y\", \"opacity\": 1, \"showarrow\": true, \"x\": -0.5891316441550019, \"xref\": \"x\", \"y\": -0.04022830410440903, \"yref\": \"y\"}, {\"ax\": 0.49908872781377217, \"axref\": \"x\", \"ay\": 0.08653001592712795, \"ayref\": \"y\", \"opacity\": 1, \"showarrow\": true, \"x\": 0.48833887864546066, \"xref\": \"x\", \"y\": -0.31003481590167736, \"yref\": \"y\"}, {\"ax\": 0.40556322476195317, \"axref\": \"x\", \"ay\": -0.035182512254242126, \"ayref\": \"y\", \"opacity\": 1, \"showarrow\": true, \"x\": 0.34805062406773213, \"xref\": \"x\", \"y\": -0.4926036081737324, \"yref\": \"y\"}, {\"ax\": 0.04289949715832922, \"axref\": \"x\", \"ay\": 0.39971113629534455, \"ayref\": \"y\", \"opacity\": 1, \"showarrow\": true, \"x\": -0.19594496733770375, \"xref\": \"x\", \"y\": 0.15973686465064763, \"yref\": \"y\"}, {\"ax\": -0.20160976112613355, \"axref\": \"x\", \"ay\": 0.4366325889102921, \"ayref\": \"y\", \"opacity\": 1, \"showarrow\": true, \"x\": -0.5627088547643979, \"xref\": \"x\", \"y\": 0.2151190435730689, \"yref\": \"y\"}, {\"ax\": 0.7602942130751975, \"axref\": \"x\", \"ay\": 0.4203370320826416, \"ayref\": \"y\", \"opacity\": 1, \"showarrow\": true, \"x\": 0.8801471065375986, \"xref\": \"x\", \"y\": 0.19067570833159322, \"yref\": \"y\"}, {\"ax\": -0.18383598238378246, \"axref\": \"x\", \"ay\": 0.664212469034758, \"ayref\": \"y\", \"opacity\": 1, \"showarrow\": true, \"x\": -0.5360481866508713, \"xref\": \"x\", \"y\": 0.5564888637597676, \"yref\": \"y\"}, {\"ax\": 0.46877340952454627, \"axref\": \"x\", \"ay\": 0.5725145219956888, \"ayref\": \"y\", \"opacity\": 1, \"showarrow\": true, \"x\": 0.44286590121162184, \"xref\": \"x\", \"y\": 0.41894194320116396, \"yref\": \"y\"}, {\"ax\": 0.3143788137800661, \"axref\": \"x\", \"ay\": 0.9382632629549111, \"ayref\": \"y\", \"opacity\": 1, \"showarrow\": true, \"x\": 0.21127400759490159, \"xref\": \"x\", \"y\": 0.9675650546399975, \"yref\": \"y\"}, {\"ax\": 0.6428875269773289, \"axref\": \"x\", \"ay\": 0.13192861912930254, \"ayref\": \"y\", \"opacity\": 1, \"showarrow\": true, \"x\": 0.7040370773907957, \"xref\": \"x\", \"y\": -0.24193691109841542, \"yref\": \"y\"}, {\"ax\": 0.2317310537461965, \"axref\": \"x\", \"ay\": 0.6050233631896154, \"ayref\": \"y\", \"opacity\": 1, \"showarrow\": true, \"x\": 0.08730236754409719, \"xref\": \"x\", \"y\": 0.4677052049920539, \"yref\": \"y\"}, {\"ax\": -0.0493357578734816, \"axref\": \"x\", \"ay\": 0.7937205331956478, \"ayref\": \"y\", \"opacity\": 1, \"showarrow\": true, \"x\": -0.33429784988542, \"xref\": \"x\", \"y\": 0.7507509600011024, \"yref\": \"y\"}, {\"ax\": -0.08570697489220197, \"axref\": \"x\", \"ay\": 0.22841957831021234, \"ayref\": \"y\", \"opacity\": 1, \"showarrow\": true, \"x\": -0.3888546754135005, \"xref\": \"x\", \"y\": -0.0972004723270507, \"yref\": \"y\"}, {\"ax\": 0.31994363586638586, \"axref\": \"x\", \"ay\": 0.4133206485317662, \"ayref\": \"y\", \"opacity\": 1, \"showarrow\": true, \"x\": 0.21962124072438124, \"xref\": \"x\", \"y\": 0.1801511330052801, \"yref\": \"y\"}, {\"ax\": 0.6023001123480884, \"axref\": \"x\", \"ay\": 0.7249311779749366, \"ayref\": \"y\", \"opacity\": 1, \"showarrow\": true, \"x\": 0.643155955446935, \"xref\": \"x\", \"y\": 0.6475669271700356, \"yref\": \"y\"}, {\"ax\": 0.5883882343731595, \"axref\": \"x\", \"ay\": 0.4470331179669056, \"ayref\": \"y\", \"opacity\": 1, \"showarrow\": true, \"x\": 0.6222881384845416, \"xref\": \"x\", \"y\": 0.2307198371579891, \"yref\": \"y\"}, {\"ax\": 0.42966981151667105, \"axref\": \"x\", \"ay\": 0.26821159732124955, \"ayref\": \"y\", \"opacity\": 1, \"showarrow\": true, \"x\": 0.38421050419980896, \"xref\": \"x\", \"y\": -0.0375124438104949, \"yref\": \"y\"}, {\"ax\": 0.21040748997083594, \"axref\": \"x\", \"ay\": -0.05727997163128895, \"ayref\": \"y\", \"opacity\": 1, \"showarrow\": true, \"x\": 0.05531702188105633, \"xref\": \"x\", \"y\": -0.5257497972393027, \"yref\": \"y\"}, {\"ax\": 0.40145336580862956, \"axref\": \"x\", \"ay\": 0.7460172787835486, \"ayref\": \"y\", \"opacity\": 1, \"showarrow\": true, \"x\": 0.34188583563774677, \"xref\": \"x\", \"y\": 0.6791960783829537, \"yref\": \"y\"}, {\"ax\": 0.22021426775707703, \"axref\": \"x\", \"ay\": 0.8053930853079653, \"ayref\": \"y\", \"opacity\": 1, \"showarrow\": true, \"x\": 0.07002718856041797, \"xref\": \"x\", \"y\": 0.7682597881695786, \"yref\": \"y\"}, {\"ax\": -0.047785258026324495, \"axref\": \"x\", \"ay\": 0.07301989254092489, \"ayref\": \"y\", \"opacity\": 1, \"showarrow\": true, \"x\": -0.33197210011468437, \"xref\": \"x\", \"y\": -0.3303000009809819, \"yref\": \"y\"}, {\"ax\": 0.04534927663021557, \"axref\": \"x\", \"ay\": -0.2426271541416312, \"ayref\": \"y\", \"opacity\": 1, \"showarrow\": true, \"x\": -0.1404552815040253, \"xref\": \"x\", \"y\": -0.4966254134157663, \"yref\": \"y\"}, {\"ax\": 0.6537934117823894, \"axref\": \"x\", \"ay\": 0.2871907962061331, \"ayref\": \"y\", \"opacity\": 1, \"showarrow\": true, \"x\": 0.7722109212242353, \"xref\": \"x\", \"y\": 0.29810151210588004, \"yref\": \"y\"}, {\"ax\": 0.2297570616101875, \"axref\": \"x\", \"ay\": -0.19784908864453118, \"ayref\": \"y\", \"opacity\": 1, \"showarrow\": true, \"x\": 0.13615639596593257, \"xref\": \"x\", \"y\": -0.42945831517011634, \"yref\": \"y\"}, {\"ax\": 0.0301028105039563, \"axref\": \"x\", \"ay\": 0.5871937772354339, \"ayref\": \"y\", \"opacity\": 1, \"showarrow\": true, \"x\": -0.16332498069341422, \"xref\": \"x\", \"y\": 0.7481059836498313, \"yref\": \"y\"}, {\"ax\": -0.1410826288188963, \"axref\": \"x\", \"ay\": 0.2215104999794919, \"ayref\": \"y\", \"opacity\": 1, \"showarrow\": true, \"x\": -0.4201031396776932, \"xref\": \"x\", \"y\": 0.19958106776591827, \"yref\": \"y\"}, {\"ax\": 0.10817471685321538, \"axref\": \"x\", \"ay\": -0.037827770086229645, \"ayref\": \"y\", \"opacity\": 1, \"showarrow\": true, \"x\": -0.0462171211695256, \"xref\": \"x\", \"y\": -0.18942633733266406, \"yref\": \"y\"}, {\"ax\": 0.6005037869387141, \"axref\": \"x\", \"ay\": -0.023529545618900333, \"ayref\": \"y\", \"opacity\": 1, \"showarrow\": true, \"x\": 0.6922764839587224, \"xref\": \"x\", \"y\": -0.16797900063167004, \"yref\": \"y\"}, {\"ax\": -0.2710399706790517, \"axref\": \"x\", \"ay\": -0.040744133797076226, \"ayref\": \"y\", \"opacity\": 1, \"showarrow\": true, \"x\": -0.6150391524679263, \"xref\": \"x\", \"y\": -0.19380088289893388, \"yref\": \"y\"}, {\"ax\": 0.44727371118792325, \"axref\": \"x\", \"ay\": -0.22061514166192173, \"ayref\": \"y\", \"opacity\": 1, \"showarrow\": true, \"x\": 0.46243137033253623, \"xref\": \"x\", \"y\": -0.4636073946962022, \"yref\": \"y\"}, {\"ax\": 0.35374820813610425, \"axref\": \"x\", \"ay\": -0.34232766984329177, \"ayref\": \"y\", \"opacity\": 1, \"showarrow\": true, \"x\": 0.3221431157548077, \"xref\": \"x\", \"y\": -0.6461761869682572, \"yref\": \"y\"}, {\"ax\": -0.008915519467519673, \"axref\": \"x\", \"ay\": 0.09256597870629488, \"ayref\": \"y\", \"opacity\": 1, \"showarrow\": true, \"x\": -0.2218524756506282, \"xref\": \"x\", \"y\": 0.006164285856122775, \"yref\": \"y\"}, {\"ax\": -0.25342477775198247, \"axref\": \"x\", \"ay\": 0.1294874313212424, \"ayref\": \"y\", \"opacity\": 1, \"showarrow\": true, \"x\": -0.5886163630773223, \"xref\": \"x\", \"y\": 0.06154646477854406, \"yref\": \"y\"}, {\"ax\": 0.7084791964493486, \"axref\": \"x\", \"ay\": 0.11319187449359196, \"ayref\": \"y\", \"opacity\": 1, \"showarrow\": true, \"x\": 0.8542395982246742, \"xref\": \"x\", \"y\": 0.03710312953706838, \"yref\": \"y\"}, {\"ax\": -0.23565099900963135, \"axref\": \"x\", \"ay\": 0.35706731144570825, \"ayref\": \"y\", \"opacity\": 1, \"showarrow\": true, \"x\": -0.5619556949637957, \"xref\": \"x\", \"y\": 0.40291628496524273, \"yref\": \"y\"}, {\"ax\": 0.59107251035148, \"axref\": \"x\", \"ay\": -0.17521653845974713, \"ayref\": \"y\", \"opacity\": 1, \"showarrow\": true, \"x\": 0.6781295690778713, \"xref\": \"x\", \"y\": -0.39550948989294027, \"yref\": \"y\"}, {\"ax\": 0.2625637971542172, \"axref\": \"x\", \"ay\": 0.6311181053658614, \"ayref\": \"y\", \"opacity\": 1, \"showarrow\": true, \"x\": 0.18536649928197713, \"xref\": \"x\", \"y\": 0.8139924758454727, \"yref\": \"y\"}, {\"ax\": 0.17991603712034762, \"axref\": \"x\", \"ay\": 0.29787820560056577, \"ayref\": \"y\", \"opacity\": 1, \"showarrow\": true, \"x\": 0.061394859231172744, \"xref\": \"x\", \"y\": 0.3141326261975291, \"yref\": \"y\"}, {\"ax\": -0.10115077449933049, \"axref\": \"x\", \"ay\": 0.48657537560659814, \"ayref\": \"y\", \"opacity\": 1, \"showarrow\": true, \"x\": -0.3602053581983444, \"xref\": \"x\", \"y\": 0.5971783812065776, \"yref\": \"y\"}, {\"ax\": -0.13752199151805086, \"axref\": \"x\", \"ay\": -0.07872557927883733, \"ayref\": \"y\", \"opacity\": 1, \"showarrow\": true, \"x\": -0.4147621837264249, \"xref\": \"x\", \"y\": -0.25077305112157555, \"yref\": \"y\"}, {\"ax\": 0.268128619240537, \"axref\": \"x\", \"ay\": 0.10617549094271655, \"ayref\": \"y\", \"opacity\": 1, \"showarrow\": true, \"x\": 0.19371373241145678, \"xref\": \"x\", \"y\": 0.02657855421075527, \"yref\": \"y\"}, {\"ax\": 0.5504850957222396, \"axref\": \"x\", \"ay\": 0.41778602038588686, \"ayref\": \"y\", \"opacity\": 1, \"showarrow\": true, \"x\": 0.6172484471340106, \"xref\": \"x\", \"y\": 0.49399434837551076, \"yref\": \"y\"}, {\"ax\": 0.5365732177473105, \"axref\": \"x\", \"ay\": 0.1398879603778559, \"ayref\": \"y\", \"opacity\": 1, \"showarrow\": true, \"x\": 0.5963806301716171, \"xref\": \"x\", \"y\": 0.07714725836346428, \"yref\": \"y\"}, {\"ax\": 0.3778547948908222, \"axref\": \"x\", \"ay\": -0.03893356026780012, \"ayref\": \"y\", \"opacity\": 1, \"showarrow\": true, \"x\": 0.3583029958868845, \"xref\": \"x\", \"y\": -0.19108502260501975, \"yref\": \"y\"}, {\"ax\": 0.15859247334498705, \"axref\": \"x\", \"ay\": -0.36442512922033865, \"ayref\": \"y\", \"opacity\": 1, \"showarrow\": true, \"x\": 0.029409513568131887, \"xref\": \"x\", \"y\": -0.6793223760338275, \"yref\": \"y\"}, {\"ax\": 0.34963834918278064, \"axref\": \"x\", \"ay\": 0.4388721211944989, \"ayref\": \"y\", \"opacity\": 1, \"showarrow\": true, \"x\": 0.3159783273248223, \"xref\": \"x\", \"y\": 0.5256234995884289, \"yref\": \"y\"}, {\"ax\": 0.16839925113122814, \"axref\": \"x\", \"ay\": 0.4982479277189156, \"ayref\": \"y\", \"opacity\": 1, \"showarrow\": true, \"x\": 0.04411968024749352, \"xref\": \"x\", \"y\": 0.6146872093750538, \"yref\": \"y\"}, {\"ax\": -0.09960027465217339, \"axref\": \"x\", \"ay\": -0.23412526504812478, \"ayref\": \"y\", \"opacity\": 1, \"showarrow\": true, \"x\": -0.3578796084276088, \"xref\": \"x\", \"y\": -0.48387257977550674, \"yref\": \"y\"}, {\"ax\": 0.2194633940829982, \"axref\": \"x\", \"ay\": -0.6832130570080175, \"ayref\": \"y\", \"opacity\": 1, \"showarrow\": true, \"x\": -0.05339822277763401, \"xref\": \"x\", \"y\": -0.7169183648489594, \"yref\": \"y\"}, {\"ax\": 0.827907529235172, \"axref\": \"x\", \"ay\": -0.15339510666025316, \"ayref\": \"y\", \"opacity\": 1, \"showarrow\": true, \"x\": 0.8592679799506266, \"xref\": \"x\", \"y\": 0.07780856067268693, \"yref\": \"y\"}, {\"ax\": 0.4038711790629701, \"axref\": \"x\", \"ay\": -0.6384349915109174, \"ayref\": \"y\", \"opacity\": 1, \"showarrow\": true, \"x\": 0.22321345469232387, \"xref\": \"x\", \"y\": -0.6497512666033094, \"yref\": \"y\"}, {\"ax\": 0.20421692795673893, \"axref\": \"x\", \"ay\": 0.1466078743690476, \"ayref\": \"y\", \"opacity\": 1, \"showarrow\": true, \"x\": -0.0762679219670229, \"xref\": \"x\", \"y\": 0.5278130322166381, \"yref\": \"y\"}, {\"ax\": 0.03303148863388633, \"axref\": \"x\", \"ay\": -0.21907540288689434, \"ayref\": \"y\", \"opacity\": 1, \"showarrow\": true, \"x\": -0.33304608095130184, \"xref\": \"x\", \"y\": -0.020711883667274833, \"yref\": \"y\"}, {\"ax\": 0.282288834305998, \"axref\": \"x\", \"ay\": -0.4784136729526159, \"ayref\": \"y\", \"opacity\": 1, \"showarrow\": true, \"x\": 0.04083993755686571, \"xref\": \"x\", \"y\": -0.40971928876585717, \"yref\": \"y\"}, {\"ax\": 0.7746179043914967, \"axref\": \"x\", \"ay\": -0.4641154484852866, \"ayref\": \"y\", \"opacity\": 1, \"showarrow\": true, \"x\": 0.7793335426851138, \"xref\": \"x\", \"y\": -0.3882719520648632, \"yref\": \"y\"}, {\"ax\": -0.09692585322626907, \"axref\": \"x\", \"ay\": -0.48133003666346247, \"ayref\": \"y\", \"opacity\": 1, \"showarrow\": true, \"x\": -0.5279820937415349, \"xref\": \"x\", \"y\": -0.414093834332127, \"yref\": \"y\"}, {\"ax\": 0.621387828640706, \"axref\": \"x\", \"ay\": -0.661201044528308, \"ayref\": \"y\", \"opacity\": 1, \"showarrow\": true, \"x\": 0.5494884290589276, \"xref\": \"x\", \"y\": -0.6839003461293953, \"yref\": \"y\"}, {\"ax\": 0.5278623255888869, \"axref\": \"x\", \"ay\": -0.7829135727096781, \"ayref\": \"y\", \"opacity\": 1, \"showarrow\": true, \"x\": 0.40920017448119905, \"xref\": \"x\", \"y\": -0.8664691384014503, \"yref\": \"y\"}, {\"ax\": 0.16519859798526296, \"axref\": \"x\", \"ay\": -0.34801992416009137, \"ayref\": \"y\", \"opacity\": 1, \"showarrow\": true, \"x\": -0.13479541692423688, \"xref\": \"x\", \"y\": -0.21412866557707033, \"yref\": \"y\"}, {\"ax\": -0.07931066029919981, \"axref\": \"x\", \"ay\": -0.3110984715451438, \"ayref\": \"y\", \"opacity\": 1, \"showarrow\": true, \"x\": -0.501559304350931, \"xref\": \"x\", \"y\": -0.15874648665464905, \"yref\": \"y\"}, {\"ax\": 0.8825933139021312, \"axref\": \"x\", \"ay\": -0.3273940283727943, \"ayref\": \"y\", \"opacity\": 1, \"showarrow\": true, \"x\": 0.9412966569510656, \"xref\": \"x\", \"y\": -0.18318982189612473, \"yref\": \"y\"}, {\"ax\": -0.06153688155684872, \"axref\": \"x\", \"ay\": -0.08351859142067802, \"ayref\": \"y\", \"opacity\": 1, \"showarrow\": true, \"x\": -0.47489863623740436, \"xref\": \"x\", \"y\": 0.18262333353204963, \"yref\": \"y\"}, {\"ax\": 0.43667791460699984, \"axref\": \"x\", \"ay\": 0.19053220249947522, \"ayref\": \"y\", \"opacity\": 1, \"showarrow\": true, \"x\": 0.2724235580083685, \"xref\": \"x\", \"y\": 0.5936995244122796, \"yref\": \"y\"}, {\"ax\": 0.35403015457313025, \"axref\": \"x\", \"ay\": -0.1427076972658205, \"ayref\": \"y\", \"opacity\": 1, \"showarrow\": true, \"x\": 0.14845191795756407, \"xref\": \"x\", \"y\": 0.09383967476433594, \"yref\": \"y\"}, {\"ax\": 0.07296334295345214, \"axref\": \"x\", \"ay\": 0.04598947274021187, \"ayref\": \"y\", \"opacity\": 1, \"showarrow\": true, \"x\": -0.27314829947195307, \"xref\": \"x\", \"y\": 0.37688542977338446, \"yref\": \"y\"}, {\"ax\": 0.03659212593473177, \"axref\": \"x\", \"ay\": -0.5193114821452236, \"ayref\": \"y\", \"opacity\": 1, \"showarrow\": true, \"x\": -0.32770512500003357, \"xref\": \"x\", \"y\": -0.47106600255476866, \"yref\": \"y\"}, {\"ax\": 0.4422427366933196, \"axref\": \"x\", \"ay\": -0.3344104119236697, \"ayref\": \"y\", \"opacity\": 1, \"showarrow\": true, \"x\": 0.2807707911378481, \"xref\": \"x\", \"y\": -0.19371439722243786, \"yref\": \"y\"}, {\"ax\": 0.7245992131750222, \"axref\": \"x\", \"ay\": -0.022799882480499356, \"ayref\": \"y\", \"opacity\": 1, \"showarrow\": true, \"x\": 0.704305505860402, \"xref\": \"x\", \"y\": 0.27370139694231765, \"yref\": \"y\"}, {\"ax\": 0.7106873352000931, \"axref\": \"x\", \"ay\": -0.3006979424885303, \"ayref\": \"y\", \"opacity\": 1, \"showarrow\": true, \"x\": 0.6834376888980084, \"xref\": \"x\", \"y\": -0.14314569306972885, \"yref\": \"y\"}, {\"ax\": 0.5519689123436048, \"axref\": \"x\", \"ay\": -0.47951946313418636, \"ayref\": \"y\", \"opacity\": 1, \"showarrow\": true, \"x\": 0.4453600546132759, \"xref\": \"x\", \"y\": -0.41137797403821286, \"yref\": \"y\"}, {\"ax\": 0.33270659079776965, \"axref\": \"x\", \"ay\": -0.8050110320867249, \"ayref\": \"y\", \"opacity\": 1, \"showarrow\": true, \"x\": 0.1164665722945232, \"xref\": \"x\", \"y\": -0.8996153274670207, \"yref\": \"y\"}, {\"ax\": 0.5237524666355633, \"axref\": \"x\", \"ay\": -0.0017137816718872934, \"ayref\": \"y\", \"opacity\": 1, \"showarrow\": true, \"x\": 0.4030353860512136, \"xref\": \"x\", \"y\": 0.30533054815523575, \"yref\": \"y\"}, {\"ax\": 0.34251336858401077, \"axref\": \"x\", \"ay\": 0.05766202485252936, \"ayref\": \"y\", \"opacity\": 1, \"showarrow\": true, \"x\": 0.13117673897388482, \"xref\": \"x\", \"y\": 0.39439425794186067, \"yref\": \"y\"}, {\"ax\": 0.07451384280060924, \"axref\": \"x\", \"ay\": -0.674711167914511, \"ayref\": \"y\", \"opacity\": 1, \"showarrow\": true, \"x\": -0.27082254970121744, \"xref\": \"x\", \"y\": -0.7041655312086998, \"yref\": \"y\"}, {\"ax\": 0.17887597945375777, \"axref\": \"x\", \"ay\": -0.09021049816238341, \"ayref\": \"y\", \"opacity\": 1, \"showarrow\": true, \"x\": -0.07369193009225422, \"xref\": \"x\", \"y\": -0.4204170854261424, \"yref\": \"y\"}, {\"ax\": 0.7873201146059315, \"axref\": \"x\", \"ay\": 0.4396074521853809, \"ayref\": \"y\", \"opacity\": 1, \"showarrow\": true, \"x\": 0.8389742726360064, \"xref\": \"x\", \"y\": 0.37430984009550394, \"yref\": \"y\"}, {\"ax\": 0.3632837644337297, \"axref\": \"x\", \"ay\": -0.045432432665283407, \"ayref\": \"y\", \"opacity\": 1, \"showarrow\": true, \"x\": 0.20291974737770366, \"xref\": \"x\", \"y\": -0.35324998718049244, \"yref\": \"y\"}, {\"ax\": 0.1636295133274985, \"axref\": \"x\", \"ay\": 0.7396104332146816, \"ayref\": \"y\", \"opacity\": 1, \"showarrow\": true, \"x\": -0.09656162928164311, \"xref\": \"x\", \"y\": 0.8243143116394551, \"yref\": \"y\"}, {\"ax\": -0.007555925995354096, \"axref\": \"x\", \"ay\": 0.3739271559587397, \"ayref\": \"y\", \"opacity\": 1, \"showarrow\": true, \"x\": -0.35333978826592205, \"xref\": \"x\", \"y\": 0.2757893957555422, \"yref\": \"y\"}, {\"ax\": 0.24170141967675757, \"axref\": \"x\", \"ay\": 0.11458888589301813, \"ayref\": \"y\", \"opacity\": 1, \"showarrow\": true, \"x\": 0.0205462302422455, \"xref\": \"x\", \"y\": -0.11321800934304016, \"yref\": \"y\"}, {\"ax\": 0.7340304897622563, \"axref\": \"x\", \"ay\": 0.12888711036034745, \"ayref\": \"y\", \"opacity\": 1, \"showarrow\": true, \"x\": 0.7590398353704936, \"xref\": \"x\", \"y\": -0.09177067264204616, \"yref\": \"y\"}, {\"ax\": -0.1375132678555095, \"axref\": \"x\", \"ay\": 0.11167252218217155, \"ayref\": \"y\", \"opacity\": 1, \"showarrow\": true, \"x\": -0.5482758010561551, \"xref\": \"x\", \"y\": -0.11759255490930998, \"yref\": \"y\"}, {\"ax\": 0.5808004140114655, \"axref\": \"x\", \"ay\": -0.06819848568267395, \"ayref\": \"y\", \"opacity\": 1, \"showarrow\": true, \"x\": 0.5291947217443074, \"xref\": \"x\", \"y\": -0.3873990667065783, \"yref\": \"y\"}, {\"ax\": 0.4872749109596465, \"axref\": \"x\", \"ay\": -0.18991101386404402, \"ayref\": \"y\", \"opacity\": 1, \"showarrow\": true, \"x\": 0.38890646716657884, \"xref\": \"x\", \"y\": -0.5699678589786333, \"yref\": \"y\"}, {\"ax\": 0.12461118335602253, \"axref\": \"x\", \"ay\": 0.24498263468554266, \"ayref\": \"y\", \"opacity\": 1, \"showarrow\": true, \"x\": -0.1550891242388571, \"xref\": \"x\", \"y\": 0.08237261384574666, \"yref\": \"y\"}, {\"ax\": -0.11989807492844023, \"axref\": \"x\", \"ay\": 0.2819040873004902, \"ayref\": \"y\", \"opacity\": 1, \"showarrow\": true, \"x\": -0.5218530116655512, \"xref\": \"x\", \"y\": 0.13775479276816796, \"yref\": \"y\"}, {\"ax\": 0.8420058992728908, \"axref\": \"x\", \"ay\": 0.2656085304728397, \"ayref\": \"y\", \"opacity\": 1, \"showarrow\": true, \"x\": 0.9210029496364454, \"xref\": \"x\", \"y\": 0.11331145752669228, \"yref\": \"y\"}, {\"ax\": -0.10212429618608915, \"axref\": \"x\", \"ay\": 0.509483967424956, \"ayref\": \"y\", \"opacity\": 1, \"showarrow\": true, \"x\": -0.49519234355202457, \"xref\": \"x\", \"y\": 0.47912461295486664, \"yref\": \"y\"}, {\"ax\": 0.3960904999777594, \"axref\": \"x\", \"ay\": 0.7835347613451092, \"ayref\": \"y\", \"opacity\": 1, \"showarrow\": true, \"x\": 0.25212985069374827, \"xref\": \"x\", \"y\": 0.8902008038350966, \"yref\": \"y\"}, {\"ax\": 0.3134427399438898, \"axref\": \"x\", \"ay\": 0.4502948615798135, \"ayref\": \"y\", \"opacity\": 1, \"showarrow\": true, \"x\": 0.12815821064294386, \"xref\": \"x\", \"y\": 0.390340954187153, \"yref\": \"y\"}, {\"ax\": 0.03237592832421171, \"axref\": \"x\", \"ay\": 0.6389920315858459, \"ayref\": \"y\", \"opacity\": 1, \"showarrow\": true, \"x\": -0.2934420067865733, \"xref\": \"x\", \"y\": 0.6733867091962015, \"yref\": \"y\"}, {\"ax\": -0.0039952886945086585, \"axref\": \"x\", \"ay\": 0.07369107670041045, \"ayref\": \"y\", \"opacity\": 1, \"showarrow\": true, \"x\": -0.3479988323146538, \"xref\": \"x\", \"y\": -0.17456472313195165, \"yref\": \"y\"}, {\"ax\": 0.40165532206407917, \"axref\": \"x\", \"ay\": 0.2585921469219643, \"ayref\": \"y\", \"opacity\": 1, \"showarrow\": true, \"x\": 0.2604770838232279, \"xref\": \"x\", \"y\": 0.10278688220037915, \"yref\": \"y\"}, {\"ax\": 0.6700999205708527, \"axref\": \"x\", \"ay\": 0.2923046163571037, \"ayref\": \"y\", \"opacity\": 1, \"showarrow\": true, \"x\": 0.6631439815833882, \"xref\": \"x\", \"y\": 0.15335558635308816, \"yref\": \"y\"}, {\"ax\": 0.5113814977143644, \"axref\": \"x\", \"ay\": 0.11348309571144766, \"ayref\": \"y\", \"opacity\": 1, \"showarrow\": true, \"x\": 0.42506634729865567, \"xref\": \"x\", \"y\": -0.11487669461539585, \"yref\": \"y\"}, {\"ax\": 0.2921191761685292, \"axref\": \"x\", \"ay\": -0.21200847324109084, \"ayref\": \"y\", \"opacity\": 1, \"showarrow\": true, \"x\": 0.09617286497990299, \"xref\": \"x\", \"y\": -0.6031140480442037, \"yref\": \"y\"}, {\"ax\": 0.48316505200632287, \"axref\": \"x\", \"ay\": 0.5912887771737467, \"ayref\": \"y\", \"opacity\": 1, \"showarrow\": true, \"x\": 0.38274167873659337, \"xref\": \"x\", \"y\": 0.6018318275780528, \"yref\": \"y\"}, {\"ax\": 0.30192595395477034, \"axref\": \"x\", \"ay\": 0.6506645836981634, \"ayref\": \"y\", \"opacity\": 1, \"showarrow\": true, \"x\": 0.11088303165926462, \"xref\": \"x\", \"y\": 0.6908955373646777, \"yref\": \"y\"}, {\"ax\": 0.033926428171368816, \"axref\": \"x\", \"ay\": -0.081708609068877, \"ayref\": \"y\", \"opacity\": 1, \"showarrow\": true, \"x\": -0.29111625701583765, \"xref\": \"x\", \"y\": -0.40766425178588284, \"yref\": \"y\"}, {\"ax\": 0.28218429551390756, \"axref\": \"x\", \"ay\": -0.22080572234213722, \"ayref\": \"y\", \"opacity\": 1, \"showarrow\": true, \"x\": 0.5864063630899944, \"xref\": \"x\", \"y\": 0.044103252831744905, \"yref\": \"y\"}, {\"ax\": -0.34150630576452545, \"axref\": \"x\", \"ay\": 0.07919725868716354, \"ayref\": \"y\", \"opacity\": 1, \"showarrow\": true, \"x\": -0.3491295388276551, \"xref\": \"x\", \"y\": 0.49410772437569606, \"yref\": \"y\"}, {\"ax\": -0.2634343994152664, \"axref\": \"x\", \"ay\": -0.5458242886344999, \"ayref\": \"y\", \"opacity\": 1, \"showarrow\": true, \"x\": -0.2320216793037665, \"xref\": \"x\", \"y\": -0.4434245966067992, \"yref\": \"y\"}, {\"ax\": 0.0756645949194415, \"axref\": \"x\", \"ay\": -0.728611660210192, \"ayref\": \"y\", \"opacity\": 1, \"showarrow\": true, \"x\": 0.2766268121982953, \"xref\": \"x\", \"y\": -0.7176056539703374, \"yref\": \"y\"}, {\"ax\": -0.6250338940204643, \"axref\": \"x\", \"ay\": -0.37850908722702786, \"ayref\": \"y\", \"opacity\": 1, \"showarrow\": true, \"x\": -0.7744209212115633, \"xref\": \"x\", \"y\": -0.19245179449559108, \"yref\": \"y\"}, {\"ax\": -0.4727598907678123, \"axref\": \"x\", \"ay\": -0.02142114294167219, \"ayref\": \"y\", \"opacity\": 1, \"showarrow\": true, \"x\": -0.5460099163325853, \"xref\": \"x\", \"y\": 0.3431801219324424, \"yref\": \"y\"}, {\"ax\": -0.1034804970279448, \"axref\": \"x\", \"ay\": -0.40182102760555377, \"ayref\": \"y\", \"opacity\": 1, \"showarrow\": true, \"x\": 0.007909174277215908, \"xref\": \"x\", \"y\": -0.22741970506337988, \"yref\": \"y\"}, {\"ax\": 0.16496410147882873, \"axref\": \"x\", \"ay\": -0.36810855817041443, \"ayref\": \"y\", \"opacity\": 1, \"showarrow\": true, \"x\": 0.4105760720373762, \"xref\": \"x\", \"y\": -0.17685100091067085, \"yref\": \"y\"}, {\"ax\": -0.20320986513725364, \"axref\": \"x\", \"ay\": -0.009748590829354697, \"ayref\": \"y\", \"opacity\": 1, \"showarrow\": true, \"x\": -0.14168487788674738, \"xref\": \"x\", \"y\": 0.3606889501009186, \"yref\": \"y\"}, {\"ax\": -0.47120939092065517, \"axref\": \"x\", \"ay\": -0.7421217835963951, \"ayref\": \"y\", \"opacity\": 1, \"showarrow\": true, \"x\": -0.5436841665618497, \"xref\": \"x\", \"y\": -0.7378708390496419, \"yref\": \"y\"}, {\"ax\": -0.14185205465829429, \"axref\": \"x\", \"ay\": -0.7058456071928014, \"ayref\": \"y\", \"opacity\": 1, \"showarrow\": true, \"x\": -0.04964816216830833, \"xref\": \"x\", \"y\": -0.6834565744442515, \"yref\": \"y\"}, {\"ax\": -0.512691745087378, \"axref\": \"x\", \"ay\": -0.2864860185687784, \"ayref\": \"y\", \"opacity\": 1, \"showarrow\": true, \"x\": -0.6059076978119341, \"xref\": \"x\", \"y\": -0.05441719150821686, \"yref\": \"y\"}, {\"ax\": 0.22889467067023234, \"axref\": \"x\", \"ay\": -0.5315260641671706, \"ayref\": \"y\", \"opacity\": 1, \"showarrow\": true, \"x\": 0.5064719258244815, \"xref\": \"x\", \"y\": -0.4219772599058052, \"yref\": \"y\"}, {\"ax\": -0.6426490869475334, \"axref\": \"x\", \"ay\": -0.5487406523453465, \"ayref\": \"y\", \"opacity\": 1, \"showarrow\": true, \"x\": -0.8008437106021672, \"xref\": \"x\", \"y\": -0.44779914217306904, \"yref\": \"y\"}, {\"ax\": -0.017860908132377534, \"axref\": \"x\", \"ay\": -0.8503241883915621, \"ayref\": \"y\", \"opacity\": 1, \"showarrow\": true, \"x\": 0.13633855762056682, \"xref\": \"x\", \"y\": -0.9001744462423924, \"yref\": \"y\"}, {\"ax\": -0.3805246357360015, \"axref\": \"x\", \"ay\": -0.4154305398419754, \"ayref\": \"y\", \"opacity\": 1, \"showarrow\": true, \"x\": -0.40765703378486906, \"xref\": \"x\", \"y\": -0.2478339734180124, \"yref\": \"y\"}, {\"ax\": 0.33687008018086684, \"axref\": \"x\", \"ay\": -0.39480464405467836, \"ayref\": \"y\", \"opacity\": 1, \"showarrow\": true, \"x\": 0.6684350400904333, \"xref\": \"x\", \"y\": -0.21689512973706676, \"yref\": \"y\"}, {\"ax\": -0.6072601152781132, \"axref\": \"x\", \"ay\": -0.15092920710256208, \"ayref\": \"y\", \"opacity\": 1, \"showarrow\": true, \"x\": -0.7477602530980366, \"xref\": \"x\", \"y\": 0.1489180256911076, \"yref\": \"y\"}, {\"ax\": -0.10904531911426457, \"axref\": \"x\", \"ay\": 0.12312158681759117, \"ayref\": \"y\", \"opacity\": 1, \"showarrow\": true, \"x\": -0.00043805885226375074, \"xref\": \"x\", \"y\": 0.5599942165713375, \"yref\": \"y\"}, {\"ax\": -0.19169307914813416, \"axref\": \"x\", \"ay\": -0.21011831294770456, \"ayref\": \"y\", \"opacity\": 1, \"showarrow\": true, \"x\": -0.12440969890306815, \"xref\": \"x\", \"y\": 0.06013436692339391, \"yref\": \"y\"}, {\"ax\": -0.5091311077865326, \"axref\": \"x\", \"ay\": -0.5867220978271076, \"ayref\": \"y\", \"opacity\": 1, \"showarrow\": true, \"x\": -0.6005667418606658, \"xref\": \"x\", \"y\": -0.5047713103957107, \"yref\": \"y\"}, {\"ax\": 0.006245678622340378, \"axref\": \"x\", \"ay\": -0.5469300788160705, \"ayref\": \"y\", \"opacity\": 1, \"showarrow\": true, \"x\": 0.17249843775264365, \"xref\": \"x\", \"y\": -0.4450832818791549, \"yref\": \"y\"}, {\"ax\": -0.21301664292349473, \"axref\": \"x\", \"ay\": -0.8724216477686089, \"ayref\": \"y\", \"opacity\": 1, \"showarrow\": true, \"x\": -0.156395044566109, \"xref\": \"x\", \"y\": -0.9333206353079627, \"yref\": \"y\"}, {\"ax\": -0.021970767085701143, \"axref\": \"x\", \"ay\": -0.06912439735377135, \"ayref\": \"y\", \"opacity\": 1, \"showarrow\": true, \"x\": 0.1301737691905814, \"xref\": \"x\", \"y\": 0.2716252403142937, \"yref\": \"y\"}, {\"ax\": 0.46659208049387946, \"axref\": \"x\", \"ay\": -0.1760276568450372, \"ayref\": \"y\", \"opacity\": 1, \"showarrow\": true, \"x\": 0.2545739054077786, \"xref\": \"x\", \"y\": -0.41854759927036933, \"yref\": \"y\"}, {\"ax\": 0.2669378293876483, \"axref\": \"x\", \"ay\": 0.6090152090349278, \"ayref\": \"y\", \"opacity\": 1, \"showarrow\": true, \"x\": -0.044907471251568215, \"xref\": \"x\", \"y\": 0.7590166995495782, \"yref\": \"y\"}, {\"ax\": 0.09575239006479569, \"axref\": \"x\", \"ay\": 0.24333193177898588, \"ayref\": \"y\", \"opacity\": 1, \"showarrow\": true, \"x\": -0.30168563023584716, \"xref\": \"x\", \"y\": 0.2104917836656653, \"yref\": \"y\"}, {\"ax\": 0.34500973573690735, \"axref\": \"x\", \"ay\": -0.016006338286735672, \"ayref\": \"y\", \"opacity\": 1, \"showarrow\": true, \"x\": 0.07220038827232039, \"xref\": \"x\", \"y\": -0.17851562143291705, \"yref\": \"y\"}, {\"ax\": 0.837338805822406, \"axref\": \"x\", \"ay\": -0.0017081138194063594, \"ayref\": \"y\", \"opacity\": 1, \"showarrow\": true, \"x\": 0.8106939934005685, \"xref\": \"x\", \"y\": -0.15706828473192308, \"yref\": \"y\"}, {\"ax\": -0.034204951795359706, \"axref\": \"x\", \"ay\": -0.018922701997582253, \"ayref\": \"y\", \"opacity\": 1, \"showarrow\": true, \"x\": -0.49662164302608025, \"xref\": \"x\", \"y\": -0.18289016699918687, \"yref\": \"y\"}, {\"ax\": 0.6841087300716153, \"axref\": \"x\", \"ay\": -0.19879370986242775, \"ayref\": \"y\", \"opacity\": 1, \"showarrow\": true, \"x\": 0.5808488797743823, \"xref\": \"x\", \"y\": -0.4526966787964552, \"yref\": \"y\"}, {\"ax\": 0.5905832270197963, \"axref\": \"x\", \"ay\": -0.32050623804379785, \"ayref\": \"y\", \"opacity\": 1, \"showarrow\": true, \"x\": 0.44056062519665373, \"xref\": \"x\", \"y\": -0.6352654710685103, \"yref\": \"y\"}, {\"ax\": 0.22791949941617232, \"axref\": \"x\", \"ay\": 0.11438741050578885, \"ayref\": \"y\", \"opacity\": 1, \"showarrow\": true, \"x\": -0.1034349662087822, \"xref\": \"x\", \"y\": 0.017075001755869762, \"yref\": \"y\"}, {\"ax\": -0.01658975886829045, \"axref\": \"x\", \"ay\": 0.15130886312073638, \"ayref\": \"y\", \"opacity\": 1, \"showarrow\": true, \"x\": -0.4701988536354763, \"xref\": \"x\", \"y\": 0.07245718067829104, \"yref\": \"y\"}, {\"ax\": 0.9453142153330406, \"axref\": \"x\", \"ay\": 0.13501330629308594, \"ayref\": \"y\", \"opacity\": 1, \"showarrow\": true, \"x\": 0.9726571076665202, \"xref\": \"x\", \"y\": 0.04801384543681537, \"yref\": \"y\"}, {\"ax\": 0.0011840198740606378, \"axref\": \"x\", \"ay\": 0.37888874324520216, \"ayref\": \"y\", \"opacity\": 1, \"showarrow\": true, \"x\": -0.4435381855219497, \"xref\": \"x\", \"y\": 0.41382700086498975, \"yref\": \"y\"}, {\"ax\": 0.4993988160379092, \"axref\": \"x\", \"ay\": 0.6529395371653555, \"ayref\": \"y\", \"opacity\": 1, \"showarrow\": true, \"x\": 0.30378400872382316, \"xref\": \"x\", \"y\": 0.8249031917452196, \"yref\": \"y\"}, {\"ax\": 0.4167510560040396, \"axref\": \"x\", \"ay\": 0.3196996374000597, \"ayref\": \"y\", \"opacity\": 1, \"showarrow\": true, \"x\": 0.17981236867301875, \"xref\": \"x\", \"y\": 0.32504334209727603, \"yref\": \"y\"}, {\"ax\": 0.1356842443843615, \"axref\": \"x\", \"ay\": 0.508396807406092, \"ayref\": \"y\", \"opacity\": 1, \"showarrow\": true, \"x\": -0.24178784875649842, \"xref\": \"x\", \"y\": 0.6080890971063245, \"yref\": \"y\"}, {\"ax\": 0.09931302736564113, \"axref\": \"x\", \"ay\": -0.05690414747934336, \"ayref\": \"y\", \"opacity\": 1, \"showarrow\": true, \"x\": -0.2963446742845789, \"xref\": \"x\", \"y\": -0.23986233522182854, \"yref\": \"y\"}, {\"ax\": 0.504963638124229, \"axref\": \"x\", \"ay\": 0.12799692274221053, \"ayref\": \"y\", \"opacity\": 1, \"showarrow\": true, \"x\": 0.31213124185330277, \"xref\": \"x\", \"y\": 0.03748927011050226, \"yref\": \"y\"}, {\"ax\": 0.7734082366310024, \"axref\": \"x\", \"ay\": 0.16170939217734986, \"ayref\": \"y\", \"opacity\": 1, \"showarrow\": true, \"x\": 0.7147981396134631, \"xref\": \"x\", \"y\": 0.08805797426321127, \"yref\": \"y\"}, {\"ax\": 0.6146898137745141, \"axref\": \"x\", \"ay\": -0.017112128468306148, \"ayref\": \"y\", \"opacity\": 1, \"showarrow\": true, \"x\": 0.47672050532873056, \"xref\": \"x\", \"y\": -0.18017430670527274, \"yref\": \"y\"}, {\"ax\": 0.395427492228679, \"axref\": \"x\", \"ay\": -0.3426036974208446, \"ayref\": \"y\", \"opacity\": 1, \"showarrow\": true, \"x\": 0.14782702300997788, \"xref\": \"x\", \"y\": -0.6684116601340806, \"yref\": \"y\"}, {\"ax\": 0.5864733680664727, \"axref\": \"x\", \"ay\": 0.46069355299399295, \"ayref\": \"y\", \"opacity\": 1, \"showarrow\": true, \"x\": 0.43439583676666826, \"xref\": \"x\", \"y\": 0.5365342154881758, \"yref\": \"y\"}, {\"ax\": 0.40523427001492013, \"axref\": \"x\", \"ay\": 0.5200693595184096, \"ayref\": \"y\", \"opacity\": 1, \"showarrow\": true, \"x\": 0.1625371896893395, \"xref\": \"x\", \"y\": 0.6255979252748007, \"yref\": \"y\"}, {\"ax\": 0.1372347442315186, \"axref\": \"x\", \"ay\": -0.2123038332486308, \"ayref\": \"y\", \"opacity\": 1, \"showarrow\": true, \"x\": -0.2394620989857628, \"xref\": \"x\", \"y\": -0.4729618638757597, \"yref\": \"y\"}, {\"ax\": -0.15709852078455355, \"axref\": \"x\", \"ay\": 0.12397532418426355, \"ayref\": \"y\", \"opacity\": 1, \"showarrow\": true, \"x\": -0.05727139523143796, \"xref\": \"x\", \"y\": -0.26854610875571894, \"yref\": \"y\"}, {\"ax\": -0.27868086554152566, \"axref\": \"x\", \"ay\": 0.2839966427425651, \"ayref\": \"y\", \"opacity\": 1, \"showarrow\": true, \"x\": -0.2396449123668961, \"xref\": \"x\", \"y\": -0.028514130918266684, \"yref\": \"y\"}, {\"ax\": -0.6402803601467235, \"axref\": \"x\", \"ay\": 0.45131184415003717, \"ayref\": \"y\", \"opacity\": 1, \"showarrow\": true, \"x\": -0.7820441542746929, \"xref\": \"x\", \"y\": 0.22245867119294144, \"yref\": \"y\"}, {\"ax\": -0.11872696315420407, \"axref\": \"x\", \"ay\": 0.42799990377151126, \"ayref\": \"y\", \"opacity\": 1, \"showarrow\": true, \"x\": 0.0002859412140862744, \"xref\": \"x\", \"y\": 0.18749076062515263, \"yref\": \"y\"}, {\"ax\": 0.14971763535256946, \"axref\": \"x\", \"ay\": 0.4617123732066506, \"ayref\": \"y\", \"opacity\": 1, \"showarrow\": true, \"x\": 0.40295283897424655, \"xref\": \"x\", \"y\": 0.23805946477786166, \"yref\": \"y\"}, {\"ax\": -0.2184563312635129, \"axref\": \"x\", \"ay\": 0.8200723405477104, \"ayref\": \"y\", \"opacity\": 1, \"showarrow\": true, \"x\": -0.149308110949877, \"xref\": \"x\", \"y\": 0.7755994157894511, \"yref\": \"y\"}, {\"ax\": -0.4864558570469144, \"axref\": \"x\", \"ay\": 0.08769914778066995, \"ayref\": \"y\", \"opacity\": 1, \"showarrow\": true, \"x\": -0.5513073996249793, \"xref\": \"x\", \"y\": -0.3229603733611094, \"yref\": \"y\"}, {\"ax\": -0.5279382112136374, \"axref\": \"x\", \"ay\": 0.5433349128082866, \"ayref\": \"y\", \"opacity\": 1, \"showarrow\": true, \"x\": -0.6135309308750637, \"xref\": \"x\", \"y\": 0.3604932741803156, \"yref\": \"y\"}, {\"ax\": 0.21364820454397307, \"axref\": \"x\", \"ay\": 0.2982948672098944, \"ayref\": \"y\", \"opacity\": 1, \"showarrow\": true, \"x\": 0.4988486927613519, \"xref\": \"x\", \"y\": -0.007066794217272687, \"yref\": \"y\"}, {\"ax\": -0.6578955530737928, \"axref\": \"x\", \"ay\": 0.2810802790317185, \"ayref\": \"y\", \"opacity\": 1, \"showarrow\": true, \"x\": -0.8084669436652968, \"xref\": \"x\", \"y\": -0.0328886764845365, \"yref\": \"y\"}, {\"ax\": 0.06041812879318223, \"axref\": \"x\", \"ay\": 0.101209271166873, \"ayref\": \"y\", \"opacity\": 1, \"showarrow\": true, \"x\": 0.2690035791351657, \"xref\": \"x\", \"y\": -0.30269518828180486, \"yref\": \"y\"}, {\"ax\": -0.0331073742586368, \"axref\": \"x\", \"ay\": -0.020503257014497067, \"ayref\": \"y\", \"opacity\": 1, \"showarrow\": true, \"x\": 0.12871532455743717, \"xref\": \"x\", \"y\": -0.4852639805538599, \"yref\": \"y\"}, {\"ax\": -0.3957711018622607, \"axref\": \"x\", \"ay\": 0.4143903915350896, \"ayref\": \"y\", \"opacity\": 1, \"showarrow\": true, \"x\": -0.41528026684799874, \"xref\": \"x\", \"y\": 0.16707649227052013, \"yref\": \"y\"}, {\"ax\": 0.3216236140546076, \"axref\": \"x\", \"ay\": 0.4350162873223867, \"ayref\": \"y\", \"opacity\": 1, \"showarrow\": true, \"x\": 0.6608118070273037, \"xref\": \"x\", \"y\": 0.19801533595146575, \"yref\": \"y\"}, {\"ax\": -0.6225065814043724, \"axref\": \"x\", \"ay\": 0.678891724274503, \"ayref\": \"y\", \"opacity\": 1, \"showarrow\": true, \"x\": -0.7553834861611662, \"xref\": \"x\", \"y\": 0.5638284913796401, \"yref\": \"y\"}, {\"ax\": -0.12429178524052384, \"axref\": \"x\", \"ay\": 0.9529425181946563, \"ayref\": \"y\", \"opacity\": 1, \"showarrow\": true, \"x\": -0.008061291915393384, \"xref\": \"x\", \"y\": 0.97490468225987, \"yref\": \"y\"}, {\"ax\": -0.20693954527439343, \"axref\": \"x\", \"ay\": 0.6197026184293605, \"ayref\": \"y\", \"opacity\": 1, \"showarrow\": true, \"x\": -0.13203293196619778, \"xref\": \"x\", \"y\": 0.4750448326119264, \"yref\": \"y\"}, {\"ax\": -0.48800635689407157, \"axref\": \"x\", \"ay\": 0.8083997884353928, \"ayref\": \"y\", \"opacity\": 1, \"showarrow\": true, \"x\": -0.553633149395715, \"xref\": \"x\", \"y\": 0.7580905876209749, \"yref\": \"y\"}, {\"ax\": -0.5243775739127919, \"axref\": \"x\", \"ay\": 0.2430988335499574, \"ayref\": \"y\", \"opacity\": 1, \"showarrow\": true, \"x\": -0.6081899749237955, \"xref\": \"x\", \"y\": -0.08986084470717817, \"yref\": \"y\"}, {\"ax\": -0.009000787503918889, \"axref\": \"x\", \"ay\": 0.2828908525609946, \"ayref\": \"y\", \"opacity\": 1, \"showarrow\": true, \"x\": 0.164875204689514, \"xref\": \"x\", \"y\": -0.03017281619062237, \"yref\": \"y\"}, {\"ax\": -0.228263109049754, \"axref\": \"x\", \"ay\": -0.04260071639154389, \"ayref\": \"y\", \"opacity\": 1, \"showarrow\": true, \"x\": -0.16401827762923865, \"xref\": \"x\", \"y\": -0.5184101696194302, \"yref\": \"y\"}, {\"ax\": -0.03721723321196041, \"axref\": \"x\", \"ay\": 0.7606965340232936, \"ayref\": \"y\", \"opacity\": 1, \"showarrow\": true, \"x\": 0.12255053612745177, \"xref\": \"x\", \"y\": 0.6865357060028262, \"yref\": \"y\"}, {\"ax\": -0.07902661443529448, \"axref\": \"x\", \"ay\": -0.5010462231374, \"ayref\": \"y\", \"opacity\": 1, \"showarrow\": true, \"x\": -0.018235442056808424, \"xref\": \"x\", \"y\": -0.5810568824165507, \"yref\": \"y\"}, {\"ax\": -0.4498663048643783, \"axref\": \"x\", \"ay\": -0.08168663451337685, \"ayref\": \"y\", \"opacity\": 1, \"showarrow\": true, \"x\": -0.5744949777004341, \"xref\": \"x\", \"y\": 0.04798250051948391, \"yref\": \"y\"}, {\"ax\": -0.5622084537974644, \"axref\": \"x\", \"ay\": -0.17370970317162635, \"ayref\": \"y\", \"opacity\": 1, \"showarrow\": true, \"x\": -0.7430082011000633, \"xref\": \"x\", \"y\": -0.09005210246789032, \"yref\": \"y\"}, {\"ax\": -0.040655056804944995, \"axref\": \"x\", \"ay\": -0.1970216435501522, \"ayref\": \"y\", \"opacity\": 1, \"showarrow\": true, \"x\": 0.03932189438871581, \"xref\": \"x\", \"y\": -0.1250200130356791, \"yref\": \"y\"}, {\"ax\": 0.22778954170182852, \"axref\": \"x\", \"ay\": -0.16330917411501286, \"ayref\": \"y\", \"opacity\": 1, \"showarrow\": true, \"x\": 0.4419887921488761, \"xref\": \"x\", \"y\": -0.0744513088829701, \"yref\": \"y\"}, {\"ax\": -0.14038442491425385, \"axref\": \"x\", \"ay\": 0.19505079322604685, \"ayref\": \"y\", \"opacity\": 1, \"showarrow\": true, \"x\": -0.11027215777524746, \"xref\": \"x\", \"y\": 0.46308864212861944, \"yref\": \"y\"}, {\"ax\": -0.4083839506976554, \"axref\": \"x\", \"ay\": -0.5373223995409935, \"ayref\": \"y\", \"opacity\": 1, \"showarrow\": true, \"x\": -0.5122714464503497, \"xref\": \"x\", \"y\": -0.6354711470219411, \"yref\": \"y\"}, {\"ax\": 0.29172011089323213, \"axref\": \"x\", \"ay\": -0.3267266801117691, \"ayref\": \"y\", \"opacity\": 1, \"showarrow\": true, \"x\": 0.5378846459359815, \"xref\": \"x\", \"y\": -0.31957756787810443, \"yref\": \"y\"}, {\"ax\": -0.5798236467245337, \"axref\": \"x\", \"ay\": -0.343941268289945, \"ayref\": \"y\", \"opacity\": 1, \"showarrow\": true, \"x\": -0.7694309904906672, \"xref\": \"x\", \"y\": -0.3453994501453682, \"yref\": \"y\"}, {\"ax\": 0.1384900351424413, \"axref\": \"x\", \"ay\": -0.5238122761547905, \"ayref\": \"y\", \"opacity\": 1, \"showarrow\": true, \"x\": 0.30803953230979525, \"xref\": \"x\", \"y\": -0.6152059619426365, \"yref\": \"y\"}, {\"ax\": 0.044964532090622275, \"axref\": \"x\", \"ay\": -0.6455248043361606, \"ayref\": \"y\", \"opacity\": 1, \"showarrow\": true, \"x\": 0.16775127773206672, \"xref\": \"x\", \"y\": -0.7977747542146916, \"yref\": \"y\"}, {\"ax\": -0.31769919551300163, \"axref\": \"x\", \"ay\": -0.21063115578657388, \"ayref\": \"y\", \"opacity\": 1, \"showarrow\": true, \"x\": -0.3762443136733692, \"xref\": \"x\", \"y\": -0.14543428139031161, \"yref\": \"y\"}, {\"ax\": 0.39969552040386663, \"axref\": \"x\", \"ay\": -0.1900052599992768, \"ayref\": \"y\", \"opacity\": 1, \"showarrow\": true, \"x\": 0.6998477602019333, \"xref\": \"x\", \"y\": -0.11449543770936599, \"yref\": \"y\"}, {\"ax\": -0.5444346750551133, \"axref\": \"x\", \"ay\": 0.053870176952839466, \"ayref\": \"y\", \"opacity\": 1, \"showarrow\": true, \"x\": -0.7163475329865366, \"xref\": \"x\", \"y\": 0.2513177177188084, \"yref\": \"y\"}, {\"ax\": -0.04621987889126476, \"axref\": \"x\", \"ay\": 0.3279209708729927, \"ayref\": \"y\", \"opacity\": 1, \"showarrow\": true, \"x\": 0.030974661259236154, \"xref\": \"x\", \"y\": 0.6623939085990384, \"yref\": \"y\"}, {\"ax\": -0.12886763892513436, \"axref\": \"x\", \"ay\": -0.00531892889230301, \"ayref\": \"y\", \"opacity\": 1, \"showarrow\": true, \"x\": -0.09299697879156824, \"xref\": \"x\", \"y\": 0.16253405895109468, \"yref\": \"y\"}, {\"ax\": -0.4099344505448125, \"axref\": \"x\", \"ay\": 0.18337824111372936, \"ayref\": \"y\", \"opacity\": 1, \"showarrow\": true, \"x\": -0.5145971962210854, \"xref\": \"x\", \"y\": 0.44557981396014323, \"yref\": \"y\"}, {\"ax\": -0.44630566756353285, \"axref\": \"x\", \"ay\": -0.38192271377170606, \"ayref\": \"y\", \"opacity\": 1, \"showarrow\": true, \"x\": -0.5691540217491659, \"xref\": \"x\", \"y\": -0.40237161836800994, \"yref\": \"y\"}, {\"ax\": 0.06907111884534019, \"axref\": \"x\", \"ay\": -0.3421306947606689, \"ayref\": \"y\", \"opacity\": 1, \"showarrow\": true, \"x\": 0.20391115786414354, \"xref\": \"x\", \"y\": -0.3426835898514541, \"yref\": \"y\"}, {\"ax\": -0.15019120270049494, \"axref\": \"x\", \"ay\": -0.6676222637132074, \"ayref\": \"y\", \"opacity\": 1, \"showarrow\": true, \"x\": -0.1249823244546091, \"xref\": \"x\", \"y\": -0.8309209432802619, \"yref\": \"y\"}, {\"ax\": 0.04085467313729867, \"axref\": \"x\", \"ay\": 0.1356749867016302, \"ayref\": \"y\", \"opacity\": 1, \"showarrow\": true, \"x\": 0.1615864893020813, \"xref\": \"x\", \"y\": 0.3740249323419945, \"yref\": \"y\"}, {\"ax\": 0.2600723798994134, \"axref\": \"x\", \"ay\": -0.683833594713092, \"ayref\": \"y\", \"opacity\": 1, \"showarrow\": true, \"x\": 0.15131405511054552, \"xref\": \"x\", \"y\": -0.6724505682043967, \"yref\": \"y\"}, {\"ax\": -0.11076731052967037, \"axref\": \"x\", \"ay\": -0.2644740060890689, \"ayref\": \"y\", \"opacity\": 1, \"showarrow\": true, \"x\": -0.4049454805330802, \"xref\": \"x\", \"y\": -0.04341118526836213, \"yref\": \"y\"}, {\"ax\": 0.63081910522794, \"axref\": \"x\", \"ay\": -0.5095140516874612, \"ayref\": \"y\", \"opacity\": 1, \"showarrow\": true, \"x\": 0.7074341431033354, \"xref\": \"x\", \"y\": -0.41097125366595044, \"yref\": \"y\"}, {\"ax\": -0.24072465238982577, \"axref\": \"x\", \"ay\": -0.526728639865637, \"ayref\": \"y\", \"opacity\": 1, \"showarrow\": true, \"x\": -0.5998814933233133, \"xref\": \"x\", \"y\": -0.4367931359332143, \"yref\": \"y\"}, {\"ax\": -0.2231094594627565, \"axref\": \"x\", \"ay\": -0.3564970747473184, \"ayref\": \"y\", \"opacity\": 1, \"showarrow\": true, \"x\": -0.5734587039327094, \"xref\": \"x\", \"y\": -0.18144578825573635, \"yref\": \"y\"}, {\"ax\": -0.07083545621010456, \"axref\": \"x\", \"ay\": 0.0005908695380372753, \"ayref\": \"y\", \"opacity\": 1, \"showarrow\": true, \"x\": -0.34504769905373145, \"xref\": \"x\", \"y\": 0.35418612817229717, \"yref\": \"y\"}, {\"ax\": 0.2984439375297629, \"axref\": \"x\", \"ay\": -0.3798090151258443, \"ayref\": \"y\", \"opacity\": 1, \"showarrow\": true, \"x\": 0.20887139155606976, \"xref\": \"x\", \"y\": -0.21641369882352515, \"yref\": \"y\"}, {\"ax\": 0.5668885360365364, \"axref\": \"x\", \"ay\": -0.3460965456907049, \"ayref\": \"y\", \"opacity\": 1, \"showarrow\": true, \"x\": 0.61153828931623, \"xref\": \"x\", \"y\": -0.16584499467081615, \"yref\": \"y\"}, {\"ax\": 0.19871456942045407, \"axref\": \"x\", \"ay\": 0.012263421650354767, \"ayref\": \"y\", \"opacity\": 1, \"showarrow\": true, \"x\": 0.059277339392106485, \"xref\": \"x\", \"y\": 0.3716949563407734, \"yref\": \"y\"}, {\"ax\": -0.06928495636294746, \"axref\": \"x\", \"ay\": -0.7201097711166856, \"ayref\": \"y\", \"opacity\": 1, \"showarrow\": true, \"x\": -0.3427219492829958, \"xref\": \"x\", \"y\": -0.7268648328097871, \"yref\": \"y\"}, {\"ax\": 0.38406352642533015, \"axref\": \"x\", \"ay\": -0.8283121759118526, \"ayref\": \"y\", \"opacity\": 1, \"showarrow\": true, \"x\": 0.3373007748994207, \"xref\": \"x\", \"y\": -0.8891684400025377, \"yref\": \"y\"}, {\"ax\": 0.021399798821706256, \"axref\": \"x\", \"ay\": -0.39341852736226596, \"ayref\": \"y\", \"opacity\": 1, \"showarrow\": true, \"x\": -0.20669481650601523, \"xref\": \"x\", \"y\": -0.23682796717815763, \"yref\": \"y\"}, {\"ax\": 0.7387945147385746, \"axref\": \"x\", \"ay\": -0.3727926315749689, \"ayref\": \"y\", \"opacity\": 1, \"showarrow\": true, \"x\": 0.8693972573692872, \"xref\": \"x\", \"y\": -0.20588912349721203, \"yref\": \"y\"}, {\"ax\": -0.20533568072040542, \"axref\": \"x\", \"ay\": -0.12891719462285262, \"ayref\": \"y\", \"opacity\": 1, \"showarrow\": true, \"x\": -0.5467980358191827, \"xref\": \"x\", \"y\": 0.15992403193096233, \"yref\": \"y\"}, {\"ax\": 0.29287911544344314, \"axref\": \"x\", \"ay\": 0.14513359929730063, \"ayref\": \"y\", \"opacity\": 1, \"showarrow\": true, \"x\": 0.2005241584265901, \"xref\": \"x\", \"y\": 0.5710002228111923, \"yref\": \"y\"}, {\"ax\": 0.21023135540957355, \"axref\": \"x\", \"ay\": -0.1881063004679951, \"ayref\": \"y\", \"opacity\": 1, \"showarrow\": true, \"x\": 0.07655251837578571, \"xref\": \"x\", \"y\": 0.07114037316324864, \"yref\": \"y\"}, {\"ax\": -0.10720667322882493, \"axref\": \"x\", \"ay\": -0.5647100853473982, \"ayref\": \"y\", \"opacity\": 1, \"showarrow\": true, \"x\": -0.39960452458181195, \"xref\": \"x\", \"y\": -0.49376530415585596, \"yref\": \"y\"}, {\"ax\": 0.4081701131800481, \"axref\": \"x\", \"ay\": -0.524918066336361, \"ayref\": \"y\", \"opacity\": 1, \"showarrow\": true, \"x\": 0.3734606550314975, \"xref\": \"x\", \"y\": -0.43407727563930015, \"yref\": \"y\"}, {\"ax\": 0.18890779163421298, \"axref\": \"x\", \"ay\": -0.8504096352888995, \"ayref\": \"y\", \"opacity\": 1, \"showarrow\": true, \"x\": 0.04456717271274485, \"xref\": \"x\", \"y\": -0.9223146290681079, \"yref\": \"y\"}, {\"ax\": 0.37995366747200654, \"axref\": \"x\", \"ay\": -0.047112384874061886, \"ayref\": \"y\", \"opacity\": 1, \"showarrow\": true, \"x\": 0.33113598646943526, \"xref\": \"x\", \"y\": 0.28263124655414845, \"yref\": \"y\"}, {\"ax\": -0.4406261090404923, \"axref\": \"x\", \"ay\": -0.33373102172992786, \"ayref\": \"y\", \"opacity\": 1, \"showarrow\": true, \"x\": -0.19903518935940734, \"xref\": \"x\", \"y\": -0.49739928171281467, \"yref\": \"y\"}, {\"ax\": -0.8114657994695761, \"axref\": \"x\", \"ay\": 0.0856285668940952, \"ayref\": \"y\", \"opacity\": 1, \"showarrow\": true, \"x\": -0.7552947250030331, \"xref\": \"x\", \"y\": 0.13164010122321995, \"yref\": \"y\"}, {\"ax\": -0.06987938371196567, \"axref\": \"x\", \"ay\": -0.15941147870429703, \"ayref\": \"y\", \"opacity\": 1, \"showarrow\": true, \"x\": 0.35708489863338255, \"xref\": \"x\", \"y\": -0.2359199671743684, \"yref\": \"y\"}, {\"ax\": -0.9414231413297315, \"axref\": \"x\", \"ay\": -0.17662606688247293, \"ayref\": \"y\", \"opacity\": 1, \"showarrow\": true, \"x\": -0.9502307377932662, \"xref\": \"x\", \"y\": -0.2617418494416322, \"yref\": \"y\"}, {\"ax\": -0.31663496251457557, \"axref\": \"x\", \"ay\": -0.47820960292868847, \"ayref\": \"y\", \"opacity\": 1, \"showarrow\": true, \"x\": -0.013048469570532184, \"xref\": \"x\", \"y\": -0.7141171535109556, \"yref\": \"y\"}, {\"ax\": -0.6792986901181994, \"axref\": \"x\", \"ay\": -0.043315954379101816, \"ayref\": \"y\", \"opacity\": 1, \"showarrow\": true, \"x\": -0.5570440609759681, \"xref\": \"x\", \"y\": -0.061776680686575575, \"yref\": \"y\"}, {\"ax\": -0.4022545514101428, \"axref\": \"x\", \"ay\": -0.029706442142680145, \"ayref\": \"y\", \"opacity\": 1, \"showarrow\": true, \"x\": -0.1414778529138831, \"xref\": \"x\", \"y\": -0.04136241233194308, \"yref\": \"y\"}, {\"ax\": -0.13380995290336928, \"axref\": \"x\", \"ay\": 0.004006027292459194, \"ayref\": \"y\", \"opacity\": 1, \"showarrow\": true, \"x\": 0.2611890448462772, \"xref\": \"x\", \"y\": 0.009206291820765935, \"yref\": \"y\"}, {\"ax\": -0.5019839195194516, \"axref\": \"x\", \"ay\": 0.36236599463351893, \"ayref\": \"y\", \"opacity\": 1, \"showarrow\": true, \"x\": -0.29107190507784636, \"xref\": \"x\", \"y\": 0.5467462428323554, \"yref\": \"y\"}, {\"ax\": -0.7699834453028531, \"axref\": \"x\", \"ay\": -0.37000719813352145, \"ayref\": \"y\", \"opacity\": 1, \"showarrow\": true, \"x\": -0.6930711937529487, \"xref\": \"x\", \"y\": -0.5518135463182051, \"yref\": \"y\"}, {\"ax\": 0.03809602579866883, \"axref\": \"x\", \"ay\": -0.02269005859180474, \"ayref\": \"y\", \"opacity\": 1, \"showarrow\": true, \"x\": 0.5190480128993343, \"xref\": \"x\", \"y\": -0.03083783700562997, \"yref\": \"y\"}, {\"ax\": -0.9060341696603111, \"axref\": \"x\", \"ay\": 0.22118537836031152, \"ayref\": \"y\", \"opacity\": 1, \"showarrow\": true, \"x\": -0.8971472802891356, \"xref\": \"x\", \"y\": 0.3349753184225444, \"yref\": \"y\"}, {\"ax\": -0.4078193734964626, \"axref\": \"x\", \"ay\": 0.4952361722804648, \"ayref\": \"y\", \"opacity\": 1, \"showarrow\": true, \"x\": -0.14982508604336275, \"xref\": \"x\", \"y\": 0.7460515093027743, \"yref\": \"y\"}, {\"ax\": -0.49046713353033217, \"axref\": \"x\", \"ay\": 0.16199627251516904, \"ayref\": \"y\", \"opacity\": 1, \"showarrow\": true, \"x\": -0.27379672609416716, \"xref\": \"x\", \"y\": 0.24619165965483072, \"yref\": \"y\"}, {\"ax\": -0.7715339451500103, \"axref\": \"x\", \"ay\": 0.35069344252120144, \"ayref\": \"y\", \"opacity\": 1, \"showarrow\": true, \"x\": -0.6953969435236843, \"xref\": \"x\", \"y\": 0.5292374146638792, \"yref\": \"y\"}, {\"ax\": -0.8079051621687307, \"axref\": \"x\", \"ay\": -0.21460751236423403, \"ayref\": \"y\", \"opacity\": 1, \"showarrow\": true, \"x\": -0.7499537690517648, \"xref\": \"x\", \"y\": -0.3187140176642739, \"yref\": \"y\"}, {\"ax\": -0.29252837575985763, \"axref\": \"x\", \"ay\": -0.17481549335319682, \"ayref\": \"y\", \"opacity\": 1, \"showarrow\": true, \"x\": 0.023111410561544643, \"xref\": \"x\", \"y\": -0.25902598914771807, \"yref\": \"y\"}, {\"ax\": -0.5117906973056927, \"axref\": \"x\", \"ay\": -0.5003070623057353, \"ayref\": \"y\", \"opacity\": 1, \"showarrow\": true, \"x\": -0.305782071757208, \"xref\": \"x\", \"y\": -0.7472633425765259, \"yref\": \"y\"}, {\"ax\": -0.3207448214678992, \"axref\": \"x\", \"ay\": 0.3029901881091023, \"ayref\": \"y\", \"opacity\": 1, \"showarrow\": true, \"x\": -0.019213258000517597, \"xref\": \"x\", \"y\": 0.45768253304573053, \"yref\": \"y\"}, {\"ax\": -0.2883521057878404, \"axref\": \"x\", \"ay\": 0.023356922555427817, \"ayref\": \"y\", \"opacity\": 1, \"showarrow\": true, \"x\": -0.12289818773308137, \"xref\": \"x\", \"y\": -0.31885530957013686, \"yref\": \"y\"}, {\"ax\": -0.6591917962169241, \"axref\": \"x\", \"ay\": 0.4427165111794509, \"ayref\": \"y\", \"opacity\": 1, \"showarrow\": true, \"x\": -0.6791577233767071, \"xref\": \"x\", \"y\": 0.3101840733658978, \"yref\": \"y\"}, {\"ax\": 0.08239461954068628, \"axref\": \"x\", \"ay\": 0.19767646558105867, \"ayref\": \"y\", \"opacity\": 1, \"showarrow\": true, \"x\": 0.4332219002597085, \"xref\": \"x\", \"y\": -0.05737599503169055, \"yref\": \"y\"}, {\"ax\": -0.7891491380770795, \"axref\": \"x\", \"ay\": 0.18046187740288278, \"ayref\": \"y\", \"opacity\": 1, \"showarrow\": true, \"x\": -0.8740937361669402, \"xref\": \"x\", \"y\": -0.08319787729895436, \"yref\": \"y\"}, {\"ax\": -0.1643609592619236, \"axref\": \"x\", \"ay\": -0.1211216586433328, \"ayref\": \"y\", \"opacity\": 1, \"showarrow\": true, \"x\": 0.06308853205579379, \"xref\": \"x\", \"y\": -0.5355731813682777, \"yref\": \"y\"}, {\"ax\": -0.5270246868655475, \"axref\": \"x\", \"ay\": 0.3137719899062539, \"ayref\": \"y\", \"opacity\": 1, \"showarrow\": true, \"x\": -0.4809070593496421, \"xref\": \"x\", \"y\": 0.11676729145610228, \"yref\": \"y\"}, {\"ax\": 0.19037002905132078, \"axref\": \"x\", \"ay\": 0.33439788569355094, \"ayref\": \"y\", \"opacity\": 1, \"showarrow\": true, \"x\": 0.5951850145256603, \"xref\": \"x\", \"y\": 0.1477061351370479, \"yref\": \"y\"}, {\"ax\": -0.7537601664076592, \"axref\": \"x\", \"ay\": 0.5782733226456672, \"ayref\": \"y\", \"opacity\": 1, \"showarrow\": true, \"x\": -0.8210102786628096, \"xref\": \"x\", \"y\": 0.5135192905652223, \"yref\": \"y\"}, {\"ax\": -0.25554537024381063, \"axref\": \"x\", \"ay\": 0.8523241165658204, \"ayref\": \"y\", \"opacity\": 1, \"showarrow\": true, \"x\": -0.07368808441703678, \"xref\": \"x\", \"y\": 0.9245954814454522, \"yref\": \"y\"}, {\"ax\": -0.3381931302776802, \"axref\": \"x\", \"ay\": 0.5190842168005247, \"ayref\": \"y\", \"opacity\": 1, \"showarrow\": true, \"x\": -0.1976597244678412, \"xref\": \"x\", \"y\": 0.42473563179750856, \"yref\": \"y\"}, {\"ax\": -0.24998054815749088, \"axref\": \"x\", \"ay\": 0.32738150214267553, \"ayref\": \"y\", \"opacity\": 1, \"showarrow\": true, \"x\": -0.06534085128755712, \"xref\": \"x\", \"y\": 0.13718155981073477, \"yref\": \"y\"}, {\"ax\": 0.018464050349282668, \"axref\": \"x\", \"ay\": 0.36109397157781487, \"ayref\": \"y\", \"opacity\": 1, \"showarrow\": true, \"x\": 0.33732604647260317, \"xref\": \"x\", \"y\": 0.1877502639634438, \"yref\": \"y\"}, {\"ax\": -0.3497099162667997, \"axref\": \"x\", \"ay\": 0.7194539389188745, \"ayref\": \"y\", \"opacity\": 1, \"showarrow\": true, \"x\": -0.2149349034515204, \"xref\": \"x\", \"y\": 0.7252902149750333, \"yref\": \"y\"}, {\"ax\": -0.6177094420502012, \"axref\": \"x\", \"ay\": -0.01291925384816578, \"ayref\": \"y\", \"opacity\": 1, \"showarrow\": true, \"x\": -0.6169341921266227, \"xref\": \"x\", \"y\": -0.3732695741755272, \"yref\": \"y\"}, {\"ax\": -0.6556311589160787, \"axref\": \"x\", \"ay\": 0.14248043192112167, \"ayref\": \"y\", \"opacity\": 1, \"showarrow\": true, \"x\": -0.6738167674254388, \"xref\": \"x\", \"y\": -0.14017004552159604, \"yref\": \"y\"}, {\"ax\": -0.14025437250720568, \"axref\": \"x\", \"ay\": 0.18227245093215888, \"ayref\": \"y\", \"opacity\": 1, \"showarrow\": true, \"x\": 0.09924841218787062, \"xref\": \"x\", \"y\": -0.08048201700504024, \"yref\": \"y\"}, {\"ax\": -0.3595166940530408, \"axref\": \"x\", \"ay\": -0.14321911802037962, \"ayref\": \"y\", \"opacity\": 1, \"showarrow\": true, \"x\": -0.22964507013088203, \"xref\": \"x\", \"y\": -0.568719370433848, \"yref\": \"y\"}, {\"ax\": -0.1684708182152472, \"axref\": \"x\", \"ay\": 0.660078132394458, \"ayref\": \"y\", \"opacity\": 1, \"showarrow\": true, \"x\": 0.056923743625808376, \"xref\": \"x\", \"y\": 0.6362265051884084, \"yref\": \"y\"}, {\"ax\": 0.08092728795202712, \"axref\": \"x\", \"ay\": -0.35704296210845377, \"ayref\": \"y\", \"opacity\": 1, \"showarrow\": true, \"x\": 0.06174150913685238, \"xref\": \"x\", \"y\": -0.5090552519020776, \"yref\": \"y\"}, {\"ax\": -0.2899124024770567, \"axref\": \"x\", \"ay\": 0.06231662651556935, \"ayref\": \"y\", \"opacity\": 1, \"showarrow\": true, \"x\": -0.49451802650677334, \"xref\": \"x\", \"y\": 0.11998413103395701, \"yref\": \"y\"}, {\"ax\": 0.45167401328055373, \"axref\": \"x\", \"ay\": -0.18272341908282289, \"ayref\": \"y\", \"opacity\": 1, \"showarrow\": true, \"x\": 0.6178615971296423, \"xref\": \"x\", \"y\": -0.24757593736363134, \"yref\": \"y\"}, {\"ax\": -0.4198697443372121, \"axref\": \"x\", \"ay\": -0.19993800726099878, \"ayref\": \"y\", \"opacity\": 1, \"showarrow\": true, \"x\": -0.6894540392970064, \"xref\": \"x\", \"y\": -0.27339781963089516, \"yref\": \"y\"}, {\"ax\": 0.2049184344779439, \"axref\": \"x\", \"ay\": -0.5015215433072143, \"ayref\": \"y\", \"opacity\": 1, \"showarrow\": true, \"x\": 0.24772822892572752, \"xref\": \"x\", \"y\": -0.7257731237002185, \"yref\": \"y\"}, {\"ax\": -0.15774529312568003, \"axref\": \"x\", \"ay\": -0.06662789475762768, \"ayref\": \"y\", \"opacity\": 1, \"showarrow\": true, \"x\": -0.29626736247970836, \"xref\": \"x\", \"y\": -0.0734326508758385, \"yref\": \"y\"}, {\"ax\": 0.5596494227911882, \"axref\": \"x\", \"ay\": -0.046001998970330596, \"ayref\": \"y\", \"opacity\": 1, \"showarrow\": true, \"x\": 0.7798247113955941, \"xref\": \"x\", \"y\": -0.042493807194892895, \"yref\": \"y\"}, {\"ax\": -0.38448077266779174, \"axref\": \"x\", \"ay\": 0.19787343798178567, \"ayref\": \"y\", \"opacity\": 1, \"showarrow\": true, \"x\": -0.6363705817928759, \"xref\": \"x\", \"y\": 0.32331934823328146, \"yref\": \"y\"}, {\"ax\": 0.11373402349605684, \"axref\": \"x\", \"ay\": 0.4719242319019389, \"ayref\": \"y\", \"opacity\": 1, \"showarrow\": true, \"x\": 0.11095161245289695, \"xref\": \"x\", \"y\": 0.7343955391135114, \"yref\": \"y\"}, {\"ax\": 0.031086263462187243, \"axref\": \"x\", \"ay\": 0.1386843321366432, \"ayref\": \"y\", \"opacity\": 1, \"showarrow\": true, \"x\": -0.013020027597907442, \"xref\": \"x\", \"y\": 0.23453568946556777, \"yref\": \"y\"}, {\"ax\": -0.28635176517621125, \"axref\": \"x\", \"ay\": -0.23791945274275988, \"ayref\": \"y\", \"opacity\": 1, \"showarrow\": true, \"x\": -0.4891770705555051, \"xref\": \"x\", \"y\": -0.33036998785353683, \"yref\": \"y\"}, {\"ax\": 0.01956947747306776, \"axref\": \"x\", \"ay\": 0.339054054254993, \"ayref\": \"y\", \"opacity\": 1, \"showarrow\": true, \"x\": -0.030295206581586666, \"xref\": \"x\", \"y\": 0.5350902726430925, \"yref\": \"y\"}, {\"ax\": -0.24843004831033377, \"axref\": \"x\", \"ay\": -0.39331913851204736, \"ayref\": \"y\", \"opacity\": 1, \"showarrow\": true, \"x\": -0.43229449525668895, \"xref\": \"x\", \"y\": -0.563469516507468, \"yref\": \"y\"}, {\"ax\": 0.3877434440891501, \"axref\": \"x\", \"ay\": -0.019305913086066665, \"ayref\": \"y\", \"opacity\": 1, \"showarrow\": true, \"x\": 0.5219657433425369, \"xref\": \"x\", \"y\": -0.0024496783684969953, \"yref\": \"y\"}, {\"ax\": 0.22902502123266177, \"axref\": \"x\", \"ay\": -0.19812743373172267, \"ayref\": \"y\", \"opacity\": 1, \"showarrow\": true, \"x\": 0.28388810905780437, \"xref\": \"x\", \"y\": -0.270681959336981, \"yref\": \"y\"}, {\"ax\": 0.009762699686826672, \"axref\": \"x\", \"ay\": -0.5236190026842612, \"ayref\": \"y\", \"opacity\": 1, \"showarrow\": true, \"x\": -0.0450053732609483, \"xref\": \"x\", \"y\": -0.7589193127657888, \"yref\": \"y\"}, {\"ax\": 0.20080857552462028, \"axref\": \"x\", \"ay\": 0.27967824773057637, \"ayref\": \"y\", \"opacity\": 1, \"showarrow\": true, \"x\": 0.2415634404957421, \"xref\": \"x\", \"y\": 0.4460265628564676, \"yref\": \"y\"}, {\"ax\": 0.34937188645880063, \"axref\": \"x\", \"ay\": -0.3233304926733144, \"ayref\": \"y\", \"opacity\": 1, \"showarrow\": true, \"x\": 0.19596380839023914, \"xref\": \"x\", \"y\": -0.4921990171845079, \"yref\": \"y\"}, {\"ax\": -0.02146780397028314, \"axref\": \"x\", \"ay\": 0.09602909595070869, \"ayref\": \"y\", \"opacity\": 1, \"showarrow\": true, \"x\": -0.3602957272533866, \"xref\": \"x\", \"y\": 0.1368403657515267, \"yref\": \"y\"}, {\"ax\": 0.7201186117873273, \"axref\": \"x\", \"ay\": -0.14901094964768355, \"ayref\": \"y\", \"opacity\": 1, \"showarrow\": true, \"x\": 0.752083896383029, \"xref\": \"x\", \"y\": -0.23071970264606168, \"yref\": \"y\"}, {\"ax\": -0.15142514583043853, \"axref\": \"x\", \"ay\": -0.16622553782585944, \"ayref\": \"y\", \"opacity\": 1, \"showarrow\": true, \"x\": -0.5552317400436197, \"xref\": \"x\", \"y\": -0.25654158491332546, \"yref\": \"y\"}, {\"ax\": 0.4733630329847174, \"axref\": \"x\", \"ay\": -0.46780907387207504, \"ayref\": \"y\", \"opacity\": 1, \"showarrow\": true, \"x\": 0.3819505281791143, \"xref\": \"x\", \"y\": -0.7089168889826488, \"yref\": \"y\"}, {\"ax\": 0.11069930538109349, \"axref\": \"x\", \"ay\": -0.03291542532248833, \"ayref\": \"y\", \"opacity\": 1, \"showarrow\": true, \"x\": -0.16204506322632162, \"xref\": \"x\", \"y\": -0.05657641615826883, \"yref\": \"y\"}, {\"ax\": 0.8280940212979617, \"axref\": \"x\", \"ay\": -0.01228952953519126, \"ayref\": \"y\", \"opacity\": 1, \"showarrow\": true, \"x\": 0.9140470106489809, \"xref\": \"x\", \"y\": -0.025637572477323227, \"yref\": \"y\"}, {\"ax\": -0.11603617416101819, \"axref\": \"x\", \"ay\": 0.231585907416925, \"ayref\": \"y\", \"opacity\": 1, \"showarrow\": true, \"x\": -0.5021482825394892, \"xref\": \"x\", \"y\": 0.34017558295085115, \"yref\": \"y\"}, {\"ax\": 0.38217862200283037, \"axref\": \"x\", \"ay\": 0.5056367013370783, \"ayref\": \"y\", \"opacity\": 1, \"showarrow\": true, \"x\": 0.24517391170628372, \"xref\": \"x\", \"y\": 0.7512517738310811, \"yref\": \"y\"}, {\"ax\": 0.2995308619689608, \"axref\": \"x\", \"ay\": 0.17239680157178253, \"ayref\": \"y\", \"opacity\": 1, \"showarrow\": true, \"x\": 0.12120227165547932, \"xref\": \"x\", \"y\": 0.25139192418313744, \"yref\": \"y\"}, {\"ax\": -0.017907166669437702, \"axref\": \"x\", \"ay\": -0.20420698330762055, \"ayref\": \"y\", \"opacity\": 1, \"showarrow\": true, \"x\": -0.35495477130211833, \"xref\": \"x\", \"y\": -0.31351375313596713, \"yref\": \"y\"}, {\"ax\": 0.2880140759798413, \"axref\": \"x\", \"ay\": 0.3727665236901324, \"ayref\": \"y\", \"opacity\": 1, \"showarrow\": true, \"x\": 0.1039270926718001, \"xref\": \"x\", \"y\": 0.5519465073606622, \"yref\": \"y\"}, {\"ax\": 0.020014550196439773, \"axref\": \"x\", \"ay\": -0.35960666907690797, \"ayref\": \"y\", \"opacity\": 1, \"showarrow\": true, \"x\": -0.2980721960033022, \"xref\": \"x\", \"y\": -0.5466132817898983, \"yref\": \"y\"}, {\"ax\": 0.4974696197394353, \"axref\": \"x\", \"ay\": -0.16441496429658334, \"ayref\": \"y\", \"opacity\": 1, \"showarrow\": true, \"x\": 0.4181104083111911, \"xref\": \"x\", \"y\": -0.25382572461941133, \"yref\": \"y\"}, {\"ax\": 0.2782072981936002, \"axref\": \"x\", \"ay\": -0.4899065332491218, \"ayref\": \"y\", \"opacity\": 1, \"showarrow\": true, \"x\": 0.08921692599243847, \"xref\": \"x\", \"y\": -0.7420630780482191, \"yref\": \"y\"}, {\"ax\": 0.46925317403139377, \"axref\": \"x\", \"ay\": 0.31339071716571576, \"ayref\": \"y\", \"opacity\": 1, \"showarrow\": true, \"x\": 0.3757857397491289, \"xref\": \"x\", \"y\": 0.4628827975740373, \"yref\": \"y\"}, {\"ax\": -0.018802080157281725, \"axref\": \"x\", \"ay\": 0.03502947466774531, \"ayref\": \"y\", \"opacity\": 1, \"showarrow\": true, \"x\": 0.011876825082197954, \"xref\": \"x\", \"y\": -0.3130190335139781, \"yref\": \"y\"}, {\"ax\": -0.3896417705863655, \"axref\": \"x\", \"ay\": 0.4543890632917684, \"ayref\": \"y\", \"opacity\": 1, \"showarrow\": true, \"x\": -0.5443827105614278, \"xref\": \"x\", \"y\": 0.31602034942205653, \"yref\": \"y\"}, {\"ax\": 0.3519446451712449, \"axref\": \"x\", \"ay\": 0.20934901769337616, \"ayref\": \"y\", \"opacity\": 1, \"showarrow\": true, \"x\": 0.5679969130749878, \"xref\": \"x\", \"y\": -0.051539718975531806, \"yref\": \"y\"}, {\"ax\": -0.5195991124465209, \"axref\": \"x\", \"ay\": 0.19213442951520027, \"ayref\": \"y\", \"opacity\": 1, \"showarrow\": true, \"x\": -0.7393187233516609, \"xref\": \"x\", \"y\": -0.07736160124279562, \"yref\": \"y\"}, {\"ax\": 0.10518906636863504, \"axref\": \"x\", \"ay\": -0.1094491065310153, \"ayref\": \"y\", \"opacity\": 1, \"showarrow\": true, \"x\": 0.1978635448710731, \"xref\": \"x\", \"y\": -0.529736905312119, \"yref\": \"y\"}, {\"ax\": -0.2574746612349889, \"axref\": \"x\", \"ay\": 0.32544454201857137, \"ayref\": \"y\", \"opacity\": 1, \"showarrow\": true, \"x\": -0.3461320465343628, \"xref\": \"x\", \"y\": 0.12260356751226102, \"yref\": \"y\"}, {\"ax\": 0.4599200546818794, \"axref\": \"x\", \"ay\": 0.34607043780586844, \"ayref\": \"y\", \"opacity\": 1, \"showarrow\": true, \"x\": 0.7299600273409396, \"xref\": \"x\", \"y\": 0.15354241119320663, \"yref\": \"y\"}, {\"ax\": -0.48421014077710056, \"axref\": \"x\", \"ay\": 0.5899458747579847, \"ayref\": \"y\", \"opacity\": 1, \"showarrow\": true, \"x\": -0.6862352658475304, \"xref\": \"x\", \"y\": 0.5193555666213809, \"yref\": \"y\"}, {\"ax\": 0.014004655386747993, \"axref\": \"x\", \"ay\": 0.863996668678138, \"ayref\": \"y\", \"opacity\": 1, \"showarrow\": true, \"x\": 0.061086928398242535, \"xref\": \"x\", \"y\": 0.930431757501611, \"yref\": \"y\"}, {\"ax\": -0.0686431046471216, \"axref\": \"x\", \"ay\": 0.5307567689128423, \"ayref\": \"y\", \"opacity\": 1, \"showarrow\": true, \"x\": -0.06288471165256186, \"xref\": \"x\", \"y\": 0.4305719078536673, \"yref\": \"y\"}, {\"ax\": -0.3860811332855201, \"axref\": \"x\", \"ay\": 0.15415298403343916, \"ayref\": \"y\", \"opacity\": 1, \"showarrow\": true, \"x\": -0.5390417546101596, \"xref\": \"x\", \"y\": -0.1343337694654373, \"yref\": \"y\"}, {\"ax\": 0.12929565312335295, \"axref\": \"x\", \"ay\": 0.19394500304447637, \"ayref\": \"y\", \"opacity\": 1, \"showarrow\": true, \"x\": 0.23402342500314993, \"xref\": \"x\", \"y\": -0.07464574094888149, \"yref\": \"y\"}, {\"ax\": -0.08996666842248217, \"axref\": \"x\", \"ay\": -0.13154656590806213, \"ayref\": \"y\", \"opacity\": 1, \"showarrow\": true, \"x\": -0.09487005731560272, \"xref\": \"x\", \"y\": -0.5628830943776892, \"yref\": \"y\"}, {\"ax\": 0.10107920741531143, \"axref\": \"x\", \"ay\": 0.6717506845067754, \"ayref\": \"y\", \"opacity\": 1, \"showarrow\": true, \"x\": 0.1916987564410877, \"xref\": \"x\", \"y\": 0.6420627812445672, \"yref\": \"y\"}, {\"ax\": -0.3481594164196426, \"axref\": \"x\", \"ay\": -0.001246701735848288, \"ayref\": \"y\", \"opacity\": 1, \"showarrow\": true, \"x\": -0.4821591793113434, \"xref\": \"x\", \"y\": -0.3674332981193685, \"yref\": \"y\"}, {\"ax\": -0.28680160594068327, \"axref\": \"x\", \"ay\": -0.6973437180992951, \"ayref\": \"y\", \"opacity\": 1, \"showarrow\": true, \"x\": -0.12212293780950281, \"xref\": \"x\", \"y\": -0.6792056298974982, \"yref\": \"y\"}, {\"ax\": -0.6576412963697671, \"axref\": \"x\", \"ay\": -0.27798412947527196, \"ayref\": \"y\", \"opacity\": 1, \"showarrow\": true, \"x\": -0.6783824734531285, \"xref\": \"x\", \"y\": -0.050166246961463656, \"yref\": \"y\"}, {\"ax\": 0.08394511938784338, \"axref\": \"x\", \"ay\": -0.5230241750736642, \"ayref\": \"y\", \"opacity\": 1, \"showarrow\": true, \"x\": 0.4339971501832871, \"xref\": \"x\", \"y\": -0.417726315359052, \"yref\": \"y\"}, {\"ax\": -0.7875986382299225, \"axref\": \"x\", \"ay\": -0.5402387632518402, \"ayref\": \"y\", \"opacity\": 1, \"showarrow\": true, \"x\": -0.8733184862433616, \"xref\": \"x\", \"y\": -0.4435481976263158, \"yref\": \"y\"}, {\"ax\": -0.1628104594147665, \"axref\": \"x\", \"ay\": -0.8418222992980557, \"ayref\": \"y\", \"opacity\": 1, \"showarrow\": true, \"x\": 0.06386378197937234, \"xref\": \"x\", \"y\": -0.8959235016956392, \"yref\": \"y\"}, {\"ax\": -0.5254741870183904, \"axref\": \"x\", \"ay\": -0.406928650748469, \"ayref\": \"y\", \"opacity\": 1, \"showarrow\": true, \"x\": -0.4801318094260636, \"xref\": \"x\", \"y\": -0.24358302887125916, \"yref\": \"y\"}, {\"ax\": 0.19192052889847788, \"axref\": \"x\", \"ay\": -0.38630275496117195, \"ayref\": \"y\", \"opacity\": 1, \"showarrow\": true, \"x\": 0.5959602644492389, \"xref\": \"x\", \"y\": -0.21264418519031356, \"yref\": \"y\"}, {\"ax\": -0.752209666560502, \"axref\": \"x\", \"ay\": -0.14242731800905567, \"ayref\": \"y\", \"opacity\": 1, \"showarrow\": true, \"x\": -0.820235028739231, \"xref\": \"x\", \"y\": 0.1531689702378608, \"yref\": \"y\"}, {\"ax\": -0.2539948703966535, \"axref\": \"x\", \"ay\": 0.13162347591109758, \"ayref\": \"y\", \"opacity\": 1, \"showarrow\": true, \"x\": -0.07291283449345823, \"xref\": \"x\", \"y\": 0.5642451611180908, \"yref\": \"y\"}, {\"ax\": -0.3366426304305231, \"axref\": \"x\", \"ay\": -0.20161642385419815, \"ayref\": \"y\", \"opacity\": 1, \"showarrow\": true, \"x\": -0.1968844745442626, \"xref\": \"x\", \"y\": 0.06438531147014712, \"yref\": \"y\"}, {\"ax\": -0.6540806590689217, \"axref\": \"x\", \"ay\": -0.5782202087336012, \"ayref\": \"y\", \"opacity\": 1, \"showarrow\": true, \"x\": -0.6730415175018603, \"xref\": \"x\", \"y\": -0.5005203658489574, \"yref\": \"y\"}, {\"ax\": -0.13870387266004858, \"axref\": \"x\", \"ay\": -0.538428189722564, \"ayref\": \"y\", \"opacity\": 1, \"showarrow\": true, \"x\": 0.10002366211144917, \"xref\": \"x\", \"y\": -0.4408323373324017, \"yref\": \"y\"}, {\"ax\": -0.3579661942058837, \"axref\": \"x\", \"ay\": -0.8639197586751025, \"ayref\": \"y\", \"opacity\": 1, \"showarrow\": true, \"x\": -0.22886982020730348, \"xref\": \"x\", \"y\": -0.9290696907612095, \"yref\": \"y\"}, {\"ax\": -0.1669203183680901, \"axref\": \"x\", \"ay\": -0.06062250826026494, \"ayref\": \"y\", \"opacity\": 1, \"showarrow\": true, \"x\": 0.05769899354938693, \"xref\": \"x\", \"y\": 0.2758761848610469, \"yref\": \"y\"}, {\"ax\": -0.3282839601074062, \"axref\": \"x\", \"ay\": -0.2417079530716784, \"ayref\": \"y\", \"opacity\": 1, \"showarrow\": true, \"x\": -0.5137038053219481, \"xref\": \"x\", \"y\": -0.03202815875966686, \"yref\": \"y\"}, {\"ax\": 0.41330245565020424, \"axref\": \"x\", \"ay\": -0.4867479986700706, \"ayref\": \"y\", \"opacity\": 1, \"showarrow\": true, \"x\": 0.5986758183144675, \"xref\": \"x\", \"y\": -0.39958822715725517, \"yref\": \"y\"}, {\"ax\": 0.1665468768475944, \"axref\": \"x\", \"ay\": -0.805546122894462, \"ayref\": \"y\", \"opacity\": 1, \"showarrow\": true, \"x\": 0.22854245011055277, \"xref\": \"x\", \"y\": -0.8777854134938423, \"yref\": \"y\"}, {\"ax\": -0.19611685075602953, \"axref\": \"x\", \"ay\": -0.3706524743448754, \"ayref\": \"y\", \"opacity\": 1, \"showarrow\": true, \"x\": -0.3154531412948831, \"xref\": \"x\", \"y\": -0.22544494066946236, \"yref\": \"y\"}, {\"ax\": -0.42285233029814123, \"axref\": \"x\", \"ay\": -0.10615114160546207, \"ayref\": \"y\", \"opacity\": 1, \"showarrow\": true, \"x\": -0.6555563606080507, \"xref\": \"x\", \"y\": 0.1713070584396576, \"yref\": \"y\"}, {\"ax\": 0.07536246586570736, \"axref\": \"x\", \"ay\": 0.16789965231469117, \"ayref\": \"y\", \"opacity\": 1, \"showarrow\": true, \"x\": 0.09176583363772221, \"xref\": \"x\", \"y\": 0.5823832493198875, \"yref\": \"y\"}, {\"ax\": -0.007285294168162242, \"axref\": \"x\", \"ay\": -0.16534024745060455, \"ayref\": \"y\", \"opacity\": 1, \"showarrow\": true, \"x\": -0.03220580641308218, \"xref\": \"x\", \"y\": 0.08252339967194391, \"yref\": \"y\"}, {\"ax\": -0.32472332280656074, \"axref\": \"x\", \"ay\": -0.5419440323300077, \"ayref\": \"y\", \"opacity\": 1, \"showarrow\": true, \"x\": -0.5083628493706799, \"xref\": \"x\", \"y\": -0.4823822776471607, \"yref\": \"y\"}, {\"ax\": 0.1906534636023123, \"axref\": \"x\", \"ay\": -0.5021520133189704, \"ayref\": \"y\", \"opacity\": 1, \"showarrow\": true, \"x\": 0.2647023302426296, \"xref\": \"x\", \"y\": -0.4226942491306049, \"yref\": \"y\"}, {\"ax\": -0.028608857943522813, \"axref\": \"x\", \"ay\": -0.8276435822715089, \"ayref\": \"y\", \"opacity\": 1, \"showarrow\": true, \"x\": -0.06419115207612304, \"xref\": \"x\", \"y\": -0.9109316025594127, \"yref\": \"y\"}, {\"ax\": 0.16243701789427079, \"axref\": \"x\", \"ay\": -0.024346331856671344, \"ayref\": \"y\", \"opacity\": 1, \"showarrow\": true, \"x\": 0.22237766168056736, \"xref\": \"x\", \"y\": 0.2940142730628437, \"yref\": \"y\"}, {\"ax\": -0.4582413019675616, \"axref\": \"x\", \"ay\": -0.5039625868482465, \"ayref\": \"y\", \"opacity\": 1, \"showarrow\": true, \"x\": -0.7086398181121812, \"xref\": \"x\", \"y\": -0.425410109424519, \"yref\": \"y\"}, {\"ax\": 0.5212778651608387, \"axref\": \"x\", \"ay\": -0.35002657855757835, \"ayref\": \"y\", \"opacity\": 1, \"showarrow\": true, \"x\": 0.7606389325804193, \"xref\": \"x\", \"y\": -0.19450609698851676, \"yref\": \"y\"}, {\"ax\": -0.2042928135814894, \"axref\": \"x\", \"ay\": -0.38618653427043903, \"ayref\": \"y\", \"opacity\": 1, \"showarrow\": true, \"x\": 0.043122604896010885, \"xref\": \"x\", \"y\": -0.6681056191818309, \"yref\": \"y\"}, {\"ax\": -0.29547722456337644, \"axref\": \"x\", \"ay\": 0.5872592409387143, \"ayref\": \"y\", \"opacity\": 1, \"showarrow\": true, \"x\": -0.09365401157681968, \"xref\": \"x\", \"y\": 0.792063043631899, \"yref\": \"y\"}, {\"ax\": -0.378124984597246, \"axref\": \"x\", \"ay\": 0.2540193411734185, \"ayref\": \"y\", \"opacity\": 1, \"showarrow\": true, \"x\": -0.2176256516276241, \"xref\": \"x\", \"y\": 0.29220319398395544, \"yref\": \"y\"}, {\"ax\": -0.6955630132356445, \"axref\": \"x\", \"ay\": -0.12258444370598454, \"ayref\": \"y\", \"opacity\": 1, \"showarrow\": true, \"x\": -0.6937826945852217, \"xref\": \"x\", \"y\": -0.2727024833351491, \"yref\": \"y\"}, {\"ax\": 0.04246276522112047, \"axref\": \"x\", \"ay\": -0.06738841004604754, \"ayref\": \"y\", \"opacity\": 1, \"showarrow\": true, \"x\": 0.4132559730999256, \"xref\": \"x\", \"y\": -0.18990843284524367, \"yref\": \"y\"}, {\"ax\": -0.8290809923966453, \"axref\": \"x\", \"ay\": -0.08460299822422343, \"ayref\": \"y\", \"opacity\": 1, \"showarrow\": true, \"x\": -0.894059663326723, \"xref\": \"x\", \"y\": -0.21573031511250745, \"yref\": \"y\"}, {\"ax\": -0.5669565411851133, \"axref\": \"x\", \"ay\": 0.04870711427914768, \"ayref\": \"y\", \"opacity\": 1, \"showarrow\": true, \"x\": -0.500872986509425, \"xref\": \"x\", \"y\": -0.015765146357450827, \"yref\": \"y\"}, {\"ax\": 0.15043817473175497, \"axref\": \"x\", \"ay\": 0.06933301006644475, \"ayref\": \"y\", \"opacity\": 1, \"showarrow\": true, \"x\": 0.5752190873658773, \"xref\": \"x\", \"y\": 0.01517369732349478, \"yref\": \"y\"}, {\"ax\": -0.793692020727225, \"axref\": \"x\", \"ay\": 0.313208447018561, \"ayref\": \"y\", \"opacity\": 1, \"showarrow\": true, \"x\": -0.8409762058225925, \"xref\": \"x\", \"y\": 0.38098685275166916, \"yref\": \"y\"}, {\"ax\": -0.1801862268267715, \"axref\": \"x\", \"ay\": -0.08279242469494733, \"ayref\": \"y\", \"opacity\": 1, \"showarrow\": true, \"x\": 0.07928248502808771, \"xref\": \"x\", \"y\": -0.21301445481859332, \"yref\": \"y\"}, {\"ax\": -0.3994485483726066, \"axref\": \"x\", \"ay\": -0.4082839936474858, \"ayref\": \"y\", \"opacity\": 1, \"showarrow\": true, \"x\": -0.24961099729066494, \"xref\": \"x\", \"y\": -0.7012518082474012, \"yref\": \"y\"}, {\"ax\": -0.208402672534813, \"axref\": \"x\", \"ay\": 0.3950132567673518, \"ayref\": \"y\", \"opacity\": 1, \"showarrow\": true, \"x\": 0.03695781646602547, \"xref\": \"x\", \"y\": 0.5036940673748552, \"yref\": \"y\"}, {\"ax\": 0.537293602176121, \"axref\": \"x\", \"ay\": -0.6312265798688312, \"ayref\": \"y\", \"opacity\": 1, \"showarrow\": true, \"x\": 0.4139158127748161, \"xref\": \"x\", \"y\": -0.7906256419810269, \"yref\": \"y\"}, {\"ax\": -0.05210560496961458, \"axref\": \"x\", \"ay\": 0.06816840142016878, \"ayref\": \"y\", \"opacity\": 1, \"showarrow\": true, \"x\": -0.4701829979437873, \"xref\": \"x\", \"y\": 0.25846682995247305, \"yref\": \"y\"}, {\"ax\": 0.446109191194234, \"axref\": \"x\", \"ay\": 0.342219195340322, \"ayref\": \"y\", \"opacity\": 1, \"showarrow\": true, \"x\": 0.2771391963019855, \"xref\": \"x\", \"y\": 0.669543020832703, \"yref\": \"y\"}, {\"ax\": 0.3634614311603644, \"axref\": \"x\", \"ay\": 0.008979295575026303, \"ayref\": \"y\", \"opacity\": 1, \"showarrow\": true, \"x\": 0.15316755625118111, \"xref\": \"x\", \"y\": 0.16968317118475934, \"yref\": \"y\"}, {\"ax\": 0.046023402521965906, \"axref\": \"x\", \"ay\": -0.36762448930437674, \"ayref\": \"y\", \"opacity\": 1, \"showarrow\": true, \"x\": -0.32298948670641653, \"xref\": \"x\", \"y\": -0.3952225061343453, \"yref\": \"y\"}, {\"ax\": 0.5614001889308389, \"axref\": \"x\", \"ay\": -0.32783247029333956, \"ayref\": \"y\", \"opacity\": 1, \"showarrow\": true, \"x\": 0.4500756929068929, \"xref\": \"x\", \"y\": -0.33553447761778943, \"yref\": \"y\"}, {\"ax\": 0.3421378673850038, \"axref\": \"x\", \"ay\": -0.6533240392458781, \"ayref\": \"y\", \"opacity\": 1, \"showarrow\": true, \"x\": 0.12118221058814027, \"xref\": \"x\", \"y\": -0.8237718310465972, \"yref\": \"y\"}, {\"ax\": 0.5331837432227974, \"axref\": \"x\", \"ay\": 0.1499732111689595, \"ayref\": \"y\", \"opacity\": 1, \"showarrow\": true, \"x\": 0.4077510243448307, \"xref\": \"x\", \"y\": 0.3811740445756592, \"yref\": \"y\"}, {\"ax\": -0.08749457663903493, \"axref\": \"x\", \"ay\": -0.32964304382261567, \"ayref\": \"y\", \"opacity\": 1, \"showarrow\": true, \"x\": -0.5232664554479178, \"xref\": \"x\", \"y\": -0.33825033791170356, \"yref\": \"y\"}, {\"ax\": 0.1746298745724971, \"axref\": \"x\", \"ay\": -0.19633293131924456, \"ayref\": \"y\", \"opacity\": 1, \"showarrow\": true, \"x\": -0.1300797786306198, \"xref\": \"x\", \"y\": -0.13828516915664696, \"yref\": \"y\"}, {\"ax\": 0.8920245904893653, \"axref\": \"x\", \"ay\": -0.1757070355319475, \"ayref\": \"y\", \"opacity\": 1, \"showarrow\": true, \"x\": 0.9460122952446826, \"xref\": \"x\", \"y\": -0.10734632547570133, \"yref\": \"y\"}, {\"ax\": -0.3342501554416448, \"axref\": \"x\", \"ay\": -0.6484411680470071, \"ayref\": \"y\", \"opacity\": 1, \"showarrow\": true, \"x\": -0.6466442448492228, \"xref\": \"x\", \"y\": -0.49764940002389935, \"yref\": \"y\"}, {\"ax\": 0.1993536123916241, \"axref\": \"x\", \"ay\": 0.02342107111593056, \"ayref\": \"y\", \"opacity\": 1, \"showarrow\": true, \"x\": 0.15376140690068058, \"xref\": \"x\", \"y\": 0.5101439587205072, \"yref\": \"y\"}, {\"ax\": 0.11670585235775452, \"axref\": \"x\", \"ay\": -0.30981882864936516, \"ayref\": \"y\", \"opacity\": 1, \"showarrow\": true, \"x\": 0.029789766849876193, \"xref\": \"x\", \"y\": 0.010284109072563608, \"yref\": \"y\"}, {\"ax\": -0.20073217628064396, \"axref\": \"x\", \"ay\": -0.6864226135287682, \"ayref\": \"y\", \"opacity\": 1, \"showarrow\": true, \"x\": -0.4463672761077215, \"xref\": \"x\", \"y\": -0.554621568246541, \"yref\": \"y\"}, {\"ax\": -0.07212570423011277, \"axref\": \"x\", \"ay\": -0.515131055543636, \"ayref\": \"y\", \"opacity\": 1, \"showarrow\": true, \"x\": -0.25345756803192476, \"xref\": \"x\", \"y\": -0.2976842312688427, \"yref\": \"y\"}, {\"ax\": 0.6452690116867555, \"axref\": \"x\", \"ay\": -0.49450515975633896, \"ayref\": \"y\", \"opacity\": 1, \"showarrow\": true, \"x\": 0.8226345058433777, \"xref\": \"x\", \"y\": -0.26674538758789706, \"yref\": \"y\"}, {\"ax\": -0.2988611837722245, \"axref\": \"x\", \"ay\": -0.2506297228042227, \"ayref\": \"y\", \"opacity\": 1, \"showarrow\": true, \"x\": -0.5935607873450922, \"xref\": \"x\", \"y\": 0.0990677678402773, \"yref\": \"y\"}, {\"ax\": 0.3146446101282291, \"axref\": \"x\", \"ay\": -0.6466305945177311, \"ayref\": \"y\", \"opacity\": 1, \"showarrow\": true, \"x\": 0.32669790350558797, \"xref\": \"x\", \"y\": -0.4949335397299852, \"yref\": \"y\"}, {\"ax\": 0.09538228858239395, \"axref\": \"x\", \"ay\": -0.9721221634702695, \"ayref\": \"y\", \"opacity\": 1, \"showarrow\": true, \"x\": -0.002195578813164664, \"xref\": \"x\", \"y\": -0.983170893158793, \"yref\": \"y\"}, {\"ax\": 0.28642816442018754, \"axref\": \"x\", \"ay\": -0.16882491305543196, \"ayref\": \"y\", \"opacity\": 1, \"showarrow\": true, \"x\": 0.28437323494352573, \"xref\": \"x\", \"y\": 0.22177498246346342, \"yref\": \"y\"}, {\"ax\": -0.6969138830452687, \"axref\": \"x\", \"ay\": -0.21354751949742046, \"ayref\": \"y\", \"opacity\": 1, \"showarrow\": true, \"x\": -0.8279761086510348, \"xref\": \"x\", \"y\": -0.28020257574910595, \"yref\": \"y\"}, {\"ax\": -0.6615249113758483, \"axref\": \"x\", \"ay\": 0.184263925745364, \"ayref\": \"y\", \"opacity\": 1, \"showarrow\": true, \"x\": -0.7748926511469042, \"xref\": \"x\", \"y\": 0.31651459211507066, \"yref\": \"y\"}, {\"ax\": -0.1633101152119998, \"axref\": \"x\", \"ay\": 0.45831471966551723, \"ayref\": \"y\", \"opacity\": 1, \"showarrow\": true, \"x\": -0.02757045690113137, \"xref\": \"x\", \"y\": 0.7275907829953006, \"yref\": \"y\"}, {\"ax\": -0.2459578752458694, \"axref\": \"x\", \"ay\": 0.1250748199002215, \"ayref\": \"y\", \"opacity\": 1, \"showarrow\": true, \"x\": -0.15154209695193577, \"xref\": \"x\", \"y\": 0.22773093334735695, \"yref\": \"y\"}, {\"ax\": -0.5633959038842679, \"axref\": \"x\", \"ay\": -0.25152896497918154, \"ayref\": \"y\", \"opacity\": 1, \"showarrow\": true, \"x\": -0.6276991399095334, \"xref\": \"x\", \"y\": -0.3371747439717476, \"yref\": \"y\"}, {\"ax\": -0.04801911747539486, \"axref\": \"x\", \"ay\": -0.21173694596814435, \"ayref\": \"y\", \"opacity\": 1, \"showarrow\": true, \"x\": 0.14536603970377604, \"xref\": \"x\", \"y\": -0.2774867154551918, \"yref\": \"y\"}, {\"ax\": -0.26728143902122997, \"axref\": \"x\", \"ay\": -0.5372285149206828, \"ayref\": \"y\", \"opacity\": 1, \"showarrow\": true, \"x\": -0.1835274426149766, \"xref\": \"x\", \"y\": -0.7657240688839997, \"yref\": \"y\"}, {\"ax\": -0.07623556318343638, \"axref\": \"x\", \"ay\": 0.2660687354941547, \"ayref\": \"y\", \"opacity\": 1, \"showarrow\": true, \"x\": 0.10304137114171379, \"xref\": \"x\", \"y\": 0.4392218067382568, \"yref\": \"y\"}, {\"ax\": 0.28260528408313157, \"axref\": \"x\", \"ay\": -0.05961151120675227, \"ayref\": \"y\", \"opacity\": 1, \"showarrow\": true, \"x\": 0.6413026420415657, \"xref\": \"x\", \"y\": -0.04929856331310373, \"yref\": \"y\"}, {\"ax\": -0.9236493625873804, \"axref\": \"x\", \"ay\": 0.050953813241992885, \"ayref\": \"y\", \"opacity\": 1, \"showarrow\": true, \"x\": -0.9413438484220906, \"xref\": \"x\", \"y\": -0.1479519093793993, \"yref\": \"y\"}, {\"ax\": 0.05586980454101992, \"axref\": \"x\", \"ay\": 0.20488982153266105, \"ayref\": \"y\", \"opacity\": 1, \"showarrow\": true, \"x\": 0.5279349022705099, \"xref\": \"x\", \"y\": 0.08295210305660294, \"yref\": \"y\"}, {\"ax\": -0.3900455947541115, \"axref\": \"x\", \"ay\": 0.7228160524049305, \"ayref\": \"y\", \"opacity\": 1, \"showarrow\": true, \"x\": -0.1409381966721872, \"xref\": \"x\", \"y\": 0.8598414493650073, \"yref\": \"y\"}, {\"ax\": -0.4726933547879811, \"axref\": \"x\", \"ay\": 0.38957615263963485, \"ayref\": \"y\", \"opacity\": 1, \"showarrow\": true, \"x\": -0.2649098367229916, \"xref\": \"x\", \"y\": 0.3599815997170636, \"yref\": \"y\"}, {\"ax\": -0.7901313834263796, \"axref\": \"x\", \"ay\": 0.012972367760231779, \"ayref\": \"y\", \"opacity\": 1, \"showarrow\": true, \"x\": -0.7410668796805893, \"xref\": \"x\", \"y\": -0.20492407760204098, \"yref\": \"y\"}, {\"ax\": -0.27475459701750654, \"axref\": \"x\", \"ay\": 0.05276438677126899, \"ayref\": \"y\", \"opacity\": 1, \"showarrow\": true, \"x\": 0.03199829993272019, \"xref\": \"x\", \"y\": -0.14523604908548518, \"yref\": \"y\"}, {\"ax\": -0.4940169185633417, \"axref\": \"x\", \"ay\": -0.2727271821812695, \"ayref\": \"y\", \"opacity\": 1, \"showarrow\": true, \"x\": -0.29689518238603246, \"xref\": \"x\", \"y\": -0.633473402514293, \"yref\": \"y\"}, {\"ax\": -0.3029710427255481, \"axref\": \"x\", \"ay\": 0.5305700682335681, \"ayref\": \"y\", \"opacity\": 1, \"showarrow\": true, \"x\": -0.010326368629342053, \"xref\": \"x\", \"y\": 0.5714724731079635, \"yref\": \"y\"}, {\"ax\": -0.42543456642353183, \"axref\": \"x\", \"ay\": 0.32500460716214613, \"ayref\": \"y\", \"opacity\": 1, \"showarrow\": true, \"x\": -0.6922364503401663, \"xref\": \"x\", \"y\": -0.010926512419322687, \"yref\": \"y\"}, {\"ax\": 0.5540846007048685, \"axref\": \"x\", \"ay\": 0.4789406154528143, \"ayref\": \"y\", \"opacity\": 1, \"showarrow\": true, \"x\": 0.7770423003524342, \"xref\": \"x\", \"y\": 0.21997750001667957, \"yref\": \"y\"}, {\"ax\": 0.025521441375867475, \"axref\": \"x\", \"ay\": 0.6636269465597882, \"ayref\": \"y\", \"opacity\": 1, \"showarrow\": true, \"x\": -0.015802438641067326, \"xref\": \"x\", \"y\": 0.4970069966771402, \"yref\": \"y\"}, {\"ax\": -0.291916587262531, \"axref\": \"x\", \"ay\": 0.287023161680385, \"ayref\": \"y\", \"opacity\": 1, \"showarrow\": true, \"x\": -0.491959481598665, \"xref\": \"x\", \"y\": -0.06789868064196436, \"yref\": \"y\"}, {\"ax\": 0.22346019914634202, \"axref\": \"x\", \"ay\": 0.32681518069142224, \"ayref\": \"y\", \"opacity\": 1, \"showarrow\": true, \"x\": 0.28110569801464447, \"xref\": \"x\", \"y\": -0.008210652125408557, \"yref\": \"y\"}, {\"ax\": 0.004197877600506904, \"axref\": \"x\", \"ay\": 0.0013236117388837343, \"ayref\": \"y\", \"opacity\": 1, \"showarrow\": true, \"x\": -0.04778778430410818, \"xref\": \"x\", \"y\": -0.49644800555421637, \"yref\": \"y\"}, {\"ax\": 0.1952437534383005, \"axref\": \"x\", \"ay\": 0.8046208621537213, \"ayref\": \"y\", \"opacity\": 1, \"showarrow\": true, \"x\": 0.23878102945258223, \"xref\": \"x\", \"y\": 0.70849787006804, \"yref\": \"y\"}, {\"ax\": -0.5080823264574015, \"axref\": \"x\", \"ay\": -0.008235292603149591, \"ayref\": \"y\", \"opacity\": 1, \"showarrow\": true, \"x\": -0.7335603303571011, \"xref\": \"x\", \"y\": -0.17754646230197055, \"yref\": \"y\"}, {\"ax\": 0.4714368406709989, \"axref\": \"x\", \"ay\": 0.14570071568751858, \"ayref\": \"y\", \"opacity\": 1, \"showarrow\": true, \"x\": 0.7357184203354994, \"xref\": \"x\", \"y\": 0.0533575501340317, \"yref\": \"y\"}, {\"ax\": -0.3745643472964006, \"axref\": \"x\", \"ay\": -0.0462167380849107, \"ayref\": \"y\", \"opacity\": 1, \"showarrow\": true, \"x\": -0.5332833616155997, \"xref\": \"x\", \"y\": -0.23451863052461222, \"yref\": \"y\"}, {\"ax\": 0.14081243911247243, \"axref\": \"x\", \"ay\": -0.006424719073873486, \"ayref\": \"y\", \"opacity\": 1, \"showarrow\": true, \"x\": 0.23978181799770967, \"xref\": \"x\", \"y\": -0.17483060200805642, \"yref\": \"y\"}, {\"ax\": -0.07844988243336269, \"axref\": \"x\", \"ay\": -0.331916288026412, \"ayref\": \"y\", \"opacity\": 1, \"showarrow\": true, \"x\": -0.08911166432104298, \"xref\": \"x\", \"y\": -0.6630679554368643, \"yref\": \"y\"}, {\"ax\": 0.11259599340443091, \"axref\": \"x\", \"ay\": 0.4713809623884256, \"ayref\": \"y\", \"opacity\": 1, \"showarrow\": true, \"x\": 0.19745714943564743, \"xref\": \"x\", \"y\": 0.5418779201853922, \"yref\": \"y\"}, {\"ax\": -0.8255203550957999, \"axref\": \"x\", \"ay\": -0.38483907748255264, \"ayref\": \"y\", \"opacity\": 1, \"showarrow\": true, \"x\": -0.8922793446763004, \"xref\": \"x\", \"y\": -0.3658483547416721, \"yref\": \"y\"}, {\"ax\": 0.1539988120326004, \"axref\": \"x\", \"ay\": -0.23090306919188447, \"ayref\": \"y\", \"opacity\": 1, \"showarrow\": true, \"x\": 0.5769994060163002, \"xref\": \"x\", \"y\": -0.13494434230566985, \"yref\": \"y\"}, {\"ax\": -0.17662558952592605, \"axref\": \"x\", \"ay\": -0.3830285039532766, \"ayref\": \"y\", \"opacity\": 1, \"showarrow\": true, \"x\": 0.08106280367851043, \"xref\": \"x\", \"y\": -0.36313249444775797, \"yref\": \"y\"}, {\"ax\": -0.3958879110717612, \"axref\": \"x\", \"ay\": -0.7085200729058151, \"ayref\": \"y\", \"opacity\": 1, \"showarrow\": true, \"x\": -0.24783067864024222, \"xref\": \"x\", \"y\": -0.8513698478765658, \"yref\": \"y\"}, {\"ax\": -0.20484203523396757, \"axref\": \"x\", \"ay\": 0.09477717750902251, \"ayref\": \"y\", \"opacity\": 1, \"showarrow\": true, \"x\": 0.03873813511644819, \"xref\": \"x\", \"y\": 0.35357602774569064, \"yref\": \"y\"}, {\"ax\": -0.3101435686869269, \"axref\": \"x\", \"ay\": -0.34504705847151546, \"ayref\": \"y\", \"opacity\": 1, \"showarrow\": true, \"x\": -0.6345909514718638, \"xref\": \"x\", \"y\": -0.3459523452361535, \"yref\": \"y\"}, {\"ax\": 0.6693755984414734, \"axref\": \"x\", \"ay\": -0.1911110501808473, \"ayref\": \"y\", \"opacity\": 1, \"showarrow\": true, \"x\": 0.8346877992207367, \"xref\": \"x\", \"y\": -0.11504833280015123, \"yref\": \"y\"}, {\"ax\": 0.11948887533711186, \"axref\": \"x\", \"ay\": -0.6687280538947779, \"ayref\": \"y\", \"opacity\": 1, \"showarrow\": true, \"x\": 0.009857714564194292, \"xref\": \"x\", \"y\": -0.8314738383710472, \"yref\": \"y\"}, {\"ax\": 0.3105347511749055, \"axref\": \"x\", \"ay\": 0.13456919652005972, \"ayref\": \"y\", \"opacity\": 1, \"showarrow\": true, \"x\": 0.2964265283208847, \"xref\": \"x\", \"y\": 0.37347203725120925, \"yref\": \"y\"}, {\"ax\": -0.529405890232762, \"axref\": \"x\", \"ay\": -0.6705386274240539, \"ayref\": \"y\", \"opacity\": 1, \"showarrow\": true, \"x\": -0.7442221122447814, \"xref\": \"x\", \"y\": -0.5086981297124227, \"yref\": \"y\"}, {\"ax\": 0.4501132768956383, \"axref\": \"x\", \"ay\": -0.5166026191333858, \"ayref\": \"y\", \"opacity\": 1, \"showarrow\": true, \"x\": 0.7250566384478191, \"xref\": \"x\", \"y\": -0.2777941172764205, \"yref\": \"y\"}, {\"ax\": 0.09127242962907034, \"axref\": \"x\", \"ay\": -0.19092237243247878, \"ayref\": \"y\", \"opacity\": 1, \"showarrow\": true, \"x\": 0.18679536754796713, \"xref\": \"x\", \"y\": 0.21072625277494, \"yref\": \"y\"}, {\"ax\": -0.33836001439496843, \"axref\": \"x\", \"ay\": 0.13275862299078361, \"ayref\": \"y\", \"opacity\": 1, \"showarrow\": true, \"x\": -0.6486991743258846, \"xref\": \"x\", \"y\": -0.10704950450500395, \"yref\": \"y\"}, {\"ax\": 0.6411591527334319, \"axref\": \"x\", \"ay\": 0.2866946312814518, \"ayref\": \"y\", \"opacity\": 1, \"showarrow\": true, \"x\": 0.8205795763667159, \"xref\": \"x\", \"y\": 0.12385450793099831, \"yref\": \"y\"}, {\"ax\": 0.020480832871599575, \"axref\": \"x\", \"ay\": -0.1929216237101234, \"ayref\": \"y\", \"opacity\": 1, \"showarrow\": true, \"x\": 0.5102404164357996, \"xref\": \"x\", \"y\": -0.11595361956478928, \"yref\": \"y\"}], \"clickmode\": \"event+select\", \"height\": 600, \"hovermode\": \"closest\", \"margin\": {\"b\": 40, \"l\": 40, \"r\": 40, \"t\": 40}, \"showlegend\": false, \"template\": {\"data\": {\"bar\": [{\"error_x\": {\"color\": \"#2a3f5f\"}, \"error_y\": {\"color\": \"#2a3f5f\"}, \"marker\": {\"line\": {\"color\": \"#E5ECF6\", \"width\": 0.5}}, \"type\": \"bar\"}], \"barpolar\": [{\"marker\": {\"line\": {\"color\": \"#E5ECF6\", \"width\": 0.5}}, \"type\": \"barpolar\"}], \"carpet\": [{\"aaxis\": {\"endlinecolor\": \"#2a3f5f\", \"gridcolor\": \"white\", \"linecolor\": \"white\", \"minorgridcolor\": \"white\", \"startlinecolor\": \"#2a3f5f\"}, \"baxis\": {\"endlinecolor\": \"#2a3f5f\", \"gridcolor\": \"white\", \"linecolor\": \"white\", \"minorgridcolor\": \"white\", \"startlinecolor\": \"#2a3f5f\"}, \"type\": \"carpet\"}], \"choropleth\": [{\"colorbar\": {\"outlinewidth\": 0, \"ticks\": \"\"}, \"type\": \"choropleth\"}], \"contour\": [{\"colorbar\": {\"outlinewidth\": 0, \"ticks\": \"\"}, \"colorscale\": [[0.0, \"#0d0887\"], [0.1111111111111111, \"#46039f\"], [0.2222222222222222, \"#7201a8\"], [0.3333333333333333, \"#9c179e\"], [0.4444444444444444, \"#bd3786\"], [0.5555555555555556, \"#d8576b\"], [0.6666666666666666, \"#ed7953\"], [0.7777777777777778, \"#fb9f3a\"], [0.8888888888888888, \"#fdca26\"], [1.0, \"#f0f921\"]], \"type\": \"contour\"}], \"contourcarpet\": [{\"colorbar\": {\"outlinewidth\": 0, \"ticks\": \"\"}, \"type\": \"contourcarpet\"}], \"heatmap\": [{\"colorbar\": {\"outlinewidth\": 0, \"ticks\": \"\"}, \"colorscale\": [[0.0, \"#0d0887\"], [0.1111111111111111, \"#46039f\"], [0.2222222222222222, \"#7201a8\"], [0.3333333333333333, \"#9c179e\"], [0.4444444444444444, \"#bd3786\"], [0.5555555555555556, \"#d8576b\"], [0.6666666666666666, \"#ed7953\"], [0.7777777777777778, \"#fb9f3a\"], [0.8888888888888888, \"#fdca26\"], [1.0, \"#f0f921\"]], \"type\": \"heatmap\"}], \"heatmapgl\": [{\"colorbar\": {\"outlinewidth\": 0, \"ticks\": \"\"}, \"colorscale\": [[0.0, \"#0d0887\"], [0.1111111111111111, \"#46039f\"], [0.2222222222222222, \"#7201a8\"], [0.3333333333333333, \"#9c179e\"], [0.4444444444444444, \"#bd3786\"], [0.5555555555555556, \"#d8576b\"], [0.6666666666666666, \"#ed7953\"], [0.7777777777777778, \"#fb9f3a\"], [0.8888888888888888, \"#fdca26\"], [1.0, \"#f0f921\"]], \"type\": \"heatmapgl\"}], \"histogram\": [{\"marker\": {\"colorbar\": {\"outlinewidth\": 0, \"ticks\": \"\"}}, \"type\": \"histogram\"}], \"histogram2d\": [{\"colorbar\": {\"outlinewidth\": 0, \"ticks\": \"\"}, \"colorscale\": [[0.0, \"#0d0887\"], [0.1111111111111111, \"#46039f\"], [0.2222222222222222, \"#7201a8\"], [0.3333333333333333, \"#9c179e\"], [0.4444444444444444, \"#bd3786\"], [0.5555555555555556, \"#d8576b\"], [0.6666666666666666, \"#ed7953\"], [0.7777777777777778, \"#fb9f3a\"], [0.8888888888888888, \"#fdca26\"], [1.0, \"#f0f921\"]], \"type\": \"histogram2d\"}], \"histogram2dcontour\": [{\"colorbar\": {\"outlinewidth\": 0, \"ticks\": \"\"}, \"colorscale\": [[0.0, \"#0d0887\"], [0.1111111111111111, \"#46039f\"], [0.2222222222222222, \"#7201a8\"], [0.3333333333333333, \"#9c179e\"], [0.4444444444444444, \"#bd3786\"], [0.5555555555555556, \"#d8576b\"], [0.6666666666666666, \"#ed7953\"], [0.7777777777777778, \"#fb9f3a\"], [0.8888888888888888, \"#fdca26\"], [1.0, \"#f0f921\"]], \"type\": \"histogram2dcontour\"}], \"mesh3d\": [{\"colorbar\": {\"outlinewidth\": 0, \"ticks\": \"\"}, \"type\": \"mesh3d\"}], \"parcoords\": [{\"line\": {\"colorbar\": {\"outlinewidth\": 0, \"ticks\": \"\"}}, \"type\": \"parcoords\"}], \"pie\": [{\"automargin\": true, \"type\": \"pie\"}], \"scatter\": [{\"marker\": {\"colorbar\": {\"outlinewidth\": 0, \"ticks\": \"\"}}, \"type\": \"scatter\"}], \"scatter3d\": [{\"line\": {\"colorbar\": {\"outlinewidth\": 0, \"ticks\": \"\"}}, \"marker\": {\"colorbar\": {\"outlinewidth\": 0, \"ticks\": \"\"}}, \"type\": \"scatter3d\"}], \"scattercarpet\": [{\"marker\": {\"colorbar\": {\"outlinewidth\": 0, \"ticks\": \"\"}}, \"type\": \"scattercarpet\"}], \"scattergeo\": [{\"marker\": {\"colorbar\": {\"outlinewidth\": 0, \"ticks\": \"\"}}, \"type\": \"scattergeo\"}], \"scattergl\": [{\"marker\": {\"colorbar\": {\"outlinewidth\": 0, \"ticks\": \"\"}}, \"type\": \"scattergl\"}], \"scattermapbox\": [{\"marker\": {\"colorbar\": {\"outlinewidth\": 0, \"ticks\": \"\"}}, \"type\": \"scattermapbox\"}], \"scatterpolar\": [{\"marker\": {\"colorbar\": {\"outlinewidth\": 0, \"ticks\": \"\"}}, \"type\": \"scatterpolar\"}], \"scatterpolargl\": [{\"marker\": {\"colorbar\": {\"outlinewidth\": 0, \"ticks\": \"\"}}, \"type\": \"scatterpolargl\"}], \"scatterternary\": [{\"marker\": {\"colorbar\": {\"outlinewidth\": 0, \"ticks\": \"\"}}, \"type\": \"scatterternary\"}], \"surface\": [{\"colorbar\": {\"outlinewidth\": 0, \"ticks\": \"\"}, \"colorscale\": [[0.0, \"#0d0887\"], [0.1111111111111111, \"#46039f\"], [0.2222222222222222, \"#7201a8\"], [0.3333333333333333, \"#9c179e\"], [0.4444444444444444, \"#bd3786\"], [0.5555555555555556, \"#d8576b\"], [0.6666666666666666, \"#ed7953\"], [0.7777777777777778, \"#fb9f3a\"], [0.8888888888888888, \"#fdca26\"], [1.0, \"#f0f921\"]], \"type\": \"surface\"}], \"table\": [{\"cells\": {\"fill\": {\"color\": \"#EBF0F8\"}, \"line\": {\"color\": \"white\"}}, \"header\": {\"fill\": {\"color\": \"#C8D4E3\"}, \"line\": {\"color\": \"white\"}}, \"type\": \"table\"}]}, \"layout\": {\"annotationdefaults\": {\"arrowcolor\": \"#2a3f5f\", \"arrowhead\": 0, \"arrowwidth\": 1}, \"coloraxis\": {\"colorbar\": {\"outlinewidth\": 0, \"ticks\": \"\"}}, \"colorscale\": {\"diverging\": [[0, \"#8e0152\"], [0.1, \"#c51b7d\"], [0.2, \"#de77ae\"], [0.3, \"#f1b6da\"], [0.4, \"#fde0ef\"], [0.5, \"#f7f7f7\"], [0.6, \"#e6f5d0\"], [0.7, \"#b8e186\"], [0.8, \"#7fbc41\"], [0.9, \"#4d9221\"], [1, \"#276419\"]], \"sequential\": [[0.0, \"#0d0887\"], [0.1111111111111111, \"#46039f\"], [0.2222222222222222, \"#7201a8\"], [0.3333333333333333, \"#9c179e\"], [0.4444444444444444, \"#bd3786\"], [0.5555555555555556, \"#d8576b\"], [0.6666666666666666, \"#ed7953\"], [0.7777777777777778, \"#fb9f3a\"], [0.8888888888888888, \"#fdca26\"], [1.0, \"#f0f921\"]], \"sequentialminus\": [[0.0, \"#0d0887\"], [0.1111111111111111, \"#46039f\"], [0.2222222222222222, \"#7201a8\"], [0.3333333333333333, \"#9c179e\"], [0.4444444444444444, \"#bd3786\"], [0.5555555555555556, \"#d8576b\"], [0.6666666666666666, \"#ed7953\"], [0.7777777777777778, \"#fb9f3a\"], [0.8888888888888888, \"#fdca26\"], [1.0, \"#f0f921\"]]}, \"colorway\": [\"#636efa\", \"#EF553B\", \"#00cc96\", \"#ab63fa\", \"#FFA15A\", \"#19d3f3\", \"#FF6692\", \"#B6E880\", \"#FF97FF\", \"#FECB52\"], \"font\": {\"color\": \"#2a3f5f\"}, \"geo\": {\"bgcolor\": \"white\", \"lakecolor\": \"white\", \"landcolor\": \"#E5ECF6\", \"showlakes\": true, \"showland\": true, \"subunitcolor\": \"white\"}, \"hoverlabel\": {\"align\": \"left\"}, \"hovermode\": \"closest\", \"mapbox\": {\"style\": \"light\"}, \"paper_bgcolor\": \"white\", \"plot_bgcolor\": \"#E5ECF6\", \"polar\": {\"angularaxis\": {\"gridcolor\": \"white\", \"linecolor\": \"white\", \"ticks\": \"\"}, \"bgcolor\": \"#E5ECF6\", \"radialaxis\": {\"gridcolor\": \"white\", \"linecolor\": \"white\", \"ticks\": \"\"}}, \"scene\": {\"xaxis\": {\"backgroundcolor\": \"#E5ECF6\", \"gridcolor\": \"white\", \"gridwidth\": 2, \"linecolor\": \"white\", \"showbackground\": true, \"ticks\": \"\", \"zerolinecolor\": \"white\"}, \"yaxis\": {\"backgroundcolor\": \"#E5ECF6\", \"gridcolor\": \"white\", \"gridwidth\": 2, \"linecolor\": \"white\", \"showbackground\": true, \"ticks\": \"\", \"zerolinecolor\": \"white\"}, \"zaxis\": {\"backgroundcolor\": \"#E5ECF6\", \"gridcolor\": \"white\", \"gridwidth\": 2, \"linecolor\": \"white\", \"showbackground\": true, \"ticks\": \"\", \"zerolinecolor\": \"white\"}}, \"shapedefaults\": {\"line\": {\"color\": \"#2a3f5f\"}}, \"ternary\": {\"aaxis\": {\"gridcolor\": \"white\", \"linecolor\": \"white\", \"ticks\": \"\"}, \"baxis\": {\"gridcolor\": \"white\", \"linecolor\": \"white\", \"ticks\": \"\"}, \"bgcolor\": \"#E5ECF6\", \"caxis\": {\"gridcolor\": \"white\", \"linecolor\": \"white\", \"ticks\": \"\"}}, \"title\": {\"x\": 0.05}, \"xaxis\": {\"automargin\": true, \"gridcolor\": \"white\", \"linecolor\": \"white\", \"ticks\": \"\", \"title\": {\"standoff\": 15}, \"zerolinecolor\": \"white\", \"zerolinewidth\": 2}, \"yaxis\": {\"automargin\": true, \"gridcolor\": \"white\", \"linecolor\": \"white\", \"ticks\": \"\", \"title\": {\"standoff\": 15}, \"zerolinecolor\": \"white\", \"zerolinewidth\": 2}}}, \"title\": {\"text\": \"Interactive Transaction Visualization\"}, \"xaxis\": {\"showgrid\": false, \"showticklabels\": false, \"zeroline\": false}, \"yaxis\": {\"showgrid\": false, \"showticklabels\": false, \"zeroline\": false}},\n",
       "                        {\"responsive\": true}\n",
       "                    ).then(function(){\n",
       "                            \n",
       "var gd = document.getElementById('61ae430e-8533-411f-8b48-88a4bd6f63c9');\n",
       "var x = new MutationObserver(function (mutations, observer) {{\n",
       "        var display = window.getComputedStyle(gd).display;\n",
       "        if (!display || display === 'none') {{\n",
       "            console.log([gd, 'removed!']);\n",
       "            Plotly.purge(gd);\n",
       "            observer.disconnect();\n",
       "        }}\n",
       "}});\n",
       "\n",
       "// Listen for the removal of the full notebook cells\n",
       "var notebookContainer = gd.closest('#notebook-container');\n",
       "if (notebookContainer) {{\n",
       "    x.observe(notebookContainer, {childList: true});\n",
       "}}\n",
       "\n",
       "// Listen for the clearing of the current output cell\n",
       "var outputEl = gd.closest('.output');\n",
       "if (outputEl) {{\n",
       "    x.observe(outputEl, {childList: true});\n",
       "}}\n",
       "\n",
       "                        })\n",
       "                };\n",
       "                });\n",
       "            </script>\n",
       "        </div>"
      ]
     },
     "metadata": {},
     "output_type": "display_data"
    }
   ],
   "source": [
    "fig.show()"
   ]
  },
  {
   "cell_type": "code",
   "execution_count": null,
   "metadata": {
    "collapsed": true
   },
   "outputs": [],
   "source": []
  }
 ],
 "metadata": {
  "kernelspec": {
   "display_name": "Python 3",
   "language": "python",
   "name": "python3"
  },
  "language_info": {
   "codemirror_mode": {
    "name": "ipython",
    "version": 3
   },
   "file_extension": ".py",
   "mimetype": "text/x-python",
   "name": "python",
   "nbconvert_exporter": "python",
   "pygments_lexer": "ipython3",
   "version": "3.6.1"
  }
 },
 "nbformat": 4,
 "nbformat_minor": 2
}
