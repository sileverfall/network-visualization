{
 "cells": [
  {
   "cell_type": "code",
   "execution_count": 1,
   "metadata": {
    "collapsed": true,
    "scrolled": true
   },
   "outputs": [],
   "source": [
    "from plotly import graph_objs as go\n",
    "from sklearn.metrics.pairwise import cosine_similarity\n",
    "\n",
    "import networkx as nx\n",
    "import dash\n",
    "import dash_core_components as dcc\n",
    "import dash_html_components as html\n",
    "import networkx as nx\n",
    "import plotly.graph_objs as go\n",
    "\n",
    "import pandas as pd\n",
    "from colour import Color\n",
    "from datetime import datetime\n",
    "from textwrap import dedent as d\n",
    "import json"
   ]
  },
  {
   "cell_type": "code",
   "execution_count": 2,
   "metadata": {},
   "outputs": [],
   "source": [
    "finance = pd.read_csv('finance.csv',index_col='Unnamed: 0').dropna()\n",
    "df_tags =finance[:100]\n",
    "df_test = pd.DataFrame(cosine_similarity(df_tags.T),columns=df_tags.T.index.tolist(),index=df_tags.T.index.tolist())"
   ]
  },
  {
   "cell_type": "code",
   "execution_count": 3,
   "metadata": {},
   "outputs": [
    {
     "name": "stderr",
     "output_type": "stream",
     "text": [
      "/usr/local/Cellar/python3/3.6.1/Frameworks/Python.framework/Versions/3.6/lib/python3.6/site-packages/ipykernel_launcher.py:2: DeprecationWarning:\n",
      "\n",
      "\n",
      ".ix is deprecated. Please use\n",
      ".loc for label based indexing or\n",
      ".iloc for positional indexing\n",
      "\n",
      "See the documentation here:\n",
      "http://pandas.pydata.org/pandas-docs/stable/indexing.html#ix-indexer-is-deprecated\n",
      "\n"
     ]
    },
    {
     "data": {
      "text/plain": [
       "[None, None, None, None, None, None, None, None, None, None, None, None]"
      ]
     },
     "execution_count": 3,
     "metadata": {},
     "output_type": "execute_result"
    }
   ],
   "source": [
    "li = []\n",
    "[li.extend([(i,j) for j in df_test.ix[i].items()]) for i in df_test.index]"
   ]
  },
  {
   "cell_type": "code",
   "execution_count": 4,
   "metadata": {
    "collapsed": true
   },
   "outputs": [],
   "source": [
    "dict_head={\n",
    "    'tag':[i[0] for i in li],\n",
    "    'tag2':[i[1][0] for i in li],\n",
    "    'distance':[(\"%.2f\" % i[1][1])for i in li]\n",
    "}\n",
    "df_distance = pd.DataFrame(dict_head)"
   ]
  },
  {
   "cell_type": "code",
   "execution_count": 5,
   "metadata": {
    "collapsed": true
   },
   "outputs": [],
   "source": [
    "#每個人都與自己聯繫在一起\n",
    "df_distance = df_distance[~(df_distance['tag']==df_distance['tag2'])].dropna()[['tag', 'tag2', 'distance']]"
   ]
  },
  {
   "cell_type": "code",
   "execution_count": 6,
   "metadata": {
    "collapsed": true
   },
   "outputs": [],
   "source": [
    "#當X和Y相連時，Y也和X相連，同一個連接有兩行\n",
    "df_distance.drop(df_distance.loc[df_distance['tag2'] < df_distance['tag']].index.tolist(), inplace=True)"
   ]
  },
  {
   "cell_type": "code",
   "execution_count": 7,
   "metadata": {
    "collapsed": true
   },
   "outputs": [],
   "source": [
    "df_test['tag']=[i for i in df_test.index.tolist() ]"
   ]
  },
  {
   "cell_type": "code",
   "execution_count": 8,
   "metadata": {
    "collapsed": true
   },
   "outputs": [],
   "source": [
    "#將節點連線\n",
    "G = nx.from_pandas_edgelist(df_distance, source='tag', target='tag2', edge_attr='distance')"
   ]
  },
  {
   "cell_type": "code",
   "execution_count": 9,
   "metadata": {
    "collapsed": true
   },
   "outputs": [],
   "source": [
    "nx.set_node_attributes(G, {row['tag']:{'Name': row['tag']} for i,row in df_test.iterrows()})"
   ]
  },
  {
   "cell_type": "code",
   "execution_count": 10,
   "metadata": {
    "collapsed": true
   },
   "outputs": [],
   "source": [
    "pos = nx.layout.spring_layout(G)\n",
    "for node in G.nodes:\n",
    "    G.nodes[node]['pos'] = list(pos[node])"
   ]
  },
  {
   "cell_type": "code",
   "execution_count": 11,
   "metadata": {
    "collapsed": true
   },
   "outputs": [],
   "source": [
    "edge_x = []\n",
    "edge_y = []\n",
    "for edge in G.edges():\n",
    "    x0, y0 = G.nodes[edge[0]]['pos']\n",
    "    x1, y1 = G.nodes[edge[1]]['pos']\n",
    "    edge_x.append(x0)\n",
    "    edge_x.append(x1)\n",
    "    edge_x.append(None)\n",
    "    edge_y.append(y0)\n",
    "    edge_y.append(y1)\n",
    "    edge_y.append(None)\n",
    "\n",
    "edge_trace = go.Scatter(\n",
    "    x=edge_x, y=edge_y,\n",
    "    line=dict(width=0.5, color='#888'),\n",
    "    hoverinfo='none',\n",
    "    mode='lines')"
   ]
  },
  {
   "cell_type": "code",
   "execution_count": 12,
   "metadata": {
    "collapsed": true
   },
   "outputs": [],
   "source": [
    "node_x = []\n",
    "node_y = []\n",
    "for node in G.nodes():\n",
    "    x, y = G.nodes[node]['pos']\n",
    "    node_x.append(x)\n",
    "    node_y.append(y)\n",
    "\n",
    "node_trace = go.Scatter(\n",
    "    x=node_x, y=node_y,\n",
    "    mode='markers',\n",
    "    hoverinfo='text',\n",
    "    marker=dict(\n",
    "        showscale=True,\n",
    "        # colorscale options\n",
    "        #'Greys' | 'YlGnBu' | 'Greens' | 'YlOrRd' | 'Bluered' | 'RdBu' |\n",
    "        #'Reds' | 'Blues' | 'Picnic' | 'Rainbow' | 'Portland' | 'Jet' |\n",
    "        #'Hot' | 'Blackbody' | 'Earth' | 'Electric' | 'Viridis' |\n",
    "        colorscale='YlGnBu',\n",
    "        reversescale=True,\n",
    "        color=[],\n",
    "        size=10,\n",
    "        colorbar=dict(\n",
    "            thickness=15,\n",
    "            title='Node Connections',\n",
    "            xanchor='left',\n",
    "            titleside='right'\n",
    "        ),\n",
    "        line_width=2))"
   ]
  },
  {
   "cell_type": "code",
   "execution_count": 51,
   "metadata": {},
   "outputs": [],
   "source": [
    "node_adjacencies = []\n",
    "node_text = []\n",
    "for node, adjacencies in enumerate(G.adjacency()):\n",
    "    node_adjacencies.append(len(adjacencies[1]))\n",
    "    node_text.append(adjacencies[0])\n",
    "\n",
    "node_trace.marker.color = node_adjacencies\n",
    "node_trace.text = node_text"
   ]
  },
  {
   "cell_type": "code",
   "execution_count": 52,
   "metadata": {
    "collapsed": true
   },
   "outputs": [],
   "source": [
    "fig = go.Figure(data=[edge_trace, node_trace],\n",
    "             layout=go.Layout(\n",
    "                title='<br>Network graph made with Python',\n",
    "#                 titlefont_size=16,\n",
    "                showlegend=False,\n",
    "                hovermode='closest',\n",
    "                margin=dict(b=20,l=5,r=5,t=40),\n",
    "                annotations=[ dict(\n",
    "                    text=\"Python code: <a href='https://plot.ly/ipython-notebooks/network-graphs/'> https://plot.ly/ipython-notebooks/network-graphs/</a>\",\n",
    "                    showarrow=False,\n",
    "                    xref=\"paper\", yref=\"paper\",\n",
    "                    x=0.005, y=-0.002 ) ],\n",
    "                xaxis=dict(showgrid=False, zeroline=False, showticklabels=False),\n",
    "                yaxis=dict(showgrid=False, zeroline=False, showticklabels=False))\n",
    "                )\n"
   ]
  },
  {
   "cell_type": "code",
   "execution_count": 53,
   "metadata": {
    "scrolled": false
   },
   "outputs": [
    {
     "data": {
      "application/vnd.plotly.v1+json": {
       "config": {
        "plotlyServerURL": "https://plot.ly"
       },
       "data": [
        {
         "hoverinfo": "none",
         "line": {
          "color": "#888",
          "width": 0.5
         },
         "mode": "lines",
         "type": "scatter",
         "x": [
          0.260208076946836,
          0.30308448726025444,
          null,
          0.260208076946836,
          0.19960423139741038,
          null,
          0.260208076946836,
          -0.843641698427937,
          null,
          0.260208076946836,
          -0.2606977763022374,
          null,
          0.260208076946836,
          -0.8504281876874176,
          null,
          0.260208076946836,
          -0.32601876101334915,
          null,
          0.260208076946836,
          0.8197604392085306,
          null,
          0.260208076946836,
          0.9554179037904957,
          null,
          0.260208076946836,
          -0.20741906212817898,
          null,
          0.260208076946836,
          0.8023901586520344,
          null,
          0.260208076946836,
          -0.8522598116964409,
          null,
          0.30308448726025444,
          0.19960423139741038,
          null,
          0.30308448726025444,
          -0.843641698427937,
          null,
          0.30308448726025444,
          -0.2606977763022374,
          null,
          0.30308448726025444,
          -0.8504281876874176,
          null,
          0.30308448726025444,
          -0.32601876101334915,
          null,
          0.30308448726025444,
          0.8197604392085306,
          null,
          0.30308448726025444,
          0.9554179037904957,
          null,
          0.30308448726025444,
          -0.20741906212817898,
          null,
          0.30308448726025444,
          0.8023901586520344,
          null,
          0.30308448726025444,
          -0.8522598116964409,
          null,
          0.19960423139741038,
          -0.843641698427937,
          null,
          0.19960423139741038,
          -0.2606977763022374,
          null,
          0.19960423139741038,
          -0.8504281876874176,
          null,
          0.19960423139741038,
          -0.32601876101334915,
          null,
          0.19960423139741038,
          0.8197604392085306,
          null,
          0.19960423139741038,
          0.9554179037904957,
          null,
          0.19960423139741038,
          -0.20741906212817898,
          null,
          0.19960423139741038,
          0.8023901586520344,
          null,
          0.19960423139741038,
          -0.8522598116964409,
          null,
          -0.843641698427937,
          -0.2606977763022374,
          null,
          -0.843641698427937,
          -0.8504281876874176,
          null,
          -0.843641698427937,
          -0.32601876101334915,
          null,
          -0.843641698427937,
          0.8197604392085306,
          null,
          -0.843641698427937,
          0.9554179037904957,
          null,
          -0.843641698427937,
          -0.20741906212817898,
          null,
          -0.843641698427937,
          0.8023901586520344,
          null,
          -0.843641698427937,
          -0.8522598116964409,
          null,
          -0.2606977763022374,
          -0.8504281876874176,
          null,
          -0.2606977763022374,
          -0.32601876101334915,
          null,
          -0.2606977763022374,
          0.8197604392085306,
          null,
          -0.2606977763022374,
          0.9554179037904957,
          null,
          -0.2606977763022374,
          -0.20741906212817898,
          null,
          -0.2606977763022374,
          0.8023901586520344,
          null,
          -0.2606977763022374,
          -0.8522598116964409,
          null,
          -0.8504281876874176,
          -0.32601876101334915,
          null,
          -0.8504281876874176,
          0.8197604392085306,
          null,
          -0.8504281876874176,
          0.9554179037904957,
          null,
          -0.8504281876874176,
          -0.20741906212817898,
          null,
          -0.8504281876874176,
          0.8023901586520344,
          null,
          -0.8504281876874176,
          -0.8522598116964409,
          null,
          -0.32601876101334915,
          0.8197604392085306,
          null,
          -0.32601876101334915,
          0.9554179037904957,
          null,
          -0.32601876101334915,
          -0.20741906212817898,
          null,
          -0.32601876101334915,
          0.8023901586520344,
          null,
          -0.32601876101334915,
          -0.8522598116964409,
          null,
          0.8197604392085306,
          0.9554179037904957,
          null,
          0.8197604392085306,
          -0.20741906212817898,
          null,
          0.8197604392085306,
          0.8023901586520344,
          null,
          0.8197604392085306,
          -0.8522598116964409,
          null,
          0.9554179037904957,
          -0.20741906212817898,
          null,
          0.9554179037904957,
          0.8023901586520344,
          null,
          0.9554179037904957,
          -0.8522598116964409,
          null,
          -0.20741906212817898,
          0.8023901586520344,
          null,
          -0.20741906212817898,
          -0.8522598116964409,
          null,
          0.8023901586520344,
          -0.8522598116964409,
          null
         ],
         "y": [
          -0.9553990567764923,
          0.7936413003212439,
          null,
          -0.9553990567764923,
          -0.23918769459734798,
          null,
          -0.9553990567764923,
          -0.5801532296277809,
          null,
          -0.9553990567764923,
          1,
          null,
          -0.9553990567764923,
          -0.026978225849175995,
          null,
          -0.9553990567764923,
          -0.8663261314346473,
          null,
          -0.9553990567764923,
          0.599568075522854,
          null,
          -0.9553990567764923,
          0.014132864028265206,
          null,
          -0.9553990567764923,
          0.2748311542977346,
          null,
          -0.9553990567764923,
          -0.5958510999943168,
          null,
          -0.9553990567764923,
          0.5817220441096616,
          null,
          0.7936413003212439,
          -0.23918769459734798,
          null,
          0.7936413003212439,
          -0.5801532296277809,
          null,
          0.7936413003212439,
          1,
          null,
          0.7936413003212439,
          -0.026978225849175995,
          null,
          0.7936413003212439,
          -0.8663261314346473,
          null,
          0.7936413003212439,
          0.599568075522854,
          null,
          0.7936413003212439,
          0.014132864028265206,
          null,
          0.7936413003212439,
          0.2748311542977346,
          null,
          0.7936413003212439,
          -0.5958510999943168,
          null,
          0.7936413003212439,
          0.5817220441096616,
          null,
          -0.23918769459734798,
          -0.5801532296277809,
          null,
          -0.23918769459734798,
          1,
          null,
          -0.23918769459734798,
          -0.026978225849175995,
          null,
          -0.23918769459734798,
          -0.8663261314346473,
          null,
          -0.23918769459734798,
          0.599568075522854,
          null,
          -0.23918769459734798,
          0.014132864028265206,
          null,
          -0.23918769459734798,
          0.2748311542977346,
          null,
          -0.23918769459734798,
          -0.5958510999943168,
          null,
          -0.23918769459734798,
          0.5817220441096616,
          null,
          -0.5801532296277809,
          1,
          null,
          -0.5801532296277809,
          -0.026978225849175995,
          null,
          -0.5801532296277809,
          -0.8663261314346473,
          null,
          -0.5801532296277809,
          0.599568075522854,
          null,
          -0.5801532296277809,
          0.014132864028265206,
          null,
          -0.5801532296277809,
          0.2748311542977346,
          null,
          -0.5801532296277809,
          -0.5958510999943168,
          null,
          -0.5801532296277809,
          0.5817220441096616,
          null,
          1,
          -0.026978225849175995,
          null,
          1,
          -0.8663261314346473,
          null,
          1,
          0.599568075522854,
          null,
          1,
          0.014132864028265206,
          null,
          1,
          0.2748311542977346,
          null,
          1,
          -0.5958510999943168,
          null,
          1,
          0.5817220441096616,
          null,
          -0.026978225849175995,
          -0.8663261314346473,
          null,
          -0.026978225849175995,
          0.599568075522854,
          null,
          -0.026978225849175995,
          0.014132864028265206,
          null,
          -0.026978225849175995,
          0.2748311542977346,
          null,
          -0.026978225849175995,
          -0.5958510999943168,
          null,
          -0.026978225849175995,
          0.5817220441096616,
          null,
          -0.8663261314346473,
          0.599568075522854,
          null,
          -0.8663261314346473,
          0.014132864028265206,
          null,
          -0.8663261314346473,
          0.2748311542977346,
          null,
          -0.8663261314346473,
          -0.5958510999943168,
          null,
          -0.8663261314346473,
          0.5817220441096616,
          null,
          0.599568075522854,
          0.014132864028265206,
          null,
          0.599568075522854,
          0.2748311542977346,
          null,
          0.599568075522854,
          -0.5958510999943168,
          null,
          0.599568075522854,
          0.5817220441096616,
          null,
          0.014132864028265206,
          0.2748311542977346,
          null,
          0.014132864028265206,
          -0.5958510999943168,
          null,
          0.014132864028265206,
          0.5817220441096616,
          null,
          0.2748311542977346,
          -0.5958510999943168,
          null,
          0.2748311542977346,
          0.5817220441096616,
          null,
          -0.5958510999943168,
          0.5817220441096616,
          null
         ]
        },
        {
         "hoverinfo": "text",
         "marker": {
          "color": [
           11,
           11,
           11,
           11,
           11,
           11,
           11,
           11,
           11,
           11,
           11,
           11
          ],
          "colorbar": {
           "thickness": 15,
           "title": {
            "side": "right",
            "text": "Node Connections"
           },
           "xanchor": "left"
          },
          "colorscale": [
           [
            0,
            "rgb(255,255,217)"
           ],
           [
            0.125,
            "rgb(237,248,177)"
           ],
           [
            0.25,
            "rgb(199,233,180)"
           ],
           [
            0.375,
            "rgb(127,205,187)"
           ],
           [
            0.5,
            "rgb(65,182,196)"
           ],
           [
            0.625,
            "rgb(29,145,192)"
           ],
           [
            0.75,
            "rgb(34,94,168)"
           ],
           [
            0.875,
            "rgb(37,52,148)"
           ],
           [
            1,
            "rgb(8,29,88)"
           ]
          ],
          "line": {
           "width": 2
          },
          "reversescale": true,
          "showscale": true,
          "size": 10
         },
         "mode": "markers",
         "text": [
          "affluent",
          "applycreditcard",
          "carloan",
          "fndollar",
          "fund",
          "insurance",
          "invest",
          "loan",
          "mobilepay",
          "mortgage",
          "personalloan",
          "stock"
         ],
         "type": "scatter",
         "x": [
          0.260208076946836,
          0.30308448726025444,
          0.19960423139741038,
          -0.843641698427937,
          -0.2606977763022374,
          -0.8504281876874176,
          -0.32601876101334915,
          0.8197604392085306,
          0.9554179037904957,
          -0.20741906212817898,
          0.8023901586520344,
          -0.8522598116964409
         ],
         "y": [
          -0.9553990567764923,
          0.7936413003212439,
          -0.23918769459734798,
          -0.5801532296277809,
          1,
          -0.026978225849175995,
          -0.8663261314346473,
          0.599568075522854,
          0.014132864028265206,
          0.2748311542977346,
          -0.5958510999943168,
          0.5817220441096616
         ]
        }
       ],
       "layout": {
        "annotations": [
         {
          "showarrow": false,
          "text": "Python code: <a href='https://plot.ly/ipython-notebooks/network-graphs/'> https://plot.ly/ipython-notebooks/network-graphs/</a>",
          "x": 0.005,
          "xref": "paper",
          "y": -0.002,
          "yref": "paper"
         }
        ],
        "hovermode": "closest",
        "margin": {
         "b": 20,
         "l": 5,
         "r": 5,
         "t": 40
        },
        "showlegend": false,
        "template": {
         "data": {
          "bar": [
           {
            "error_x": {
             "color": "#2a3f5f"
            },
            "error_y": {
             "color": "#2a3f5f"
            },
            "marker": {
             "line": {
              "color": "#E5ECF6",
              "width": 0.5
             }
            },
            "type": "bar"
           }
          ],
          "barpolar": [
           {
            "marker": {
             "line": {
              "color": "#E5ECF6",
              "width": 0.5
             }
            },
            "type": "barpolar"
           }
          ],
          "carpet": [
           {
            "aaxis": {
             "endlinecolor": "#2a3f5f",
             "gridcolor": "white",
             "linecolor": "white",
             "minorgridcolor": "white",
             "startlinecolor": "#2a3f5f"
            },
            "baxis": {
             "endlinecolor": "#2a3f5f",
             "gridcolor": "white",
             "linecolor": "white",
             "minorgridcolor": "white",
             "startlinecolor": "#2a3f5f"
            },
            "type": "carpet"
           }
          ],
          "choropleth": [
           {
            "colorbar": {
             "outlinewidth": 0,
             "ticks": ""
            },
            "type": "choropleth"
           }
          ],
          "contour": [
           {
            "colorbar": {
             "outlinewidth": 0,
             "ticks": ""
            },
            "colorscale": [
             [
              0,
              "#0d0887"
             ],
             [
              0.1111111111111111,
              "#46039f"
             ],
             [
              0.2222222222222222,
              "#7201a8"
             ],
             [
              0.3333333333333333,
              "#9c179e"
             ],
             [
              0.4444444444444444,
              "#bd3786"
             ],
             [
              0.5555555555555556,
              "#d8576b"
             ],
             [
              0.6666666666666666,
              "#ed7953"
             ],
             [
              0.7777777777777778,
              "#fb9f3a"
             ],
             [
              0.8888888888888888,
              "#fdca26"
             ],
             [
              1,
              "#f0f921"
             ]
            ],
            "type": "contour"
           }
          ],
          "contourcarpet": [
           {
            "colorbar": {
             "outlinewidth": 0,
             "ticks": ""
            },
            "type": "contourcarpet"
           }
          ],
          "heatmap": [
           {
            "colorbar": {
             "outlinewidth": 0,
             "ticks": ""
            },
            "colorscale": [
             [
              0,
              "#0d0887"
             ],
             [
              0.1111111111111111,
              "#46039f"
             ],
             [
              0.2222222222222222,
              "#7201a8"
             ],
             [
              0.3333333333333333,
              "#9c179e"
             ],
             [
              0.4444444444444444,
              "#bd3786"
             ],
             [
              0.5555555555555556,
              "#d8576b"
             ],
             [
              0.6666666666666666,
              "#ed7953"
             ],
             [
              0.7777777777777778,
              "#fb9f3a"
             ],
             [
              0.8888888888888888,
              "#fdca26"
             ],
             [
              1,
              "#f0f921"
             ]
            ],
            "type": "heatmap"
           }
          ],
          "heatmapgl": [
           {
            "colorbar": {
             "outlinewidth": 0,
             "ticks": ""
            },
            "colorscale": [
             [
              0,
              "#0d0887"
             ],
             [
              0.1111111111111111,
              "#46039f"
             ],
             [
              0.2222222222222222,
              "#7201a8"
             ],
             [
              0.3333333333333333,
              "#9c179e"
             ],
             [
              0.4444444444444444,
              "#bd3786"
             ],
             [
              0.5555555555555556,
              "#d8576b"
             ],
             [
              0.6666666666666666,
              "#ed7953"
             ],
             [
              0.7777777777777778,
              "#fb9f3a"
             ],
             [
              0.8888888888888888,
              "#fdca26"
             ],
             [
              1,
              "#f0f921"
             ]
            ],
            "type": "heatmapgl"
           }
          ],
          "histogram": [
           {
            "marker": {
             "colorbar": {
              "outlinewidth": 0,
              "ticks": ""
             }
            },
            "type": "histogram"
           }
          ],
          "histogram2d": [
           {
            "colorbar": {
             "outlinewidth": 0,
             "ticks": ""
            },
            "colorscale": [
             [
              0,
              "#0d0887"
             ],
             [
              0.1111111111111111,
              "#46039f"
             ],
             [
              0.2222222222222222,
              "#7201a8"
             ],
             [
              0.3333333333333333,
              "#9c179e"
             ],
             [
              0.4444444444444444,
              "#bd3786"
             ],
             [
              0.5555555555555556,
              "#d8576b"
             ],
             [
              0.6666666666666666,
              "#ed7953"
             ],
             [
              0.7777777777777778,
              "#fb9f3a"
             ],
             [
              0.8888888888888888,
              "#fdca26"
             ],
             [
              1,
              "#f0f921"
             ]
            ],
            "type": "histogram2d"
           }
          ],
          "histogram2dcontour": [
           {
            "colorbar": {
             "outlinewidth": 0,
             "ticks": ""
            },
            "colorscale": [
             [
              0,
              "#0d0887"
             ],
             [
              0.1111111111111111,
              "#46039f"
             ],
             [
              0.2222222222222222,
              "#7201a8"
             ],
             [
              0.3333333333333333,
              "#9c179e"
             ],
             [
              0.4444444444444444,
              "#bd3786"
             ],
             [
              0.5555555555555556,
              "#d8576b"
             ],
             [
              0.6666666666666666,
              "#ed7953"
             ],
             [
              0.7777777777777778,
              "#fb9f3a"
             ],
             [
              0.8888888888888888,
              "#fdca26"
             ],
             [
              1,
              "#f0f921"
             ]
            ],
            "type": "histogram2dcontour"
           }
          ],
          "mesh3d": [
           {
            "colorbar": {
             "outlinewidth": 0,
             "ticks": ""
            },
            "type": "mesh3d"
           }
          ],
          "parcoords": [
           {
            "line": {
             "colorbar": {
              "outlinewidth": 0,
              "ticks": ""
             }
            },
            "type": "parcoords"
           }
          ],
          "pie": [
           {
            "automargin": true,
            "type": "pie"
           }
          ],
          "scatter": [
           {
            "marker": {
             "colorbar": {
              "outlinewidth": 0,
              "ticks": ""
             }
            },
            "type": "scatter"
           }
          ],
          "scatter3d": [
           {
            "line": {
             "colorbar": {
              "outlinewidth": 0,
              "ticks": ""
             }
            },
            "marker": {
             "colorbar": {
              "outlinewidth": 0,
              "ticks": ""
             }
            },
            "type": "scatter3d"
           }
          ],
          "scattercarpet": [
           {
            "marker": {
             "colorbar": {
              "outlinewidth": 0,
              "ticks": ""
             }
            },
            "type": "scattercarpet"
           }
          ],
          "scattergeo": [
           {
            "marker": {
             "colorbar": {
              "outlinewidth": 0,
              "ticks": ""
             }
            },
            "type": "scattergeo"
           }
          ],
          "scattergl": [
           {
            "marker": {
             "colorbar": {
              "outlinewidth": 0,
              "ticks": ""
             }
            },
            "type": "scattergl"
           }
          ],
          "scattermapbox": [
           {
            "marker": {
             "colorbar": {
              "outlinewidth": 0,
              "ticks": ""
             }
            },
            "type": "scattermapbox"
           }
          ],
          "scatterpolar": [
           {
            "marker": {
             "colorbar": {
              "outlinewidth": 0,
              "ticks": ""
             }
            },
            "type": "scatterpolar"
           }
          ],
          "scatterpolargl": [
           {
            "marker": {
             "colorbar": {
              "outlinewidth": 0,
              "ticks": ""
             }
            },
            "type": "scatterpolargl"
           }
          ],
          "scatterternary": [
           {
            "marker": {
             "colorbar": {
              "outlinewidth": 0,
              "ticks": ""
             }
            },
            "type": "scatterternary"
           }
          ],
          "surface": [
           {
            "colorbar": {
             "outlinewidth": 0,
             "ticks": ""
            },
            "colorscale": [
             [
              0,
              "#0d0887"
             ],
             [
              0.1111111111111111,
              "#46039f"
             ],
             [
              0.2222222222222222,
              "#7201a8"
             ],
             [
              0.3333333333333333,
              "#9c179e"
             ],
             [
              0.4444444444444444,
              "#bd3786"
             ],
             [
              0.5555555555555556,
              "#d8576b"
             ],
             [
              0.6666666666666666,
              "#ed7953"
             ],
             [
              0.7777777777777778,
              "#fb9f3a"
             ],
             [
              0.8888888888888888,
              "#fdca26"
             ],
             [
              1,
              "#f0f921"
             ]
            ],
            "type": "surface"
           }
          ],
          "table": [
           {
            "cells": {
             "fill": {
              "color": "#EBF0F8"
             },
             "line": {
              "color": "white"
             }
            },
            "header": {
             "fill": {
              "color": "#C8D4E3"
             },
             "line": {
              "color": "white"
             }
            },
            "type": "table"
           }
          ]
         },
         "layout": {
          "annotationdefaults": {
           "arrowcolor": "#2a3f5f",
           "arrowhead": 0,
           "arrowwidth": 1
          },
          "coloraxis": {
           "colorbar": {
            "outlinewidth": 0,
            "ticks": ""
           }
          },
          "colorscale": {
           "diverging": [
            [
             0,
             "#8e0152"
            ],
            [
             0.1,
             "#c51b7d"
            ],
            [
             0.2,
             "#de77ae"
            ],
            [
             0.3,
             "#f1b6da"
            ],
            [
             0.4,
             "#fde0ef"
            ],
            [
             0.5,
             "#f7f7f7"
            ],
            [
             0.6,
             "#e6f5d0"
            ],
            [
             0.7,
             "#b8e186"
            ],
            [
             0.8,
             "#7fbc41"
            ],
            [
             0.9,
             "#4d9221"
            ],
            [
             1,
             "#276419"
            ]
           ],
           "sequential": [
            [
             0,
             "#0d0887"
            ],
            [
             0.1111111111111111,
             "#46039f"
            ],
            [
             0.2222222222222222,
             "#7201a8"
            ],
            [
             0.3333333333333333,
             "#9c179e"
            ],
            [
             0.4444444444444444,
             "#bd3786"
            ],
            [
             0.5555555555555556,
             "#d8576b"
            ],
            [
             0.6666666666666666,
             "#ed7953"
            ],
            [
             0.7777777777777778,
             "#fb9f3a"
            ],
            [
             0.8888888888888888,
             "#fdca26"
            ],
            [
             1,
             "#f0f921"
            ]
           ],
           "sequentialminus": [
            [
             0,
             "#0d0887"
            ],
            [
             0.1111111111111111,
             "#46039f"
            ],
            [
             0.2222222222222222,
             "#7201a8"
            ],
            [
             0.3333333333333333,
             "#9c179e"
            ],
            [
             0.4444444444444444,
             "#bd3786"
            ],
            [
             0.5555555555555556,
             "#d8576b"
            ],
            [
             0.6666666666666666,
             "#ed7953"
            ],
            [
             0.7777777777777778,
             "#fb9f3a"
            ],
            [
             0.8888888888888888,
             "#fdca26"
            ],
            [
             1,
             "#f0f921"
            ]
           ]
          },
          "colorway": [
           "#636efa",
           "#EF553B",
           "#00cc96",
           "#ab63fa",
           "#FFA15A",
           "#19d3f3",
           "#FF6692",
           "#B6E880",
           "#FF97FF",
           "#FECB52"
          ],
          "font": {
           "color": "#2a3f5f"
          },
          "geo": {
           "bgcolor": "white",
           "lakecolor": "white",
           "landcolor": "#E5ECF6",
           "showlakes": true,
           "showland": true,
           "subunitcolor": "white"
          },
          "hoverlabel": {
           "align": "left"
          },
          "hovermode": "closest",
          "mapbox": {
           "style": "light"
          },
          "paper_bgcolor": "white",
          "plot_bgcolor": "#E5ECF6",
          "polar": {
           "angularaxis": {
            "gridcolor": "white",
            "linecolor": "white",
            "ticks": ""
           },
           "bgcolor": "#E5ECF6",
           "radialaxis": {
            "gridcolor": "white",
            "linecolor": "white",
            "ticks": ""
           }
          },
          "scene": {
           "xaxis": {
            "backgroundcolor": "#E5ECF6",
            "gridcolor": "white",
            "gridwidth": 2,
            "linecolor": "white",
            "showbackground": true,
            "ticks": "",
            "zerolinecolor": "white"
           },
           "yaxis": {
            "backgroundcolor": "#E5ECF6",
            "gridcolor": "white",
            "gridwidth": 2,
            "linecolor": "white",
            "showbackground": true,
            "ticks": "",
            "zerolinecolor": "white"
           },
           "zaxis": {
            "backgroundcolor": "#E5ECF6",
            "gridcolor": "white",
            "gridwidth": 2,
            "linecolor": "white",
            "showbackground": true,
            "ticks": "",
            "zerolinecolor": "white"
           }
          },
          "shapedefaults": {
           "line": {
            "color": "#2a3f5f"
           }
          },
          "ternary": {
           "aaxis": {
            "gridcolor": "white",
            "linecolor": "white",
            "ticks": ""
           },
           "baxis": {
            "gridcolor": "white",
            "linecolor": "white",
            "ticks": ""
           },
           "bgcolor": "#E5ECF6",
           "caxis": {
            "gridcolor": "white",
            "linecolor": "white",
            "ticks": ""
           }
          },
          "title": {
           "x": 0.05
          },
          "xaxis": {
           "automargin": true,
           "gridcolor": "white",
           "linecolor": "white",
           "ticks": "",
           "title": {
            "standoff": 15
           },
           "zerolinecolor": "white",
           "zerolinewidth": 2
          },
          "yaxis": {
           "automargin": true,
           "gridcolor": "white",
           "linecolor": "white",
           "ticks": "",
           "title": {
            "standoff": 15
           },
           "zerolinecolor": "white",
           "zerolinewidth": 2
          }
         }
        },
        "title": {
         "text": "<br>Network graph made with Python"
        },
        "xaxis": {
         "showgrid": false,
         "showticklabels": false,
         "zeroline": false
        },
        "yaxis": {
         "showgrid": false,
         "showticklabels": false,
         "zeroline": false
        }
       }
      },
      "text/html": [
       "<div>\n",
       "        \n",
       "        \n",
       "            <div id=\"f9d96f5c-1edd-472d-9eb7-316355c8ad73\" class=\"plotly-graph-div\" style=\"height:525px; width:100%;\"></div>\n",
       "            <script type=\"text/javascript\">\n",
       "                require([\"plotly\"], function(Plotly) {\n",
       "                    window.PLOTLYENV=window.PLOTLYENV || {};\n",
       "                    \n",
       "                if (document.getElementById(\"f9d96f5c-1edd-472d-9eb7-316355c8ad73\")) {\n",
       "                    Plotly.newPlot(\n",
       "                        'f9d96f5c-1edd-472d-9eb7-316355c8ad73',\n",
       "                        [{\"hoverinfo\": \"none\", \"line\": {\"color\": \"#888\", \"width\": 0.5}, \"mode\": \"lines\", \"type\": \"scatter\", \"x\": [0.260208076946836, 0.30308448726025444, null, 0.260208076946836, 0.19960423139741038, null, 0.260208076946836, -0.843641698427937, null, 0.260208076946836, -0.2606977763022374, null, 0.260208076946836, -0.8504281876874176, null, 0.260208076946836, -0.32601876101334915, null, 0.260208076946836, 0.8197604392085306, null, 0.260208076946836, 0.9554179037904957, null, 0.260208076946836, -0.20741906212817898, null, 0.260208076946836, 0.8023901586520344, null, 0.260208076946836, -0.8522598116964409, null, 0.30308448726025444, 0.19960423139741038, null, 0.30308448726025444, -0.843641698427937, null, 0.30308448726025444, -0.2606977763022374, null, 0.30308448726025444, -0.8504281876874176, null, 0.30308448726025444, -0.32601876101334915, null, 0.30308448726025444, 0.8197604392085306, null, 0.30308448726025444, 0.9554179037904957, null, 0.30308448726025444, -0.20741906212817898, null, 0.30308448726025444, 0.8023901586520344, null, 0.30308448726025444, -0.8522598116964409, null, 0.19960423139741038, -0.843641698427937, null, 0.19960423139741038, -0.2606977763022374, null, 0.19960423139741038, -0.8504281876874176, null, 0.19960423139741038, -0.32601876101334915, null, 0.19960423139741038, 0.8197604392085306, null, 0.19960423139741038, 0.9554179037904957, null, 0.19960423139741038, -0.20741906212817898, null, 0.19960423139741038, 0.8023901586520344, null, 0.19960423139741038, -0.8522598116964409, null, -0.843641698427937, -0.2606977763022374, null, -0.843641698427937, -0.8504281876874176, null, -0.843641698427937, -0.32601876101334915, null, -0.843641698427937, 0.8197604392085306, null, -0.843641698427937, 0.9554179037904957, null, -0.843641698427937, -0.20741906212817898, null, -0.843641698427937, 0.8023901586520344, null, -0.843641698427937, -0.8522598116964409, null, -0.2606977763022374, -0.8504281876874176, null, -0.2606977763022374, -0.32601876101334915, null, -0.2606977763022374, 0.8197604392085306, null, -0.2606977763022374, 0.9554179037904957, null, -0.2606977763022374, -0.20741906212817898, null, -0.2606977763022374, 0.8023901586520344, null, -0.2606977763022374, -0.8522598116964409, null, -0.8504281876874176, -0.32601876101334915, null, -0.8504281876874176, 0.8197604392085306, null, -0.8504281876874176, 0.9554179037904957, null, -0.8504281876874176, -0.20741906212817898, null, -0.8504281876874176, 0.8023901586520344, null, -0.8504281876874176, -0.8522598116964409, null, -0.32601876101334915, 0.8197604392085306, null, -0.32601876101334915, 0.9554179037904957, null, -0.32601876101334915, -0.20741906212817898, null, -0.32601876101334915, 0.8023901586520344, null, -0.32601876101334915, -0.8522598116964409, null, 0.8197604392085306, 0.9554179037904957, null, 0.8197604392085306, -0.20741906212817898, null, 0.8197604392085306, 0.8023901586520344, null, 0.8197604392085306, -0.8522598116964409, null, 0.9554179037904957, -0.20741906212817898, null, 0.9554179037904957, 0.8023901586520344, null, 0.9554179037904957, -0.8522598116964409, null, -0.20741906212817898, 0.8023901586520344, null, -0.20741906212817898, -0.8522598116964409, null, 0.8023901586520344, -0.8522598116964409, null], \"y\": [-0.9553990567764923, 0.7936413003212439, null, -0.9553990567764923, -0.23918769459734798, null, -0.9553990567764923, -0.5801532296277809, null, -0.9553990567764923, 1.0, null, -0.9553990567764923, -0.026978225849175995, null, -0.9553990567764923, -0.8663261314346473, null, -0.9553990567764923, 0.599568075522854, null, -0.9553990567764923, 0.014132864028265206, null, -0.9553990567764923, 0.2748311542977346, null, -0.9553990567764923, -0.5958510999943168, null, -0.9553990567764923, 0.5817220441096616, null, 0.7936413003212439, -0.23918769459734798, null, 0.7936413003212439, -0.5801532296277809, null, 0.7936413003212439, 1.0, null, 0.7936413003212439, -0.026978225849175995, null, 0.7936413003212439, -0.8663261314346473, null, 0.7936413003212439, 0.599568075522854, null, 0.7936413003212439, 0.014132864028265206, null, 0.7936413003212439, 0.2748311542977346, null, 0.7936413003212439, -0.5958510999943168, null, 0.7936413003212439, 0.5817220441096616, null, -0.23918769459734798, -0.5801532296277809, null, -0.23918769459734798, 1.0, null, -0.23918769459734798, -0.026978225849175995, null, -0.23918769459734798, -0.8663261314346473, null, -0.23918769459734798, 0.599568075522854, null, -0.23918769459734798, 0.014132864028265206, null, -0.23918769459734798, 0.2748311542977346, null, -0.23918769459734798, -0.5958510999943168, null, -0.23918769459734798, 0.5817220441096616, null, -0.5801532296277809, 1.0, null, -0.5801532296277809, -0.026978225849175995, null, -0.5801532296277809, -0.8663261314346473, null, -0.5801532296277809, 0.599568075522854, null, -0.5801532296277809, 0.014132864028265206, null, -0.5801532296277809, 0.2748311542977346, null, -0.5801532296277809, -0.5958510999943168, null, -0.5801532296277809, 0.5817220441096616, null, 1.0, -0.026978225849175995, null, 1.0, -0.8663261314346473, null, 1.0, 0.599568075522854, null, 1.0, 0.014132864028265206, null, 1.0, 0.2748311542977346, null, 1.0, -0.5958510999943168, null, 1.0, 0.5817220441096616, null, -0.026978225849175995, -0.8663261314346473, null, -0.026978225849175995, 0.599568075522854, null, -0.026978225849175995, 0.014132864028265206, null, -0.026978225849175995, 0.2748311542977346, null, -0.026978225849175995, -0.5958510999943168, null, -0.026978225849175995, 0.5817220441096616, null, -0.8663261314346473, 0.599568075522854, null, -0.8663261314346473, 0.014132864028265206, null, -0.8663261314346473, 0.2748311542977346, null, -0.8663261314346473, -0.5958510999943168, null, -0.8663261314346473, 0.5817220441096616, null, 0.599568075522854, 0.014132864028265206, null, 0.599568075522854, 0.2748311542977346, null, 0.599568075522854, -0.5958510999943168, null, 0.599568075522854, 0.5817220441096616, null, 0.014132864028265206, 0.2748311542977346, null, 0.014132864028265206, -0.5958510999943168, null, 0.014132864028265206, 0.5817220441096616, null, 0.2748311542977346, -0.5958510999943168, null, 0.2748311542977346, 0.5817220441096616, null, -0.5958510999943168, 0.5817220441096616, null]}, {\"hoverinfo\": \"text\", \"marker\": {\"color\": [11, 11, 11, 11, 11, 11, 11, 11, 11, 11, 11, 11], \"colorbar\": {\"thickness\": 15, \"title\": {\"side\": \"right\", \"text\": \"Node Connections\"}, \"xanchor\": \"left\"}, \"colorscale\": [[0.0, \"rgb(255,255,217)\"], [0.125, \"rgb(237,248,177)\"], [0.25, \"rgb(199,233,180)\"], [0.375, \"rgb(127,205,187)\"], [0.5, \"rgb(65,182,196)\"], [0.625, \"rgb(29,145,192)\"], [0.75, \"rgb(34,94,168)\"], [0.875, \"rgb(37,52,148)\"], [1.0, \"rgb(8,29,88)\"]], \"line\": {\"width\": 2}, \"reversescale\": true, \"showscale\": true, \"size\": 10}, \"mode\": \"markers\", \"text\": [\"affluent\", \"applycreditcard\", \"carloan\", \"fndollar\", \"fund\", \"insurance\", \"invest\", \"loan\", \"mobilepay\", \"mortgage\", \"personalloan\", \"stock\"], \"type\": \"scatter\", \"x\": [0.260208076946836, 0.30308448726025444, 0.19960423139741038, -0.843641698427937, -0.2606977763022374, -0.8504281876874176, -0.32601876101334915, 0.8197604392085306, 0.9554179037904957, -0.20741906212817898, 0.8023901586520344, -0.8522598116964409], \"y\": [-0.9553990567764923, 0.7936413003212439, -0.23918769459734798, -0.5801532296277809, 1.0, -0.026978225849175995, -0.8663261314346473, 0.599568075522854, 0.014132864028265206, 0.2748311542977346, -0.5958510999943168, 0.5817220441096616]}],\n",
       "                        {\"annotations\": [{\"showarrow\": false, \"text\": \"Python code: <a href='https://plot.ly/ipython-notebooks/network-graphs/'> https://plot.ly/ipython-notebooks/network-graphs/</a>\", \"x\": 0.005, \"xref\": \"paper\", \"y\": -0.002, \"yref\": \"paper\"}], \"hovermode\": \"closest\", \"margin\": {\"b\": 20, \"l\": 5, \"r\": 5, \"t\": 40}, \"showlegend\": false, \"template\": {\"data\": {\"bar\": [{\"error_x\": {\"color\": \"#2a3f5f\"}, \"error_y\": {\"color\": \"#2a3f5f\"}, \"marker\": {\"line\": {\"color\": \"#E5ECF6\", \"width\": 0.5}}, \"type\": \"bar\"}], \"barpolar\": [{\"marker\": {\"line\": {\"color\": \"#E5ECF6\", \"width\": 0.5}}, \"type\": \"barpolar\"}], \"carpet\": [{\"aaxis\": {\"endlinecolor\": \"#2a3f5f\", \"gridcolor\": \"white\", \"linecolor\": \"white\", \"minorgridcolor\": \"white\", \"startlinecolor\": \"#2a3f5f\"}, \"baxis\": {\"endlinecolor\": \"#2a3f5f\", \"gridcolor\": \"white\", \"linecolor\": \"white\", \"minorgridcolor\": \"white\", \"startlinecolor\": \"#2a3f5f\"}, \"type\": \"carpet\"}], \"choropleth\": [{\"colorbar\": {\"outlinewidth\": 0, \"ticks\": \"\"}, \"type\": \"choropleth\"}], \"contour\": [{\"colorbar\": {\"outlinewidth\": 0, \"ticks\": \"\"}, \"colorscale\": [[0.0, \"#0d0887\"], [0.1111111111111111, \"#46039f\"], [0.2222222222222222, \"#7201a8\"], [0.3333333333333333, \"#9c179e\"], [0.4444444444444444, \"#bd3786\"], [0.5555555555555556, \"#d8576b\"], [0.6666666666666666, \"#ed7953\"], [0.7777777777777778, \"#fb9f3a\"], [0.8888888888888888, \"#fdca26\"], [1.0, \"#f0f921\"]], \"type\": \"contour\"}], \"contourcarpet\": [{\"colorbar\": {\"outlinewidth\": 0, \"ticks\": \"\"}, \"type\": \"contourcarpet\"}], \"heatmap\": [{\"colorbar\": {\"outlinewidth\": 0, \"ticks\": \"\"}, \"colorscale\": [[0.0, \"#0d0887\"], [0.1111111111111111, \"#46039f\"], [0.2222222222222222, \"#7201a8\"], [0.3333333333333333, \"#9c179e\"], [0.4444444444444444, \"#bd3786\"], [0.5555555555555556, \"#d8576b\"], [0.6666666666666666, \"#ed7953\"], [0.7777777777777778, \"#fb9f3a\"], [0.8888888888888888, \"#fdca26\"], [1.0, \"#f0f921\"]], \"type\": \"heatmap\"}], \"heatmapgl\": [{\"colorbar\": {\"outlinewidth\": 0, \"ticks\": \"\"}, \"colorscale\": [[0.0, \"#0d0887\"], [0.1111111111111111, \"#46039f\"], [0.2222222222222222, \"#7201a8\"], [0.3333333333333333, \"#9c179e\"], [0.4444444444444444, \"#bd3786\"], [0.5555555555555556, \"#d8576b\"], [0.6666666666666666, \"#ed7953\"], [0.7777777777777778, \"#fb9f3a\"], [0.8888888888888888, \"#fdca26\"], [1.0, \"#f0f921\"]], \"type\": \"heatmapgl\"}], \"histogram\": [{\"marker\": {\"colorbar\": {\"outlinewidth\": 0, \"ticks\": \"\"}}, \"type\": \"histogram\"}], \"histogram2d\": [{\"colorbar\": {\"outlinewidth\": 0, \"ticks\": \"\"}, \"colorscale\": [[0.0, \"#0d0887\"], [0.1111111111111111, \"#46039f\"], [0.2222222222222222, \"#7201a8\"], [0.3333333333333333, \"#9c179e\"], [0.4444444444444444, \"#bd3786\"], [0.5555555555555556, \"#d8576b\"], [0.6666666666666666, \"#ed7953\"], [0.7777777777777778, \"#fb9f3a\"], [0.8888888888888888, \"#fdca26\"], [1.0, \"#f0f921\"]], \"type\": \"histogram2d\"}], \"histogram2dcontour\": [{\"colorbar\": {\"outlinewidth\": 0, \"ticks\": \"\"}, \"colorscale\": [[0.0, \"#0d0887\"], [0.1111111111111111, \"#46039f\"], [0.2222222222222222, \"#7201a8\"], [0.3333333333333333, \"#9c179e\"], [0.4444444444444444, \"#bd3786\"], [0.5555555555555556, \"#d8576b\"], [0.6666666666666666, \"#ed7953\"], [0.7777777777777778, \"#fb9f3a\"], [0.8888888888888888, \"#fdca26\"], [1.0, \"#f0f921\"]], \"type\": \"histogram2dcontour\"}], \"mesh3d\": [{\"colorbar\": {\"outlinewidth\": 0, \"ticks\": \"\"}, \"type\": \"mesh3d\"}], \"parcoords\": [{\"line\": {\"colorbar\": {\"outlinewidth\": 0, \"ticks\": \"\"}}, \"type\": \"parcoords\"}], \"pie\": [{\"automargin\": true, \"type\": \"pie\"}], \"scatter\": [{\"marker\": {\"colorbar\": {\"outlinewidth\": 0, \"ticks\": \"\"}}, \"type\": \"scatter\"}], \"scatter3d\": [{\"line\": {\"colorbar\": {\"outlinewidth\": 0, \"ticks\": \"\"}}, \"marker\": {\"colorbar\": {\"outlinewidth\": 0, \"ticks\": \"\"}}, \"type\": \"scatter3d\"}], \"scattercarpet\": [{\"marker\": {\"colorbar\": {\"outlinewidth\": 0, \"ticks\": \"\"}}, \"type\": \"scattercarpet\"}], \"scattergeo\": [{\"marker\": {\"colorbar\": {\"outlinewidth\": 0, \"ticks\": \"\"}}, \"type\": \"scattergeo\"}], \"scattergl\": [{\"marker\": {\"colorbar\": {\"outlinewidth\": 0, \"ticks\": \"\"}}, \"type\": \"scattergl\"}], \"scattermapbox\": [{\"marker\": {\"colorbar\": {\"outlinewidth\": 0, \"ticks\": \"\"}}, \"type\": \"scattermapbox\"}], \"scatterpolar\": [{\"marker\": {\"colorbar\": {\"outlinewidth\": 0, \"ticks\": \"\"}}, \"type\": \"scatterpolar\"}], \"scatterpolargl\": [{\"marker\": {\"colorbar\": {\"outlinewidth\": 0, \"ticks\": \"\"}}, \"type\": \"scatterpolargl\"}], \"scatterternary\": [{\"marker\": {\"colorbar\": {\"outlinewidth\": 0, \"ticks\": \"\"}}, \"type\": \"scatterternary\"}], \"surface\": [{\"colorbar\": {\"outlinewidth\": 0, \"ticks\": \"\"}, \"colorscale\": [[0.0, \"#0d0887\"], [0.1111111111111111, \"#46039f\"], [0.2222222222222222, \"#7201a8\"], [0.3333333333333333, \"#9c179e\"], [0.4444444444444444, \"#bd3786\"], [0.5555555555555556, \"#d8576b\"], [0.6666666666666666, \"#ed7953\"], [0.7777777777777778, \"#fb9f3a\"], [0.8888888888888888, \"#fdca26\"], [1.0, \"#f0f921\"]], \"type\": \"surface\"}], \"table\": [{\"cells\": {\"fill\": {\"color\": \"#EBF0F8\"}, \"line\": {\"color\": \"white\"}}, \"header\": {\"fill\": {\"color\": \"#C8D4E3\"}, \"line\": {\"color\": \"white\"}}, \"type\": \"table\"}]}, \"layout\": {\"annotationdefaults\": {\"arrowcolor\": \"#2a3f5f\", \"arrowhead\": 0, \"arrowwidth\": 1}, \"coloraxis\": {\"colorbar\": {\"outlinewidth\": 0, \"ticks\": \"\"}}, \"colorscale\": {\"diverging\": [[0, \"#8e0152\"], [0.1, \"#c51b7d\"], [0.2, \"#de77ae\"], [0.3, \"#f1b6da\"], [0.4, \"#fde0ef\"], [0.5, \"#f7f7f7\"], [0.6, \"#e6f5d0\"], [0.7, \"#b8e186\"], [0.8, \"#7fbc41\"], [0.9, \"#4d9221\"], [1, \"#276419\"]], \"sequential\": [[0.0, \"#0d0887\"], [0.1111111111111111, \"#46039f\"], [0.2222222222222222, \"#7201a8\"], [0.3333333333333333, \"#9c179e\"], [0.4444444444444444, \"#bd3786\"], [0.5555555555555556, \"#d8576b\"], [0.6666666666666666, \"#ed7953\"], [0.7777777777777778, \"#fb9f3a\"], [0.8888888888888888, \"#fdca26\"], [1.0, \"#f0f921\"]], \"sequentialminus\": [[0.0, \"#0d0887\"], [0.1111111111111111, \"#46039f\"], [0.2222222222222222, \"#7201a8\"], [0.3333333333333333, \"#9c179e\"], [0.4444444444444444, \"#bd3786\"], [0.5555555555555556, \"#d8576b\"], [0.6666666666666666, \"#ed7953\"], [0.7777777777777778, \"#fb9f3a\"], [0.8888888888888888, \"#fdca26\"], [1.0, \"#f0f921\"]]}, \"colorway\": [\"#636efa\", \"#EF553B\", \"#00cc96\", \"#ab63fa\", \"#FFA15A\", \"#19d3f3\", \"#FF6692\", \"#B6E880\", \"#FF97FF\", \"#FECB52\"], \"font\": {\"color\": \"#2a3f5f\"}, \"geo\": {\"bgcolor\": \"white\", \"lakecolor\": \"white\", \"landcolor\": \"#E5ECF6\", \"showlakes\": true, \"showland\": true, \"subunitcolor\": \"white\"}, \"hoverlabel\": {\"align\": \"left\"}, \"hovermode\": \"closest\", \"mapbox\": {\"style\": \"light\"}, \"paper_bgcolor\": \"white\", \"plot_bgcolor\": \"#E5ECF6\", \"polar\": {\"angularaxis\": {\"gridcolor\": \"white\", \"linecolor\": \"white\", \"ticks\": \"\"}, \"bgcolor\": \"#E5ECF6\", \"radialaxis\": {\"gridcolor\": \"white\", \"linecolor\": \"white\", \"ticks\": \"\"}}, \"scene\": {\"xaxis\": {\"backgroundcolor\": \"#E5ECF6\", \"gridcolor\": \"white\", \"gridwidth\": 2, \"linecolor\": \"white\", \"showbackground\": true, \"ticks\": \"\", \"zerolinecolor\": \"white\"}, \"yaxis\": {\"backgroundcolor\": \"#E5ECF6\", \"gridcolor\": \"white\", \"gridwidth\": 2, \"linecolor\": \"white\", \"showbackground\": true, \"ticks\": \"\", \"zerolinecolor\": \"white\"}, \"zaxis\": {\"backgroundcolor\": \"#E5ECF6\", \"gridcolor\": \"white\", \"gridwidth\": 2, \"linecolor\": \"white\", \"showbackground\": true, \"ticks\": \"\", \"zerolinecolor\": \"white\"}}, \"shapedefaults\": {\"line\": {\"color\": \"#2a3f5f\"}}, \"ternary\": {\"aaxis\": {\"gridcolor\": \"white\", \"linecolor\": \"white\", \"ticks\": \"\"}, \"baxis\": {\"gridcolor\": \"white\", \"linecolor\": \"white\", \"ticks\": \"\"}, \"bgcolor\": \"#E5ECF6\", \"caxis\": {\"gridcolor\": \"white\", \"linecolor\": \"white\", \"ticks\": \"\"}}, \"title\": {\"x\": 0.05}, \"xaxis\": {\"automargin\": true, \"gridcolor\": \"white\", \"linecolor\": \"white\", \"ticks\": \"\", \"title\": {\"standoff\": 15}, \"zerolinecolor\": \"white\", \"zerolinewidth\": 2}, \"yaxis\": {\"automargin\": true, \"gridcolor\": \"white\", \"linecolor\": \"white\", \"ticks\": \"\", \"title\": {\"standoff\": 15}, \"zerolinecolor\": \"white\", \"zerolinewidth\": 2}}}, \"title\": {\"text\": \"<br>Network graph made with Python\"}, \"xaxis\": {\"showgrid\": false, \"showticklabels\": false, \"zeroline\": false}, \"yaxis\": {\"showgrid\": false, \"showticklabels\": false, \"zeroline\": false}},\n",
       "                        {\"responsive\": true}\n",
       "                    ).then(function(){\n",
       "                            \n",
       "var gd = document.getElementById('f9d96f5c-1edd-472d-9eb7-316355c8ad73');\n",
       "var x = new MutationObserver(function (mutations, observer) {{\n",
       "        var display = window.getComputedStyle(gd).display;\n",
       "        if (!display || display === 'none') {{\n",
       "            console.log([gd, 'removed!']);\n",
       "            Plotly.purge(gd);\n",
       "            observer.disconnect();\n",
       "        }}\n",
       "}});\n",
       "\n",
       "// Listen for the removal of the full notebook cells\n",
       "var notebookContainer = gd.closest('#notebook-container');\n",
       "if (notebookContainer) {{\n",
       "    x.observe(notebookContainer, {childList: true});\n",
       "}}\n",
       "\n",
       "// Listen for the clearing of the current output cell\n",
       "var outputEl = gd.closest('.output');\n",
       "if (outputEl) {{\n",
       "    x.observe(outputEl, {childList: true});\n",
       "}}\n",
       "\n",
       "                        })\n",
       "                };\n",
       "                });\n",
       "            </script>\n",
       "        </div>"
      ]
     },
     "metadata": {},
     "output_type": "display_data"
    }
   ],
   "source": [
    "fig.show()"
   ]
  },
  {
   "cell_type": "code",
   "execution_count": null,
   "metadata": {
    "collapsed": true
   },
   "outputs": [],
   "source": []
  }
 ],
 "metadata": {
  "kernelspec": {
   "display_name": "Python 3",
   "language": "python",
   "name": "python3"
  },
  "language_info": {
   "codemirror_mode": {
    "name": "ipython",
    "version": 3
   },
   "file_extension": ".py",
   "mimetype": "text/x-python",
   "name": "python",
   "nbconvert_exporter": "python",
   "pygments_lexer": "ipython3",
   "version": "3.6.1"
  }
 },
 "nbformat": 4,
 "nbformat_minor": 2
}
